{
  "nbformat": 4,
  "nbformat_minor": 0,
  "metadata": {
    "colab": {
      "provenance": [],
      "include_colab_link": true
    },
    "kernelspec": {
      "name": "python3",
      "display_name": "Python 3"
    },
    "language_info": {
      "name": "python"
    }
  },
  "cells": [
    {
      "cell_type": "markdown",
      "metadata": {
        "id": "view-in-github",
        "colab_type": "text"
      },
      "source": [
        "<a href=\"https://colab.research.google.com/github/3zero69/-/blob/main/%EC%97%B0%EC%8A%B5%EB%AC%B8%EC%A0%9C_%EC%B0%A8%EC%9B%90%EC%B6%95%EC%86%8C.ipynb\" target=\"_parent\"><img src=\"https://colab.research.google.com/assets/colab-badge.svg\" alt=\"Open In Colab\"/></a>"
      ]
    },
    {
      "cell_type": "code",
      "metadata": {
        "id": "t-RMDKJB7CyJ"
      },
      "source": [
        "# 데이터 로드\n",
        "from sklearn.datasets import fetch_openml\n",
        "mnist=fetch_openml('mnist_784', version=1)"
      ],
      "execution_count": null,
      "outputs": []
    },
    {
      "cell_type": "code",
      "metadata": {
        "id": "itFJcmUSkBrK"
      },
      "source": [
        "# train, test split\n",
        "X_train = mnist['data'][:60000]\n",
        "y_train = mnist['target'][:60000]\n",
        "X_test = mnist['data'][60000:]\n",
        "y_test = mnist['target'][60000:]"
      ],
      "execution_count": null,
      "outputs": []
    },
    {
      "cell_type": "markdown",
      "metadata": {
        "id": "RbkbV_ZWkSPc"
      },
      "source": [
        "* 랜덤포레스트에 적용"
      ]
    },
    {
      "cell_type": "code",
      "metadata": {
        "id": "xmeHyXmKkLN1",
        "colab": {
          "base_uri": "https://localhost:8080/"
        },
        "outputId": "de45258d-4e4e-47cb-e5d2-36c0d9443865"
      },
      "source": [
        "# 랜덤포레스트에 적용 (n_estimators=10, random_state=42)\n",
        "\n",
        "from sklearn.ensemble import RandomForestClassifier\n",
        "\n",
        "rcf=RandomForestClassifier(n_estimators=10, random_state=42)\n",
        "rcf.fit(X_train, y_train)"
      ],
      "execution_count": null,
      "outputs": [
        {
          "output_type": "execute_result",
          "data": {
            "text/plain": [
              "RandomForestClassifier(n_estimators=10, random_state=42)"
            ]
          },
          "metadata": {},
          "execution_count": 21
        }
      ]
    },
    {
      "cell_type": "code",
      "metadata": {
        "id": "WXjOor-jknmH",
        "colab": {
          "base_uri": "https://localhost:8080/"
        },
        "outputId": "70829e1e-d01d-445b-d057-f3aeb47b09ad"
      },
      "source": [
        "# 정확도 결과\n",
        "from sklearn.metrics import accuracy_score\n",
        "\n",
        "pred = rcf.predict(X_test)\n",
        "accuracy = accuracy_score(y_test, pred)\n",
        "print('랜덤 포레스트 정확도: {0:4f}'.format(accuracy))"
      ],
      "execution_count": null,
      "outputs": [
        {
          "output_type": "stream",
          "name": "stdout",
          "text": [
            "랜덤 포레스트 정확도: 0.949200\n"
          ]
        }
      ]
    },
    {
      "cell_type": "code",
      "source": [
        "from sklearn.model_selection import cross_val_score\n",
        "import numpy as np\n",
        "\n",
        "scores=cross_val_score(rcf,mnist.data,mnist.target,scoring='accuracy',cv=3)\n",
        "\n",
        "print('원본 데이터 교차 검증 개별 정확도:',scores)\n",
        "print('원본 데이터 평균 정확도:',np.mean(scores)) "
      ],
      "metadata": {
        "colab": {
          "base_uri": "https://localhost:8080/"
        },
        "id": "xoWe-rocs0-b",
        "outputId": "8f36c2b7-4a97-4fb1-a80c-2be304de13ac"
      },
      "execution_count": null,
      "outputs": [
        {
          "output_type": "stream",
          "name": "stdout",
          "text": [
            "원본 데이터 교차 검증 개별 정확도: [0.94013028 0.94059915 0.94561351]\n",
            "원본 데이터 평균 정확도: 0.9421143140576009\n"
          ]
        }
      ]
    },
    {
      "cell_type": "markdown",
      "source": [
        "# 1. PCA"
      ],
      "metadata": {
        "id": "yetHtlIxcCcY"
      }
    },
    {
      "cell_type": "markdown",
      "metadata": {
        "id": "Lw4KuER0lAGA"
      },
      "source": [
        "* PCA로 변환한 데이터 세트에 랜덤 포레스트 적용"
      ]
    },
    {
      "cell_type": "code",
      "source": [
        "# PCA 라이브러리 불러오기\n",
        "from sklearn.decomposition import PCA"
      ],
      "metadata": {
        "id": "1BLMGOa2VQuj"
      },
      "execution_count": null,
      "outputs": []
    },
    {
      "cell_type": "code",
      "metadata": {
        "id": "u_w8te9tlDsr",
        "colab": {
          "base_uri": "https://localhost:8080/"
        },
        "outputId": "0fdf0a35-425a-4848-be49-8ed44666e2be"
      },
      "source": [
        "# PCA 적용 95% : n_components=0.95\n",
        "pca=PCA(n_components=0.95)\n",
        "\n",
        "X_pca=pca.fit_transform(X_train)\n",
        "print(X_pca.shape)"
      ],
      "execution_count": null,
      "outputs": [
        {
          "output_type": "stream",
          "name": "stdout",
          "text": [
            "(60000, 154)\n"
          ]
        }
      ]
    },
    {
      "cell_type": "code",
      "metadata": {
        "id": "aFezNneClV8u",
        "colab": {
          "base_uri": "https://localhost:8080/"
        },
        "outputId": "a11b91eb-fd0b-461c-9290-424fb6b75a2c"
      },
      "source": [
        "# PCA 이후 랜덤포레스트 훈련\n",
        "rcf.fit(X_pca, y_train)"
      ],
      "execution_count": null,
      "outputs": [
        {
          "output_type": "execute_result",
          "data": {
            "text/plain": [
              "RandomForestClassifier(n_estimators=10, random_state=42)"
            ]
          },
          "metadata": {},
          "execution_count": 35
        }
      ]
    },
    {
      "cell_type": "code",
      "metadata": {
        "id": "PrsoPgs-lzYj",
        "colab": {
          "base_uri": "https://localhost:8080/"
        },
        "outputId": "2d096e1b-3c89-4b40-e246-454c556bc47f"
      },
      "source": [
        "# 정확도 결과 (X_test도 PCA 적용해야합니다.)\n",
        "X_test_pca=pca.transform(X_test)\n",
        "y_pred=rcf.predict(X_test_pca)\n",
        "accuracy_score(y_test, y_pred)"
      ],
      "execution_count": null,
      "outputs": [
        {
          "output_type": "execute_result",
          "data": {
            "text/plain": [
              "0.9009"
            ]
          },
          "metadata": {},
          "execution_count": 36
        }
      ]
    },
    {
      "cell_type": "markdown",
      "source": [
        "# 2. LDA"
      ],
      "metadata": {
        "id": "A0ZWH3uVb3zW"
      }
    },
    {
      "cell_type": "markdown",
      "source": [
        "- LDA로 변환한 데이터 세트에 랜덤 포레스트 적용"
      ],
      "metadata": {
        "id": "t-FBfbZ2b94z"
      }
    },
    {
      "cell_type": "code",
      "source": [
        "# LDA 라이브러리 불러오기\n",
        "from sklearn.discriminant_analysis import LinearDiscriminantAnalysis"
      ],
      "metadata": {
        "id": "WxQG2ep9VCo4"
      },
      "execution_count": null,
      "outputs": []
    },
    {
      "cell_type": "code",
      "source": [
        "# LDA 적용 : n_components=5\n",
        "lda=LinearDiscriminantAnalysis(n_components=5)\n",
        "\n",
        "X_lda=lda.fit_transform(X_train, y_train)\n",
        "print(X_lda.shape)"
      ],
      "metadata": {
        "id": "SYvLRl5qYTsn",
        "colab": {
          "base_uri": "https://localhost:8080/"
        },
        "outputId": "fd177820-08c3-4119-8713-7a5ae0ba1b57"
      },
      "execution_count": null,
      "outputs": [
        {
          "output_type": "stream",
          "name": "stdout",
          "text": [
            "(60000, 5)\n"
          ]
        }
      ]
    },
    {
      "cell_type": "code",
      "source": [
        "# LDA 이후 랜덤포레스트 훈련\n",
        "rcf.fit(X_lda, y_train)"
      ],
      "metadata": {
        "id": "xggC9VrVZO3f",
        "colab": {
          "base_uri": "https://localhost:8080/"
        },
        "outputId": "16e0b6b9-02ae-4ec9-fbb6-46cba724613e"
      },
      "execution_count": null,
      "outputs": [
        {
          "output_type": "execute_result",
          "data": {
            "text/plain": [
              "RandomForestClassifier(n_estimators=10, random_state=42)"
            ]
          },
          "metadata": {},
          "execution_count": 40
        }
      ]
    },
    {
      "cell_type": "code",
      "source": [
        "# 정확도 결과 (X_test도 LDA 적용해야합니다.)\n",
        "X_test_lda=lda.transform(X_test)\n",
        "y_pred=rcf.predict(X_test_lda)\n",
        "accuracy_score(y_test, y_pred)"
      ],
      "metadata": {
        "id": "_oVckjoyY4Ly",
        "colab": {
          "base_uri": "https://localhost:8080/"
        },
        "outputId": "1b331e62-d86f-4309-b8cd-245fa522fe5c"
      },
      "execution_count": null,
      "outputs": [
        {
          "output_type": "execute_result",
          "data": {
            "text/plain": [
              "0.8291"
            ]
          },
          "metadata": {},
          "execution_count": 41
        }
      ]
    }
  ]
}