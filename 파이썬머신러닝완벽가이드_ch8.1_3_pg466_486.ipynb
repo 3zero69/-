{
 "cells": [
  {
   "cell_type": "markdown",
   "id": "b7655c33",
   "metadata": {},
   "source": [
    "# CHAPTER08. 텍스트 분석\n",
    "\n",
    "**NLP 이냐 텍스트 분석이냐?**\n",
    "\n",
    "* NLP : 머신이 인간의 언어를 이해하고 해석하는데 중점\n",
    "  - 언어를 해석하기 위한 기계 번역\n",
    "  - 자동으로 질문을 해석하고 답을 주는 질의응답 시스템\n",
    "  \n",
    "* 텍스트 마이닝 : 비정형 텍스트에서 의미 있는 정보를 추출하는 것에 중점\n",
    "  - 머신러닝, 언어 이해, 통계 등을 활용해 모델을 수립하고 정보를 추출해 비지니스 인텔리전스 나 예측 분석 등의 분석 작업을 주로 수행\n",
    "    - 신문 기사 내용 카테고리 분류, 스팸 메일 검출\n",
    "  - 텍스트 분류 : 문서가 특정 부류 또는 카테고리에 속하는 것을 예측하는 기법\n",
    "  - 감성 분석 : 텍스트 상의 주관적인 요소를 분석\n",
    "    - 소셜 미디어 감정 분석, 영화 및 제품에 대한 리뷰, 여론조사 의견 분석\n",
    "    - 지도 학습 + 비지도 학습 모두 적용\n",
    "  - 텍스트 요약 : 텍스트 내 중요한 주제나 중심 사상을 추출하는 기법\n",
    "    - 토픽 모델링\n",
    "  - 텍스트 군집화 : 비슷한 유형의 문서에 대해 군집화 수행 \n",
    "    - 텍스트 분류를 비지도 학습으로 수행\n",
    "    - 문서들 간의 유사도를 측정해 비슷한 문서끼리 모음"
   ]
  },
  {
   "cell_type": "markdown",
   "id": "cb061288",
   "metadata": {},
   "source": [
    "## 01. 텍스트 분석 이해"
   ]
  },
  {
   "cell_type": "markdown",
   "id": "1c95c214",
   "metadata": {},
   "source": [
    "텍스트 분석 : 비정형 데이터인 텍스트를 분석하는 것\n",
    "   - ML 모델은 주어진 정형 데이터 기반에서 모델을 수립하고 예측을 수행함\n",
    "   - 그러나, 머신러닝 알고리즘은 숫자형의 피처 기반 데이터만 입력받을 수 있기 때문에 텍스트를 머신러닝에 적용하기 위해서는 비정형 텍스트 데이터를 어떻게 피처 형태로 추출하고 추출된 피처에 의미 있는 값을 부여하는가 하는 것이 매우 중요한 요소\n",
    "   \n",
    "피처 벡터화 /피처 추출: 텍스트를 word 기반의 다수의 피처로 추출하고, 피처에 단어 빈도수와 같은 숫자 값을 부여 -> 텍스트는 단어의 조합인 벡터값으로 표현됨\n",
    "  "
   ]
  },
  {
   "cell_type": "markdown",
   "id": "7df2aa4c",
   "metadata": {},
   "source": [
    "### 텍스트 분석 수행 프로세스\n",
    "\n",
    "1. 텍스트 사전 준비 작업 (텍스트 전처리) \n",
    "  - 텍스트를 피처로 만들기 전에 미리 클렌징, 대소문자 변경, 특수문자 삭제 등의 클렌징 작업\n",
    "  - 단어 등의 토큰화 작업\n",
    "  - 의미 없는 단어(불용어) 제거 작업\n",
    "  - 어근 추출 등의 텍스트 정규화 작업 수행\n",
    "2. 피처 벡터화 및 추출\n",
    "  - 가공된 텍스트에서 피처를 추출하고 여기에 벡터 값을 할당\n",
    "  - BOW, Word2Vec\n",
    "3. ML 모델 수립 및 학습/예측/평가\n",
    "  - 피처가 벡터화된 데이터 세트에 ML 모델을 적용해 학습/예측 및 평가 수행"
   ]
  },
  {
   "cell_type": "markdown",
   "id": "eae87d5f",
   "metadata": {},
   "source": [
    "### 파이썬 기반의 NLP, 텍스트 분석 패키지\n",
    "\n",
    "* NLTK\n",
    "* Gensim\n",
    "* SpaCy"
   ]
  },
  {
   "cell_type": "markdown",
   "id": "d5f2c380",
   "metadata": {},
   "source": [
    "## 02. 텍스트 사전 준비 작업(텍스트 전처리) - 텍스트 정규화"
   ]
  },
  {
   "cell_type": "markdown",
   "id": "e71aa434",
   "metadata": {},
   "source": [
    "텍스트 자체를 바로 피처로 만들 수는 없음\n",
    "\n",
    "텍스트 정규화는 텍스트를 머신러닝 알고리즘이나 NLP 어플리케이션에 입력 데이터로 사용하기 위해 클렌징, 정제, 토큰화, 어근화 등의 다양한 텍스트 데이터의 사전 작업을 수행하는 것을 의미"
   ]
  },
  {
   "cell_type": "markdown",
   "id": "391c3a3c",
   "metadata": {},
   "source": [
    "### 클렌징\n",
    ": 텍스트에서 분석에 오히려 방해가 되는 불필요한 문자, 기호 등을 사전에 제거하는 작업\n",
    "- HTML, XML 태그나 특정 기호를 사전에 제거"
   ]
  },
  {
   "cell_type": "markdown",
   "id": "737fea5d",
   "metadata": {},
   "source": [
    "### 텍스트 토큰화\n",
    "\n",
    "#### 문장 토큰화\n",
    "- 문장의 마침표(.), 개행문자(\\) e등의 문장의 마지막을 뜻하는 기호에 따라 분리하는 것이 일반적\n",
    "- 정규 표현식에 따른 문장 토큰화도 가능함\n"
   ]
  },
  {
   "cell_type": "code",
   "execution_count": 1,
   "id": "149c0bf6",
   "metadata": {
    "scrolled": true
   },
   "outputs": [
    {
     "name": "stdout",
     "output_type": "stream",
     "text": [
      "<class 'list'> 3\n",
      "['The Matrix is everywhere its all around us, here even in this room.', 'You can see it out your window or on your television.', 'You feel it when you go to work, or go to church or pay your taxes.']\n"
     ]
    },
    {
     "name": "stderr",
     "output_type": "stream",
     "text": [
      "[nltk_data] Downloading package punkt to\n",
      "[nltk_data]     C:\\Users\\chltp\\AppData\\Roaming\\nltk_data...\n",
      "[nltk_data]   Package punkt is already up-to-date!\n"
     ]
    }
   ],
   "source": [
    "# 3개의 문장으로 이루어진 텍스트 문서를 문장으로 각각 분리하는 예제\n",
    "\n",
    "from nltk import sent_tokenize\n",
    "import nltk\n",
    "nltk.download('punkt') # 마침표, 개행 문자 등으 데이터 세트 다운로드\n",
    "\n",
    "text_sample='The Matrix is everywhere its all around us, here even in this room. \\n\n",
    "             You can see it out your window or on your television. \\n\n",
    "             You feel it when you go to work, or go to church or pay your taxes.'\n",
    "sentences=sent_tokenize(text=text_sample)\n",
    "\n",
    "print(type(sentences), len(sentences))\n",
    "print(sentences)\n",
    "\n",
    "## list 객체 반환 ; 3개의 문장으로 된 문자열을 가지고 있음"
   ]
  },
  {
   "cell_type": "markdown",
   "id": "b9b284d5",
   "metadata": {},
   "source": [
    "#### 단어 토큰화\n",
    "- 문장을 단어로 토큰화\n",
    "- 기본적으로 공백, 콤마(,), 마침표(.), 개행문자 등으로 단어를 분리\n",
    "- 정규 표현식을 이용해 다양한 유형으로 토큰화 수행 가능\n",
    "\n",
    "문장을 분리하는 구분자를 이용해 단어를 토큰화 할 수 있으므로,\n",
    "- 단어의 순서가 중요하지 않은 경우 문장의 토큰화를 사용하지 않고 단어 토큰화만 사용해도 충분함\n",
    "- 문장 토큰화는 각 문장이 가지는 시맨티적인 의미가 중요한 요소로 사용될 때 사용함"
   ]
  },
  {
   "cell_type": "code",
   "execution_count": 3,
   "id": "aa2906f0",
   "metadata": {},
   "outputs": [
    {
     "name": "stdout",
     "output_type": "stream",
     "text": [
      "<class 'list'> 15\n",
      "['The', 'Matrix', 'is', 'everywhere', 'its', 'all', 'around', 'us', ',', 'here', 'even', 'in', 'this', 'room', '.']\n"
     ]
    }
   ],
   "source": [
    "#NLTK - word_tokenize() 단어 토큰화\n",
    "\n",
    "from nltk import word_tokenize\n",
    "\n",
    "sentence='The Matrix is everywhere its all around us, here even in this room.'\n",
    "words=word_tokenize(sentence)\n",
    "\n",
    "print(type(words), len(words))\n",
    "print(words)\n",
    "     "
   ]
  },
  {
   "cell_type": "code",
   "execution_count": 2,
   "id": "5d7c5109",
   "metadata": {},
   "outputs": [
    {
     "name": "stdout",
     "output_type": "stream",
     "text": [
      "<class 'list'> 3\n",
      "[['The', 'Matrix', 'is', 'everywhere', 'its', 'all', 'around', 'us', ',', 'here', 'even', 'in', 'this', 'room', '.'], ['You', 'can', 'see', 'it', 'out', 'your', 'window', 'or', 'on', 'your', 'television', '.'], ['You', 'feel', 'it', 'when', 'you', 'go', 'to', 'work', ',', 'or', 'go', 'to', 'church', 'or', 'pay', 'your', 'taxes', '.']]\n"
     ]
    }
   ],
   "source": [
    "#sent_tokenize 와 word_tokenize 조합해 문서에 대해 모든 단어 토큰화\n",
    "\n",
    "from nltk import word_tokenize, sent_tokenize\n",
    "\n",
    "#여러 개의 문장으로 된 입력 데이터를 문장별로 단어 토큰화하게 만드는 함수 생성\n",
    "def tokenize_text(text):\n",
    "  # 1. 문장별로 분리 토큰\n",
    "  sentences=sent_tokenize(text)\n",
    "  # 2. 분리된 문장별 단어 토큰화\n",
    "  word_tokens=[word_tokenize(sentence) for sentence in sentences]\n",
    "  return word_tokens\n",
    "\n",
    "#여러 문장에 대해 문장별 단어 토큰화 수행\n",
    "word_tokens=tokenize_text(text_sample)\n",
    "\n",
    "print(type(word_tokens), len(word_tokens))\n",
    "print(word_tokens)\n",
    "\n",
    "## 리스트 반환 ; 각각 문장별로 토큰화된 단어를 요소로 가짐"
   ]
  },
  {
   "cell_type": "markdown",
   "id": "f433ebb8",
   "metadata": {},
   "source": [
    "문장을 단어별로 하나씩 토큰화 할 경우 문맥적인 의미는 무시될 수 밖에 없음\n",
    "\n",
    "이러한 문제를 조금이라도 해결해보고자 도입된 것이 **n-gram**\n",
    "  - 연속된 n 개의 단어를 하나의 토큰화 단위로 분리해 내는 것\n",
    "  - n개 단어 크기 윈도우를 만들어 문장의 처음부터 오른쪽으로 움직이면서 토큰화 수행"
   ]
  },
  {
   "cell_type": "markdown",
   "id": "b93dc00c",
   "metadata": {},
   "source": [
    "### 스톱 워드 제거\n",
    "\n",
    "* 스톱워드 : 분석에 큰 의미가 없는 단어\n",
    "  - is, the, a, will 등 문장 구성의 필수 문법 요소이지만, 문맥적으로는 큰 의미가 없는 단어\n",
    "  - 빈번하게 텍스트에 등장하므로 오히려 중요하게 인지될 수 있기에 단어를 제거해야 함\n",
    " "
   ]
  },
  {
   "cell_type": "code",
   "execution_count": 4,
   "id": "4595e597",
   "metadata": {
    "scrolled": true
   },
   "outputs": [
    {
     "name": "stderr",
     "output_type": "stream",
     "text": [
      "[nltk_data] Downloading package stopwords to\n",
      "[nltk_data]     C:\\Users\\chltp\\AppData\\Roaming\\nltk_data...\n",
      "[nltk_data]   Package stopwords is already up-to-date!\n"
     ]
    },
    {
     "data": {
      "text/plain": [
       "True"
      ]
     },
     "execution_count": 4,
     "metadata": {},
     "output_type": "execute_result"
    }
   ],
   "source": [
    "#스톱워드 목록 다운로드\n",
    "import nltk\n",
    "nltk.download('stopwords')"
   ]
  },
  {
   "cell_type": "code",
   "execution_count": 6,
   "id": "288cc179",
   "metadata": {
    "scrolled": false
   },
   "outputs": [
    {
     "name": "stdout",
     "output_type": "stream",
     "text": [
      "영어 stop word 개수: 179\n",
      "['i', 'me', 'my', 'myself', 'we', 'our', 'ours', 'ourselves', 'you', \"you're\", \"you've\", \"you'll\", \"you'd\", 'your', 'yours', 'yourself', 'yourselves', 'he', 'him', 'his']\n"
     ]
    }
   ],
   "source": [
    "#몇 개의 스톱워드가 있는지 알아보고, 그 중 20개만 확인\n",
    "print('영어 stop word 개수:', len(nltk.corpus.stopwords.words('english')))\n",
    "print(nltk.corpus.stopwords.words('english')[:20]) "
   ]
  },
  {
   "cell_type": "markdown",
   "id": "1ada56b1",
   "metadata": {},
   "source": [
    "3개의 문장별로 단어를 토큰화해 생성된 word_tokens 리스트에 대해서 stopwords를 필터링으로 제거해 분석을 위한 의미 있는 단어만 추출"
   ]
  },
  {
   "cell_type": "code",
   "execution_count": 8,
   "id": "b4354acc",
   "metadata": {},
   "outputs": [
    {
     "name": "stdout",
     "output_type": "stream",
     "text": [
      "[['matrix', 'everywhere', 'around', 'us', ',', 'even', 'room', '.'], ['matrix', 'everywhere', 'around', 'us', ',', 'even', 'room', '.'], ['matrix', 'everywhere', 'around', 'us', ',', 'even', 'room', '.'], ['matrix', 'everywhere', 'around', 'us', ',', 'even', 'room', '.'], ['matrix', 'everywhere', 'around', 'us', ',', 'even', 'room', '.'], ['matrix', 'everywhere', 'around', 'us', ',', 'even', 'room', '.'], ['matrix', 'everywhere', 'around', 'us', ',', 'even', 'room', '.'], ['matrix', 'everywhere', 'around', 'us', ',', 'even', 'room', '.'], ['matrix', 'everywhere', 'around', 'us', ',', 'even', 'room', '.'], ['matrix', 'everywhere', 'around', 'us', ',', 'even', 'room', '.'], ['matrix', 'everywhere', 'around', 'us', ',', 'even', 'room', '.'], ['matrix', 'everywhere', 'around', 'us', ',', 'even', 'room', '.'], ['matrix', 'everywhere', 'around', 'us', ',', 'even', 'room', '.'], ['matrix', 'everywhere', 'around', 'us', ',', 'even', 'room', '.'], ['matrix', 'everywhere', 'around', 'us', ',', 'even', 'room', '.'], ['see', 'window', 'television', '.'], ['see', 'window', 'television', '.'], ['see', 'window', 'television', '.'], ['see', 'window', 'television', '.'], ['see', 'window', 'television', '.'], ['see', 'window', 'television', '.'], ['see', 'window', 'television', '.'], ['see', 'window', 'television', '.'], ['see', 'window', 'television', '.'], ['see', 'window', 'television', '.'], ['see', 'window', 'television', '.'], ['see', 'window', 'television', '.'], ['feel', 'go', 'work', ',', 'go', 'church', 'pay', 'taxes', '.'], ['feel', 'go', 'work', ',', 'go', 'church', 'pay', 'taxes', '.'], ['feel', 'go', 'work', ',', 'go', 'church', 'pay', 'taxes', '.'], ['feel', 'go', 'work', ',', 'go', 'church', 'pay', 'taxes', '.'], ['feel', 'go', 'work', ',', 'go', 'church', 'pay', 'taxes', '.'], ['feel', 'go', 'work', ',', 'go', 'church', 'pay', 'taxes', '.'], ['feel', 'go', 'work', ',', 'go', 'church', 'pay', 'taxes', '.'], ['feel', 'go', 'work', ',', 'go', 'church', 'pay', 'taxes', '.'], ['feel', 'go', 'work', ',', 'go', 'church', 'pay', 'taxes', '.'], ['feel', 'go', 'work', ',', 'go', 'church', 'pay', 'taxes', '.'], ['feel', 'go', 'work', ',', 'go', 'church', 'pay', 'taxes', '.'], ['feel', 'go', 'work', ',', 'go', 'church', 'pay', 'taxes', '.'], ['feel', 'go', 'work', ',', 'go', 'church', 'pay', 'taxes', '.'], ['feel', 'go', 'work', ',', 'go', 'church', 'pay', 'taxes', '.'], ['feel', 'go', 'work', ',', 'go', 'church', 'pay', 'taxes', '.'], ['feel', 'go', 'work', ',', 'go', 'church', 'pay', 'taxes', '.'], ['feel', 'go', 'work', ',', 'go', 'church', 'pay', 'taxes', '.'], ['feel', 'go', 'work', ',', 'go', 'church', 'pay', 'taxes', '.']]\n"
     ]
    }
   ],
   "source": [
    "import nltk\n",
    "\n",
    "stopwords=nltk.corpus.stopwords.words('english')\n",
    "all_tokens=[]\n",
    "\n",
    "#위 예제에서 3개의 문장별로 얻은 word_tokens list에 대해 스톱 워드를 제거하는 반복문\n",
    "for sentence in word_tokens:\n",
    "  filtered_words=[]\n",
    "  #개별 문장별로 토큰화된 문장 list에 대해 스톱 워드를 제거하는 반복문\n",
    "  for word in sentence:\n",
    "    #소문자로 모두 변환\n",
    "    word=word.lower()\n",
    "    #토큰화된 개별 단어가 스톱 워드의 단어에 포함되지 않으면 word_tokens에 추가\n",
    "    if word not in stopwords:\n",
    "      filtered_words.append(word)\n",
    "    all_tokens.append(filtered_words)\n",
    "\n",
    "print(all_tokens)\n",
    "\n",
    "## is, this 등의 스톱 워드는 필터링을 통해 제거"
   ]
  },
  {
   "cell_type": "markdown",
   "id": "df863f44",
   "metadata": {},
   "source": [
    "### Stemming 과 Lemmatization\n",
    ": 문법적 또는 의미적으로 변화하는 단어의 원형을 찾는 것\n",
    "\n",
    "Lemmatization 이 Stemming 보다 정교하며 의미론적인 기반에서 단어의 원형을 찾음\n",
    "- Stemming : 원형 단어로 변환 시 일반적인 방법을 적용하거나 더 단순화된 방법을 적용해 원래 단어에서 일부 철자가 훼손된 어근 단어를 추출하는 경향이 있음 \n",
    "  - Porter, Lancaser, Snowball Stemmer\n",
    "  - 진행형, 3인칭 단수, 과거형에 따른 동사, 비교, 최상에 따른 형용사의 변화에 따라 더 단순하게 원형을 찾아줌\n",
    "- Lemmatization: 품사와 같은 문법적인 요소와 더 의미적인 부분을 감안해 정확한 철자로 된 어근 단어를 찾아줌\n",
    "  - WordBetLemmatizer\n",
    "  - 정확한 원형 단어 추출을 위해 단어의 '품사'를 입력해 줘야 함"
   ]
  },
  {
   "cell_type": "code",
   "execution_count": 9,
   "id": "58e3e553",
   "metadata": {},
   "outputs": [
    {
     "name": "stdout",
     "output_type": "stream",
     "text": [
      "work work work\n",
      "amus amus amus\n",
      "happy happiest\n",
      "fant fanciest\n"
     ]
    }
   ],
   "source": [
    "# Stemming \n",
    "from nltk.stem import LancasterStemmer\n",
    "stemmer=LancasterStemmer()\n",
    "\n",
    "print(stemmer.stem('working'), stemmer.stem('works'), stemmer.stem('worked'))\n",
    "print(stemmer.stem('amusing'), stemmer.stem('amuses'), stemmer.stem('amused'))\n",
    "print(stemmer.stem('happier'), stemmer.stem('happiest'))\n",
    "print(stemmer.stem('fancier'), stemmer.stem('fanciest'))"
   ]
  },
  {
   "cell_type": "code",
   "execution_count": 10,
   "id": "19b2cf00",
   "metadata": {},
   "outputs": [
    {
     "name": "stderr",
     "output_type": "stream",
     "text": [
      "[nltk_data] Downloading package wordnet to\n",
      "[nltk_data]     C:\\Users\\chltp\\AppData\\Roaming\\nltk_data...\n",
      "[nltk_data]   Package wordnet is already up-to-date!\n"
     ]
    },
    {
     "name": "stdout",
     "output_type": "stream",
     "text": [
      "amuse amuse amuse\n",
      "happy happy\n",
      "fancy fancy\n"
     ]
    }
   ],
   "source": [
    "# Lemmatization\n",
    "from nltk.stem import WordNetLemmatizer\n",
    "import nltk\n",
    "nltk.download('wordnet')\n",
    "\n",
    "lemma=WordNetLemmatizer()\n",
    "print(lemma.lemmatize('amusing', 'v'), lemma.lemmatize('amuses', 'v'), lemma.lemmatize('amused', 'v'))\n",
    "print(lemma.lemmatize('happier', 'a'), lemma.lemmatize('happiest', 'a'))\n",
    "print(lemma.lemmatize('fancier', 'a'), lemma.lemmatize('fanciest', 'a'))\n"
   ]
  },
  {
   "cell_type": "markdown",
   "id": "337dfe56",
   "metadata": {},
   "source": [
    "## 03. Bag of Words - BOW\n",
    "\n",
    ": 문서가 가지는 모든 단어를 문맥이나 순서를 무시하고 일괄적으로 단어에 대해 빈도 값을 부여해 피처 값을 추출하는 모델\n",
    " - 문서 내 모든 단어를 한꺼번에 봉투 안에 넣은 뒤 흔들어 섞는다는 의미\n",
    " "
   ]
  },
  {
   "cell_type": "markdown",
   "id": "a79028b6",
   "metadata": {},
   "source": [
    "### BOW 피처 벡터화\n",
    "\n",
    "머신러닝 알고리즘은 숫자형 피처를 데이터로 입력받아 동작하기 때문에 텍스트와 같은 데이터는 머신러닝 알고리즘에 바로 입력할 수 없음\n",
    "\n",
    "따라서, 텍스트는 특정 의미를 가지는 숫자형 값인 벡터 값으로 변환해야 하며 이러한 변환을 **피처 벡터화** 라고 함\n",
    "  - 각 문서의 텍스트를 단어로 추출해 피처로 할당하고, 각 단어의 발생 빈도와 같은 값을 피처에 값으로 부여해 각 문서를 이 단어 피처의 발생 빈도 값으로 구성된 벡터로 만드는 기법\n",
    "  - 기존 텍스트 데이터를 또 다른 형태의 피처의 조합으로 변경하기 때문에 넓은 범위의 피처 추출에 포함\n",
    "  \n",
    "모든 문서에서 모든 단어를 칼럼 형태로 나열하고 각 문서에서 해당 단어의 횟수나 정규화된 빈도를 값으로 부여하는 데이터 세트 모델로 변경하는 것\n",
    "1. 카운트 기반의 벡터화 : 각 문서에서 해당 단어가 나타나는 횟수 (즉, count)를 부여하는 경우\n",
    " - 카운트 값이 높을수록 중요한 단어로 인식\n",
    " - 문서의 특징을 나타내기 보다는 언어의 특성상 문장에서 자주 사용될 수 밖에 없는 단어까지 높은 값을 부여하게 됨\n",
    "2. TF-IDF 기반의 벡터화\n",
    "  - 카운트 기반의 문제점을 보완\n",
    "  - 자주 나타나는 단어에 높은 가중치를 주되, 모든 문서에서 전반적으로 자주 나타나는 단어에 대해서는 패널티를 주는 방식\n",
    "  - 문서마다 텍스트가 길고 문서의 개수가 많은 경우에 더 좋은 예측 성능"
   ]
  },
  {
   "cell_type": "markdown",
   "id": "0bbc268e",
   "metadata": {},
   "source": [
    "### 사이킷런의 Count 및 TF-IDF 벡터화 구현: CountVectorizer, TfidfVectorizer\n",
    "\n",
    "1. 영어의 경우 모든 문자를 소문자로 변경하는 등의 전처리 작업 수행\n",
    "2. 디폴트로 단어 기준으로 n_gram_range를 반영해 각 단어 토큰화\n",
    "3. 텍스트 정규화 수행"
   ]
  },
  {
   "cell_type": "markdown",
   "id": "0761caa3",
   "metadata": {},
   "source": [
    "### BOW 벡터화를 위한 희소 행렬\n",
    "\n",
    "텍스트를 피처 단위로 벡터화해 변환하고 CSR 형태의 희소 행렬을 반환\n",
    "\n",
    "희소 행렬을 물리적으로 적은 메모리 공간을 차지할 수 있도록 변환해야 함. \n",
    "#### 희소 행렬 - COO 형식\n",
    ": 0이 아닌 데이터만 별도의 데이터 배열에 저장하고, 그 데이터가 가리키는 행과 열의 위치를 별도의 배열로 저장하는 방식"
   ]
  },
  {
   "cell_type": "code",
   "execution_count": 11,
   "id": "d23c3f22",
   "metadata": {},
   "outputs": [],
   "source": [
    "import numpy as np\n",
    "\n",
    "#1. ndarray 밀집 행렬 생성\n",
    "dense=np.array([[3,0,1], [0,2,0]])"
   ]
  },
  {
   "cell_type": "code",
   "execution_count": 15,
   "id": "d1fa7f12",
   "metadata": {},
   "outputs": [
    {
     "data": {
      "text/plain": [
       "<2x3 sparse matrix of type '<class 'numpy.int32'>'\n",
       "\twith 3 stored elements in COOrdinate format>"
      ]
     },
     "execution_count": 15,
     "metadata": {},
     "output_type": "execute_result"
    }
   ],
   "source": [
    "#2. COO 형식의 희소 행렬로 변환 : 0이 아닌 데이터를 별도의 배열 데이터로 만들고, 행 위치 배열과 열 위치 배열을 각각 만든 후 입력\n",
    "\n",
    "from scipy import sparse\n",
    "\n",
    "#0이 아닌 데이터 추출\n",
    "data=np.array([3,1,2])\n",
    "\n",
    "#행 위치와 열 위치를 각각 배열로 생성\n",
    "row_pos=np.array([0,0,1])\n",
    "col_pos=np.array([0,2,1])\n",
    "\n",
    "#sparse 패키지의 coo_matirx를 이용해 COO 형식의 희소 행렬 생성\n",
    "sparse_coo=sparse.coo_matrix((data, (row_pos, col_pos)))\n",
    "sparse_coo   "
   ]
  },
  {
   "cell_type": "code",
   "execution_count": 14,
   "id": "ada8e6a5",
   "metadata": {},
   "outputs": [
    {
     "data": {
      "text/plain": [
       "array([[3, 0, 1],\n",
       "       [0, 2, 0]])"
      ]
     },
     "execution_count": 14,
     "metadata": {},
     "output_type": "execute_result"
    }
   ],
   "source": [
    "#3. 희소 행렬 객채 변수를 다시 밀집 형태의 행렬로 출력\n",
    "sparse_coo.toarray()\n",
    "\n",
    "## 다시 원래의 행렬로 추출됨"
   ]
  },
  {
   "cell_type": "markdown",
   "id": "aadf9e2e",
   "metadata": {},
   "source": [
    "#### 희소 행렬 - CSR 형식\n",
    ": COO 형식이 행과 열의 위치를 나타내기 위해서 반복적인 위치 데이터를 사용해야 하는 문제점 해결"
   ]
  },
  {
   "cell_type": "markdown",
   "id": "1fb2b0e5",
   "metadata": {},
   "source": [
    "COO 변환 형식의 문제점\n",
    "- 순차적인 같은 값이 반복적으로 나타남\n",
    "\n",
    "해결 방법\n",
    "- 행 위치 배열이 0부터 순차적으로 증가하는 값으로 이뤄졌으므로, 행 위치 배열의 고유한 값의 시작 위치만 표기하는 방법으로 이러한 반복 제거 가능\n",
    "\n",
    " => CRS: 행 위치 배열 내에 있는 고유한 값의 시작 위치만 다시 별도의 위치 배열로 가지는 변환 방식"
   ]
  },
  {
   "cell_type": "code",
   "execution_count": 16,
   "id": "612a359f",
   "metadata": {},
   "outputs": [
    {
     "name": "stdout",
     "output_type": "stream",
     "text": [
      "COO 변환된 데이터가 제대로 되었는지 다시 dense로 출력 확인\n",
      "[[0 0 1 0 0 5]\n",
      " [1 4 0 3 2 5]\n",
      " [0 6 0 3 0 0]\n",
      " [2 0 0 0 0 0]\n",
      " [0 0 0 7 0 8]\n",
      " [1 0 0 0 0 0]]\n",
      "CSR 변환된 데이터가 제대로 되었는지 다시 dense로 출력 확인\n",
      "[[0 0 1 0 0 5]\n",
      " [1 4 0 3 2 5]\n",
      " [0 6 0 3 0 0]\n",
      " [2 0 0 0 0 0]\n",
      " [0 0 0 7 0 8]\n",
      " [1 0 0 0 0 0]]\n"
     ]
    }
   ],
   "source": [
    "from scipy import sparse\n",
    "\n",
    "dense2=np.array([[0,0,1,0,0,5],\n",
    "                 [1,4,0,3,2,5],\n",
    "                 [0,6,0,3,0,0],\n",
    "                 [2,0,0,0,0,0],\n",
    "                 [0,0,0,7,0,8],\n",
    "                 [1,0,0,0,0,0]])\n",
    "\n",
    "#0이 아닌 데이터 추출\n",
    "data2=np.array([1,5,1,4,3,2,5,6,3,2,7,8,1])\n",
    "\n",
    "#행 위치와 열 위치를 각각 array로 생성\n",
    "row_pos=np.array([0,0,1,1,1,1,1,2,2,3,4,4,5])\n",
    "col_pos=np.array([2,5,0,1,3,4,5,1,3,0,3,5,0])\n",
    "\n",
    "#COO 형식으로 변환\n",
    "sparse_coo=sparse.coo_matrix((data2, (row_pos, col_pos)))\n",
    "\n",
    "#행 위치 배열의 고유한 값의 시작 위치 인덱스를 배열로 생성\n",
    "row_pos_ind=np.array([0,2,7,9,10,12,13])\n",
    "\n",
    "#CSR 형식으로 변환\n",
    "sparse_csr=sparse.csr_matrix((data2, col_pos, row_pos_ind))\n",
    "\n",
    "print('COO 변환된 데이터가 제대로 되었는지 다시 dense로 출력 확인')\n",
    "print(sparse_coo.toarray())\n",
    "print('CSR 변환된 데이터가 제대로 되었는지 다시 dense로 출력 확인')\n",
    "print(sparse_csr.toarray())"
   ]
  }
 ],
 "metadata": {
  "kernelspec": {
   "display_name": "Python 3 (ipykernel)",
   "language": "python",
   "name": "python3"
  },
  "language_info": {
   "codemirror_mode": {
    "name": "ipython",
    "version": 3
   },
   "file_extension": ".py",
   "mimetype": "text/x-python",
   "name": "python",
   "nbconvert_exporter": "python",
   "pygments_lexer": "ipython3",
   "version": "3.9.13"
  }
 },
 "nbformat": 4,
 "nbformat_minor": 5
}
