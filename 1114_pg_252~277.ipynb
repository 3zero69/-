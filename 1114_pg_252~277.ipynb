{
  "nbformat": 4,
  "nbformat_minor": 0,
  "metadata": {
    "colab": {
      "provenance": [],
      "authorship_tag": "ABX9TyN/5u4j2hkZ3Ov4gJ4jcBCG",
      "include_colab_link": true
    },
    "kernelspec": {
      "name": "python3",
      "display_name": "Python 3"
    },
    "language_info": {
      "name": "python"
    }
  },
  "cells": [
    {
      "cell_type": "markdown",
      "metadata": {
        "id": "view-in-github",
        "colab_type": "text"
      },
      "source": [
        "<a href=\"https://colab.research.google.com/github/3zero69/-/blob/main/1114_pg_252~277.ipynb\" target=\"_parent\"><img src=\"https://colab.research.google.com/assets/colab-badge.svg\" alt=\"Open In Colab\"/></a>"
      ]
    },
    {
      "cell_type": "markdown",
      "source": [
        "##08. 분류실습1 - 캐글 산탄데르 고객 만족 예측"
      ],
      "metadata": {
        "id": "KiVj_Cnm294r"
      }
    },
    {
      "cell_type": "markdown",
      "source": [
        "* 산탄데르 고객 만족 데이터\n",
        "  - 370개의 피처\n",
        "  - 클래스 레이블 명 _TARGET\n",
        "    - 1: 불만을 가진 고객\n",
        "    - 0: 만족한 고객\n",
        "\n",
        "- 모델 성능 평가는 ROC-AUC(ROC 곡선 영역)로 평가 \n",
        "    - 대부분이 만족이고 불만족인 데이터는 일부일 것이기 때문에 정확도 수치보다는 ROC-AUC가 더 적합  "
      ],
      "metadata": {
        "id": "EhAXnEYM3KIk"
      }
    },
    {
      "cell_type": "markdown",
      "source": [
        "### 데이터 전처리"
      ],
      "metadata": {
        "id": "qUhI-mkU3x7c"
      }
    },
    {
      "cell_type": "code",
      "source": [
        "import numpy as np\n",
        "import pandas as pd\n",
        "import matplotlib.pyplot as plt\n",
        "import matplotlib\n",
        "\n",
        "cust_df = pd.read_csv('/content/drive/MyDrive/Colab Notebooks/ESAA/train_santander.csv',encoding='latin-1')\n",
        "print('dataset shape:',cust_df.shape)\n",
        "cust_df.head(3)"
      ],
      "metadata": {
        "colab": {
          "base_uri": "https://localhost:8080/",
          "height": 255
        },
        "id": "VLwL1kfC30m5",
        "outputId": "2d63fc65-fa0a-4d53-ed9d-c4a32ffeea5a"
      },
      "execution_count": 26,
      "outputs": [
        {
          "output_type": "stream",
          "name": "stdout",
          "text": [
            "dataset shape: (76020, 371)\n"
          ]
        },
        {
          "output_type": "execute_result",
          "data": {
            "text/plain": [
              "   ID  var3  var15  imp_ent_var16_ult1  imp_op_var39_comer_ult1  \\\n",
              "0   1     2     23                 0.0                      0.0   \n",
              "1   3     2     34                 0.0                      0.0   \n",
              "2   4     2     23                 0.0                      0.0   \n",
              "\n",
              "   imp_op_var39_comer_ult3  imp_op_var40_comer_ult1  imp_op_var40_comer_ult3  \\\n",
              "0                      0.0                      0.0                      0.0   \n",
              "1                      0.0                      0.0                      0.0   \n",
              "2                      0.0                      0.0                      0.0   \n",
              "\n",
              "   imp_op_var40_efect_ult1  imp_op_var40_efect_ult3  ...  \\\n",
              "0                      0.0                      0.0  ...   \n",
              "1                      0.0                      0.0  ...   \n",
              "2                      0.0                      0.0  ...   \n",
              "\n",
              "   saldo_medio_var33_hace2  saldo_medio_var33_hace3  saldo_medio_var33_ult1  \\\n",
              "0                      0.0                      0.0                     0.0   \n",
              "1                      0.0                      0.0                     0.0   \n",
              "2                      0.0                      0.0                     0.0   \n",
              "\n",
              "   saldo_medio_var33_ult3  saldo_medio_var44_hace2  saldo_medio_var44_hace3  \\\n",
              "0                     0.0                      0.0                      0.0   \n",
              "1                     0.0                      0.0                      0.0   \n",
              "2                     0.0                      0.0                      0.0   \n",
              "\n",
              "   saldo_medio_var44_ult1  saldo_medio_var44_ult3     var38  TARGET  \n",
              "0                     0.0                     0.0  39205.17       0  \n",
              "1                     0.0                     0.0  49278.03       0  \n",
              "2                     0.0                     0.0  67333.77       0  \n",
              "\n",
              "[3 rows x 371 columns]"
            ],
            "text/html": [
              "\n",
              "  <div id=\"df-dcd95542-15ce-46bc-a5b7-e1240d67fa11\">\n",
              "    <div class=\"colab-df-container\">\n",
              "      <div>\n",
              "<style scoped>\n",
              "    .dataframe tbody tr th:only-of-type {\n",
              "        vertical-align: middle;\n",
              "    }\n",
              "\n",
              "    .dataframe tbody tr th {\n",
              "        vertical-align: top;\n",
              "    }\n",
              "\n",
              "    .dataframe thead th {\n",
              "        text-align: right;\n",
              "    }\n",
              "</style>\n",
              "<table border=\"1\" class=\"dataframe\">\n",
              "  <thead>\n",
              "    <tr style=\"text-align: right;\">\n",
              "      <th></th>\n",
              "      <th>ID</th>\n",
              "      <th>var3</th>\n",
              "      <th>var15</th>\n",
              "      <th>imp_ent_var16_ult1</th>\n",
              "      <th>imp_op_var39_comer_ult1</th>\n",
              "      <th>imp_op_var39_comer_ult3</th>\n",
              "      <th>imp_op_var40_comer_ult1</th>\n",
              "      <th>imp_op_var40_comer_ult3</th>\n",
              "      <th>imp_op_var40_efect_ult1</th>\n",
              "      <th>imp_op_var40_efect_ult3</th>\n",
              "      <th>...</th>\n",
              "      <th>saldo_medio_var33_hace2</th>\n",
              "      <th>saldo_medio_var33_hace3</th>\n",
              "      <th>saldo_medio_var33_ult1</th>\n",
              "      <th>saldo_medio_var33_ult3</th>\n",
              "      <th>saldo_medio_var44_hace2</th>\n",
              "      <th>saldo_medio_var44_hace3</th>\n",
              "      <th>saldo_medio_var44_ult1</th>\n",
              "      <th>saldo_medio_var44_ult3</th>\n",
              "      <th>var38</th>\n",
              "      <th>TARGET</th>\n",
              "    </tr>\n",
              "  </thead>\n",
              "  <tbody>\n",
              "    <tr>\n",
              "      <th>0</th>\n",
              "      <td>1</td>\n",
              "      <td>2</td>\n",
              "      <td>23</td>\n",
              "      <td>0.0</td>\n",
              "      <td>0.0</td>\n",
              "      <td>0.0</td>\n",
              "      <td>0.0</td>\n",
              "      <td>0.0</td>\n",
              "      <td>0.0</td>\n",
              "      <td>0.0</td>\n",
              "      <td>...</td>\n",
              "      <td>0.0</td>\n",
              "      <td>0.0</td>\n",
              "      <td>0.0</td>\n",
              "      <td>0.0</td>\n",
              "      <td>0.0</td>\n",
              "      <td>0.0</td>\n",
              "      <td>0.0</td>\n",
              "      <td>0.0</td>\n",
              "      <td>39205.17</td>\n",
              "      <td>0</td>\n",
              "    </tr>\n",
              "    <tr>\n",
              "      <th>1</th>\n",
              "      <td>3</td>\n",
              "      <td>2</td>\n",
              "      <td>34</td>\n",
              "      <td>0.0</td>\n",
              "      <td>0.0</td>\n",
              "      <td>0.0</td>\n",
              "      <td>0.0</td>\n",
              "      <td>0.0</td>\n",
              "      <td>0.0</td>\n",
              "      <td>0.0</td>\n",
              "      <td>...</td>\n",
              "      <td>0.0</td>\n",
              "      <td>0.0</td>\n",
              "      <td>0.0</td>\n",
              "      <td>0.0</td>\n",
              "      <td>0.0</td>\n",
              "      <td>0.0</td>\n",
              "      <td>0.0</td>\n",
              "      <td>0.0</td>\n",
              "      <td>49278.03</td>\n",
              "      <td>0</td>\n",
              "    </tr>\n",
              "    <tr>\n",
              "      <th>2</th>\n",
              "      <td>4</td>\n",
              "      <td>2</td>\n",
              "      <td>23</td>\n",
              "      <td>0.0</td>\n",
              "      <td>0.0</td>\n",
              "      <td>0.0</td>\n",
              "      <td>0.0</td>\n",
              "      <td>0.0</td>\n",
              "      <td>0.0</td>\n",
              "      <td>0.0</td>\n",
              "      <td>...</td>\n",
              "      <td>0.0</td>\n",
              "      <td>0.0</td>\n",
              "      <td>0.0</td>\n",
              "      <td>0.0</td>\n",
              "      <td>0.0</td>\n",
              "      <td>0.0</td>\n",
              "      <td>0.0</td>\n",
              "      <td>0.0</td>\n",
              "      <td>67333.77</td>\n",
              "      <td>0</td>\n",
              "    </tr>\n",
              "  </tbody>\n",
              "</table>\n",
              "<p>3 rows × 371 columns</p>\n",
              "</div>\n",
              "      <button class=\"colab-df-convert\" onclick=\"convertToInteractive('df-dcd95542-15ce-46bc-a5b7-e1240d67fa11')\"\n",
              "              title=\"Convert this dataframe to an interactive table.\"\n",
              "              style=\"display:none;\">\n",
              "        \n",
              "  <svg xmlns=\"http://www.w3.org/2000/svg\" height=\"24px\"viewBox=\"0 0 24 24\"\n",
              "       width=\"24px\">\n",
              "    <path d=\"M0 0h24v24H0V0z\" fill=\"none\"/>\n",
              "    <path d=\"M18.56 5.44l.94 2.06.94-2.06 2.06-.94-2.06-.94-.94-2.06-.94 2.06-2.06.94zm-11 1L8.5 8.5l.94-2.06 2.06-.94-2.06-.94L8.5 2.5l-.94 2.06-2.06.94zm10 10l.94 2.06.94-2.06 2.06-.94-2.06-.94-.94-2.06-.94 2.06-2.06.94z\"/><path d=\"M17.41 7.96l-1.37-1.37c-.4-.4-.92-.59-1.43-.59-.52 0-1.04.2-1.43.59L10.3 9.45l-7.72 7.72c-.78.78-.78 2.05 0 2.83L4 21.41c.39.39.9.59 1.41.59.51 0 1.02-.2 1.41-.59l7.78-7.78 2.81-2.81c.8-.78.8-2.07 0-2.86zM5.41 20L4 18.59l7.72-7.72 1.47 1.35L5.41 20z\"/>\n",
              "  </svg>\n",
              "      </button>\n",
              "      \n",
              "  <style>\n",
              "    .colab-df-container {\n",
              "      display:flex;\n",
              "      flex-wrap:wrap;\n",
              "      gap: 12px;\n",
              "    }\n",
              "\n",
              "    .colab-df-convert {\n",
              "      background-color: #E8F0FE;\n",
              "      border: none;\n",
              "      border-radius: 50%;\n",
              "      cursor: pointer;\n",
              "      display: none;\n",
              "      fill: #1967D2;\n",
              "      height: 32px;\n",
              "      padding: 0 0 0 0;\n",
              "      width: 32px;\n",
              "    }\n",
              "\n",
              "    .colab-df-convert:hover {\n",
              "      background-color: #E2EBFA;\n",
              "      box-shadow: 0px 1px 2px rgba(60, 64, 67, 0.3), 0px 1px 3px 1px rgba(60, 64, 67, 0.15);\n",
              "      fill: #174EA6;\n",
              "    }\n",
              "\n",
              "    [theme=dark] .colab-df-convert {\n",
              "      background-color: #3B4455;\n",
              "      fill: #D2E3FC;\n",
              "    }\n",
              "\n",
              "    [theme=dark] .colab-df-convert:hover {\n",
              "      background-color: #434B5C;\n",
              "      box-shadow: 0px 1px 3px 1px rgba(0, 0, 0, 0.15);\n",
              "      filter: drop-shadow(0px 1px 2px rgba(0, 0, 0, 0.3));\n",
              "      fill: #FFFFFF;\n",
              "    }\n",
              "  </style>\n",
              "\n",
              "      <script>\n",
              "        const buttonEl =\n",
              "          document.querySelector('#df-dcd95542-15ce-46bc-a5b7-e1240d67fa11 button.colab-df-convert');\n",
              "        buttonEl.style.display =\n",
              "          google.colab.kernel.accessAllowed ? 'block' : 'none';\n",
              "\n",
              "        async function convertToInteractive(key) {\n",
              "          const element = document.querySelector('#df-dcd95542-15ce-46bc-a5b7-e1240d67fa11');\n",
              "          const dataTable =\n",
              "            await google.colab.kernel.invokeFunction('convertToInteractive',\n",
              "                                                     [key], {});\n",
              "          if (!dataTable) return;\n",
              "\n",
              "          const docLinkHtml = 'Like what you see? Visit the ' +\n",
              "            '<a target=\"_blank\" href=https://colab.research.google.com/notebooks/data_table.ipynb>data table notebook</a>'\n",
              "            + ' to learn more about interactive tables.';\n",
              "          element.innerHTML = '';\n",
              "          dataTable['output_type'] = 'display_data';\n",
              "          await google.colab.output.renderOutput(dataTable, element);\n",
              "          const docLink = document.createElement('div');\n",
              "          docLink.innerHTML = docLinkHtml;\n",
              "          element.appendChild(docLink);\n",
              "        }\n",
              "      </script>\n",
              "    </div>\n",
              "  </div>\n",
              "  "
            ]
          },
          "metadata": {},
          "execution_count": 26
        }
      ]
    },
    {
      "cell_type": "code",
      "source": [
        "cust_df.info()"
      ],
      "metadata": {
        "colab": {
          "base_uri": "https://localhost:8080/"
        },
        "id": "bv2jv-GCCQMI",
        "outputId": "986fc0e8-3e19-4b4a-c294-002253f3fe78"
      },
      "execution_count": 27,
      "outputs": [
        {
          "output_type": "stream",
          "name": "stdout",
          "text": [
            "<class 'pandas.core.frame.DataFrame'>\n",
            "RangeIndex: 76020 entries, 0 to 76019\n",
            "Columns: 371 entries, ID to TARGET\n",
            "dtypes: float64(111), int64(260)\n",
            "memory usage: 215.2 MB\n"
          ]
        }
      ]
    },
    {
      "cell_type": "markdown",
      "source": [
        "- 111개의 피처가 float형, 260개의 피처가 int형으로 모든 피처가 숫자형\n",
        "- nULL값 없음\n",
        "- 대부부 만족이며,불만족인 고객은 4%에 불과"
      ],
      "metadata": {
        "id": "n4ihtLT9CSgs"
      }
    },
    {
      "cell_type": "code",
      "source": [
        "print(cust_df['TARGET'].value_counts())\n",
        "unsatisfied_cnt = cust_df[cust_df['TARGET'] == 1].TARGET.count()\n",
        "total_cnt = cust_df.TARGET.count()\n",
        "print('unsatisfied 비율은 {0:2f}'.format((unsatisfied_cnt / total_cnt)))"
      ],
      "metadata": {
        "colab": {
          "base_uri": "https://localhost:8080/"
        },
        "id": "2ZwCyF5rP-48",
        "outputId": "974dec72-6c98-4132-afa3-d93882252695"
      },
      "execution_count": 28,
      "outputs": [
        {
          "output_type": "stream",
          "name": "stdout",
          "text": [
            "0    73012\n",
            "1     3008\n",
            "Name: TARGET, dtype: int64\n",
            "unsatisfied 비율은 0.039569\n"
          ]
        }
      ]
    },
    {
      "cell_type": "code",
      "source": [
        "cust_df.describe()"
      ],
      "metadata": {
        "colab": {
          "base_uri": "https://localhost:8080/",
          "height": 394
        },
        "id": "74kDepguQBbC",
        "outputId": "269c8911-d917-413f-83c9-95375ef59bfe"
      },
      "execution_count": 29,
      "outputs": [
        {
          "output_type": "execute_result",
          "data": {
            "text/plain": [
              "                  ID           var3         var15  imp_ent_var16_ult1  \\\n",
              "count   76020.000000   76020.000000  76020.000000        76020.000000   \n",
              "mean    75964.050723   -1523.199277     33.212865           86.208265   \n",
              "std     43781.947379   39033.462364     12.956486         1614.757313   \n",
              "min         1.000000 -999999.000000      5.000000            0.000000   \n",
              "25%     38104.750000       2.000000     23.000000            0.000000   \n",
              "50%     76043.000000       2.000000     28.000000            0.000000   \n",
              "75%    113748.750000       2.000000     40.000000            0.000000   \n",
              "max    151838.000000     238.000000    105.000000       210000.000000   \n",
              "\n",
              "       imp_op_var39_comer_ult1  imp_op_var39_comer_ult3  \\\n",
              "count             76020.000000             76020.000000   \n",
              "mean                 72.363067               119.529632   \n",
              "std                 339.315831               546.266294   \n",
              "min                   0.000000                 0.000000   \n",
              "25%                   0.000000                 0.000000   \n",
              "50%                   0.000000                 0.000000   \n",
              "75%                   0.000000                 0.000000   \n",
              "max               12888.030000             21024.810000   \n",
              "\n",
              "       imp_op_var40_comer_ult1  imp_op_var40_comer_ult3  \\\n",
              "count             76020.000000             76020.000000   \n",
              "mean                  3.559130                 6.472698   \n",
              "std                  93.155749               153.737066   \n",
              "min                   0.000000                 0.000000   \n",
              "25%                   0.000000                 0.000000   \n",
              "50%                   0.000000                 0.000000   \n",
              "75%                   0.000000                 0.000000   \n",
              "max                8237.820000             11073.570000   \n",
              "\n",
              "       imp_op_var40_efect_ult1  imp_op_var40_efect_ult3  ...  \\\n",
              "count             76020.000000             76020.000000  ...   \n",
              "mean                  0.412946                 0.567352  ...   \n",
              "std                  30.604864                36.513513  ...   \n",
              "min                   0.000000                 0.000000  ...   \n",
              "25%                   0.000000                 0.000000  ...   \n",
              "50%                   0.000000                 0.000000  ...   \n",
              "75%                   0.000000                 0.000000  ...   \n",
              "max                6600.000000              6600.000000  ...   \n",
              "\n",
              "       saldo_medio_var33_hace2  saldo_medio_var33_hace3  \\\n",
              "count             76020.000000             76020.000000   \n",
              "mean                  7.935824                 1.365146   \n",
              "std                 455.887218               113.959637   \n",
              "min                   0.000000                 0.000000   \n",
              "25%                   0.000000                 0.000000   \n",
              "50%                   0.000000                 0.000000   \n",
              "75%                   0.000000                 0.000000   \n",
              "max               50003.880000             20385.720000   \n",
              "\n",
              "       saldo_medio_var33_ult1  saldo_medio_var33_ult3  \\\n",
              "count            76020.000000            76020.000000   \n",
              "mean                12.215580                8.784074   \n",
              "std                783.207399              538.439211   \n",
              "min                  0.000000                0.000000   \n",
              "25%                  0.000000                0.000000   \n",
              "50%                  0.000000                0.000000   \n",
              "75%                  0.000000                0.000000   \n",
              "max             138831.630000            91778.730000   \n",
              "\n",
              "       saldo_medio_var44_hace2  saldo_medio_var44_hace3  \\\n",
              "count             76020.000000             76020.000000   \n",
              "mean                 31.505324                 1.858575   \n",
              "std                2013.125393               147.786584   \n",
              "min                   0.000000                 0.000000   \n",
              "25%                   0.000000                 0.000000   \n",
              "50%                   0.000000                 0.000000   \n",
              "75%                   0.000000                 0.000000   \n",
              "max              438329.220000             24650.010000   \n",
              "\n",
              "       saldo_medio_var44_ult1  saldo_medio_var44_ult3         var38  \\\n",
              "count            76020.000000            76020.000000  7.602000e+04   \n",
              "mean                76.026165               56.614351  1.172358e+05   \n",
              "std               4040.337842             2852.579397  1.826646e+05   \n",
              "min                  0.000000                0.000000  5.163750e+03   \n",
              "25%                  0.000000                0.000000  6.787061e+04   \n",
              "50%                  0.000000                0.000000  1.064092e+05   \n",
              "75%                  0.000000                0.000000  1.187563e+05   \n",
              "max             681462.900000           397884.300000  2.203474e+07   \n",
              "\n",
              "             TARGET  \n",
              "count  76020.000000  \n",
              "mean       0.039569  \n",
              "std        0.194945  \n",
              "min        0.000000  \n",
              "25%        0.000000  \n",
              "50%        0.000000  \n",
              "75%        0.000000  \n",
              "max        1.000000  \n",
              "\n",
              "[8 rows x 371 columns]"
            ],
            "text/html": [
              "\n",
              "  <div id=\"df-90a56a14-5e58-4ec0-9087-ea65e13a337b\">\n",
              "    <div class=\"colab-df-container\">\n",
              "      <div>\n",
              "<style scoped>\n",
              "    .dataframe tbody tr th:only-of-type {\n",
              "        vertical-align: middle;\n",
              "    }\n",
              "\n",
              "    .dataframe tbody tr th {\n",
              "        vertical-align: top;\n",
              "    }\n",
              "\n",
              "    .dataframe thead th {\n",
              "        text-align: right;\n",
              "    }\n",
              "</style>\n",
              "<table border=\"1\" class=\"dataframe\">\n",
              "  <thead>\n",
              "    <tr style=\"text-align: right;\">\n",
              "      <th></th>\n",
              "      <th>ID</th>\n",
              "      <th>var3</th>\n",
              "      <th>var15</th>\n",
              "      <th>imp_ent_var16_ult1</th>\n",
              "      <th>imp_op_var39_comer_ult1</th>\n",
              "      <th>imp_op_var39_comer_ult3</th>\n",
              "      <th>imp_op_var40_comer_ult1</th>\n",
              "      <th>imp_op_var40_comer_ult3</th>\n",
              "      <th>imp_op_var40_efect_ult1</th>\n",
              "      <th>imp_op_var40_efect_ult3</th>\n",
              "      <th>...</th>\n",
              "      <th>saldo_medio_var33_hace2</th>\n",
              "      <th>saldo_medio_var33_hace3</th>\n",
              "      <th>saldo_medio_var33_ult1</th>\n",
              "      <th>saldo_medio_var33_ult3</th>\n",
              "      <th>saldo_medio_var44_hace2</th>\n",
              "      <th>saldo_medio_var44_hace3</th>\n",
              "      <th>saldo_medio_var44_ult1</th>\n",
              "      <th>saldo_medio_var44_ult3</th>\n",
              "      <th>var38</th>\n",
              "      <th>TARGET</th>\n",
              "    </tr>\n",
              "  </thead>\n",
              "  <tbody>\n",
              "    <tr>\n",
              "      <th>count</th>\n",
              "      <td>76020.000000</td>\n",
              "      <td>76020.000000</td>\n",
              "      <td>76020.000000</td>\n",
              "      <td>76020.000000</td>\n",
              "      <td>76020.000000</td>\n",
              "      <td>76020.000000</td>\n",
              "      <td>76020.000000</td>\n",
              "      <td>76020.000000</td>\n",
              "      <td>76020.000000</td>\n",
              "      <td>76020.000000</td>\n",
              "      <td>...</td>\n",
              "      <td>76020.000000</td>\n",
              "      <td>76020.000000</td>\n",
              "      <td>76020.000000</td>\n",
              "      <td>76020.000000</td>\n",
              "      <td>76020.000000</td>\n",
              "      <td>76020.000000</td>\n",
              "      <td>76020.000000</td>\n",
              "      <td>76020.000000</td>\n",
              "      <td>7.602000e+04</td>\n",
              "      <td>76020.000000</td>\n",
              "    </tr>\n",
              "    <tr>\n",
              "      <th>mean</th>\n",
              "      <td>75964.050723</td>\n",
              "      <td>-1523.199277</td>\n",
              "      <td>33.212865</td>\n",
              "      <td>86.208265</td>\n",
              "      <td>72.363067</td>\n",
              "      <td>119.529632</td>\n",
              "      <td>3.559130</td>\n",
              "      <td>6.472698</td>\n",
              "      <td>0.412946</td>\n",
              "      <td>0.567352</td>\n",
              "      <td>...</td>\n",
              "      <td>7.935824</td>\n",
              "      <td>1.365146</td>\n",
              "      <td>12.215580</td>\n",
              "      <td>8.784074</td>\n",
              "      <td>31.505324</td>\n",
              "      <td>1.858575</td>\n",
              "      <td>76.026165</td>\n",
              "      <td>56.614351</td>\n",
              "      <td>1.172358e+05</td>\n",
              "      <td>0.039569</td>\n",
              "    </tr>\n",
              "    <tr>\n",
              "      <th>std</th>\n",
              "      <td>43781.947379</td>\n",
              "      <td>39033.462364</td>\n",
              "      <td>12.956486</td>\n",
              "      <td>1614.757313</td>\n",
              "      <td>339.315831</td>\n",
              "      <td>546.266294</td>\n",
              "      <td>93.155749</td>\n",
              "      <td>153.737066</td>\n",
              "      <td>30.604864</td>\n",
              "      <td>36.513513</td>\n",
              "      <td>...</td>\n",
              "      <td>455.887218</td>\n",
              "      <td>113.959637</td>\n",
              "      <td>783.207399</td>\n",
              "      <td>538.439211</td>\n",
              "      <td>2013.125393</td>\n",
              "      <td>147.786584</td>\n",
              "      <td>4040.337842</td>\n",
              "      <td>2852.579397</td>\n",
              "      <td>1.826646e+05</td>\n",
              "      <td>0.194945</td>\n",
              "    </tr>\n",
              "    <tr>\n",
              "      <th>min</th>\n",
              "      <td>1.000000</td>\n",
              "      <td>-999999.000000</td>\n",
              "      <td>5.000000</td>\n",
              "      <td>0.000000</td>\n",
              "      <td>0.000000</td>\n",
              "      <td>0.000000</td>\n",
              "      <td>0.000000</td>\n",
              "      <td>0.000000</td>\n",
              "      <td>0.000000</td>\n",
              "      <td>0.000000</td>\n",
              "      <td>...</td>\n",
              "      <td>0.000000</td>\n",
              "      <td>0.000000</td>\n",
              "      <td>0.000000</td>\n",
              "      <td>0.000000</td>\n",
              "      <td>0.000000</td>\n",
              "      <td>0.000000</td>\n",
              "      <td>0.000000</td>\n",
              "      <td>0.000000</td>\n",
              "      <td>5.163750e+03</td>\n",
              "      <td>0.000000</td>\n",
              "    </tr>\n",
              "    <tr>\n",
              "      <th>25%</th>\n",
              "      <td>38104.750000</td>\n",
              "      <td>2.000000</td>\n",
              "      <td>23.000000</td>\n",
              "      <td>0.000000</td>\n",
              "      <td>0.000000</td>\n",
              "      <td>0.000000</td>\n",
              "      <td>0.000000</td>\n",
              "      <td>0.000000</td>\n",
              "      <td>0.000000</td>\n",
              "      <td>0.000000</td>\n",
              "      <td>...</td>\n",
              "      <td>0.000000</td>\n",
              "      <td>0.000000</td>\n",
              "      <td>0.000000</td>\n",
              "      <td>0.000000</td>\n",
              "      <td>0.000000</td>\n",
              "      <td>0.000000</td>\n",
              "      <td>0.000000</td>\n",
              "      <td>0.000000</td>\n",
              "      <td>6.787061e+04</td>\n",
              "      <td>0.000000</td>\n",
              "    </tr>\n",
              "    <tr>\n",
              "      <th>50%</th>\n",
              "      <td>76043.000000</td>\n",
              "      <td>2.000000</td>\n",
              "      <td>28.000000</td>\n",
              "      <td>0.000000</td>\n",
              "      <td>0.000000</td>\n",
              "      <td>0.000000</td>\n",
              "      <td>0.000000</td>\n",
              "      <td>0.000000</td>\n",
              "      <td>0.000000</td>\n",
              "      <td>0.000000</td>\n",
              "      <td>...</td>\n",
              "      <td>0.000000</td>\n",
              "      <td>0.000000</td>\n",
              "      <td>0.000000</td>\n",
              "      <td>0.000000</td>\n",
              "      <td>0.000000</td>\n",
              "      <td>0.000000</td>\n",
              "      <td>0.000000</td>\n",
              "      <td>0.000000</td>\n",
              "      <td>1.064092e+05</td>\n",
              "      <td>0.000000</td>\n",
              "    </tr>\n",
              "    <tr>\n",
              "      <th>75%</th>\n",
              "      <td>113748.750000</td>\n",
              "      <td>2.000000</td>\n",
              "      <td>40.000000</td>\n",
              "      <td>0.000000</td>\n",
              "      <td>0.000000</td>\n",
              "      <td>0.000000</td>\n",
              "      <td>0.000000</td>\n",
              "      <td>0.000000</td>\n",
              "      <td>0.000000</td>\n",
              "      <td>0.000000</td>\n",
              "      <td>...</td>\n",
              "      <td>0.000000</td>\n",
              "      <td>0.000000</td>\n",
              "      <td>0.000000</td>\n",
              "      <td>0.000000</td>\n",
              "      <td>0.000000</td>\n",
              "      <td>0.000000</td>\n",
              "      <td>0.000000</td>\n",
              "      <td>0.000000</td>\n",
              "      <td>1.187563e+05</td>\n",
              "      <td>0.000000</td>\n",
              "    </tr>\n",
              "    <tr>\n",
              "      <th>max</th>\n",
              "      <td>151838.000000</td>\n",
              "      <td>238.000000</td>\n",
              "      <td>105.000000</td>\n",
              "      <td>210000.000000</td>\n",
              "      <td>12888.030000</td>\n",
              "      <td>21024.810000</td>\n",
              "      <td>8237.820000</td>\n",
              "      <td>11073.570000</td>\n",
              "      <td>6600.000000</td>\n",
              "      <td>6600.000000</td>\n",
              "      <td>...</td>\n",
              "      <td>50003.880000</td>\n",
              "      <td>20385.720000</td>\n",
              "      <td>138831.630000</td>\n",
              "      <td>91778.730000</td>\n",
              "      <td>438329.220000</td>\n",
              "      <td>24650.010000</td>\n",
              "      <td>681462.900000</td>\n",
              "      <td>397884.300000</td>\n",
              "      <td>2.203474e+07</td>\n",
              "      <td>1.000000</td>\n",
              "    </tr>\n",
              "  </tbody>\n",
              "</table>\n",
              "<p>8 rows × 371 columns</p>\n",
              "</div>\n",
              "      <button class=\"colab-df-convert\" onclick=\"convertToInteractive('df-90a56a14-5e58-4ec0-9087-ea65e13a337b')\"\n",
              "              title=\"Convert this dataframe to an interactive table.\"\n",
              "              style=\"display:none;\">\n",
              "        \n",
              "  <svg xmlns=\"http://www.w3.org/2000/svg\" height=\"24px\"viewBox=\"0 0 24 24\"\n",
              "       width=\"24px\">\n",
              "    <path d=\"M0 0h24v24H0V0z\" fill=\"none\"/>\n",
              "    <path d=\"M18.56 5.44l.94 2.06.94-2.06 2.06-.94-2.06-.94-.94-2.06-.94 2.06-2.06.94zm-11 1L8.5 8.5l.94-2.06 2.06-.94-2.06-.94L8.5 2.5l-.94 2.06-2.06.94zm10 10l.94 2.06.94-2.06 2.06-.94-2.06-.94-.94-2.06-.94 2.06-2.06.94z\"/><path d=\"M17.41 7.96l-1.37-1.37c-.4-.4-.92-.59-1.43-.59-.52 0-1.04.2-1.43.59L10.3 9.45l-7.72 7.72c-.78.78-.78 2.05 0 2.83L4 21.41c.39.39.9.59 1.41.59.51 0 1.02-.2 1.41-.59l7.78-7.78 2.81-2.81c.8-.78.8-2.07 0-2.86zM5.41 20L4 18.59l7.72-7.72 1.47 1.35L5.41 20z\"/>\n",
              "  </svg>\n",
              "      </button>\n",
              "      \n",
              "  <style>\n",
              "    .colab-df-container {\n",
              "      display:flex;\n",
              "      flex-wrap:wrap;\n",
              "      gap: 12px;\n",
              "    }\n",
              "\n",
              "    .colab-df-convert {\n",
              "      background-color: #E8F0FE;\n",
              "      border: none;\n",
              "      border-radius: 50%;\n",
              "      cursor: pointer;\n",
              "      display: none;\n",
              "      fill: #1967D2;\n",
              "      height: 32px;\n",
              "      padding: 0 0 0 0;\n",
              "      width: 32px;\n",
              "    }\n",
              "\n",
              "    .colab-df-convert:hover {\n",
              "      background-color: #E2EBFA;\n",
              "      box-shadow: 0px 1px 2px rgba(60, 64, 67, 0.3), 0px 1px 3px 1px rgba(60, 64, 67, 0.15);\n",
              "      fill: #174EA6;\n",
              "    }\n",
              "\n",
              "    [theme=dark] .colab-df-convert {\n",
              "      background-color: #3B4455;\n",
              "      fill: #D2E3FC;\n",
              "    }\n",
              "\n",
              "    [theme=dark] .colab-df-convert:hover {\n",
              "      background-color: #434B5C;\n",
              "      box-shadow: 0px 1px 3px 1px rgba(0, 0, 0, 0.15);\n",
              "      filter: drop-shadow(0px 1px 2px rgba(0, 0, 0, 0.3));\n",
              "      fill: #FFFFFF;\n",
              "    }\n",
              "  </style>\n",
              "\n",
              "      <script>\n",
              "        const buttonEl =\n",
              "          document.querySelector('#df-90a56a14-5e58-4ec0-9087-ea65e13a337b button.colab-df-convert');\n",
              "        buttonEl.style.display =\n",
              "          google.colab.kernel.accessAllowed ? 'block' : 'none';\n",
              "\n",
              "        async function convertToInteractive(key) {\n",
              "          const element = document.querySelector('#df-90a56a14-5e58-4ec0-9087-ea65e13a337b');\n",
              "          const dataTable =\n",
              "            await google.colab.kernel.invokeFunction('convertToInteractive',\n",
              "                                                     [key], {});\n",
              "          if (!dataTable) return;\n",
              "\n",
              "          const docLinkHtml = 'Like what you see? Visit the ' +\n",
              "            '<a target=\"_blank\" href=https://colab.research.google.com/notebooks/data_table.ipynb>data table notebook</a>'\n",
              "            + ' to learn more about interactive tables.';\n",
              "          element.innerHTML = '';\n",
              "          dataTable['output_type'] = 'display_data';\n",
              "          await google.colab.output.renderOutput(dataTable, element);\n",
              "          const docLink = document.createElement('div');\n",
              "          docLink.innerHTML = docLinkHtml;\n",
              "          element.appendChild(docLink);\n",
              "        }\n",
              "      </script>\n",
              "    </div>\n",
              "  </div>\n",
              "  "
            ]
          },
          "metadata": {},
          "execution_count": 29
        }
      ]
    },
    {
      "cell_type": "markdown",
      "source": [
        "- var3 칼럼: min 값이 -999999 > NaN이나 특정 예외 값을 -999999으로 변환하여 처리\n"
      ],
      "metadata": {
        "id": "bcvFdrffP-Nk"
      }
    },
    {
      "cell_type": "markdown",
      "source": [
        "> - -999999을 가장 값이 많은 2로 변환\n",
        "- ID 피처는 단순 식별자에 불과하므로 피처를 드롭\n",
        "- 클래스 데이터 세트와 피처 데이터 세트를 분리해 별도의 데이터 세트로 별도 저장"
      ],
      "metadata": {
        "id": "1rFrQEs9Qi9Y"
      }
    },
    {
      "cell_type": "code",
      "source": [
        "cust_df['var3'].replace(-999999, 2, inplace=True)\n",
        "cust_df.drop('ID', axis =1, inplace=True)\n",
        "\n",
        "# 피처 세트와 레이블 세트 분리, 레이블 칼럼은 DataFrame의 맨 마지막에 위치해 칼럼 위치 -1로 분리\n",
        "X_features = cust_df.iloc[:, :-1]\n",
        "y_labels = cust_df.iloc[:, -1]\n",
        "print('피처 데이터 shape:{0}'.format(X_features.shape))"
      ],
      "metadata": {
        "colab": {
          "base_uri": "https://localhost:8080/"
        },
        "id": "ZhrDNkvDQgUX",
        "outputId": "221fb159-1e4c-4574-88c9-a088bdf26484"
      },
      "execution_count": 30,
      "outputs": [
        {
          "output_type": "stream",
          "name": "stdout",
          "text": [
            "피처 데이터 shape:(76020, 369)\n"
          ]
        }
      ]
    },
    {
      "cell_type": "markdown",
      "source": [
        "> 학습과 성능 평가를 위해 원본 데이터 세트에서 학습 데이터 세트와 테스트 데이터 세트를 분리\n",
        "\n",
        "> 비대칭한 데이터 세트이므로 클래스인 Target 값 분포도가 학습 데이터와 테스트 데이터 세트에 모두 비슷하게 추출됐는지 확인 "
      ],
      "metadata": {
        "id": "gr0PTbX3QwFt"
      }
    },
    {
      "cell_type": "code",
      "source": [
        "from sklearn.model_selection import train_test_split\n",
        "\n",
        "X_train, X_test, y_train, y_test = train_test_split(X_features, y_labels, test_size=0.2, random_state=0)\n",
        "train_cnt = y_train.count()\n",
        "test_cnt = y_test.count()\n",
        "print('학습 세트 shape:{0}, 테스트 세트 shape:{1}'.format(X_train.shape,X_test.shape))\n",
        "\n",
        "print(\"학습 세트 레이블 값 분포 비율\")\n",
        "print(y_train.value_counts()/train_cnt)\n",
        "print('\\n 테스트 세트 레이블 값 분포 비율')\n",
        "print(y_test.value_counts()/test_cnt)"
      ],
      "metadata": {
        "colab": {
          "base_uri": "https://localhost:8080/"
        },
        "id": "rHkT5i4cQ9TR",
        "outputId": "ad5d8aff-5a3c-4708-e7ea-8cea601e3556"
      },
      "execution_count": 31,
      "outputs": [
        {
          "output_type": "stream",
          "name": "stdout",
          "text": [
            "학습 세트 shape:(60816, 369), 테스트 세트 shape:(15204, 369)\n",
            "학습 세트 레이블 값 분포 비율\n",
            "0    0.960964\n",
            "1    0.039036\n",
            "Name: TARGET, dtype: float64\n",
            "\n",
            " 테스트 세트 레이블 값 분포 비율\n",
            "0    0.9583\n",
            "1    0.0417\n",
            "Name: TARGET, dtype: float64\n"
          ]
        }
      ]
    },
    {
      "cell_type": "markdown",
      "source": [
        "### XGBoost 모델 학습과 하이터 파라미터 튜닝"
      ],
      "metadata": {
        "id": "YAwGJoAzRA6C"
      }
    },
    {
      "cell_type": "markdown",
      "source": [
        "> 1. XGBoost의 학습 모델을 생성하고 예측 결과를 ROC AUC로 평가"
      ],
      "metadata": {
        "id": "6jaKSGKZRryl"
      }
    },
    {
      "cell_type": "code",
      "source": [
        "from xgboost import XGBClassifier\n",
        "from sklearn.metrics import roc_auc_score\n",
        "\n",
        "# n_estimators는 500으로, random state는 예제 수행 시마다 동일 예측 결과를 위해 설정\n",
        "xgb_clf = XGBClassifier(n_estimators=500, random_state=156)\n",
        "\n",
        "# 성능 평가 지표를 auc로, 조기 중단 파라미터는 100으로 설정하고 학습 수행\n",
        "xgb_clf.fit(X_train, y_train, early_stopping_rounds=100,\n",
        "            eval_metric=\"auc\", eval_set=[(X_train, y_train), (X_test, y_test)])\n",
        "\n",
        "xgb_roc_score = roc_auc_score(y_test, xgb_clf.predict_proba(X_test)[:,1],average='macro')\n",
        "print('ROC AUC: {0:.4f}'.format(xgb_roc_score))"
      ],
      "metadata": {
        "colab": {
          "base_uri": "https://localhost:8080/"
        },
        "id": "9jJNfBqBRYJp",
        "outputId": "884abb47-edc6-4def-b6bc-0a266e1cfac2"
      },
      "execution_count": 32,
      "outputs": [
        {
          "output_type": "stream",
          "name": "stdout",
          "text": [
            "[0]\tvalidation_0-auc:0.799928\tvalidation_1-auc:0.803548\n",
            "Multiple eval metrics have been passed: 'validation_1-auc' will be used for early stopping.\n",
            "\n",
            "Will train until validation_1-auc hasn't improved in 100 rounds.\n",
            "[1]\tvalidation_0-auc:0.802222\tvalidation_1-auc:0.805222\n",
            "[2]\tvalidation_0-auc:0.80819\tvalidation_1-auc:0.813162\n",
            "[3]\tvalidation_0-auc:0.8127\tvalidation_1-auc:0.813243\n",
            "[4]\tvalidation_0-auc:0.81648\tvalidation_1-auc:0.816979\n",
            "[5]\tvalidation_0-auc:0.816018\tvalidation_1-auc:0.816629\n",
            "[6]\tvalidation_0-auc:0.816474\tvalidation_1-auc:0.817776\n",
            "[7]\tvalidation_0-auc:0.818148\tvalidation_1-auc:0.818464\n",
            "[8]\tvalidation_0-auc:0.81806\tvalidation_1-auc:0.818295\n",
            "[9]\tvalidation_0-auc:0.817039\tvalidation_1-auc:0.818087\n",
            "[10]\tvalidation_0-auc:0.818318\tvalidation_1-auc:0.818749\n",
            "[11]\tvalidation_0-auc:0.818711\tvalidation_1-auc:0.818521\n",
            "[12]\tvalidation_0-auc:0.818673\tvalidation_1-auc:0.818516\n",
            "[13]\tvalidation_0-auc:0.819156\tvalidation_1-auc:0.818998\n",
            "[14]\tvalidation_0-auc:0.819847\tvalidation_1-auc:0.81999\n",
            "[15]\tvalidation_0-auc:0.822152\tvalidation_1-auc:0.821584\n",
            "[16]\tvalidation_0-auc:0.822529\tvalidation_1-auc:0.821275\n",
            "[17]\tvalidation_0-auc:0.822404\tvalidation_1-auc:0.821602\n",
            "[18]\tvalidation_0-auc:0.825227\tvalidation_1-auc:0.82523\n",
            "[19]\tvalidation_0-auc:0.82554\tvalidation_1-auc:0.824671\n",
            "[20]\tvalidation_0-auc:0.826569\tvalidation_1-auc:0.825722\n",
            "[21]\tvalidation_0-auc:0.827255\tvalidation_1-auc:0.825777\n",
            "[22]\tvalidation_0-auc:0.82805\tvalidation_1-auc:0.826496\n",
            "[23]\tvalidation_0-auc:0.827807\tvalidation_1-auc:0.826436\n",
            "[24]\tvalidation_0-auc:0.828647\tvalidation_1-auc:0.826735\n",
            "[25]\tvalidation_0-auc:0.830001\tvalidation_1-auc:0.827854\n",
            "[26]\tvalidation_0-auc:0.83056\tvalidation_1-auc:0.828164\n",
            "[27]\tvalidation_0-auc:0.830946\tvalidation_1-auc:0.828579\n",
            "[28]\tvalidation_0-auc:0.831843\tvalidation_1-auc:0.829661\n",
            "[29]\tvalidation_0-auc:0.833095\tvalidation_1-auc:0.830722\n",
            "[30]\tvalidation_0-auc:0.833537\tvalidation_1-auc:0.83108\n",
            "[31]\tvalidation_0-auc:0.834132\tvalidation_1-auc:0.830665\n",
            "[32]\tvalidation_0-auc:0.83448\tvalidation_1-auc:0.831507\n",
            "[33]\tvalidation_0-auc:0.83477\tvalidation_1-auc:0.831309\n",
            "[34]\tvalidation_0-auc:0.835454\tvalidation_1-auc:0.831417\n",
            "[35]\tvalidation_0-auc:0.83601\tvalidation_1-auc:0.831663\n",
            "[36]\tvalidation_0-auc:0.836456\tvalidation_1-auc:0.831942\n",
            "[37]\tvalidation_0-auc:0.836577\tvalidation_1-auc:0.832411\n",
            "[38]\tvalidation_0-auc:0.836988\tvalidation_1-auc:0.832691\n",
            "[39]\tvalidation_0-auc:0.837236\tvalidation_1-auc:0.833003\n",
            "[40]\tvalidation_0-auc:0.837868\tvalidation_1-auc:0.83271\n",
            "[41]\tvalidation_0-auc:0.838638\tvalidation_1-auc:0.833271\n",
            "[42]\tvalidation_0-auc:0.839178\tvalidation_1-auc:0.83321\n",
            "[43]\tvalidation_0-auc:0.839711\tvalidation_1-auc:0.833446\n",
            "[44]\tvalidation_0-auc:0.840394\tvalidation_1-auc:0.834412\n",
            "[45]\tvalidation_0-auc:0.841118\tvalidation_1-auc:0.834399\n",
            "[46]\tvalidation_0-auc:0.841513\tvalidation_1-auc:0.834504\n",
            "[47]\tvalidation_0-auc:0.842197\tvalidation_1-auc:0.835669\n",
            "[48]\tvalidation_0-auc:0.842644\tvalidation_1-auc:0.835846\n",
            "[49]\tvalidation_0-auc:0.843012\tvalidation_1-auc:0.835977\n",
            "[50]\tvalidation_0-auc:0.843695\tvalidation_1-auc:0.836633\n",
            "[51]\tvalidation_0-auc:0.84425\tvalidation_1-auc:0.83715\n",
            "[52]\tvalidation_0-auc:0.844535\tvalidation_1-auc:0.837182\n",
            "[53]\tvalidation_0-auc:0.84508\tvalidation_1-auc:0.837583\n",
            "[54]\tvalidation_0-auc:0.845616\tvalidation_1-auc:0.838102\n",
            "[55]\tvalidation_0-auc:0.84602\tvalidation_1-auc:0.837964\n",
            "[56]\tvalidation_0-auc:0.846645\tvalidation_1-auc:0.838467\n",
            "[57]\tvalidation_0-auc:0.846941\tvalidation_1-auc:0.838353\n",
            "[58]\tvalidation_0-auc:0.847311\tvalidation_1-auc:0.838367\n",
            "[59]\tvalidation_0-auc:0.847784\tvalidation_1-auc:0.838421\n",
            "[60]\tvalidation_0-auc:0.848181\tvalidation_1-auc:0.838609\n",
            "[61]\tvalidation_0-auc:0.848445\tvalidation_1-auc:0.838766\n",
            "[62]\tvalidation_0-auc:0.848953\tvalidation_1-auc:0.838939\n",
            "[63]\tvalidation_0-auc:0.849405\tvalidation_1-auc:0.839378\n",
            "[64]\tvalidation_0-auc:0.849601\tvalidation_1-auc:0.839421\n",
            "[65]\tvalidation_0-auc:0.849941\tvalidation_1-auc:0.839629\n",
            "[66]\tvalidation_0-auc:0.850161\tvalidation_1-auc:0.839715\n",
            "[67]\tvalidation_0-auc:0.850322\tvalidation_1-auc:0.839662\n",
            "[68]\tvalidation_0-auc:0.850512\tvalidation_1-auc:0.839569\n",
            "[69]\tvalidation_0-auc:0.850868\tvalidation_1-auc:0.839678\n",
            "[70]\tvalidation_0-auc:0.850981\tvalidation_1-auc:0.839758\n",
            "[71]\tvalidation_0-auc:0.851145\tvalidation_1-auc:0.839931\n",
            "[72]\tvalidation_0-auc:0.851305\tvalidation_1-auc:0.839947\n",
            "[73]\tvalidation_0-auc:0.851522\tvalidation_1-auc:0.84007\n",
            "[74]\tvalidation_0-auc:0.851667\tvalidation_1-auc:0.840082\n",
            "[75]\tvalidation_0-auc:0.851955\tvalidation_1-auc:0.840037\n",
            "[76]\tvalidation_0-auc:0.852125\tvalidation_1-auc:0.840091\n",
            "[77]\tvalidation_0-auc:0.852316\tvalidation_1-auc:0.839871\n",
            "[78]\tvalidation_0-auc:0.852587\tvalidation_1-auc:0.840114\n",
            "[79]\tvalidation_0-auc:0.852811\tvalidation_1-auc:0.840282\n",
            "[80]\tvalidation_0-auc:0.853092\tvalidation_1-auc:0.840574\n",
            "[81]\tvalidation_0-auc:0.853296\tvalidation_1-auc:0.84075\n",
            "[82]\tvalidation_0-auc:0.853443\tvalidation_1-auc:0.840738\n",
            "[83]\tvalidation_0-auc:0.8536\tvalidation_1-auc:0.840735\n",
            "[84]\tvalidation_0-auc:0.853727\tvalidation_1-auc:0.840904\n",
            "[85]\tvalidation_0-auc:0.853878\tvalidation_1-auc:0.840985\n",
            "[86]\tvalidation_0-auc:0.853998\tvalidation_1-auc:0.841019\n",
            "[87]\tvalidation_0-auc:0.854281\tvalidation_1-auc:0.840802\n",
            "[88]\tvalidation_0-auc:0.85445\tvalidation_1-auc:0.841042\n",
            "[89]\tvalidation_0-auc:0.854524\tvalidation_1-auc:0.841086\n",
            "[90]\tvalidation_0-auc:0.854656\tvalidation_1-auc:0.841144\n",
            "[91]\tvalidation_0-auc:0.854908\tvalidation_1-auc:0.841263\n",
            "[92]\tvalidation_0-auc:0.855061\tvalidation_1-auc:0.841208\n",
            "[93]\tvalidation_0-auc:0.855142\tvalidation_1-auc:0.841265\n",
            "[94]\tvalidation_0-auc:0.855326\tvalidation_1-auc:0.84131\n",
            "[95]\tvalidation_0-auc:0.855442\tvalidation_1-auc:0.841254\n",
            "[96]\tvalidation_0-auc:0.855568\tvalidation_1-auc:0.841282\n",
            "[97]\tvalidation_0-auc:0.855671\tvalidation_1-auc:0.841346\n",
            "[98]\tvalidation_0-auc:0.855955\tvalidation_1-auc:0.841386\n",
            "[99]\tvalidation_0-auc:0.856271\tvalidation_1-auc:0.841459\n",
            "[100]\tvalidation_0-auc:0.856386\tvalidation_1-auc:0.841469\n",
            "[101]\tvalidation_0-auc:0.856627\tvalidation_1-auc:0.841492\n",
            "[102]\tvalidation_0-auc:0.856774\tvalidation_1-auc:0.841468\n",
            "[103]\tvalidation_0-auc:0.856898\tvalidation_1-auc:0.841253\n",
            "[104]\tvalidation_0-auc:0.857145\tvalidation_1-auc:0.841343\n",
            "[105]\tvalidation_0-auc:0.857279\tvalidation_1-auc:0.841249\n",
            "[106]\tvalidation_0-auc:0.857362\tvalidation_1-auc:0.841119\n",
            "[107]\tvalidation_0-auc:0.857423\tvalidation_1-auc:0.841105\n",
            "[108]\tvalidation_0-auc:0.857487\tvalidation_1-auc:0.841122\n",
            "[109]\tvalidation_0-auc:0.857658\tvalidation_1-auc:0.841165\n",
            "[110]\tvalidation_0-auc:0.857734\tvalidation_1-auc:0.8412\n",
            "[111]\tvalidation_0-auc:0.85792\tvalidation_1-auc:0.841214\n",
            "[112]\tvalidation_0-auc:0.858102\tvalidation_1-auc:0.841162\n",
            "[113]\tvalidation_0-auc:0.858246\tvalidation_1-auc:0.841156\n",
            "[114]\tvalidation_0-auc:0.858382\tvalidation_1-auc:0.841204\n",
            "[115]\tvalidation_0-auc:0.85846\tvalidation_1-auc:0.841295\n",
            "[116]\tvalidation_0-auc:0.858562\tvalidation_1-auc:0.841256\n",
            "[117]\tvalidation_0-auc:0.858616\tvalidation_1-auc:0.84133\n",
            "[118]\tvalidation_0-auc:0.858718\tvalidation_1-auc:0.841398\n",
            "[119]\tvalidation_0-auc:0.858829\tvalidation_1-auc:0.841496\n",
            "[120]\tvalidation_0-auc:0.859012\tvalidation_1-auc:0.841352\n",
            "[121]\tvalidation_0-auc:0.859142\tvalidation_1-auc:0.841349\n",
            "[122]\tvalidation_0-auc:0.859203\tvalidation_1-auc:0.841364\n",
            "[123]\tvalidation_0-auc:0.859284\tvalidation_1-auc:0.84141\n",
            "[124]\tvalidation_0-auc:0.859563\tvalidation_1-auc:0.841393\n",
            "[125]\tvalidation_0-auc:0.859639\tvalidation_1-auc:0.84149\n",
            "[126]\tvalidation_0-auc:0.859759\tvalidation_1-auc:0.841484\n",
            "[127]\tvalidation_0-auc:0.859957\tvalidation_1-auc:0.841333\n",
            "[128]\tvalidation_0-auc:0.860087\tvalidation_1-auc:0.841352\n",
            "[129]\tvalidation_0-auc:0.860211\tvalidation_1-auc:0.841287\n",
            "[130]\tvalidation_0-auc:0.860261\tvalidation_1-auc:0.841392\n",
            "[131]\tvalidation_0-auc:0.860444\tvalidation_1-auc:0.841481\n",
            "[132]\tvalidation_0-auc:0.860453\tvalidation_1-auc:0.841462\n",
            "[133]\tvalidation_0-auc:0.860607\tvalidation_1-auc:0.841342\n",
            "[134]\tvalidation_0-auc:0.860749\tvalidation_1-auc:0.84124\n",
            "[135]\tvalidation_0-auc:0.86094\tvalidation_1-auc:0.841318\n",
            "[136]\tvalidation_0-auc:0.861021\tvalidation_1-auc:0.841351\n",
            "[137]\tvalidation_0-auc:0.861131\tvalidation_1-auc:0.841311\n",
            "[138]\tvalidation_0-auc:0.861229\tvalidation_1-auc:0.841289\n",
            "[139]\tvalidation_0-auc:0.861279\tvalidation_1-auc:0.841295\n",
            "[140]\tvalidation_0-auc:0.861331\tvalidation_1-auc:0.841265\n",
            "[141]\tvalidation_0-auc:0.861418\tvalidation_1-auc:0.841259\n",
            "[142]\tvalidation_0-auc:0.861553\tvalidation_1-auc:0.841335\n",
            "[143]\tvalidation_0-auc:0.861682\tvalidation_1-auc:0.841346\n",
            "[144]\tvalidation_0-auc:0.86169\tvalidation_1-auc:0.841403\n",
            "[145]\tvalidation_0-auc:0.861852\tvalidation_1-auc:0.841299\n",
            "[146]\tvalidation_0-auc:0.861898\tvalidation_1-auc:0.841301\n",
            "[147]\tvalidation_0-auc:0.861998\tvalidation_1-auc:0.841289\n",
            "[148]\tvalidation_0-auc:0.862068\tvalidation_1-auc:0.84135\n",
            "[149]\tvalidation_0-auc:0.862132\tvalidation_1-auc:0.841444\n",
            "[150]\tvalidation_0-auc:0.862236\tvalidation_1-auc:0.841409\n",
            "[151]\tvalidation_0-auc:0.862314\tvalidation_1-auc:0.841459\n",
            "[152]\tvalidation_0-auc:0.862584\tvalidation_1-auc:0.841456\n",
            "[153]\tvalidation_0-auc:0.862843\tvalidation_1-auc:0.841483\n",
            "[154]\tvalidation_0-auc:0.863033\tvalidation_1-auc:0.841493\n",
            "[155]\tvalidation_0-auc:0.863132\tvalidation_1-auc:0.841534\n",
            "[156]\tvalidation_0-auc:0.863423\tvalidation_1-auc:0.841728\n",
            "[157]\tvalidation_0-auc:0.863578\tvalidation_1-auc:0.841712\n",
            "[158]\tvalidation_0-auc:0.863872\tvalidation_1-auc:0.841677\n",
            "[159]\tvalidation_0-auc:0.863924\tvalidation_1-auc:0.841658\n",
            "[160]\tvalidation_0-auc:0.863985\tvalidation_1-auc:0.841608\n",
            "[161]\tvalidation_0-auc:0.864019\tvalidation_1-auc:0.841646\n",
            "[162]\tvalidation_0-auc:0.864049\tvalidation_1-auc:0.841665\n",
            "[163]\tvalidation_0-auc:0.864148\tvalidation_1-auc:0.841682\n",
            "[164]\tvalidation_0-auc:0.864221\tvalidation_1-auc:0.841791\n",
            "[165]\tvalidation_0-auc:0.86426\tvalidation_1-auc:0.841732\n",
            "[166]\tvalidation_0-auc:0.864309\tvalidation_1-auc:0.841688\n",
            "[167]\tvalidation_0-auc:0.864411\tvalidation_1-auc:0.841699\n",
            "[168]\tvalidation_0-auc:0.864581\tvalidation_1-auc:0.841711\n",
            "[169]\tvalidation_0-auc:0.864619\tvalidation_1-auc:0.841729\n",
            "[170]\tvalidation_0-auc:0.864709\tvalidation_1-auc:0.841684\n",
            "[171]\tvalidation_0-auc:0.864849\tvalidation_1-auc:0.841704\n",
            "[172]\tvalidation_0-auc:0.865047\tvalidation_1-auc:0.841614\n",
            "[173]\tvalidation_0-auc:0.865085\tvalidation_1-auc:0.84162\n",
            "[174]\tvalidation_0-auc:0.865321\tvalidation_1-auc:0.841734\n",
            "[175]\tvalidation_0-auc:0.865523\tvalidation_1-auc:0.8418\n",
            "[176]\tvalidation_0-auc:0.865766\tvalidation_1-auc:0.841706\n",
            "[177]\tvalidation_0-auc:0.865925\tvalidation_1-auc:0.841829\n",
            "[178]\tvalidation_0-auc:0.866004\tvalidation_1-auc:0.841863\n",
            "[179]\tvalidation_0-auc:0.866111\tvalidation_1-auc:0.841834\n",
            "[180]\tvalidation_0-auc:0.866196\tvalidation_1-auc:0.841856\n",
            "[181]\tvalidation_0-auc:0.866366\tvalidation_1-auc:0.841826\n",
            "[182]\tvalidation_0-auc:0.86643\tvalidation_1-auc:0.841757\n",
            "[183]\tvalidation_0-auc:0.866606\tvalidation_1-auc:0.841636\n",
            "[184]\tvalidation_0-auc:0.866827\tvalidation_1-auc:0.8415\n",
            "[185]\tvalidation_0-auc:0.86688\tvalidation_1-auc:0.841593\n",
            "[186]\tvalidation_0-auc:0.866935\tvalidation_1-auc:0.841556\n",
            "[187]\tvalidation_0-auc:0.867004\tvalidation_1-auc:0.84152\n",
            "[188]\tvalidation_0-auc:0.867048\tvalidation_1-auc:0.841506\n",
            "[189]\tvalidation_0-auc:0.867219\tvalidation_1-auc:0.841506\n",
            "[190]\tvalidation_0-auc:0.867274\tvalidation_1-auc:0.841485\n",
            "[191]\tvalidation_0-auc:0.867332\tvalidation_1-auc:0.841434\n",
            "[192]\tvalidation_0-auc:0.867393\tvalidation_1-auc:0.841442\n",
            "[193]\tvalidation_0-auc:0.867493\tvalidation_1-auc:0.841402\n",
            "[194]\tvalidation_0-auc:0.867554\tvalidation_1-auc:0.841418\n",
            "[195]\tvalidation_0-auc:0.867612\tvalidation_1-auc:0.841306\n",
            "[196]\tvalidation_0-auc:0.867653\tvalidation_1-auc:0.841299\n",
            "[197]\tvalidation_0-auc:0.867884\tvalidation_1-auc:0.841215\n",
            "[198]\tvalidation_0-auc:0.86792\tvalidation_1-auc:0.841233\n",
            "[199]\tvalidation_0-auc:0.868009\tvalidation_1-auc:0.841232\n",
            "[200]\tvalidation_0-auc:0.868041\tvalidation_1-auc:0.841281\n",
            "[201]\tvalidation_0-auc:0.868068\tvalidation_1-auc:0.841247\n",
            "[202]\tvalidation_0-auc:0.868219\tvalidation_1-auc:0.841184\n",
            "[203]\tvalidation_0-auc:0.868387\tvalidation_1-auc:0.841062\n",
            "[204]\tvalidation_0-auc:0.868541\tvalidation_1-auc:0.841111\n",
            "[205]\tvalidation_0-auc:0.868656\tvalidation_1-auc:0.84118\n",
            "[206]\tvalidation_0-auc:0.86874\tvalidation_1-auc:0.8411\n",
            "[207]\tvalidation_0-auc:0.86877\tvalidation_1-auc:0.841171\n",
            "[208]\tvalidation_0-auc:0.869001\tvalidation_1-auc:0.841108\n",
            "[209]\tvalidation_0-auc:0.869076\tvalidation_1-auc:0.841072\n",
            "[210]\tvalidation_0-auc:0.869226\tvalidation_1-auc:0.841046\n",
            "[211]\tvalidation_0-auc:0.869248\tvalidation_1-auc:0.841028\n",
            "[212]\tvalidation_0-auc:0.86931\tvalidation_1-auc:0.840946\n",
            "[213]\tvalidation_0-auc:0.869368\tvalidation_1-auc:0.84097\n",
            "[214]\tvalidation_0-auc:0.869392\tvalidation_1-auc:0.840956\n",
            "[215]\tvalidation_0-auc:0.869424\tvalidation_1-auc:0.840972\n",
            "[216]\tvalidation_0-auc:0.869623\tvalidation_1-auc:0.841031\n",
            "[217]\tvalidation_0-auc:0.869782\tvalidation_1-auc:0.841065\n",
            "[218]\tvalidation_0-auc:0.869946\tvalidation_1-auc:0.841163\n",
            "[219]\tvalidation_0-auc:0.870121\tvalidation_1-auc:0.841116\n",
            "[220]\tvalidation_0-auc:0.870264\tvalidation_1-auc:0.84101\n",
            "[221]\tvalidation_0-auc:0.87038\tvalidation_1-auc:0.840953\n",
            "[222]\tvalidation_0-auc:0.870521\tvalidation_1-auc:0.841005\n",
            "[223]\tvalidation_0-auc:0.870696\tvalidation_1-auc:0.8411\n",
            "[224]\tvalidation_0-auc:0.870835\tvalidation_1-auc:0.841151\n",
            "[225]\tvalidation_0-auc:0.870946\tvalidation_1-auc:0.841051\n",
            "[226]\tvalidation_0-auc:0.870993\tvalidation_1-auc:0.841012\n",
            "[227]\tvalidation_0-auc:0.871048\tvalidation_1-auc:0.841054\n",
            "[228]\tvalidation_0-auc:0.871088\tvalidation_1-auc:0.841005\n",
            "[229]\tvalidation_0-auc:0.871115\tvalidation_1-auc:0.84093\n",
            "[230]\tvalidation_0-auc:0.871159\tvalidation_1-auc:0.840939\n",
            "[231]\tvalidation_0-auc:0.871225\tvalidation_1-auc:0.840889\n",
            "[232]\tvalidation_0-auc:0.871284\tvalidation_1-auc:0.840894\n",
            "[233]\tvalidation_0-auc:0.871308\tvalidation_1-auc:0.840923\n",
            "[234]\tvalidation_0-auc:0.871376\tvalidation_1-auc:0.841058\n",
            "[235]\tvalidation_0-auc:0.871439\tvalidation_1-auc:0.841035\n",
            "[236]\tvalidation_0-auc:0.871638\tvalidation_1-auc:0.841187\n",
            "[237]\tvalidation_0-auc:0.871762\tvalidation_1-auc:0.841209\n",
            "[238]\tvalidation_0-auc:0.87184\tvalidation_1-auc:0.841378\n",
            "[239]\tvalidation_0-auc:0.871884\tvalidation_1-auc:0.841406\n",
            "[240]\tvalidation_0-auc:0.871987\tvalidation_1-auc:0.841472\n",
            "[241]\tvalidation_0-auc:0.872169\tvalidation_1-auc:0.841411\n",
            "[242]\tvalidation_0-auc:0.872259\tvalidation_1-auc:0.841359\n",
            "[243]\tvalidation_0-auc:0.872465\tvalidation_1-auc:0.841397\n",
            "[244]\tvalidation_0-auc:0.872518\tvalidation_1-auc:0.84136\n",
            "[245]\tvalidation_0-auc:0.872531\tvalidation_1-auc:0.841404\n",
            "[246]\tvalidation_0-auc:0.872555\tvalidation_1-auc:0.841325\n",
            "[247]\tvalidation_0-auc:0.872693\tvalidation_1-auc:0.841303\n",
            "[248]\tvalidation_0-auc:0.872905\tvalidation_1-auc:0.841331\n",
            "[249]\tvalidation_0-auc:0.872917\tvalidation_1-auc:0.841334\n",
            "[250]\tvalidation_0-auc:0.872945\tvalidation_1-auc:0.841375\n",
            "[251]\tvalidation_0-auc:0.873042\tvalidation_1-auc:0.841281\n",
            "[252]\tvalidation_0-auc:0.873125\tvalidation_1-auc:0.841266\n",
            "[253]\tvalidation_0-auc:0.87328\tvalidation_1-auc:0.841185\n",
            "[254]\tvalidation_0-auc:0.873296\tvalidation_1-auc:0.841173\n",
            "[255]\tvalidation_0-auc:0.87335\tvalidation_1-auc:0.841161\n",
            "[256]\tvalidation_0-auc:0.873377\tvalidation_1-auc:0.841136\n",
            "[257]\tvalidation_0-auc:0.873481\tvalidation_1-auc:0.841035\n",
            "[258]\tvalidation_0-auc:0.873558\tvalidation_1-auc:0.840996\n",
            "[259]\tvalidation_0-auc:0.873674\tvalidation_1-auc:0.840999\n",
            "[260]\tvalidation_0-auc:0.873779\tvalidation_1-auc:0.841058\n",
            "[261]\tvalidation_0-auc:0.874002\tvalidation_1-auc:0.841059\n",
            "[262]\tvalidation_0-auc:0.874125\tvalidation_1-auc:0.841093\n",
            "[263]\tvalidation_0-auc:0.874144\tvalidation_1-auc:0.841091\n",
            "[264]\tvalidation_0-auc:0.87417\tvalidation_1-auc:0.841116\n",
            "[265]\tvalidation_0-auc:0.874196\tvalidation_1-auc:0.841127\n",
            "[266]\tvalidation_0-auc:0.874238\tvalidation_1-auc:0.841082\n",
            "[267]\tvalidation_0-auc:0.874271\tvalidation_1-auc:0.841138\n",
            "[268]\tvalidation_0-auc:0.874298\tvalidation_1-auc:0.841147\n",
            "[269]\tvalidation_0-auc:0.874343\tvalidation_1-auc:0.841167\n",
            "[270]\tvalidation_0-auc:0.874417\tvalidation_1-auc:0.841146\n",
            "[271]\tvalidation_0-auc:0.87444\tvalidation_1-auc:0.841165\n",
            "[272]\tvalidation_0-auc:0.874479\tvalidation_1-auc:0.841174\n",
            "[273]\tvalidation_0-auc:0.874482\tvalidation_1-auc:0.841185\n",
            "[274]\tvalidation_0-auc:0.874647\tvalidation_1-auc:0.841277\n",
            "[275]\tvalidation_0-auc:0.8747\tvalidation_1-auc:0.841295\n",
            "[276]\tvalidation_0-auc:0.874743\tvalidation_1-auc:0.841319\n",
            "[277]\tvalidation_0-auc:0.874795\tvalidation_1-auc:0.841353\n",
            "[278]\tvalidation_0-auc:0.874858\tvalidation_1-auc:0.841289\n",
            "Stopping. Best iteration:\n",
            "[178]\tvalidation_0-auc:0.866004\tvalidation_1-auc:0.841863\n",
            "\n",
            "ROC AUC: 0.8419\n"
          ]
        }
      ]
    },
    {
      "cell_type": "markdown",
      "source": [
        "테스트 데이터 세트로 예측 시, ROC AUC는 약 0.8419"
      ],
      "metadata": {
        "id": "jye5S-e-RQHl"
      }
    },
    {
      "cell_type": "markdown",
      "source": [
        "> 2. XGBoost의 하이퍼 파라미터 튜닝 수행"
      ],
      "metadata": {
        "id": "5eSEFRaNRnI_"
      }
    },
    {
      "cell_type": "code",
      "source": [
        "from sklearn.model_selection import GridSearchCV\n",
        "\n",
        "# 하이퍼 파라미터 테스트의 수행 속도를 향상시키기 위해 n_estimators를 100으로 감소\n",
        "xgb_clf = XGBClassifier(n_estimators=100)\n",
        "\n",
        "params = {'max_depth':[5, 7] , 'min_child_weight':[1,3] ,'colsample_bytree':[0.5, 0.75] }\n",
        "\n",
        "# cv는 3으로 지정 \n",
        "gridcv = GridSearchCV(xgb_clf, param_grid=params, cv=3)\n",
        "gridcv.fit(X_train, y_train, early_stopping_rounds=30, eval_metric=\"auc\",\n",
        "           eval_set=[(X_train, y_train), (X_test, y_test)])\n",
        "\n",
        "print('GridSearchCV 최적 파라미터:',gridcv.best_params_) \n",
        "\n",
        "xgb_roc_score = roc_auc_score(y_test, gridcv.predict_proba(X_test)[:,1], average='macro')\n",
        "print('ROC AUC: {0:.4f}'.format(xgb_roc_score))"
      ],
      "metadata": {
        "colab": {
          "base_uri": "https://localhost:8080/"
        },
        "id": "2YmYfdKAR06V",
        "outputId": "637f4a0f-caba-4c9d-a081-2ab5dbbae632"
      },
      "execution_count": null,
      "outputs": [
        {
          "output_type": "stream",
          "name": "stdout",
          "text": [
            "[0]\tvalidation_0-auc:0.715421\tvalidation_1-auc:0.722463\n",
            "Multiple eval metrics have been passed: 'validation_1-auc' will be used for early stopping.\n",
            "\n",
            "Will train until validation_1-auc hasn't improved in 30 rounds.\n",
            "[1]\tvalidation_0-auc:0.802772\tvalidation_1-auc:0.807648\n",
            "[2]\tvalidation_0-auc:0.800147\tvalidation_1-auc:0.804566\n",
            "[3]\tvalidation_0-auc:0.805692\tvalidation_1-auc:0.809325\n",
            "[4]\tvalidation_0-auc:0.814807\tvalidation_1-auc:0.816951\n",
            "[5]\tvalidation_0-auc:0.810346\tvalidation_1-auc:0.812634\n",
            "[6]\tvalidation_0-auc:0.810623\tvalidation_1-auc:0.814491\n",
            "[7]\tvalidation_0-auc:0.818556\tvalidation_1-auc:0.820561\n",
            "[8]\tvalidation_0-auc:0.822006\tvalidation_1-auc:0.823553\n",
            "[9]\tvalidation_0-auc:0.820433\tvalidation_1-auc:0.821292\n",
            "[10]\tvalidation_0-auc:0.826212\tvalidation_1-auc:0.825279\n",
            "[11]\tvalidation_0-auc:0.830077\tvalidation_1-auc:0.827817\n",
            "[12]\tvalidation_0-auc:0.832328\tvalidation_1-auc:0.828775\n",
            "[13]\tvalidation_0-auc:0.832008\tvalidation_1-auc:0.827865\n",
            "[14]\tvalidation_0-auc:0.830319\tvalidation_1-auc:0.826745\n",
            "[15]\tvalidation_0-auc:0.832662\tvalidation_1-auc:0.82862\n",
            "[16]\tvalidation_0-auc:0.836402\tvalidation_1-auc:0.830562\n",
            "[17]\tvalidation_0-auc:0.839389\tvalidation_1-auc:0.833342\n",
            "[18]\tvalidation_0-auc:0.840935\tvalidation_1-auc:0.83416\n",
            "[19]\tvalidation_0-auc:0.8397\tvalidation_1-auc:0.833319\n",
            "[20]\tvalidation_0-auc:0.841766\tvalidation_1-auc:0.834575\n",
            "[21]\tvalidation_0-auc:0.841557\tvalidation_1-auc:0.833945\n",
            "[22]\tvalidation_0-auc:0.84072\tvalidation_1-auc:0.833423\n",
            "[23]\tvalidation_0-auc:0.842988\tvalidation_1-auc:0.835829\n",
            "[24]\tvalidation_0-auc:0.845\tvalidation_1-auc:0.83679\n",
            "[25]\tvalidation_0-auc:0.844931\tvalidation_1-auc:0.83488\n",
            "[26]\tvalidation_0-auc:0.844354\tvalidation_1-auc:0.834584\n",
            "[27]\tvalidation_0-auc:0.846588\tvalidation_1-auc:0.835882\n",
            "[28]\tvalidation_0-auc:0.8484\tvalidation_1-auc:0.837484\n",
            "[29]\tvalidation_0-auc:0.848132\tvalidation_1-auc:0.837547\n",
            "[30]\tvalidation_0-auc:0.849419\tvalidation_1-auc:0.838532\n",
            "[31]\tvalidation_0-auc:0.850688\tvalidation_1-auc:0.839968\n",
            "[32]\tvalidation_0-auc:0.851162\tvalidation_1-auc:0.839109\n",
            "[33]\tvalidation_0-auc:0.851777\tvalidation_1-auc:0.839402\n",
            "[34]\tvalidation_0-auc:0.851699\tvalidation_1-auc:0.838331\n",
            "[35]\tvalidation_0-auc:0.853705\tvalidation_1-auc:0.838941\n",
            "[36]\tvalidation_0-auc:0.85468\tvalidation_1-auc:0.839874\n",
            "[37]\tvalidation_0-auc:0.854706\tvalidation_1-auc:0.839192\n",
            "[38]\tvalidation_0-auc:0.855186\tvalidation_1-auc:0.838822\n",
            "[39]\tvalidation_0-auc:0.855418\tvalidation_1-auc:0.838952\n",
            "[40]\tvalidation_0-auc:0.855755\tvalidation_1-auc:0.838564\n",
            "[41]\tvalidation_0-auc:0.855727\tvalidation_1-auc:0.837458\n",
            "[42]\tvalidation_0-auc:0.856843\tvalidation_1-auc:0.838578\n",
            "[43]\tvalidation_0-auc:0.856872\tvalidation_1-auc:0.838383\n",
            "[44]\tvalidation_0-auc:0.85825\tvalidation_1-auc:0.838991\n",
            "[45]\tvalidation_0-auc:0.858271\tvalidation_1-auc:0.838734\n",
            "[46]\tvalidation_0-auc:0.859118\tvalidation_1-auc:0.839502\n",
            "[47]\tvalidation_0-auc:0.860039\tvalidation_1-auc:0.840139\n",
            "[48]\tvalidation_0-auc:0.860313\tvalidation_1-auc:0.840098\n",
            "[49]\tvalidation_0-auc:0.860882\tvalidation_1-auc:0.839755\n",
            "[50]\tvalidation_0-auc:0.861258\tvalidation_1-auc:0.839386\n",
            "[51]\tvalidation_0-auc:0.861784\tvalidation_1-auc:0.839906\n",
            "[52]\tvalidation_0-auc:0.86235\tvalidation_1-auc:0.840527\n",
            "[53]\tvalidation_0-auc:0.862796\tvalidation_1-auc:0.84081\n",
            "[54]\tvalidation_0-auc:0.863283\tvalidation_1-auc:0.841067\n",
            "[55]\tvalidation_0-auc:0.863833\tvalidation_1-auc:0.841105\n",
            "[56]\tvalidation_0-auc:0.864191\tvalidation_1-auc:0.841328\n",
            "[57]\tvalidation_0-auc:0.864541\tvalidation_1-auc:0.841191\n",
            "[58]\tvalidation_0-auc:0.865053\tvalidation_1-auc:0.841228\n",
            "[59]\tvalidation_0-auc:0.865072\tvalidation_1-auc:0.841089\n",
            "[60]\tvalidation_0-auc:0.865493\tvalidation_1-auc:0.840998\n",
            "[61]\tvalidation_0-auc:0.865725\tvalidation_1-auc:0.840912\n",
            "[62]\tvalidation_0-auc:0.866\tvalidation_1-auc:0.840736\n",
            "[63]\tvalidation_0-auc:0.866254\tvalidation_1-auc:0.840737\n",
            "[64]\tvalidation_0-auc:0.866471\tvalidation_1-auc:0.840486\n",
            "[65]\tvalidation_0-auc:0.866765\tvalidation_1-auc:0.840402\n",
            "[66]\tvalidation_0-auc:0.866858\tvalidation_1-auc:0.840233\n",
            "[67]\tvalidation_0-auc:0.867249\tvalidation_1-auc:0.840349\n",
            "[68]\tvalidation_0-auc:0.867545\tvalidation_1-auc:0.840429\n",
            "[69]\tvalidation_0-auc:0.86771\tvalidation_1-auc:0.840205\n",
            "[70]\tvalidation_0-auc:0.867924\tvalidation_1-auc:0.840111\n",
            "[71]\tvalidation_0-auc:0.868052\tvalidation_1-auc:0.840097\n",
            "[72]\tvalidation_0-auc:0.868216\tvalidation_1-auc:0.83997\n",
            "[73]\tvalidation_0-auc:0.868427\tvalidation_1-auc:0.839994\n",
            "[74]\tvalidation_0-auc:0.868532\tvalidation_1-auc:0.840142\n",
            "[75]\tvalidation_0-auc:0.868731\tvalidation_1-auc:0.840173\n",
            "[76]\tvalidation_0-auc:0.868821\tvalidation_1-auc:0.840157\n",
            "[77]\tvalidation_0-auc:0.868903\tvalidation_1-auc:0.840192\n",
            "[78]\tvalidation_0-auc:0.86901\tvalidation_1-auc:0.83997\n",
            "[79]\tvalidation_0-auc:0.869278\tvalidation_1-auc:0.839669\n",
            "[80]\tvalidation_0-auc:0.86937\tvalidation_1-auc:0.839491\n",
            "[81]\tvalidation_0-auc:0.869456\tvalidation_1-auc:0.839451\n",
            "[82]\tvalidation_0-auc:0.869738\tvalidation_1-auc:0.839396\n",
            "[83]\tvalidation_0-auc:0.870145\tvalidation_1-auc:0.839452\n",
            "[84]\tvalidation_0-auc:0.870169\tvalidation_1-auc:0.839349\n",
            "[85]\tvalidation_0-auc:0.870299\tvalidation_1-auc:0.839386\n",
            "[86]\tvalidation_0-auc:0.870907\tvalidation_1-auc:0.839362\n",
            "Stopping. Best iteration:\n",
            "[56]\tvalidation_0-auc:0.864191\tvalidation_1-auc:0.841328\n",
            "\n",
            "[0]\tvalidation_0-auc:0.717372\tvalidation_1-auc:0.725803\n",
            "Multiple eval metrics have been passed: 'validation_1-auc' will be used for early stopping.\n",
            "\n",
            "Will train until validation_1-auc hasn't improved in 30 rounds.\n",
            "[1]\tvalidation_0-auc:0.811452\tvalidation_1-auc:0.811759\n",
            "[2]\tvalidation_0-auc:0.804765\tvalidation_1-auc:0.808258\n",
            "[3]\tvalidation_0-auc:0.814846\tvalidation_1-auc:0.814141\n",
            "[4]\tvalidation_0-auc:0.823444\tvalidation_1-auc:0.82262\n",
            "[5]\tvalidation_0-auc:0.817419\tvalidation_1-auc:0.817272\n",
            "[6]\tvalidation_0-auc:0.816491\tvalidation_1-auc:0.81621\n",
            "[7]\tvalidation_0-auc:0.823934\tvalidation_1-auc:0.821007\n",
            "[8]\tvalidation_0-auc:0.827846\tvalidation_1-auc:0.8252\n",
            "[9]\tvalidation_0-auc:0.82846\tvalidation_1-auc:0.827067\n",
            "[10]\tvalidation_0-auc:0.831473\tvalidation_1-auc:0.828246\n",
            "[11]\tvalidation_0-auc:0.834397\tvalidation_1-auc:0.83073\n",
            "[12]\tvalidation_0-auc:0.836391\tvalidation_1-auc:0.832251\n",
            "[13]\tvalidation_0-auc:0.835478\tvalidation_1-auc:0.831521\n",
            "[14]\tvalidation_0-auc:0.835839\tvalidation_1-auc:0.830979\n",
            "[15]\tvalidation_0-auc:0.837833\tvalidation_1-auc:0.831883\n",
            "[16]\tvalidation_0-auc:0.840134\tvalidation_1-auc:0.834495\n",
            "[17]\tvalidation_0-auc:0.842063\tvalidation_1-auc:0.835636\n",
            "[18]\tvalidation_0-auc:0.845167\tvalidation_1-auc:0.836936\n",
            "[19]\tvalidation_0-auc:0.84317\tvalidation_1-auc:0.835238\n",
            "[20]\tvalidation_0-auc:0.844854\tvalidation_1-auc:0.838582\n",
            "[21]\tvalidation_0-auc:0.844582\tvalidation_1-auc:0.837593\n",
            "[22]\tvalidation_0-auc:0.843234\tvalidation_1-auc:0.836389\n",
            "[23]\tvalidation_0-auc:0.844958\tvalidation_1-auc:0.836951\n",
            "[24]\tvalidation_0-auc:0.845546\tvalidation_1-auc:0.837745\n",
            "[25]\tvalidation_0-auc:0.845446\tvalidation_1-auc:0.836673\n",
            "[26]\tvalidation_0-auc:0.845504\tvalidation_1-auc:0.837039\n",
            "[27]\tvalidation_0-auc:0.847616\tvalidation_1-auc:0.837946\n",
            "[28]\tvalidation_0-auc:0.849218\tvalidation_1-auc:0.838594\n",
            "[29]\tvalidation_0-auc:0.849081\tvalidation_1-auc:0.838931\n",
            "[30]\tvalidation_0-auc:0.850242\tvalidation_1-auc:0.839849\n",
            "[31]\tvalidation_0-auc:0.851248\tvalidation_1-auc:0.840555\n",
            "[32]\tvalidation_0-auc:0.852047\tvalidation_1-auc:0.840215\n",
            "[33]\tvalidation_0-auc:0.851789\tvalidation_1-auc:0.840088\n",
            "[34]\tvalidation_0-auc:0.851836\tvalidation_1-auc:0.840203\n",
            "[35]\tvalidation_0-auc:0.854101\tvalidation_1-auc:0.840857\n",
            "[36]\tvalidation_0-auc:0.855449\tvalidation_1-auc:0.841436\n",
            "[37]\tvalidation_0-auc:0.855895\tvalidation_1-auc:0.841578\n",
            "[38]\tvalidation_0-auc:0.856269\tvalidation_1-auc:0.841228\n",
            "[39]\tvalidation_0-auc:0.856527\tvalidation_1-auc:0.841361\n",
            "[40]\tvalidation_0-auc:0.856628\tvalidation_1-auc:0.840503\n",
            "[41]\tvalidation_0-auc:0.856761\tvalidation_1-auc:0.840695\n",
            "[42]\tvalidation_0-auc:0.85802\tvalidation_1-auc:0.841438\n",
            "[43]\tvalidation_0-auc:0.858325\tvalidation_1-auc:0.841047\n",
            "[44]\tvalidation_0-auc:0.859587\tvalidation_1-auc:0.841786\n",
            "[45]\tvalidation_0-auc:0.859608\tvalidation_1-auc:0.841748\n",
            "[46]\tvalidation_0-auc:0.860629\tvalidation_1-auc:0.842253\n",
            "[47]\tvalidation_0-auc:0.861271\tvalidation_1-auc:0.84256\n",
            "[48]\tvalidation_0-auc:0.861785\tvalidation_1-auc:0.842465\n",
            "[49]\tvalidation_0-auc:0.862397\tvalidation_1-auc:0.842109\n",
            "[50]\tvalidation_0-auc:0.862705\tvalidation_1-auc:0.842593\n",
            "[51]\tvalidation_0-auc:0.86387\tvalidation_1-auc:0.843007\n",
            "[52]\tvalidation_0-auc:0.864428\tvalidation_1-auc:0.843608\n",
            "[53]\tvalidation_0-auc:0.86492\tvalidation_1-auc:0.843887\n",
            "[54]\tvalidation_0-auc:0.865341\tvalidation_1-auc:0.844128\n",
            "[55]\tvalidation_0-auc:0.865713\tvalidation_1-auc:0.843955\n",
            "[56]\tvalidation_0-auc:0.866165\tvalidation_1-auc:0.844301\n",
            "[57]\tvalidation_0-auc:0.866538\tvalidation_1-auc:0.84439\n",
            "[58]\tvalidation_0-auc:0.86671\tvalidation_1-auc:0.844055\n",
            "[59]\tvalidation_0-auc:0.866977\tvalidation_1-auc:0.843974\n",
            "[60]\tvalidation_0-auc:0.867483\tvalidation_1-auc:0.8439\n",
            "[61]\tvalidation_0-auc:0.867853\tvalidation_1-auc:0.843561\n",
            "[62]\tvalidation_0-auc:0.86811\tvalidation_1-auc:0.843594\n",
            "[63]\tvalidation_0-auc:0.868319\tvalidation_1-auc:0.843498\n",
            "[64]\tvalidation_0-auc:0.868554\tvalidation_1-auc:0.843615\n",
            "[65]\tvalidation_0-auc:0.869021\tvalidation_1-auc:0.843756\n",
            "[66]\tvalidation_0-auc:0.869095\tvalidation_1-auc:0.843781\n",
            "[67]\tvalidation_0-auc:0.869277\tvalidation_1-auc:0.843635\n",
            "[68]\tvalidation_0-auc:0.869639\tvalidation_1-auc:0.843286\n",
            "[69]\tvalidation_0-auc:0.869756\tvalidation_1-auc:0.843157\n",
            "[70]\tvalidation_0-auc:0.869923\tvalidation_1-auc:0.843385\n",
            "[71]\tvalidation_0-auc:0.870143\tvalidation_1-auc:0.843476\n",
            "[72]\tvalidation_0-auc:0.870491\tvalidation_1-auc:0.843311\n",
            "[73]\tvalidation_0-auc:0.870757\tvalidation_1-auc:0.843377\n",
            "[74]\tvalidation_0-auc:0.870974\tvalidation_1-auc:0.843152\n",
            "[75]\tvalidation_0-auc:0.871141\tvalidation_1-auc:0.843309\n",
            "[76]\tvalidation_0-auc:0.871466\tvalidation_1-auc:0.84333\n",
            "[77]\tvalidation_0-auc:0.871652\tvalidation_1-auc:0.843404\n",
            "[78]\tvalidation_0-auc:0.872254\tvalidation_1-auc:0.843261\n",
            "[79]\tvalidation_0-auc:0.872488\tvalidation_1-auc:0.84337\n",
            "[80]\tvalidation_0-auc:0.872632\tvalidation_1-auc:0.843503\n",
            "[81]\tvalidation_0-auc:0.872845\tvalidation_1-auc:0.843434\n",
            "[82]\tvalidation_0-auc:0.872982\tvalidation_1-auc:0.84341\n",
            "[83]\tvalidation_0-auc:0.873153\tvalidation_1-auc:0.843339\n",
            "[84]\tvalidation_0-auc:0.873399\tvalidation_1-auc:0.843315\n",
            "[85]\tvalidation_0-auc:0.873562\tvalidation_1-auc:0.843577\n",
            "[86]\tvalidation_0-auc:0.873842\tvalidation_1-auc:0.843366\n",
            "[87]\tvalidation_0-auc:0.874075\tvalidation_1-auc:0.843301\n",
            "Stopping. Best iteration:\n",
            "[57]\tvalidation_0-auc:0.866538\tvalidation_1-auc:0.84439\n",
            "\n",
            "[0]\tvalidation_0-auc:0.728604\tvalidation_1-auc:0.729138\n",
            "Multiple eval metrics have been passed: 'validation_1-auc' will be used for early stopping.\n",
            "\n",
            "Will train until validation_1-auc hasn't improved in 30 rounds.\n",
            "[1]\tvalidation_0-auc:0.815073\tvalidation_1-auc:0.81486\n",
            "[2]\tvalidation_0-auc:0.807773\tvalidation_1-auc:0.806289\n",
            "[3]\tvalidation_0-auc:0.821196\tvalidation_1-auc:0.820953\n",
            "[4]\tvalidation_0-auc:0.826503\tvalidation_1-auc:0.824375\n",
            "[5]\tvalidation_0-auc:0.824442\tvalidation_1-auc:0.821261\n",
            "[6]\tvalidation_0-auc:0.820837\tvalidation_1-auc:0.815853\n",
            "[7]\tvalidation_0-auc:0.828494\tvalidation_1-auc:0.826392\n",
            "[8]\tvalidation_0-auc:0.832047\tvalidation_1-auc:0.828695\n",
            "[9]\tvalidation_0-auc:0.831208\tvalidation_1-auc:0.828754\n",
            "[10]\tvalidation_0-auc:0.833735\tvalidation_1-auc:0.829758\n",
            "[11]\tvalidation_0-auc:0.83639\tvalidation_1-auc:0.832338\n",
            "[12]\tvalidation_0-auc:0.837919\tvalidation_1-auc:0.83245\n",
            "[13]\tvalidation_0-auc:0.83811\tvalidation_1-auc:0.832029\n",
            "[14]\tvalidation_0-auc:0.83775\tvalidation_1-auc:0.830778\n",
            "[15]\tvalidation_0-auc:0.839769\tvalidation_1-auc:0.833849\n",
            "[16]\tvalidation_0-auc:0.841781\tvalidation_1-auc:0.834353\n",
            "[17]\tvalidation_0-auc:0.844232\tvalidation_1-auc:0.836176\n",
            "[18]\tvalidation_0-auc:0.845483\tvalidation_1-auc:0.836733\n",
            "[19]\tvalidation_0-auc:0.844037\tvalidation_1-auc:0.83578\n",
            "[20]\tvalidation_0-auc:0.844835\tvalidation_1-auc:0.836975\n",
            "[21]\tvalidation_0-auc:0.844154\tvalidation_1-auc:0.836806\n",
            "[22]\tvalidation_0-auc:0.843706\tvalidation_1-auc:0.836371\n",
            "[23]\tvalidation_0-auc:0.846431\tvalidation_1-auc:0.83695\n",
            "[24]\tvalidation_0-auc:0.847848\tvalidation_1-auc:0.837788\n",
            "[25]\tvalidation_0-auc:0.848239\tvalidation_1-auc:0.835882\n",
            "[26]\tvalidation_0-auc:0.847676\tvalidation_1-auc:0.835369\n",
            "[27]\tvalidation_0-auc:0.849208\tvalidation_1-auc:0.83703\n",
            "[28]\tvalidation_0-auc:0.850472\tvalidation_1-auc:0.836861\n",
            "[29]\tvalidation_0-auc:0.850167\tvalidation_1-auc:0.83635\n",
            "[30]\tvalidation_0-auc:0.851372\tvalidation_1-auc:0.837438\n",
            "[31]\tvalidation_0-auc:0.85277\tvalidation_1-auc:0.839114\n",
            "[32]\tvalidation_0-auc:0.852667\tvalidation_1-auc:0.837985\n",
            "[33]\tvalidation_0-auc:0.852747\tvalidation_1-auc:0.837668\n",
            "[34]\tvalidation_0-auc:0.852733\tvalidation_1-auc:0.836907\n",
            "[35]\tvalidation_0-auc:0.854444\tvalidation_1-auc:0.837927\n",
            "[36]\tvalidation_0-auc:0.855524\tvalidation_1-auc:0.838667\n",
            "[37]\tvalidation_0-auc:0.855691\tvalidation_1-auc:0.838458\n",
            "[38]\tvalidation_0-auc:0.855658\tvalidation_1-auc:0.838405\n",
            "[39]\tvalidation_0-auc:0.855707\tvalidation_1-auc:0.838205\n",
            "[40]\tvalidation_0-auc:0.855977\tvalidation_1-auc:0.837566\n",
            "[41]\tvalidation_0-auc:0.85607\tvalidation_1-auc:0.83725\n",
            "[42]\tvalidation_0-auc:0.857448\tvalidation_1-auc:0.838628\n",
            "[43]\tvalidation_0-auc:0.858151\tvalidation_1-auc:0.838294\n",
            "[44]\tvalidation_0-auc:0.859033\tvalidation_1-auc:0.839502\n",
            "[45]\tvalidation_0-auc:0.85922\tvalidation_1-auc:0.839211\n",
            "[46]\tvalidation_0-auc:0.860188\tvalidation_1-auc:0.840069\n",
            "[47]\tvalidation_0-auc:0.860935\tvalidation_1-auc:0.841387\n",
            "[48]\tvalidation_0-auc:0.861189\tvalidation_1-auc:0.841403\n",
            "[49]\tvalidation_0-auc:0.861589\tvalidation_1-auc:0.841071\n",
            "[50]\tvalidation_0-auc:0.861762\tvalidation_1-auc:0.840556\n",
            "[51]\tvalidation_0-auc:0.862347\tvalidation_1-auc:0.841358\n",
            "[52]\tvalidation_0-auc:0.8631\tvalidation_1-auc:0.842024\n",
            "[53]\tvalidation_0-auc:0.863472\tvalidation_1-auc:0.842581\n",
            "[54]\tvalidation_0-auc:0.864049\tvalidation_1-auc:0.842295\n",
            "[55]\tvalidation_0-auc:0.864407\tvalidation_1-auc:0.84224\n",
            "[56]\tvalidation_0-auc:0.864963\tvalidation_1-auc:0.842305\n",
            "[57]\tvalidation_0-auc:0.865297\tvalidation_1-auc:0.842521\n",
            "[58]\tvalidation_0-auc:0.865713\tvalidation_1-auc:0.842384\n",
            "[59]\tvalidation_0-auc:0.865816\tvalidation_1-auc:0.842552\n",
            "[60]\tvalidation_0-auc:0.866309\tvalidation_1-auc:0.842857\n",
            "[61]\tvalidation_0-auc:0.866745\tvalidation_1-auc:0.84279\n",
            "[62]\tvalidation_0-auc:0.867055\tvalidation_1-auc:0.842625\n",
            "[63]\tvalidation_0-auc:0.867486\tvalidation_1-auc:0.842366\n",
            "[64]\tvalidation_0-auc:0.867739\tvalidation_1-auc:0.842438\n",
            "[65]\tvalidation_0-auc:0.86812\tvalidation_1-auc:0.842509\n",
            "[66]\tvalidation_0-auc:0.868275\tvalidation_1-auc:0.84245\n",
            "[67]\tvalidation_0-auc:0.868475\tvalidation_1-auc:0.842675\n",
            "[68]\tvalidation_0-auc:0.868921\tvalidation_1-auc:0.84256\n",
            "[69]\tvalidation_0-auc:0.869167\tvalidation_1-auc:0.842877\n",
            "[70]\tvalidation_0-auc:0.869353\tvalidation_1-auc:0.842964\n",
            "[71]\tvalidation_0-auc:0.869559\tvalidation_1-auc:0.84313\n",
            "[72]\tvalidation_0-auc:0.869581\tvalidation_1-auc:0.843128\n",
            "[73]\tvalidation_0-auc:0.869742\tvalidation_1-auc:0.843138\n",
            "[74]\tvalidation_0-auc:0.869847\tvalidation_1-auc:0.843219\n",
            "[75]\tvalidation_0-auc:0.870334\tvalidation_1-auc:0.842997\n",
            "[76]\tvalidation_0-auc:0.870539\tvalidation_1-auc:0.842974\n",
            "[77]\tvalidation_0-auc:0.870822\tvalidation_1-auc:0.842953\n",
            "[78]\tvalidation_0-auc:0.871051\tvalidation_1-auc:0.842888\n",
            "[79]\tvalidation_0-auc:0.87137\tvalidation_1-auc:0.842864\n",
            "[80]\tvalidation_0-auc:0.87156\tvalidation_1-auc:0.842791\n",
            "[81]\tvalidation_0-auc:0.871654\tvalidation_1-auc:0.842734\n",
            "[82]\tvalidation_0-auc:0.871763\tvalidation_1-auc:0.842652\n",
            "[83]\tvalidation_0-auc:0.872087\tvalidation_1-auc:0.842457\n",
            "[84]\tvalidation_0-auc:0.872577\tvalidation_1-auc:0.842658\n",
            "[85]\tvalidation_0-auc:0.872852\tvalidation_1-auc:0.842697\n",
            "[86]\tvalidation_0-auc:0.87289\tvalidation_1-auc:0.842703\n",
            "[87]\tvalidation_0-auc:0.873122\tvalidation_1-auc:0.842825\n",
            "[88]\tvalidation_0-auc:0.873216\tvalidation_1-auc:0.842852\n",
            "[89]\tvalidation_0-auc:0.873363\tvalidation_1-auc:0.842857\n",
            "[90]\tvalidation_0-auc:0.873777\tvalidation_1-auc:0.842797\n",
            "[91]\tvalidation_0-auc:0.873994\tvalidation_1-auc:0.842627\n",
            "[92]\tvalidation_0-auc:0.874105\tvalidation_1-auc:0.8426\n",
            "[93]\tvalidation_0-auc:0.874331\tvalidation_1-auc:0.84256\n",
            "[94]\tvalidation_0-auc:0.874317\tvalidation_1-auc:0.842543\n",
            "[95]\tvalidation_0-auc:0.874664\tvalidation_1-auc:0.842427\n",
            "[96]\tvalidation_0-auc:0.875004\tvalidation_1-auc:0.842522\n",
            "[97]\tvalidation_0-auc:0.875199\tvalidation_1-auc:0.842392\n",
            "[98]\tvalidation_0-auc:0.875379\tvalidation_1-auc:0.842241\n",
            "[99]\tvalidation_0-auc:0.875458\tvalidation_1-auc:0.842186\n",
            "[0]\tvalidation_0-auc:0.714006\tvalidation_1-auc:0.723827\n",
            "Multiple eval metrics have been passed: 'validation_1-auc' will be used for early stopping.\n",
            "\n",
            "Will train until validation_1-auc hasn't improved in 30 rounds.\n",
            "[1]\tvalidation_0-auc:0.804027\tvalidation_1-auc:0.809028\n",
            "[2]\tvalidation_0-auc:0.796929\tvalidation_1-auc:0.805684\n",
            "[3]\tvalidation_0-auc:0.80379\tvalidation_1-auc:0.811591\n",
            "[4]\tvalidation_0-auc:0.811904\tvalidation_1-auc:0.818375\n",
            "[5]\tvalidation_0-auc:0.808826\tvalidation_1-auc:0.815714\n",
            "[6]\tvalidation_0-auc:0.809236\tvalidation_1-auc:0.816054\n",
            "[7]\tvalidation_0-auc:0.818354\tvalidation_1-auc:0.823376\n",
            "[8]\tvalidation_0-auc:0.822085\tvalidation_1-auc:0.826164\n",
            "[9]\tvalidation_0-auc:0.82165\tvalidation_1-auc:0.824633\n",
            "[10]\tvalidation_0-auc:0.825876\tvalidation_1-auc:0.828152\n",
            "[11]\tvalidation_0-auc:0.830307\tvalidation_1-auc:0.830536\n",
            "[12]\tvalidation_0-auc:0.832494\tvalidation_1-auc:0.831414\n",
            "[13]\tvalidation_0-auc:0.832283\tvalidation_1-auc:0.831058\n",
            "[14]\tvalidation_0-auc:0.830152\tvalidation_1-auc:0.829388\n",
            "[15]\tvalidation_0-auc:0.833723\tvalidation_1-auc:0.831545\n",
            "[16]\tvalidation_0-auc:0.835902\tvalidation_1-auc:0.833087\n",
            "[17]\tvalidation_0-auc:0.838024\tvalidation_1-auc:0.835309\n",
            "[18]\tvalidation_0-auc:0.840344\tvalidation_1-auc:0.837179\n",
            "[19]\tvalidation_0-auc:0.839049\tvalidation_1-auc:0.836139\n",
            "[20]\tvalidation_0-auc:0.841203\tvalidation_1-auc:0.837819\n",
            "[21]\tvalidation_0-auc:0.840361\tvalidation_1-auc:0.836718\n",
            "[22]\tvalidation_0-auc:0.839561\tvalidation_1-auc:0.835582\n",
            "[23]\tvalidation_0-auc:0.841618\tvalidation_1-auc:0.838028\n",
            "[24]\tvalidation_0-auc:0.843341\tvalidation_1-auc:0.839799\n",
            "[25]\tvalidation_0-auc:0.843391\tvalidation_1-auc:0.838075\n",
            "[26]\tvalidation_0-auc:0.842866\tvalidation_1-auc:0.83713\n",
            "[27]\tvalidation_0-auc:0.844606\tvalidation_1-auc:0.838438\n",
            "[28]\tvalidation_0-auc:0.846092\tvalidation_1-auc:0.839683\n",
            "[29]\tvalidation_0-auc:0.845979\tvalidation_1-auc:0.839799\n",
            "[30]\tvalidation_0-auc:0.847241\tvalidation_1-auc:0.840766\n",
            "[31]\tvalidation_0-auc:0.848587\tvalidation_1-auc:0.841709\n",
            "[32]\tvalidation_0-auc:0.848981\tvalidation_1-auc:0.841487\n",
            "[33]\tvalidation_0-auc:0.849264\tvalidation_1-auc:0.841241\n",
            "[34]\tvalidation_0-auc:0.849212\tvalidation_1-auc:0.840329\n",
            "[35]\tvalidation_0-auc:0.851241\tvalidation_1-auc:0.841195\n",
            "[36]\tvalidation_0-auc:0.852575\tvalidation_1-auc:0.841505\n",
            "[37]\tvalidation_0-auc:0.852547\tvalidation_1-auc:0.841355\n",
            "[38]\tvalidation_0-auc:0.85314\tvalidation_1-auc:0.841067\n",
            "[39]\tvalidation_0-auc:0.853311\tvalidation_1-auc:0.841314\n",
            "[40]\tvalidation_0-auc:0.853527\tvalidation_1-auc:0.841051\n",
            "[41]\tvalidation_0-auc:0.853601\tvalidation_1-auc:0.839969\n",
            "[42]\tvalidation_0-auc:0.854856\tvalidation_1-auc:0.841155\n",
            "[43]\tvalidation_0-auc:0.854913\tvalidation_1-auc:0.840479\n",
            "[44]\tvalidation_0-auc:0.856142\tvalidation_1-auc:0.841371\n",
            "[45]\tvalidation_0-auc:0.855966\tvalidation_1-auc:0.840721\n",
            "[46]\tvalidation_0-auc:0.856817\tvalidation_1-auc:0.841295\n",
            "[47]\tvalidation_0-auc:0.857639\tvalidation_1-auc:0.842198\n",
            "[48]\tvalidation_0-auc:0.858099\tvalidation_1-auc:0.842221\n",
            "[49]\tvalidation_0-auc:0.858669\tvalidation_1-auc:0.842566\n",
            "[50]\tvalidation_0-auc:0.858815\tvalidation_1-auc:0.842503\n",
            "[51]\tvalidation_0-auc:0.859313\tvalidation_1-auc:0.842574\n",
            "[52]\tvalidation_0-auc:0.859954\tvalidation_1-auc:0.843229\n",
            "[53]\tvalidation_0-auc:0.860592\tvalidation_1-auc:0.843562\n",
            "[54]\tvalidation_0-auc:0.861171\tvalidation_1-auc:0.843808\n",
            "[55]\tvalidation_0-auc:0.861666\tvalidation_1-auc:0.843678\n",
            "[56]\tvalidation_0-auc:0.862143\tvalidation_1-auc:0.843724\n",
            "[57]\tvalidation_0-auc:0.862316\tvalidation_1-auc:0.843731\n",
            "[58]\tvalidation_0-auc:0.862813\tvalidation_1-auc:0.843668\n",
            "[59]\tvalidation_0-auc:0.86285\tvalidation_1-auc:0.843629\n",
            "[60]\tvalidation_0-auc:0.863111\tvalidation_1-auc:0.843447\n",
            "[61]\tvalidation_0-auc:0.86325\tvalidation_1-auc:0.843266\n",
            "[62]\tvalidation_0-auc:0.863572\tvalidation_1-auc:0.843325\n",
            "[63]\tvalidation_0-auc:0.863893\tvalidation_1-auc:0.843405\n",
            "[64]\tvalidation_0-auc:0.864023\tvalidation_1-auc:0.843241\n",
            "[65]\tvalidation_0-auc:0.864277\tvalidation_1-auc:0.843226\n",
            "[66]\tvalidation_0-auc:0.864395\tvalidation_1-auc:0.843192\n",
            "[67]\tvalidation_0-auc:0.864935\tvalidation_1-auc:0.843118\n",
            "[68]\tvalidation_0-auc:0.865194\tvalidation_1-auc:0.843091\n",
            "[69]\tvalidation_0-auc:0.86549\tvalidation_1-auc:0.843234\n",
            "[70]\tvalidation_0-auc:0.865592\tvalidation_1-auc:0.842962\n",
            "[71]\tvalidation_0-auc:0.865757\tvalidation_1-auc:0.84296\n",
            "[72]\tvalidation_0-auc:0.865884\tvalidation_1-auc:0.84311\n",
            "[73]\tvalidation_0-auc:0.86619\tvalidation_1-auc:0.8427\n",
            "[74]\tvalidation_0-auc:0.866281\tvalidation_1-auc:0.84285\n",
            "[75]\tvalidation_0-auc:0.866614\tvalidation_1-auc:0.842769\n",
            "[76]\tvalidation_0-auc:0.866746\tvalidation_1-auc:0.842839\n",
            "[77]\tvalidation_0-auc:0.866804\tvalidation_1-auc:0.84271\n",
            "[78]\tvalidation_0-auc:0.866846\tvalidation_1-auc:0.842684\n",
            "[79]\tvalidation_0-auc:0.867312\tvalidation_1-auc:0.842814\n",
            "[80]\tvalidation_0-auc:0.867387\tvalidation_1-auc:0.842789\n",
            "[81]\tvalidation_0-auc:0.867529\tvalidation_1-auc:0.842763\n",
            "[82]\tvalidation_0-auc:0.867621\tvalidation_1-auc:0.842855\n",
            "[83]\tvalidation_0-auc:0.867771\tvalidation_1-auc:0.84291\n",
            "[84]\tvalidation_0-auc:0.867877\tvalidation_1-auc:0.842798\n",
            "Stopping. Best iteration:\n",
            "[54]\tvalidation_0-auc:0.861171\tvalidation_1-auc:0.843808\n",
            "\n",
            "[0]\tvalidation_0-auc:0.717533\tvalidation_1-auc:0.726673\n",
            "Multiple eval metrics have been passed: 'validation_1-auc' will be used for early stopping.\n",
            "\n",
            "Will train until validation_1-auc hasn't improved in 30 rounds.\n",
            "[1]\tvalidation_0-auc:0.809737\tvalidation_1-auc:0.813894\n",
            "[2]\tvalidation_0-auc:0.804185\tvalidation_1-auc:0.809283\n",
            "[3]\tvalidation_0-auc:0.814872\tvalidation_1-auc:0.81617\n",
            "[4]\tvalidation_0-auc:0.823769\tvalidation_1-auc:0.82343\n",
            "[5]\tvalidation_0-auc:0.818965\tvalidation_1-auc:0.820901\n",
            "[6]\tvalidation_0-auc:0.81903\tvalidation_1-auc:0.821548\n",
            "[7]\tvalidation_0-auc:0.826846\tvalidation_1-auc:0.826696\n",
            "[8]\tvalidation_0-auc:0.830195\tvalidation_1-auc:0.828696\n",
            "[9]\tvalidation_0-auc:0.829661\tvalidation_1-auc:0.828928\n",
            "[10]\tvalidation_0-auc:0.832518\tvalidation_1-auc:0.829908\n",
            "[11]\tvalidation_0-auc:0.835179\tvalidation_1-auc:0.832456\n",
            "[12]\tvalidation_0-auc:0.837699\tvalidation_1-auc:0.833503\n",
            "[13]\tvalidation_0-auc:0.836467\tvalidation_1-auc:0.832825\n",
            "[14]\tvalidation_0-auc:0.835604\tvalidation_1-auc:0.830822\n",
            "[15]\tvalidation_0-auc:0.83806\tvalidation_1-auc:0.833208\n",
            "[16]\tvalidation_0-auc:0.83938\tvalidation_1-auc:0.835308\n",
            "[17]\tvalidation_0-auc:0.841018\tvalidation_1-auc:0.836883\n",
            "[18]\tvalidation_0-auc:0.84373\tvalidation_1-auc:0.838469\n",
            "[19]\tvalidation_0-auc:0.842177\tvalidation_1-auc:0.837276\n",
            "[20]\tvalidation_0-auc:0.843345\tvalidation_1-auc:0.838065\n",
            "[21]\tvalidation_0-auc:0.843135\tvalidation_1-auc:0.8371\n",
            "[22]\tvalidation_0-auc:0.842118\tvalidation_1-auc:0.835909\n",
            "[23]\tvalidation_0-auc:0.843862\tvalidation_1-auc:0.837196\n",
            "[24]\tvalidation_0-auc:0.84529\tvalidation_1-auc:0.838929\n",
            "[25]\tvalidation_0-auc:0.844988\tvalidation_1-auc:0.838024\n",
            "[26]\tvalidation_0-auc:0.844803\tvalidation_1-auc:0.837647\n",
            "[27]\tvalidation_0-auc:0.846169\tvalidation_1-auc:0.838627\n",
            "[28]\tvalidation_0-auc:0.847917\tvalidation_1-auc:0.839415\n",
            "[29]\tvalidation_0-auc:0.847523\tvalidation_1-auc:0.83953\n",
            "[30]\tvalidation_0-auc:0.848561\tvalidation_1-auc:0.840212\n",
            "[31]\tvalidation_0-auc:0.849674\tvalidation_1-auc:0.840677\n",
            "[32]\tvalidation_0-auc:0.849838\tvalidation_1-auc:0.840618\n",
            "[33]\tvalidation_0-auc:0.849584\tvalidation_1-auc:0.840339\n",
            "[34]\tvalidation_0-auc:0.850048\tvalidation_1-auc:0.840066\n",
            "[35]\tvalidation_0-auc:0.852148\tvalidation_1-auc:0.840805\n",
            "[36]\tvalidation_0-auc:0.853775\tvalidation_1-auc:0.84152\n",
            "[37]\tvalidation_0-auc:0.853997\tvalidation_1-auc:0.841906\n",
            "[38]\tvalidation_0-auc:0.854261\tvalidation_1-auc:0.841776\n",
            "[39]\tvalidation_0-auc:0.854181\tvalidation_1-auc:0.841344\n",
            "[40]\tvalidation_0-auc:0.854347\tvalidation_1-auc:0.841343\n",
            "[41]\tvalidation_0-auc:0.854327\tvalidation_1-auc:0.841162\n",
            "[42]\tvalidation_0-auc:0.855582\tvalidation_1-auc:0.841623\n",
            "[43]\tvalidation_0-auc:0.855521\tvalidation_1-auc:0.84146\n",
            "[44]\tvalidation_0-auc:0.856886\tvalidation_1-auc:0.842484\n",
            "[45]\tvalidation_0-auc:0.856922\tvalidation_1-auc:0.842148\n",
            "[46]\tvalidation_0-auc:0.857832\tvalidation_1-auc:0.842456\n",
            "[47]\tvalidation_0-auc:0.858576\tvalidation_1-auc:0.843202\n",
            "[48]\tvalidation_0-auc:0.8593\tvalidation_1-auc:0.843058\n",
            "[49]\tvalidation_0-auc:0.859621\tvalidation_1-auc:0.843327\n",
            "[50]\tvalidation_0-auc:0.859706\tvalidation_1-auc:0.843458\n",
            "[51]\tvalidation_0-auc:0.860711\tvalidation_1-auc:0.844193\n",
            "[52]\tvalidation_0-auc:0.861274\tvalidation_1-auc:0.844891\n",
            "[53]\tvalidation_0-auc:0.861533\tvalidation_1-auc:0.845114\n",
            "[54]\tvalidation_0-auc:0.862135\tvalidation_1-auc:0.845359\n",
            "[55]\tvalidation_0-auc:0.862478\tvalidation_1-auc:0.845206\n",
            "[56]\tvalidation_0-auc:0.862881\tvalidation_1-auc:0.84531\n",
            "[57]\tvalidation_0-auc:0.863066\tvalidation_1-auc:0.845717\n",
            "[58]\tvalidation_0-auc:0.863413\tvalidation_1-auc:0.845678\n",
            "[59]\tvalidation_0-auc:0.863608\tvalidation_1-auc:0.84581\n",
            "[60]\tvalidation_0-auc:0.86412\tvalidation_1-auc:0.845891\n",
            "[61]\tvalidation_0-auc:0.864399\tvalidation_1-auc:0.845775\n",
            "[62]\tvalidation_0-auc:0.864521\tvalidation_1-auc:0.845851\n",
            "[63]\tvalidation_0-auc:0.864786\tvalidation_1-auc:0.845721\n",
            "[64]\tvalidation_0-auc:0.865062\tvalidation_1-auc:0.845821\n",
            "[65]\tvalidation_0-auc:0.865567\tvalidation_1-auc:0.845831\n",
            "[66]\tvalidation_0-auc:0.865616\tvalidation_1-auc:0.845926\n",
            "[67]\tvalidation_0-auc:0.865942\tvalidation_1-auc:0.845591\n",
            "[68]\tvalidation_0-auc:0.866071\tvalidation_1-auc:0.845562\n",
            "[69]\tvalidation_0-auc:0.866158\tvalidation_1-auc:0.845375\n",
            "[70]\tvalidation_0-auc:0.866421\tvalidation_1-auc:0.845291\n",
            "[71]\tvalidation_0-auc:0.866631\tvalidation_1-auc:0.845063\n",
            "[72]\tvalidation_0-auc:0.866834\tvalidation_1-auc:0.844927\n",
            "[73]\tvalidation_0-auc:0.867035\tvalidation_1-auc:0.844978\n",
            "[74]\tvalidation_0-auc:0.867128\tvalidation_1-auc:0.844953\n",
            "[75]\tvalidation_0-auc:0.867261\tvalidation_1-auc:0.845003\n",
            "[76]\tvalidation_0-auc:0.867406\tvalidation_1-auc:0.844968\n",
            "[77]\tvalidation_0-auc:0.867496\tvalidation_1-auc:0.844996\n",
            "[78]\tvalidation_0-auc:0.867709\tvalidation_1-auc:0.844813\n",
            "[79]\tvalidation_0-auc:0.867952\tvalidation_1-auc:0.84476\n",
            "[80]\tvalidation_0-auc:0.868082\tvalidation_1-auc:0.844955\n",
            "[81]\tvalidation_0-auc:0.868275\tvalidation_1-auc:0.844928\n",
            "[82]\tvalidation_0-auc:0.868362\tvalidation_1-auc:0.844934\n",
            "[83]\tvalidation_0-auc:0.868593\tvalidation_1-auc:0.844857\n",
            "[84]\tvalidation_0-auc:0.868867\tvalidation_1-auc:0.845157\n",
            "[85]\tvalidation_0-auc:0.869142\tvalidation_1-auc:0.845128\n",
            "[86]\tvalidation_0-auc:0.869236\tvalidation_1-auc:0.845188\n",
            "[87]\tvalidation_0-auc:0.869403\tvalidation_1-auc:0.845108\n",
            "[88]\tvalidation_0-auc:0.869561\tvalidation_1-auc:0.844889\n",
            "[89]\tvalidation_0-auc:0.869615\tvalidation_1-auc:0.844902\n",
            "[90]\tvalidation_0-auc:0.869686\tvalidation_1-auc:0.844648\n",
            "[91]\tvalidation_0-auc:0.869724\tvalidation_1-auc:0.844774\n",
            "[92]\tvalidation_0-auc:0.869777\tvalidation_1-auc:0.84473\n",
            "[93]\tvalidation_0-auc:0.869911\tvalidation_1-auc:0.844727\n",
            "[94]\tvalidation_0-auc:0.870108\tvalidation_1-auc:0.844602\n",
            "[95]\tvalidation_0-auc:0.870246\tvalidation_1-auc:0.844558\n",
            "[96]\tvalidation_0-auc:0.870323\tvalidation_1-auc:0.844601\n",
            "Stopping. Best iteration:\n",
            "[66]\tvalidation_0-auc:0.865616\tvalidation_1-auc:0.845926\n",
            "\n",
            "[0]\tvalidation_0-auc:0.733623\tvalidation_1-auc:0.734145\n",
            "Multiple eval metrics have been passed: 'validation_1-auc' will be used for early stopping.\n",
            "\n",
            "Will train until validation_1-auc hasn't improved in 30 rounds.\n",
            "[1]\tvalidation_0-auc:0.814232\tvalidation_1-auc:0.811655\n",
            "[2]\tvalidation_0-auc:0.805561\tvalidation_1-auc:0.804015\n",
            "[3]\tvalidation_0-auc:0.820451\tvalidation_1-auc:0.819236\n",
            "[4]\tvalidation_0-auc:0.826716\tvalidation_1-auc:0.824224\n",
            "[5]\tvalidation_0-auc:0.824925\tvalidation_1-auc:0.822642\n",
            "[6]\tvalidation_0-auc:0.820246\tvalidation_1-auc:0.816653\n",
            "[7]\tvalidation_0-auc:0.828143\tvalidation_1-auc:0.826545\n",
            "[8]\tvalidation_0-auc:0.831962\tvalidation_1-auc:0.82775\n",
            "[9]\tvalidation_0-auc:0.830335\tvalidation_1-auc:0.827463\n",
            "[10]\tvalidation_0-auc:0.833474\tvalidation_1-auc:0.828139\n",
            "[11]\tvalidation_0-auc:0.836167\tvalidation_1-auc:0.830859\n",
            "[12]\tvalidation_0-auc:0.838009\tvalidation_1-auc:0.831159\n",
            "[13]\tvalidation_0-auc:0.838268\tvalidation_1-auc:0.83096\n",
            "[14]\tvalidation_0-auc:0.837455\tvalidation_1-auc:0.8298\n",
            "[15]\tvalidation_0-auc:0.83929\tvalidation_1-auc:0.832429\n",
            "[16]\tvalidation_0-auc:0.840689\tvalidation_1-auc:0.833029\n",
            "[17]\tvalidation_0-auc:0.842391\tvalidation_1-auc:0.835143\n",
            "[18]\tvalidation_0-auc:0.844267\tvalidation_1-auc:0.836015\n",
            "[19]\tvalidation_0-auc:0.842744\tvalidation_1-auc:0.834529\n",
            "[20]\tvalidation_0-auc:0.843683\tvalidation_1-auc:0.836281\n",
            "[21]\tvalidation_0-auc:0.843302\tvalidation_1-auc:0.835885\n",
            "[22]\tvalidation_0-auc:0.842219\tvalidation_1-auc:0.834206\n",
            "[23]\tvalidation_0-auc:0.844107\tvalidation_1-auc:0.835855\n",
            "[24]\tvalidation_0-auc:0.845733\tvalidation_1-auc:0.836809\n",
            "[25]\tvalidation_0-auc:0.845846\tvalidation_1-auc:0.835169\n",
            "[26]\tvalidation_0-auc:0.845368\tvalidation_1-auc:0.834639\n",
            "[27]\tvalidation_0-auc:0.847065\tvalidation_1-auc:0.836159\n",
            "[28]\tvalidation_0-auc:0.848717\tvalidation_1-auc:0.836661\n",
            "[29]\tvalidation_0-auc:0.848539\tvalidation_1-auc:0.836204\n",
            "[30]\tvalidation_0-auc:0.849871\tvalidation_1-auc:0.837033\n",
            "[31]\tvalidation_0-auc:0.851462\tvalidation_1-auc:0.838869\n",
            "[32]\tvalidation_0-auc:0.851693\tvalidation_1-auc:0.838194\n",
            "[33]\tvalidation_0-auc:0.851787\tvalidation_1-auc:0.837591\n",
            "[34]\tvalidation_0-auc:0.851261\tvalidation_1-auc:0.837321\n",
            "[35]\tvalidation_0-auc:0.853008\tvalidation_1-auc:0.837602\n",
            "[36]\tvalidation_0-auc:0.853928\tvalidation_1-auc:0.839034\n",
            "[37]\tvalidation_0-auc:0.853967\tvalidation_1-auc:0.838995\n",
            "[38]\tvalidation_0-auc:0.854107\tvalidation_1-auc:0.838693\n",
            "[39]\tvalidation_0-auc:0.85407\tvalidation_1-auc:0.838256\n",
            "[40]\tvalidation_0-auc:0.854572\tvalidation_1-auc:0.838009\n",
            "[41]\tvalidation_0-auc:0.854346\tvalidation_1-auc:0.837944\n",
            "[42]\tvalidation_0-auc:0.855443\tvalidation_1-auc:0.839019\n",
            "[43]\tvalidation_0-auc:0.855744\tvalidation_1-auc:0.838948\n",
            "[44]\tvalidation_0-auc:0.856792\tvalidation_1-auc:0.839923\n",
            "[45]\tvalidation_0-auc:0.856881\tvalidation_1-auc:0.839774\n",
            "[46]\tvalidation_0-auc:0.857732\tvalidation_1-auc:0.840868\n",
            "[47]\tvalidation_0-auc:0.858398\tvalidation_1-auc:0.841894\n",
            "[48]\tvalidation_0-auc:0.858981\tvalidation_1-auc:0.841453\n",
            "[49]\tvalidation_0-auc:0.859433\tvalidation_1-auc:0.841181\n",
            "[50]\tvalidation_0-auc:0.859344\tvalidation_1-auc:0.840999\n",
            "[51]\tvalidation_0-auc:0.860303\tvalidation_1-auc:0.842062\n",
            "[52]\tvalidation_0-auc:0.861083\tvalidation_1-auc:0.842759\n",
            "[53]\tvalidation_0-auc:0.861582\tvalidation_1-auc:0.842824\n",
            "[54]\tvalidation_0-auc:0.861882\tvalidation_1-auc:0.84348\n",
            "[55]\tvalidation_0-auc:0.862181\tvalidation_1-auc:0.843306\n",
            "[56]\tvalidation_0-auc:0.862584\tvalidation_1-auc:0.843352\n",
            "[57]\tvalidation_0-auc:0.863002\tvalidation_1-auc:0.843594\n",
            "[58]\tvalidation_0-auc:0.863051\tvalidation_1-auc:0.843532\n",
            "[59]\tvalidation_0-auc:0.863067\tvalidation_1-auc:0.843645\n",
            "[60]\tvalidation_0-auc:0.863458\tvalidation_1-auc:0.84372\n",
            "[61]\tvalidation_0-auc:0.863797\tvalidation_1-auc:0.843751\n",
            "[62]\tvalidation_0-auc:0.864259\tvalidation_1-auc:0.844117\n",
            "[63]\tvalidation_0-auc:0.864593\tvalidation_1-auc:0.84417\n",
            "[64]\tvalidation_0-auc:0.864937\tvalidation_1-auc:0.84409\n",
            "[65]\tvalidation_0-auc:0.865491\tvalidation_1-auc:0.844022\n",
            "[66]\tvalidation_0-auc:0.865495\tvalidation_1-auc:0.844146\n",
            "[67]\tvalidation_0-auc:0.865839\tvalidation_1-auc:0.844022\n",
            "[68]\tvalidation_0-auc:0.866271\tvalidation_1-auc:0.843984\n",
            "[69]\tvalidation_0-auc:0.866407\tvalidation_1-auc:0.843977\n",
            "[70]\tvalidation_0-auc:0.866618\tvalidation_1-auc:0.843892\n",
            "[71]\tvalidation_0-auc:0.866861\tvalidation_1-auc:0.844078\n",
            "[72]\tvalidation_0-auc:0.866983\tvalidation_1-auc:0.844067\n",
            "[73]\tvalidation_0-auc:0.867219\tvalidation_1-auc:0.844193\n",
            "[74]\tvalidation_0-auc:0.8675\tvalidation_1-auc:0.844502\n",
            "[75]\tvalidation_0-auc:0.867775\tvalidation_1-auc:0.844501\n",
            "[76]\tvalidation_0-auc:0.868026\tvalidation_1-auc:0.844347\n",
            "[77]\tvalidation_0-auc:0.868407\tvalidation_1-auc:0.844345\n",
            "[78]\tvalidation_0-auc:0.868502\tvalidation_1-auc:0.844481\n",
            "[79]\tvalidation_0-auc:0.868876\tvalidation_1-auc:0.844508\n",
            "[80]\tvalidation_0-auc:0.869069\tvalidation_1-auc:0.844498\n",
            "[81]\tvalidation_0-auc:0.869287\tvalidation_1-auc:0.844366\n",
            "[82]\tvalidation_0-auc:0.869628\tvalidation_1-auc:0.844635\n",
            "[83]\tvalidation_0-auc:0.869831\tvalidation_1-auc:0.844432\n",
            "[84]\tvalidation_0-auc:0.870237\tvalidation_1-auc:0.844469\n",
            "[85]\tvalidation_0-auc:0.870455\tvalidation_1-auc:0.844428\n",
            "[86]\tvalidation_0-auc:0.870567\tvalidation_1-auc:0.844456\n",
            "[87]\tvalidation_0-auc:0.870776\tvalidation_1-auc:0.844275\n",
            "[88]\tvalidation_0-auc:0.870884\tvalidation_1-auc:0.844278\n",
            "[89]\tvalidation_0-auc:0.870985\tvalidation_1-auc:0.844299\n",
            "[90]\tvalidation_0-auc:0.871421\tvalidation_1-auc:0.844561\n",
            "[91]\tvalidation_0-auc:0.871615\tvalidation_1-auc:0.844774\n",
            "[92]\tvalidation_0-auc:0.871698\tvalidation_1-auc:0.844689\n",
            "[93]\tvalidation_0-auc:0.87192\tvalidation_1-auc:0.844697\n",
            "[94]\tvalidation_0-auc:0.872237\tvalidation_1-auc:0.845012\n",
            "[95]\tvalidation_0-auc:0.872387\tvalidation_1-auc:0.844927\n",
            "[96]\tvalidation_0-auc:0.872522\tvalidation_1-auc:0.8449\n",
            "[97]\tvalidation_0-auc:0.872666\tvalidation_1-auc:0.844818\n",
            "[98]\tvalidation_0-auc:0.872729\tvalidation_1-auc:0.844783\n",
            "[99]\tvalidation_0-auc:0.872827\tvalidation_1-auc:0.844876\n",
            "[0]\tvalidation_0-auc:0.721496\tvalidation_1-auc:0.726707\n",
            "Multiple eval metrics have been passed: 'validation_1-auc' will be used for early stopping.\n",
            "\n",
            "Will train until validation_1-auc hasn't improved in 30 rounds.\n",
            "[1]\tvalidation_0-auc:0.809965\tvalidation_1-auc:0.808886\n",
            "[2]\tvalidation_0-auc:0.804423\tvalidation_1-auc:0.807373\n",
            "[3]\tvalidation_0-auc:0.815189\tvalidation_1-auc:0.816603\n",
            "[4]\tvalidation_0-auc:0.824234\tvalidation_1-auc:0.823278\n",
            "[5]\tvalidation_0-auc:0.819568\tvalidation_1-auc:0.81934\n",
            "[6]\tvalidation_0-auc:0.819199\tvalidation_1-auc:0.818772\n",
            "[7]\tvalidation_0-auc:0.827364\tvalidation_1-auc:0.826183\n",
            "[8]\tvalidation_0-auc:0.831947\tvalidation_1-auc:0.829293\n",
            "[9]\tvalidation_0-auc:0.832248\tvalidation_1-auc:0.827116\n",
            "[10]\tvalidation_0-auc:0.836511\tvalidation_1-auc:0.829685\n",
            "[11]\tvalidation_0-auc:0.841032\tvalidation_1-auc:0.831312\n",
            "[12]\tvalidation_0-auc:0.843673\tvalidation_1-auc:0.831989\n",
            "[13]\tvalidation_0-auc:0.843697\tvalidation_1-auc:0.832132\n",
            "[14]\tvalidation_0-auc:0.843356\tvalidation_1-auc:0.830392\n",
            "[15]\tvalidation_0-auc:0.846759\tvalidation_1-auc:0.832371\n",
            "[16]\tvalidation_0-auc:0.849031\tvalidation_1-auc:0.835084\n",
            "[17]\tvalidation_0-auc:0.851348\tvalidation_1-auc:0.836316\n",
            "[18]\tvalidation_0-auc:0.85355\tvalidation_1-auc:0.836325\n",
            "[19]\tvalidation_0-auc:0.852407\tvalidation_1-auc:0.835902\n",
            "[20]\tvalidation_0-auc:0.855592\tvalidation_1-auc:0.836894\n",
            "[21]\tvalidation_0-auc:0.855578\tvalidation_1-auc:0.836338\n",
            "[22]\tvalidation_0-auc:0.855055\tvalidation_1-auc:0.834362\n",
            "[23]\tvalidation_0-auc:0.856969\tvalidation_1-auc:0.836256\n",
            "[24]\tvalidation_0-auc:0.859067\tvalidation_1-auc:0.837898\n",
            "[25]\tvalidation_0-auc:0.859464\tvalidation_1-auc:0.836324\n",
            "[26]\tvalidation_0-auc:0.860391\tvalidation_1-auc:0.836256\n",
            "[27]\tvalidation_0-auc:0.862288\tvalidation_1-auc:0.837648\n",
            "[28]\tvalidation_0-auc:0.864212\tvalidation_1-auc:0.837832\n",
            "[29]\tvalidation_0-auc:0.863904\tvalidation_1-auc:0.837949\n",
            "[30]\tvalidation_0-auc:0.865373\tvalidation_1-auc:0.838325\n",
            "[31]\tvalidation_0-auc:0.866804\tvalidation_1-auc:0.839286\n",
            "[32]\tvalidation_0-auc:0.867114\tvalidation_1-auc:0.838461\n",
            "[33]\tvalidation_0-auc:0.867559\tvalidation_1-auc:0.837837\n",
            "[34]\tvalidation_0-auc:0.867666\tvalidation_1-auc:0.836562\n",
            "[35]\tvalidation_0-auc:0.869961\tvalidation_1-auc:0.836628\n",
            "[36]\tvalidation_0-auc:0.871011\tvalidation_1-auc:0.836577\n",
            "[37]\tvalidation_0-auc:0.870972\tvalidation_1-auc:0.836148\n",
            "[38]\tvalidation_0-auc:0.871422\tvalidation_1-auc:0.835722\n",
            "[39]\tvalidation_0-auc:0.871905\tvalidation_1-auc:0.835613\n",
            "[40]\tvalidation_0-auc:0.872281\tvalidation_1-auc:0.834827\n",
            "[41]\tvalidation_0-auc:0.872395\tvalidation_1-auc:0.833926\n",
            "[42]\tvalidation_0-auc:0.873852\tvalidation_1-auc:0.834892\n",
            "[43]\tvalidation_0-auc:0.874157\tvalidation_1-auc:0.834373\n",
            "[44]\tvalidation_0-auc:0.875648\tvalidation_1-auc:0.835129\n",
            "[45]\tvalidation_0-auc:0.875628\tvalidation_1-auc:0.834753\n",
            "[46]\tvalidation_0-auc:0.877231\tvalidation_1-auc:0.835616\n",
            "[47]\tvalidation_0-auc:0.878061\tvalidation_1-auc:0.836021\n",
            "[48]\tvalidation_0-auc:0.878547\tvalidation_1-auc:0.835514\n",
            "[49]\tvalidation_0-auc:0.879086\tvalidation_1-auc:0.835455\n",
            "[50]\tvalidation_0-auc:0.879127\tvalidation_1-auc:0.835129\n",
            "[51]\tvalidation_0-auc:0.88007\tvalidation_1-auc:0.835644\n",
            "[52]\tvalidation_0-auc:0.880714\tvalidation_1-auc:0.836443\n",
            "[53]\tvalidation_0-auc:0.881303\tvalidation_1-auc:0.836826\n",
            "[54]\tvalidation_0-auc:0.882146\tvalidation_1-auc:0.837447\n",
            "[55]\tvalidation_0-auc:0.882624\tvalidation_1-auc:0.837519\n",
            "[56]\tvalidation_0-auc:0.883443\tvalidation_1-auc:0.837945\n",
            "[57]\tvalidation_0-auc:0.883778\tvalidation_1-auc:0.838073\n",
            "[58]\tvalidation_0-auc:0.883954\tvalidation_1-auc:0.837795\n",
            "[59]\tvalidation_0-auc:0.884016\tvalidation_1-auc:0.837775\n",
            "[60]\tvalidation_0-auc:0.884359\tvalidation_1-auc:0.837802\n",
            "[61]\tvalidation_0-auc:0.884522\tvalidation_1-auc:0.837715\n",
            "Stopping. Best iteration:\n",
            "[31]\tvalidation_0-auc:0.866804\tvalidation_1-auc:0.839286\n",
            "\n",
            "[0]\tvalidation_0-auc:0.721852\tvalidation_1-auc:0.729741\n",
            "Multiple eval metrics have been passed: 'validation_1-auc' will be used for early stopping.\n",
            "\n",
            "Will train until validation_1-auc hasn't improved in 30 rounds.\n",
            "[1]\tvalidation_0-auc:0.824968\tvalidation_1-auc:0.818662\n",
            "[2]\tvalidation_0-auc:0.811627\tvalidation_1-auc:0.807607\n",
            "[3]\tvalidation_0-auc:0.82329\tvalidation_1-auc:0.817608\n",
            "[4]\tvalidation_0-auc:0.833891\tvalidation_1-auc:0.827183\n",
            "[5]\tvalidation_0-auc:0.829346\tvalidation_1-auc:0.823173\n",
            "[6]\tvalidation_0-auc:0.830657\tvalidation_1-auc:0.823193\n",
            "[7]\tvalidation_0-auc:0.837086\tvalidation_1-auc:0.828277\n",
            "[8]\tvalidation_0-auc:0.841806\tvalidation_1-auc:0.831828\n",
            "[9]\tvalidation_0-auc:0.841538\tvalidation_1-auc:0.830374\n",
            "[10]\tvalidation_0-auc:0.845563\tvalidation_1-auc:0.83196\n",
            "[11]\tvalidation_0-auc:0.84837\tvalidation_1-auc:0.833777\n",
            "[12]\tvalidation_0-auc:0.850042\tvalidation_1-auc:0.835125\n",
            "[13]\tvalidation_0-auc:0.849995\tvalidation_1-auc:0.834788\n",
            "[14]\tvalidation_0-auc:0.849859\tvalidation_1-auc:0.834909\n",
            "[15]\tvalidation_0-auc:0.851605\tvalidation_1-auc:0.836277\n",
            "[16]\tvalidation_0-auc:0.853452\tvalidation_1-auc:0.837431\n",
            "[17]\tvalidation_0-auc:0.855172\tvalidation_1-auc:0.838325\n",
            "[18]\tvalidation_0-auc:0.857132\tvalidation_1-auc:0.839208\n",
            "[19]\tvalidation_0-auc:0.8564\tvalidation_1-auc:0.837968\n",
            "[20]\tvalidation_0-auc:0.858287\tvalidation_1-auc:0.839085\n",
            "[21]\tvalidation_0-auc:0.858191\tvalidation_1-auc:0.838306\n",
            "[22]\tvalidation_0-auc:0.857245\tvalidation_1-auc:0.837761\n",
            "[23]\tvalidation_0-auc:0.859056\tvalidation_1-auc:0.837954\n",
            "[24]\tvalidation_0-auc:0.860289\tvalidation_1-auc:0.839127\n",
            "[25]\tvalidation_0-auc:0.860264\tvalidation_1-auc:0.8387\n",
            "[26]\tvalidation_0-auc:0.860721\tvalidation_1-auc:0.837906\n",
            "[27]\tvalidation_0-auc:0.862613\tvalidation_1-auc:0.838745\n",
            "[28]\tvalidation_0-auc:0.865302\tvalidation_1-auc:0.839211\n",
            "[29]\tvalidation_0-auc:0.865292\tvalidation_1-auc:0.839237\n",
            "[30]\tvalidation_0-auc:0.867375\tvalidation_1-auc:0.840455\n",
            "[31]\tvalidation_0-auc:0.86852\tvalidation_1-auc:0.840871\n",
            "[32]\tvalidation_0-auc:0.868741\tvalidation_1-auc:0.841175\n",
            "[33]\tvalidation_0-auc:0.869048\tvalidation_1-auc:0.840628\n",
            "[34]\tvalidation_0-auc:0.869342\tvalidation_1-auc:0.840729\n",
            "[35]\tvalidation_0-auc:0.871566\tvalidation_1-auc:0.841219\n",
            "[36]\tvalidation_0-auc:0.873492\tvalidation_1-auc:0.840915\n",
            "[37]\tvalidation_0-auc:0.874299\tvalidation_1-auc:0.840465\n",
            "[38]\tvalidation_0-auc:0.874655\tvalidation_1-auc:0.840485\n",
            "[39]\tvalidation_0-auc:0.874847\tvalidation_1-auc:0.840203\n",
            "[40]\tvalidation_0-auc:0.875159\tvalidation_1-auc:0.840102\n",
            "[41]\tvalidation_0-auc:0.875529\tvalidation_1-auc:0.839511\n",
            "[42]\tvalidation_0-auc:0.877026\tvalidation_1-auc:0.840488\n",
            "[43]\tvalidation_0-auc:0.877419\tvalidation_1-auc:0.840208\n",
            "[44]\tvalidation_0-auc:0.879016\tvalidation_1-auc:0.84099\n",
            "[45]\tvalidation_0-auc:0.879153\tvalidation_1-auc:0.840842\n",
            "[46]\tvalidation_0-auc:0.880492\tvalidation_1-auc:0.841556\n",
            "[47]\tvalidation_0-auc:0.881414\tvalidation_1-auc:0.842307\n",
            "[48]\tvalidation_0-auc:0.881847\tvalidation_1-auc:0.841924\n",
            "[49]\tvalidation_0-auc:0.882674\tvalidation_1-auc:0.841676\n",
            "[50]\tvalidation_0-auc:0.882941\tvalidation_1-auc:0.841496\n",
            "[51]\tvalidation_0-auc:0.884039\tvalidation_1-auc:0.841947\n",
            "[52]\tvalidation_0-auc:0.884793\tvalidation_1-auc:0.84327\n",
            "[53]\tvalidation_0-auc:0.885307\tvalidation_1-auc:0.843731\n",
            "[54]\tvalidation_0-auc:0.885993\tvalidation_1-auc:0.844561\n",
            "[55]\tvalidation_0-auc:0.886369\tvalidation_1-auc:0.844176\n",
            "[56]\tvalidation_0-auc:0.886916\tvalidation_1-auc:0.844708\n",
            "[57]\tvalidation_0-auc:0.887549\tvalidation_1-auc:0.844807\n",
            "[58]\tvalidation_0-auc:0.887958\tvalidation_1-auc:0.844422\n",
            "[59]\tvalidation_0-auc:0.888112\tvalidation_1-auc:0.844511\n",
            "[60]\tvalidation_0-auc:0.888529\tvalidation_1-auc:0.844899\n",
            "[61]\tvalidation_0-auc:0.88888\tvalidation_1-auc:0.844656\n",
            "[62]\tvalidation_0-auc:0.889315\tvalidation_1-auc:0.845129\n",
            "[63]\tvalidation_0-auc:0.889722\tvalidation_1-auc:0.845171\n",
            "[64]\tvalidation_0-auc:0.889863\tvalidation_1-auc:0.845192\n",
            "[65]\tvalidation_0-auc:0.890132\tvalidation_1-auc:0.845061\n",
            "[66]\tvalidation_0-auc:0.890207\tvalidation_1-auc:0.845071\n",
            "[67]\tvalidation_0-auc:0.890589\tvalidation_1-auc:0.845307\n",
            "[68]\tvalidation_0-auc:0.89087\tvalidation_1-auc:0.845047\n",
            "[69]\tvalidation_0-auc:0.891118\tvalidation_1-auc:0.844989\n",
            "[70]\tvalidation_0-auc:0.89132\tvalidation_1-auc:0.845042\n",
            "[71]\tvalidation_0-auc:0.891877\tvalidation_1-auc:0.844889\n",
            "[72]\tvalidation_0-auc:0.892046\tvalidation_1-auc:0.844716\n",
            "[73]\tvalidation_0-auc:0.892287\tvalidation_1-auc:0.844496\n",
            "[74]\tvalidation_0-auc:0.892425\tvalidation_1-auc:0.844489\n",
            "[75]\tvalidation_0-auc:0.892746\tvalidation_1-auc:0.84455\n",
            "[76]\tvalidation_0-auc:0.892764\tvalidation_1-auc:0.844444\n",
            "[77]\tvalidation_0-auc:0.892957\tvalidation_1-auc:0.844356\n",
            "[78]\tvalidation_0-auc:0.893228\tvalidation_1-auc:0.84433\n",
            "[79]\tvalidation_0-auc:0.893375\tvalidation_1-auc:0.844108\n",
            "[80]\tvalidation_0-auc:0.893476\tvalidation_1-auc:0.844037\n",
            "[81]\tvalidation_0-auc:0.893656\tvalidation_1-auc:0.844067\n",
            "[82]\tvalidation_0-auc:0.893838\tvalidation_1-auc:0.843845\n",
            "[83]\tvalidation_0-auc:0.894993\tvalidation_1-auc:0.84388\n",
            "[84]\tvalidation_0-auc:0.895174\tvalidation_1-auc:0.843781\n",
            "[85]\tvalidation_0-auc:0.895171\tvalidation_1-auc:0.844018\n",
            "[86]\tvalidation_0-auc:0.895293\tvalidation_1-auc:0.843721\n",
            "[87]\tvalidation_0-auc:0.895377\tvalidation_1-auc:0.843689\n",
            "[88]\tvalidation_0-auc:0.895614\tvalidation_1-auc:0.8435\n",
            "[89]\tvalidation_0-auc:0.895597\tvalidation_1-auc:0.84341\n",
            "[90]\tvalidation_0-auc:0.896023\tvalidation_1-auc:0.843738\n",
            "[91]\tvalidation_0-auc:0.896194\tvalidation_1-auc:0.843675\n",
            "[92]\tvalidation_0-auc:0.896304\tvalidation_1-auc:0.843666\n",
            "[93]\tvalidation_0-auc:0.896388\tvalidation_1-auc:0.8436\n",
            "[94]\tvalidation_0-auc:0.89645\tvalidation_1-auc:0.843586\n",
            "[95]\tvalidation_0-auc:0.896973\tvalidation_1-auc:0.843312\n",
            "[96]\tvalidation_0-auc:0.897076\tvalidation_1-auc:0.843296\n",
            "[97]\tvalidation_0-auc:0.897856\tvalidation_1-auc:0.843375\n",
            "Stopping. Best iteration:\n",
            "[67]\tvalidation_0-auc:0.890589\tvalidation_1-auc:0.845307\n",
            "\n",
            "[0]\tvalidation_0-auc:0.736837\tvalidation_1-auc:0.734096\n",
            "Multiple eval metrics have been passed: 'validation_1-auc' will be used for early stopping.\n",
            "\n",
            "Will train until validation_1-auc hasn't improved in 30 rounds.\n",
            "[1]\tvalidation_0-auc:0.822075\tvalidation_1-auc:0.815713\n",
            "[2]\tvalidation_0-auc:0.814378\tvalidation_1-auc:0.806912\n",
            "[3]\tvalidation_0-auc:0.828328\tvalidation_1-auc:0.821227\n",
            "[4]\tvalidation_0-auc:0.832905\tvalidation_1-auc:0.82557\n",
            "[5]\tvalidation_0-auc:0.82954\tvalidation_1-auc:0.82286\n",
            "[6]\tvalidation_0-auc:0.830212\tvalidation_1-auc:0.822257\n",
            "[7]\tvalidation_0-auc:0.83366\tvalidation_1-auc:0.825984\n",
            "[8]\tvalidation_0-auc:0.839052\tvalidation_1-auc:0.82913\n",
            "[9]\tvalidation_0-auc:0.838785\tvalidation_1-auc:0.828546\n",
            "[10]\tvalidation_0-auc:0.843474\tvalidation_1-auc:0.83089\n",
            "[11]\tvalidation_0-auc:0.845716\tvalidation_1-auc:0.833826\n",
            "[12]\tvalidation_0-auc:0.847837\tvalidation_1-auc:0.835021\n",
            "[13]\tvalidation_0-auc:0.848858\tvalidation_1-auc:0.834504\n",
            "[14]\tvalidation_0-auc:0.849274\tvalidation_1-auc:0.833858\n",
            "[15]\tvalidation_0-auc:0.850754\tvalidation_1-auc:0.835603\n",
            "[16]\tvalidation_0-auc:0.853107\tvalidation_1-auc:0.836578\n",
            "[17]\tvalidation_0-auc:0.854776\tvalidation_1-auc:0.83825\n",
            "[18]\tvalidation_0-auc:0.856721\tvalidation_1-auc:0.838449\n",
            "[19]\tvalidation_0-auc:0.856305\tvalidation_1-auc:0.837239\n",
            "[20]\tvalidation_0-auc:0.857456\tvalidation_1-auc:0.837848\n",
            "[21]\tvalidation_0-auc:0.858567\tvalidation_1-auc:0.837478\n",
            "[22]\tvalidation_0-auc:0.858185\tvalidation_1-auc:0.837257\n",
            "[23]\tvalidation_0-auc:0.859682\tvalidation_1-auc:0.837975\n",
            "[24]\tvalidation_0-auc:0.860729\tvalidation_1-auc:0.838836\n",
            "[25]\tvalidation_0-auc:0.861018\tvalidation_1-auc:0.838141\n",
            "[26]\tvalidation_0-auc:0.861195\tvalidation_1-auc:0.837487\n",
            "[27]\tvalidation_0-auc:0.862986\tvalidation_1-auc:0.838746\n",
            "[28]\tvalidation_0-auc:0.864711\tvalidation_1-auc:0.838145\n",
            "[29]\tvalidation_0-auc:0.865095\tvalidation_1-auc:0.83789\n",
            "[30]\tvalidation_0-auc:0.866268\tvalidation_1-auc:0.838582\n",
            "[31]\tvalidation_0-auc:0.868945\tvalidation_1-auc:0.839953\n",
            "[32]\tvalidation_0-auc:0.869195\tvalidation_1-auc:0.838404\n",
            "[33]\tvalidation_0-auc:0.86929\tvalidation_1-auc:0.838393\n",
            "[34]\tvalidation_0-auc:0.869764\tvalidation_1-auc:0.837902\n",
            "[35]\tvalidation_0-auc:0.871924\tvalidation_1-auc:0.838777\n",
            "[36]\tvalidation_0-auc:0.873955\tvalidation_1-auc:0.839258\n",
            "[37]\tvalidation_0-auc:0.873879\tvalidation_1-auc:0.838305\n",
            "[38]\tvalidation_0-auc:0.874233\tvalidation_1-auc:0.838635\n",
            "[39]\tvalidation_0-auc:0.87411\tvalidation_1-auc:0.838559\n",
            "[40]\tvalidation_0-auc:0.874665\tvalidation_1-auc:0.837974\n",
            "[41]\tvalidation_0-auc:0.874859\tvalidation_1-auc:0.837601\n",
            "[42]\tvalidation_0-auc:0.876514\tvalidation_1-auc:0.839142\n",
            "[43]\tvalidation_0-auc:0.877022\tvalidation_1-auc:0.837588\n",
            "[44]\tvalidation_0-auc:0.877958\tvalidation_1-auc:0.839181\n",
            "[45]\tvalidation_0-auc:0.878217\tvalidation_1-auc:0.838371\n",
            "[46]\tvalidation_0-auc:0.879275\tvalidation_1-auc:0.83943\n",
            "[47]\tvalidation_0-auc:0.880126\tvalidation_1-auc:0.840181\n",
            "[48]\tvalidation_0-auc:0.880644\tvalidation_1-auc:0.840432\n",
            "[49]\tvalidation_0-auc:0.881244\tvalidation_1-auc:0.839908\n",
            "[50]\tvalidation_0-auc:0.88159\tvalidation_1-auc:0.839481\n",
            "[51]\tvalidation_0-auc:0.88245\tvalidation_1-auc:0.840332\n",
            "[52]\tvalidation_0-auc:0.883218\tvalidation_1-auc:0.841567\n",
            "[53]\tvalidation_0-auc:0.883587\tvalidation_1-auc:0.842137\n",
            "[54]\tvalidation_0-auc:0.884225\tvalidation_1-auc:0.84312\n",
            "[55]\tvalidation_0-auc:0.884796\tvalidation_1-auc:0.842681\n",
            "[56]\tvalidation_0-auc:0.885435\tvalidation_1-auc:0.842759\n",
            "[57]\tvalidation_0-auc:0.885805\tvalidation_1-auc:0.843069\n",
            "[58]\tvalidation_0-auc:0.88599\tvalidation_1-auc:0.84302\n",
            "[59]\tvalidation_0-auc:0.886291\tvalidation_1-auc:0.842994\n",
            "[60]\tvalidation_0-auc:0.886702\tvalidation_1-auc:0.842943\n",
            "[61]\tvalidation_0-auc:0.887043\tvalidation_1-auc:0.843067\n",
            "[62]\tvalidation_0-auc:0.887658\tvalidation_1-auc:0.842986\n",
            "[63]\tvalidation_0-auc:0.888136\tvalidation_1-auc:0.842724\n",
            "[64]\tvalidation_0-auc:0.888304\tvalidation_1-auc:0.842862\n",
            "[65]\tvalidation_0-auc:0.888781\tvalidation_1-auc:0.842881\n",
            "[66]\tvalidation_0-auc:0.888818\tvalidation_1-auc:0.842784\n",
            "[67]\tvalidation_0-auc:0.889112\tvalidation_1-auc:0.842866\n",
            "[68]\tvalidation_0-auc:0.88954\tvalidation_1-auc:0.842724\n",
            "[69]\tvalidation_0-auc:0.889782\tvalidation_1-auc:0.843137\n",
            "[70]\tvalidation_0-auc:0.890054\tvalidation_1-auc:0.843244\n",
            "[71]\tvalidation_0-auc:0.8904\tvalidation_1-auc:0.843429\n",
            "[72]\tvalidation_0-auc:0.890421\tvalidation_1-auc:0.843302\n",
            "[73]\tvalidation_0-auc:0.890522\tvalidation_1-auc:0.843296\n",
            "[74]\tvalidation_0-auc:0.890696\tvalidation_1-auc:0.843138\n",
            "[75]\tvalidation_0-auc:0.891228\tvalidation_1-auc:0.84305\n",
            "[76]\tvalidation_0-auc:0.891385\tvalidation_1-auc:0.843135\n",
            "[77]\tvalidation_0-auc:0.891696\tvalidation_1-auc:0.843313\n",
            "[78]\tvalidation_0-auc:0.892108\tvalidation_1-auc:0.842961\n",
            "[79]\tvalidation_0-auc:0.892415\tvalidation_1-auc:0.84296\n",
            "[80]\tvalidation_0-auc:0.892525\tvalidation_1-auc:0.842838\n",
            "[81]\tvalidation_0-auc:0.892587\tvalidation_1-auc:0.842957\n",
            "[82]\tvalidation_0-auc:0.892676\tvalidation_1-auc:0.842868\n",
            "[83]\tvalidation_0-auc:0.8931\tvalidation_1-auc:0.842723\n",
            "[84]\tvalidation_0-auc:0.893336\tvalidation_1-auc:0.842584\n",
            "[85]\tvalidation_0-auc:0.893412\tvalidation_1-auc:0.842546\n",
            "[86]\tvalidation_0-auc:0.893478\tvalidation_1-auc:0.842503\n",
            "[87]\tvalidation_0-auc:0.893648\tvalidation_1-auc:0.842702\n",
            "[88]\tvalidation_0-auc:0.893826\tvalidation_1-auc:0.84267\n",
            "[89]\tvalidation_0-auc:0.893879\tvalidation_1-auc:0.842638\n",
            "[90]\tvalidation_0-auc:0.894313\tvalidation_1-auc:0.842514\n",
            "[91]\tvalidation_0-auc:0.894686\tvalidation_1-auc:0.842494\n",
            "[92]\tvalidation_0-auc:0.894798\tvalidation_1-auc:0.84253\n",
            "[93]\tvalidation_0-auc:0.894806\tvalidation_1-auc:0.842548\n",
            "[94]\tvalidation_0-auc:0.894932\tvalidation_1-auc:0.842466\n",
            "[95]\tvalidation_0-auc:0.894964\tvalidation_1-auc:0.842348\n",
            "[96]\tvalidation_0-auc:0.89511\tvalidation_1-auc:0.842204\n",
            "[97]\tvalidation_0-auc:0.895132\tvalidation_1-auc:0.842239\n",
            "[98]\tvalidation_0-auc:0.895264\tvalidation_1-auc:0.842069\n",
            "[99]\tvalidation_0-auc:0.895378\tvalidation_1-auc:0.842211\n",
            "[0]\tvalidation_0-auc:0.717208\tvalidation_1-auc:0.727812\n",
            "Multiple eval metrics have been passed: 'validation_1-auc' will be used for early stopping.\n",
            "\n",
            "Will train until validation_1-auc hasn't improved in 30 rounds.\n",
            "[1]\tvalidation_0-auc:0.809957\tvalidation_1-auc:0.813173\n",
            "[2]\tvalidation_0-auc:0.804055\tvalidation_1-auc:0.809725\n",
            "[3]\tvalidation_0-auc:0.81577\tvalidation_1-auc:0.82072\n",
            "[4]\tvalidation_0-auc:0.824793\tvalidation_1-auc:0.827543\n",
            "[5]\tvalidation_0-auc:0.819261\tvalidation_1-auc:0.823103\n",
            "[6]\tvalidation_0-auc:0.820551\tvalidation_1-auc:0.824133\n",
            "[7]\tvalidation_0-auc:0.827873\tvalidation_1-auc:0.830089\n",
            "[8]\tvalidation_0-auc:0.832632\tvalidation_1-auc:0.833063\n",
            "[9]\tvalidation_0-auc:0.83316\tvalidation_1-auc:0.830918\n",
            "[10]\tvalidation_0-auc:0.837133\tvalidation_1-auc:0.833035\n",
            "[11]\tvalidation_0-auc:0.840495\tvalidation_1-auc:0.834788\n",
            "[12]\tvalidation_0-auc:0.842871\tvalidation_1-auc:0.835318\n",
            "[13]\tvalidation_0-auc:0.843048\tvalidation_1-auc:0.833392\n",
            "[14]\tvalidation_0-auc:0.841936\tvalidation_1-auc:0.831048\n",
            "[15]\tvalidation_0-auc:0.845077\tvalidation_1-auc:0.833094\n",
            "[16]\tvalidation_0-auc:0.847639\tvalidation_1-auc:0.83394\n",
            "[17]\tvalidation_0-auc:0.85058\tvalidation_1-auc:0.835537\n",
            "[18]\tvalidation_0-auc:0.852488\tvalidation_1-auc:0.836913\n",
            "[19]\tvalidation_0-auc:0.851413\tvalidation_1-auc:0.83678\n",
            "[20]\tvalidation_0-auc:0.853824\tvalidation_1-auc:0.837786\n",
            "[21]\tvalidation_0-auc:0.853711\tvalidation_1-auc:0.836986\n",
            "[22]\tvalidation_0-auc:0.852989\tvalidation_1-auc:0.835059\n",
            "[23]\tvalidation_0-auc:0.855112\tvalidation_1-auc:0.836803\n",
            "[24]\tvalidation_0-auc:0.856859\tvalidation_1-auc:0.838802\n",
            "[25]\tvalidation_0-auc:0.85723\tvalidation_1-auc:0.83782\n",
            "[26]\tvalidation_0-auc:0.857535\tvalidation_1-auc:0.836375\n",
            "[27]\tvalidation_0-auc:0.85929\tvalidation_1-auc:0.837784\n",
            "[28]\tvalidation_0-auc:0.860972\tvalidation_1-auc:0.837979\n",
            "[29]\tvalidation_0-auc:0.860682\tvalidation_1-auc:0.837827\n",
            "[30]\tvalidation_0-auc:0.862143\tvalidation_1-auc:0.838806\n",
            "[31]\tvalidation_0-auc:0.863184\tvalidation_1-auc:0.839024\n",
            "[32]\tvalidation_0-auc:0.863638\tvalidation_1-auc:0.838132\n",
            "[33]\tvalidation_0-auc:0.864268\tvalidation_1-auc:0.838288\n",
            "[34]\tvalidation_0-auc:0.8644\tvalidation_1-auc:0.837221\n",
            "[35]\tvalidation_0-auc:0.866468\tvalidation_1-auc:0.83754\n",
            "[36]\tvalidation_0-auc:0.868094\tvalidation_1-auc:0.837253\n",
            "[37]\tvalidation_0-auc:0.868158\tvalidation_1-auc:0.836198\n",
            "[38]\tvalidation_0-auc:0.86853\tvalidation_1-auc:0.83631\n",
            "[39]\tvalidation_0-auc:0.868816\tvalidation_1-auc:0.835584\n",
            "[40]\tvalidation_0-auc:0.869055\tvalidation_1-auc:0.835015\n",
            "[41]\tvalidation_0-auc:0.868957\tvalidation_1-auc:0.83423\n",
            "[42]\tvalidation_0-auc:0.8702\tvalidation_1-auc:0.835477\n",
            "[43]\tvalidation_0-auc:0.870314\tvalidation_1-auc:0.835114\n",
            "[44]\tvalidation_0-auc:0.871716\tvalidation_1-auc:0.836462\n",
            "[45]\tvalidation_0-auc:0.871663\tvalidation_1-auc:0.835655\n",
            "[46]\tvalidation_0-auc:0.87289\tvalidation_1-auc:0.836004\n",
            "[47]\tvalidation_0-auc:0.873749\tvalidation_1-auc:0.836711\n",
            "[48]\tvalidation_0-auc:0.873994\tvalidation_1-auc:0.835913\n",
            "[49]\tvalidation_0-auc:0.874252\tvalidation_1-auc:0.836036\n",
            "[50]\tvalidation_0-auc:0.874346\tvalidation_1-auc:0.835422\n",
            "[51]\tvalidation_0-auc:0.875219\tvalidation_1-auc:0.835616\n",
            "[52]\tvalidation_0-auc:0.875905\tvalidation_1-auc:0.836612\n",
            "[53]\tvalidation_0-auc:0.87616\tvalidation_1-auc:0.836856\n",
            "[54]\tvalidation_0-auc:0.876668\tvalidation_1-auc:0.837305\n",
            "[55]\tvalidation_0-auc:0.877203\tvalidation_1-auc:0.837424\n",
            "[56]\tvalidation_0-auc:0.877871\tvalidation_1-auc:0.837733\n",
            "[57]\tvalidation_0-auc:0.878483\tvalidation_1-auc:0.838024\n",
            "[58]\tvalidation_0-auc:0.878805\tvalidation_1-auc:0.837882\n",
            "[59]\tvalidation_0-auc:0.878856\tvalidation_1-auc:0.838006\n",
            "[60]\tvalidation_0-auc:0.87908\tvalidation_1-auc:0.838053\n",
            "[61]\tvalidation_0-auc:0.879399\tvalidation_1-auc:0.838226\n",
            "Stopping. Best iteration:\n",
            "[31]\tvalidation_0-auc:0.863184\tvalidation_1-auc:0.839024\n",
            "\n",
            "[0]\tvalidation_0-auc:0.721794\tvalidation_1-auc:0.729972\n",
            "Multiple eval metrics have been passed: 'validation_1-auc' will be used for early stopping.\n",
            "\n",
            "Will train until validation_1-auc hasn't improved in 30 rounds.\n",
            "[1]\tvalidation_0-auc:0.816181\tvalidation_1-auc:0.815593\n",
            "[2]\tvalidation_0-auc:0.810598\tvalidation_1-auc:0.812182\n",
            "[3]\tvalidation_0-auc:0.824917\tvalidation_1-auc:0.824015\n",
            "[4]\tvalidation_0-auc:0.834639\tvalidation_1-auc:0.829669\n",
            "[5]\tvalidation_0-auc:0.832167\tvalidation_1-auc:0.829229\n",
            "[6]\tvalidation_0-auc:0.831205\tvalidation_1-auc:0.828053\n",
            "[7]\tvalidation_0-auc:0.837774\tvalidation_1-auc:0.832927\n",
            "[8]\tvalidation_0-auc:0.841743\tvalidation_1-auc:0.835199\n",
            "[9]\tvalidation_0-auc:0.842553\tvalidation_1-auc:0.834179\n",
            "[10]\tvalidation_0-auc:0.84541\tvalidation_1-auc:0.835147\n",
            "[11]\tvalidation_0-auc:0.847807\tvalidation_1-auc:0.835784\n",
            "[12]\tvalidation_0-auc:0.850016\tvalidation_1-auc:0.836682\n",
            "[13]\tvalidation_0-auc:0.850301\tvalidation_1-auc:0.835513\n",
            "[14]\tvalidation_0-auc:0.849382\tvalidation_1-auc:0.833526\n",
            "[15]\tvalidation_0-auc:0.851464\tvalidation_1-auc:0.834944\n",
            "[16]\tvalidation_0-auc:0.85302\tvalidation_1-auc:0.83602\n",
            "[17]\tvalidation_0-auc:0.854222\tvalidation_1-auc:0.836695\n",
            "[18]\tvalidation_0-auc:0.855732\tvalidation_1-auc:0.838239\n",
            "[19]\tvalidation_0-auc:0.854741\tvalidation_1-auc:0.837167\n",
            "[20]\tvalidation_0-auc:0.8566\tvalidation_1-auc:0.838265\n",
            "[21]\tvalidation_0-auc:0.85613\tvalidation_1-auc:0.837162\n",
            "[22]\tvalidation_0-auc:0.855438\tvalidation_1-auc:0.836908\n",
            "[23]\tvalidation_0-auc:0.857481\tvalidation_1-auc:0.838229\n",
            "[24]\tvalidation_0-auc:0.858208\tvalidation_1-auc:0.839009\n",
            "[25]\tvalidation_0-auc:0.858366\tvalidation_1-auc:0.838833\n",
            "[26]\tvalidation_0-auc:0.858753\tvalidation_1-auc:0.837925\n",
            "[27]\tvalidation_0-auc:0.860394\tvalidation_1-auc:0.839149\n",
            "[28]\tvalidation_0-auc:0.862688\tvalidation_1-auc:0.839698\n",
            "[29]\tvalidation_0-auc:0.862355\tvalidation_1-auc:0.840014\n",
            "[30]\tvalidation_0-auc:0.863569\tvalidation_1-auc:0.840711\n",
            "[31]\tvalidation_0-auc:0.864699\tvalidation_1-auc:0.841399\n",
            "[32]\tvalidation_0-auc:0.865096\tvalidation_1-auc:0.840424\n",
            "[33]\tvalidation_0-auc:0.865341\tvalidation_1-auc:0.839835\n",
            "[34]\tvalidation_0-auc:0.865459\tvalidation_1-auc:0.839838\n",
            "[35]\tvalidation_0-auc:0.867656\tvalidation_1-auc:0.840522\n",
            "[36]\tvalidation_0-auc:0.869286\tvalidation_1-auc:0.839804\n",
            "[37]\tvalidation_0-auc:0.869651\tvalidation_1-auc:0.839773\n",
            "[38]\tvalidation_0-auc:0.869688\tvalidation_1-auc:0.839816\n",
            "[39]\tvalidation_0-auc:0.869731\tvalidation_1-auc:0.839632\n",
            "[40]\tvalidation_0-auc:0.870363\tvalidation_1-auc:0.839722\n",
            "[41]\tvalidation_0-auc:0.870685\tvalidation_1-auc:0.839221\n",
            "[42]\tvalidation_0-auc:0.87202\tvalidation_1-auc:0.840292\n",
            "[43]\tvalidation_0-auc:0.872136\tvalidation_1-auc:0.83994\n",
            "[44]\tvalidation_0-auc:0.873539\tvalidation_1-auc:0.84048\n",
            "[45]\tvalidation_0-auc:0.873524\tvalidation_1-auc:0.840246\n",
            "[46]\tvalidation_0-auc:0.874717\tvalidation_1-auc:0.840206\n",
            "[47]\tvalidation_0-auc:0.875518\tvalidation_1-auc:0.840808\n",
            "[48]\tvalidation_0-auc:0.875837\tvalidation_1-auc:0.840365\n",
            "[49]\tvalidation_0-auc:0.876385\tvalidation_1-auc:0.840312\n",
            "[50]\tvalidation_0-auc:0.876694\tvalidation_1-auc:0.840388\n",
            "[51]\tvalidation_0-auc:0.877755\tvalidation_1-auc:0.840863\n",
            "[52]\tvalidation_0-auc:0.878419\tvalidation_1-auc:0.841462\n",
            "[53]\tvalidation_0-auc:0.878754\tvalidation_1-auc:0.841966\n",
            "[54]\tvalidation_0-auc:0.879199\tvalidation_1-auc:0.842321\n",
            "[55]\tvalidation_0-auc:0.87937\tvalidation_1-auc:0.842262\n",
            "[56]\tvalidation_0-auc:0.879922\tvalidation_1-auc:0.842194\n",
            "[57]\tvalidation_0-auc:0.880332\tvalidation_1-auc:0.842589\n",
            "[58]\tvalidation_0-auc:0.880693\tvalidation_1-auc:0.842193\n",
            "[59]\tvalidation_0-auc:0.880801\tvalidation_1-auc:0.842166\n",
            "[60]\tvalidation_0-auc:0.881292\tvalidation_1-auc:0.842486\n",
            "[61]\tvalidation_0-auc:0.881506\tvalidation_1-auc:0.842324\n",
            "[62]\tvalidation_0-auc:0.881644\tvalidation_1-auc:0.842545\n",
            "[63]\tvalidation_0-auc:0.882057\tvalidation_1-auc:0.842886\n",
            "[64]\tvalidation_0-auc:0.882231\tvalidation_1-auc:0.843051\n",
            "[65]\tvalidation_0-auc:0.882333\tvalidation_1-auc:0.843298\n",
            "[66]\tvalidation_0-auc:0.882522\tvalidation_1-auc:0.843285\n",
            "[67]\tvalidation_0-auc:0.882853\tvalidation_1-auc:0.843175\n",
            "[68]\tvalidation_0-auc:0.883077\tvalidation_1-auc:0.842843\n",
            "[69]\tvalidation_0-auc:0.883102\tvalidation_1-auc:0.842817\n",
            "[70]\tvalidation_0-auc:0.883244\tvalidation_1-auc:0.842759\n",
            "[71]\tvalidation_0-auc:0.883563\tvalidation_1-auc:0.842654\n",
            "[72]\tvalidation_0-auc:0.88363\tvalidation_1-auc:0.842766\n",
            "[73]\tvalidation_0-auc:0.883787\tvalidation_1-auc:0.842715\n",
            "[74]\tvalidation_0-auc:0.883861\tvalidation_1-auc:0.842653\n",
            "[75]\tvalidation_0-auc:0.884056\tvalidation_1-auc:0.842675\n",
            "[76]\tvalidation_0-auc:0.884047\tvalidation_1-auc:0.842791\n",
            "[77]\tvalidation_0-auc:0.884179\tvalidation_1-auc:0.84294\n",
            "[78]\tvalidation_0-auc:0.884755\tvalidation_1-auc:0.842701\n",
            "[79]\tvalidation_0-auc:0.885294\tvalidation_1-auc:0.842159\n",
            "[80]\tvalidation_0-auc:0.885398\tvalidation_1-auc:0.842174\n",
            "[81]\tvalidation_0-auc:0.885486\tvalidation_1-auc:0.842058\n",
            "[82]\tvalidation_0-auc:0.885613\tvalidation_1-auc:0.841956\n",
            "[83]\tvalidation_0-auc:0.88573\tvalidation_1-auc:0.841794\n",
            "[84]\tvalidation_0-auc:0.885793\tvalidation_1-auc:0.841666\n",
            "[85]\tvalidation_0-auc:0.885933\tvalidation_1-auc:0.841707\n",
            "[86]\tvalidation_0-auc:0.886325\tvalidation_1-auc:0.841527\n",
            "[87]\tvalidation_0-auc:0.886641\tvalidation_1-auc:0.841514\n",
            "[88]\tvalidation_0-auc:0.886843\tvalidation_1-auc:0.841313\n",
            "[89]\tvalidation_0-auc:0.886922\tvalidation_1-auc:0.841269\n",
            "[90]\tvalidation_0-auc:0.88708\tvalidation_1-auc:0.841121\n",
            "[91]\tvalidation_0-auc:0.887483\tvalidation_1-auc:0.841168\n",
            "[92]\tvalidation_0-auc:0.887526\tvalidation_1-auc:0.841218\n",
            "[93]\tvalidation_0-auc:0.887624\tvalidation_1-auc:0.841148\n",
            "[94]\tvalidation_0-auc:0.887677\tvalidation_1-auc:0.841117\n",
            "[95]\tvalidation_0-auc:0.887879\tvalidation_1-auc:0.841299\n",
            "Stopping. Best iteration:\n",
            "[65]\tvalidation_0-auc:0.882333\tvalidation_1-auc:0.843298\n",
            "\n",
            "[0]\tvalidation_0-auc:0.740963\tvalidation_1-auc:0.745305\n",
            "Multiple eval metrics have been passed: 'validation_1-auc' will be used for early stopping.\n",
            "\n",
            "Will train until validation_1-auc hasn't improved in 30 rounds.\n",
            "[1]\tvalidation_0-auc:0.82294\tvalidation_1-auc:0.821542\n",
            "[2]\tvalidation_0-auc:0.813813\tvalidation_1-auc:0.809933\n",
            "[3]\tvalidation_0-auc:0.827473\tvalidation_1-auc:0.822227\n",
            "[4]\tvalidation_0-auc:0.832393\tvalidation_1-auc:0.826685\n",
            "[5]\tvalidation_0-auc:0.831888\tvalidation_1-auc:0.822684\n",
            "[6]\tvalidation_0-auc:0.831945\tvalidation_1-auc:0.821011\n",
            "[7]\tvalidation_0-auc:0.835043\tvalidation_1-auc:0.824823\n",
            "[8]\tvalidation_0-auc:0.839917\tvalidation_1-auc:0.82833\n",
            "[9]\tvalidation_0-auc:0.839675\tvalidation_1-auc:0.827635\n",
            "[10]\tvalidation_0-auc:0.843606\tvalidation_1-auc:0.829718\n",
            "[11]\tvalidation_0-auc:0.846078\tvalidation_1-auc:0.833888\n",
            "[12]\tvalidation_0-auc:0.848075\tvalidation_1-auc:0.834836\n",
            "[13]\tvalidation_0-auc:0.849433\tvalidation_1-auc:0.833687\n",
            "[14]\tvalidation_0-auc:0.849192\tvalidation_1-auc:0.83292\n",
            "[15]\tvalidation_0-auc:0.850493\tvalidation_1-auc:0.835547\n",
            "[16]\tvalidation_0-auc:0.851873\tvalidation_1-auc:0.836237\n",
            "[17]\tvalidation_0-auc:0.853231\tvalidation_1-auc:0.837104\n",
            "[18]\tvalidation_0-auc:0.855444\tvalidation_1-auc:0.837909\n",
            "[19]\tvalidation_0-auc:0.855014\tvalidation_1-auc:0.837873\n",
            "[20]\tvalidation_0-auc:0.855766\tvalidation_1-auc:0.837931\n",
            "[21]\tvalidation_0-auc:0.856186\tvalidation_1-auc:0.837406\n",
            "[22]\tvalidation_0-auc:0.855717\tvalidation_1-auc:0.836724\n",
            "[23]\tvalidation_0-auc:0.857644\tvalidation_1-auc:0.837199\n",
            "[24]\tvalidation_0-auc:0.858666\tvalidation_1-auc:0.838574\n",
            "[25]\tvalidation_0-auc:0.858893\tvalidation_1-auc:0.837752\n",
            "[26]\tvalidation_0-auc:0.859081\tvalidation_1-auc:0.837562\n",
            "[27]\tvalidation_0-auc:0.85988\tvalidation_1-auc:0.839098\n",
            "[28]\tvalidation_0-auc:0.861397\tvalidation_1-auc:0.839095\n",
            "[29]\tvalidation_0-auc:0.862234\tvalidation_1-auc:0.8387\n",
            "[30]\tvalidation_0-auc:0.863926\tvalidation_1-auc:0.839462\n",
            "[31]\tvalidation_0-auc:0.865878\tvalidation_1-auc:0.84079\n",
            "[32]\tvalidation_0-auc:0.865936\tvalidation_1-auc:0.839527\n",
            "[33]\tvalidation_0-auc:0.866032\tvalidation_1-auc:0.839402\n",
            "[34]\tvalidation_0-auc:0.866021\tvalidation_1-auc:0.838537\n",
            "[35]\tvalidation_0-auc:0.867978\tvalidation_1-auc:0.839361\n",
            "[36]\tvalidation_0-auc:0.869778\tvalidation_1-auc:0.8401\n",
            "[37]\tvalidation_0-auc:0.870014\tvalidation_1-auc:0.839949\n",
            "[38]\tvalidation_0-auc:0.870137\tvalidation_1-auc:0.839923\n",
            "[39]\tvalidation_0-auc:0.870045\tvalidation_1-auc:0.839839\n",
            "[40]\tvalidation_0-auc:0.870197\tvalidation_1-auc:0.839209\n",
            "[41]\tvalidation_0-auc:0.870183\tvalidation_1-auc:0.83929\n",
            "[42]\tvalidation_0-auc:0.871398\tvalidation_1-auc:0.840601\n",
            "[43]\tvalidation_0-auc:0.871459\tvalidation_1-auc:0.840431\n",
            "[44]\tvalidation_0-auc:0.872657\tvalidation_1-auc:0.840927\n",
            "[45]\tvalidation_0-auc:0.872808\tvalidation_1-auc:0.840368\n",
            "[46]\tvalidation_0-auc:0.873773\tvalidation_1-auc:0.841472\n",
            "[47]\tvalidation_0-auc:0.874733\tvalidation_1-auc:0.841848\n",
            "[48]\tvalidation_0-auc:0.875131\tvalidation_1-auc:0.841471\n",
            "[49]\tvalidation_0-auc:0.875527\tvalidation_1-auc:0.84174\n",
            "[50]\tvalidation_0-auc:0.875681\tvalidation_1-auc:0.841367\n",
            "[51]\tvalidation_0-auc:0.87658\tvalidation_1-auc:0.841695\n",
            "[52]\tvalidation_0-auc:0.877447\tvalidation_1-auc:0.842545\n",
            "[53]\tvalidation_0-auc:0.877759\tvalidation_1-auc:0.843183\n",
            "[54]\tvalidation_0-auc:0.878152\tvalidation_1-auc:0.843378\n",
            "[55]\tvalidation_0-auc:0.878548\tvalidation_1-auc:0.843335\n",
            "[56]\tvalidation_0-auc:0.879247\tvalidation_1-auc:0.843333\n",
            "[57]\tvalidation_0-auc:0.87958\tvalidation_1-auc:0.843544\n",
            "[58]\tvalidation_0-auc:0.879851\tvalidation_1-auc:0.843368\n",
            "[59]\tvalidation_0-auc:0.87993\tvalidation_1-auc:0.843488\n",
            "[60]\tvalidation_0-auc:0.88037\tvalidation_1-auc:0.843901\n",
            "[61]\tvalidation_0-auc:0.880598\tvalidation_1-auc:0.844241\n",
            "[62]\tvalidation_0-auc:0.880888\tvalidation_1-auc:0.844144\n",
            "[63]\tvalidation_0-auc:0.881245\tvalidation_1-auc:0.843786\n",
            "[64]\tvalidation_0-auc:0.881447\tvalidation_1-auc:0.843637\n",
            "[65]\tvalidation_0-auc:0.881678\tvalidation_1-auc:0.843438\n",
            "[66]\tvalidation_0-auc:0.881755\tvalidation_1-auc:0.843422\n",
            "[67]\tvalidation_0-auc:0.881986\tvalidation_1-auc:0.843104\n",
            "[68]\tvalidation_0-auc:0.882323\tvalidation_1-auc:0.843173\n",
            "[69]\tvalidation_0-auc:0.882661\tvalidation_1-auc:0.843359\n",
            "[70]\tvalidation_0-auc:0.882962\tvalidation_1-auc:0.843389\n",
            "[71]\tvalidation_0-auc:0.883189\tvalidation_1-auc:0.843313\n",
            "[72]\tvalidation_0-auc:0.883264\tvalidation_1-auc:0.843345\n",
            "[73]\tvalidation_0-auc:0.883449\tvalidation_1-auc:0.843045\n",
            "[74]\tvalidation_0-auc:0.883673\tvalidation_1-auc:0.843211\n",
            "[75]\tvalidation_0-auc:0.884143\tvalidation_1-auc:0.843119\n",
            "[76]\tvalidation_0-auc:0.884333\tvalidation_1-auc:0.8429\n",
            "[77]\tvalidation_0-auc:0.884471\tvalidation_1-auc:0.843065\n",
            "[78]\tvalidation_0-auc:0.884589\tvalidation_1-auc:0.843159\n",
            "[79]\tvalidation_0-auc:0.884864\tvalidation_1-auc:0.843065\n",
            "[80]\tvalidation_0-auc:0.884904\tvalidation_1-auc:0.842997\n",
            "[81]\tvalidation_0-auc:0.884936\tvalidation_1-auc:0.842992\n",
            "[82]\tvalidation_0-auc:0.88509\tvalidation_1-auc:0.843019\n",
            "[83]\tvalidation_0-auc:0.885605\tvalidation_1-auc:0.842872\n",
            "[84]\tvalidation_0-auc:0.885867\tvalidation_1-auc:0.84273\n",
            "[85]\tvalidation_0-auc:0.886141\tvalidation_1-auc:0.842483\n",
            "[86]\tvalidation_0-auc:0.886197\tvalidation_1-auc:0.842474\n",
            "[87]\tvalidation_0-auc:0.886314\tvalidation_1-auc:0.842511\n",
            "[88]\tvalidation_0-auc:0.886444\tvalidation_1-auc:0.842567\n",
            "[89]\tvalidation_0-auc:0.8868\tvalidation_1-auc:0.842416\n",
            "[90]\tvalidation_0-auc:0.887258\tvalidation_1-auc:0.84227\n",
            "[91]\tvalidation_0-auc:0.887801\tvalidation_1-auc:0.842175\n",
            "Stopping. Best iteration:\n",
            "[61]\tvalidation_0-auc:0.880598\tvalidation_1-auc:0.844241\n",
            "\n",
            "[0]\tvalidation_0-auc:0.806564\tvalidation_1-auc:0.807879\n",
            "Multiple eval metrics have been passed: 'validation_1-auc' will be used for early stopping.\n",
            "\n",
            "Will train until validation_1-auc hasn't improved in 30 rounds.\n",
            "[1]\tvalidation_0-auc:0.813222\tvalidation_1-auc:0.814069\n",
            "[2]\tvalidation_0-auc:0.824347\tvalidation_1-auc:0.81954\n",
            "[3]\tvalidation_0-auc:0.823013\tvalidation_1-auc:0.817794\n",
            "[4]\tvalidation_0-auc:0.825004\tvalidation_1-auc:0.820851\n",
            "[5]\tvalidation_0-auc:0.827322\tvalidation_1-auc:0.824115\n",
            "[6]\tvalidation_0-auc:0.828594\tvalidation_1-auc:0.824284\n",
            "[7]\tvalidation_0-auc:0.830032\tvalidation_1-auc:0.824391\n",
            "[8]\tvalidation_0-auc:0.830134\tvalidation_1-auc:0.823386\n",
            "[9]\tvalidation_0-auc:0.831487\tvalidation_1-auc:0.82413\n",
            "[10]\tvalidation_0-auc:0.832208\tvalidation_1-auc:0.824604\n",
            "[11]\tvalidation_0-auc:0.832751\tvalidation_1-auc:0.825096\n",
            "[12]\tvalidation_0-auc:0.833429\tvalidation_1-auc:0.825748\n",
            "[13]\tvalidation_0-auc:0.835708\tvalidation_1-auc:0.829196\n",
            "[14]\tvalidation_0-auc:0.837779\tvalidation_1-auc:0.83136\n",
            "[15]\tvalidation_0-auc:0.83897\tvalidation_1-auc:0.831932\n",
            "[16]\tvalidation_0-auc:0.839486\tvalidation_1-auc:0.832228\n",
            "[17]\tvalidation_0-auc:0.841367\tvalidation_1-auc:0.833007\n",
            "[18]\tvalidation_0-auc:0.842174\tvalidation_1-auc:0.833301\n",
            "[19]\tvalidation_0-auc:0.842695\tvalidation_1-auc:0.834007\n",
            "[20]\tvalidation_0-auc:0.843936\tvalidation_1-auc:0.834731\n",
            "[21]\tvalidation_0-auc:0.844851\tvalidation_1-auc:0.835152\n",
            "[22]\tvalidation_0-auc:0.845958\tvalidation_1-auc:0.836157\n",
            "[23]\tvalidation_0-auc:0.846706\tvalidation_1-auc:0.837361\n",
            "[24]\tvalidation_0-auc:0.847273\tvalidation_1-auc:0.838051\n",
            "[25]\tvalidation_0-auc:0.848304\tvalidation_1-auc:0.838603\n",
            "[26]\tvalidation_0-auc:0.849067\tvalidation_1-auc:0.838547\n",
            "[27]\tvalidation_0-auc:0.849303\tvalidation_1-auc:0.838102\n",
            "[28]\tvalidation_0-auc:0.849706\tvalidation_1-auc:0.838238\n",
            "[29]\tvalidation_0-auc:0.85139\tvalidation_1-auc:0.83903\n",
            "[30]\tvalidation_0-auc:0.851681\tvalidation_1-auc:0.839733\n",
            "[31]\tvalidation_0-auc:0.851898\tvalidation_1-auc:0.839348\n",
            "[32]\tvalidation_0-auc:0.852313\tvalidation_1-auc:0.839544\n",
            "[33]\tvalidation_0-auc:0.853202\tvalidation_1-auc:0.839625\n",
            "[34]\tvalidation_0-auc:0.85374\tvalidation_1-auc:0.839621\n",
            "[35]\tvalidation_0-auc:0.854461\tvalidation_1-auc:0.839915\n",
            "[36]\tvalidation_0-auc:0.855122\tvalidation_1-auc:0.839481\n",
            "[37]\tvalidation_0-auc:0.855818\tvalidation_1-auc:0.83909\n",
            "[38]\tvalidation_0-auc:0.856423\tvalidation_1-auc:0.839172\n",
            "[39]\tvalidation_0-auc:0.857532\tvalidation_1-auc:0.839411\n",
            "[40]\tvalidation_0-auc:0.85783\tvalidation_1-auc:0.839246\n",
            "[41]\tvalidation_0-auc:0.858498\tvalidation_1-auc:0.839156\n",
            "[42]\tvalidation_0-auc:0.858992\tvalidation_1-auc:0.839238\n",
            "[43]\tvalidation_0-auc:0.859655\tvalidation_1-auc:0.838496\n",
            "[44]\tvalidation_0-auc:0.860197\tvalidation_1-auc:0.838358\n",
            "[45]\tvalidation_0-auc:0.860625\tvalidation_1-auc:0.839082\n",
            "[46]\tvalidation_0-auc:0.860953\tvalidation_1-auc:0.839125\n",
            "[47]\tvalidation_0-auc:0.861608\tvalidation_1-auc:0.838995\n",
            "[48]\tvalidation_0-auc:0.862085\tvalidation_1-auc:0.839059\n",
            "[49]\tvalidation_0-auc:0.862354\tvalidation_1-auc:0.839387\n",
            "[50]\tvalidation_0-auc:0.862812\tvalidation_1-auc:0.839298\n",
            "[51]\tvalidation_0-auc:0.863372\tvalidation_1-auc:0.839127\n",
            "[52]\tvalidation_0-auc:0.864029\tvalidation_1-auc:0.839097\n",
            "[53]\tvalidation_0-auc:0.864379\tvalidation_1-auc:0.839118\n",
            "[54]\tvalidation_0-auc:0.864775\tvalidation_1-auc:0.838848\n",
            "[55]\tvalidation_0-auc:0.86518\tvalidation_1-auc:0.838897\n",
            "[56]\tvalidation_0-auc:0.865428\tvalidation_1-auc:0.838671\n",
            "[57]\tvalidation_0-auc:0.865679\tvalidation_1-auc:0.838451\n",
            "[58]\tvalidation_0-auc:0.866057\tvalidation_1-auc:0.838382\n",
            "[59]\tvalidation_0-auc:0.866205\tvalidation_1-auc:0.838363\n",
            "[60]\tvalidation_0-auc:0.866485\tvalidation_1-auc:0.83804\n",
            "[61]\tvalidation_0-auc:0.866681\tvalidation_1-auc:0.837604\n",
            "[62]\tvalidation_0-auc:0.867\tvalidation_1-auc:0.837733\n",
            "[63]\tvalidation_0-auc:0.867486\tvalidation_1-auc:0.837969\n",
            "[64]\tvalidation_0-auc:0.867702\tvalidation_1-auc:0.838082\n",
            "[65]\tvalidation_0-auc:0.868375\tvalidation_1-auc:0.837616\n",
            "Stopping. Best iteration:\n",
            "[35]\tvalidation_0-auc:0.854461\tvalidation_1-auc:0.839915\n",
            "\n",
            "[0]\tvalidation_0-auc:0.808752\tvalidation_1-auc:0.799538\n",
            "Multiple eval metrics have been passed: 'validation_1-auc' will be used for early stopping.\n",
            "\n",
            "Will train until validation_1-auc hasn't improved in 30 rounds.\n",
            "[1]\tvalidation_0-auc:0.814155\tvalidation_1-auc:0.808631\n",
            "[2]\tvalidation_0-auc:0.822097\tvalidation_1-auc:0.818521\n",
            "[3]\tvalidation_0-auc:0.824997\tvalidation_1-auc:0.821016\n",
            "[4]\tvalidation_0-auc:0.82596\tvalidation_1-auc:0.822133\n",
            "[5]\tvalidation_0-auc:0.828318\tvalidation_1-auc:0.821871\n",
            "[6]\tvalidation_0-auc:0.830595\tvalidation_1-auc:0.821864\n",
            "[7]\tvalidation_0-auc:0.831276\tvalidation_1-auc:0.82227\n",
            "[8]\tvalidation_0-auc:0.832729\tvalidation_1-auc:0.823541\n",
            "[9]\tvalidation_0-auc:0.834143\tvalidation_1-auc:0.824047\n",
            "[10]\tvalidation_0-auc:0.835162\tvalidation_1-auc:0.825246\n",
            "[11]\tvalidation_0-auc:0.836768\tvalidation_1-auc:0.827402\n",
            "[12]\tvalidation_0-auc:0.837065\tvalidation_1-auc:0.82759\n",
            "[13]\tvalidation_0-auc:0.838876\tvalidation_1-auc:0.830193\n",
            "[14]\tvalidation_0-auc:0.84012\tvalidation_1-auc:0.830561\n",
            "[15]\tvalidation_0-auc:0.841703\tvalidation_1-auc:0.832011\n",
            "[16]\tvalidation_0-auc:0.842706\tvalidation_1-auc:0.833235\n",
            "[17]\tvalidation_0-auc:0.84356\tvalidation_1-auc:0.833103\n",
            "[18]\tvalidation_0-auc:0.844345\tvalidation_1-auc:0.833676\n",
            "[19]\tvalidation_0-auc:0.844447\tvalidation_1-auc:0.835896\n",
            "[20]\tvalidation_0-auc:0.845384\tvalidation_1-auc:0.836075\n",
            "[21]\tvalidation_0-auc:0.845617\tvalidation_1-auc:0.836584\n",
            "[22]\tvalidation_0-auc:0.846267\tvalidation_1-auc:0.836907\n",
            "[23]\tvalidation_0-auc:0.846896\tvalidation_1-auc:0.837555\n",
            "[24]\tvalidation_0-auc:0.847501\tvalidation_1-auc:0.838138\n",
            "[25]\tvalidation_0-auc:0.849235\tvalidation_1-auc:0.839048\n",
            "[26]\tvalidation_0-auc:0.850265\tvalidation_1-auc:0.839043\n",
            "[27]\tvalidation_0-auc:0.850734\tvalidation_1-auc:0.838901\n",
            "[28]\tvalidation_0-auc:0.851632\tvalidation_1-auc:0.838865\n",
            "[29]\tvalidation_0-auc:0.852309\tvalidation_1-auc:0.839417\n",
            "[30]\tvalidation_0-auc:0.852665\tvalidation_1-auc:0.839633\n",
            "[31]\tvalidation_0-auc:0.853303\tvalidation_1-auc:0.840026\n",
            "[32]\tvalidation_0-auc:0.854133\tvalidation_1-auc:0.839994\n",
            "[33]\tvalidation_0-auc:0.85497\tvalidation_1-auc:0.839934\n",
            "[34]\tvalidation_0-auc:0.856147\tvalidation_1-auc:0.839845\n",
            "[35]\tvalidation_0-auc:0.857047\tvalidation_1-auc:0.840351\n",
            "[36]\tvalidation_0-auc:0.857415\tvalidation_1-auc:0.840809\n",
            "[37]\tvalidation_0-auc:0.857799\tvalidation_1-auc:0.840804\n",
            "[38]\tvalidation_0-auc:0.858171\tvalidation_1-auc:0.841041\n",
            "[39]\tvalidation_0-auc:0.858826\tvalidation_1-auc:0.841016\n",
            "[40]\tvalidation_0-auc:0.859429\tvalidation_1-auc:0.841528\n",
            "[41]\tvalidation_0-auc:0.860053\tvalidation_1-auc:0.842104\n",
            "[42]\tvalidation_0-auc:0.860241\tvalidation_1-auc:0.841967\n",
            "[43]\tvalidation_0-auc:0.860521\tvalidation_1-auc:0.842079\n",
            "[44]\tvalidation_0-auc:0.860961\tvalidation_1-auc:0.842283\n",
            "[45]\tvalidation_0-auc:0.861509\tvalidation_1-auc:0.842462\n",
            "[46]\tvalidation_0-auc:0.861938\tvalidation_1-auc:0.842485\n",
            "[47]\tvalidation_0-auc:0.862269\tvalidation_1-auc:0.842715\n",
            "[48]\tvalidation_0-auc:0.862552\tvalidation_1-auc:0.842509\n"
          ]
        }
      ]
    },
    {
      "cell_type": "markdown",
      "source": [
        "ROC-AUC = 0.8419 -> 0.8448 로 개선"
      ],
      "metadata": {
        "id": "UO0JsKuwSVq9"
      }
    },
    {
      "cell_type": "markdown",
      "source": [
        "> 최적화 하이퍼 파라미터를 기반으로 다른 하이퍼 파라미터를 변경 또는 추가해 다시 최적화를 진행"
      ],
      "metadata": {
        "id": "p9YkVTc3SgJ8"
      }
    },
    {
      "cell_type": "code",
      "source": [
        "# n_estimators는 1000으로 증가시키고, learning_rate=0.02로 감소, reg_alpha=0.03으로 추가\n",
        "xgb_clf = XGBClassifier(n_estimators=1000, random_state=156, learning_rate=0.02, max_depth=5,\\\n",
        "                        min_child_weight=1, colsample_bytree=0.5, reg_alpha=0.03)\n",
        "\n",
        "# evaluation metric을 auc로, early stopping은 200 으로 설정하고 학습 수행\n",
        "xgb_clf.fit(X_train, y_train, early_stopping_rounds=200, \n",
        "            eval_metric=\"auc\",eval_set=[(X_train, y_train), (X_test, y_test)])\n",
        "\n",
        "xgb_roc_score = roc_auc_score(y_test, xgb_clf.predict_proba(X_test)[:,1],average='macro')\n",
        "print('ROC AUC: {0:.4f}'.format(xgb_roc_score))"
      ],
      "metadata": {
        "id": "RUKpHUueSmjN"
      },
      "execution_count": null,
      "outputs": []
    },
    {
      "cell_type": "markdown",
      "source": [
        "ROC-AUC가 0.8456으로 이전 테스트보다 살짝 향상\n",
        "\n",
        "* XGBoost가 GBM보다는 빠르지만 수행 시간이 상당히 더 많이 요구됨"
      ],
      "metadata": {
        "id": "7WHoTi6sS6u6"
      }
    },
    {
      "cell_type": "markdown",
      "source": [
        "> 튜닝된 모델에서 각 피처의 중요도를 피처 중요도 그래프로 나타내기"
      ],
      "metadata": {
        "id": "Ci2nG1AgTLPD"
      }
    },
    {
      "cell_type": "code",
      "source": [
        "from xgboost import plot_importance\n",
        "import matplotlib.pyplot as plt\n",
        "%matplotlib inline\n",
        "\n",
        "fig, ax = plt.subplots(1,1,figsize=(10,8))\n",
        "plot_importance(xgb_clf, ax=ax , max_num_features=20,height=0.4)"
      ],
      "metadata": {
        "id": "2sUXXEBJTQEe"
      },
      "execution_count": null,
      "outputs": []
    },
    {
      "cell_type": "markdown",
      "source": [
        "### LightGBM 모델 학습과 하이퍼 파라미터 튜닝"
      ],
      "metadata": {
        "id": "UXwRrRINTU5i"
      }
    },
    {
      "cell_type": "code",
      "source": [
        "from lightgbm import LGBMClassifier\n",
        "\n",
        "lgbm_clf = LGBMClassifier(n_estimators=500)\n",
        "\n",
        "evals = [(X_test, y_test)]\n",
        "lgbm_clf.fit(X_train, y_train, early_stopping_rounds=100, eval_metric=\"auc\", eval_set=evals,\n",
        "                verbose=True)\n",
        "\n",
        "lgbm_roc_score = roc_auc_score(y_test, lgbm_clf.predict_proba(X_test)[:,1],average='macro')\n",
        "print('ROC AUC: {0:.4f}'.format(lgbm_roc_score))"
      ],
      "metadata": {
        "id": "PEe_E-_uTYyk"
      },
      "execution_count": null,
      "outputs": []
    },
    {
      "cell_type": "markdown",
      "source": [
        "수행 결과 ROC-AUC 0.8396\n",
        "\n",
        "XGBoost보다는 학습에 걸리는 시간이 좀 더 단축"
      ],
      "metadata": {
        "id": "wVjzTjTRTfdY"
      }
    },
    {
      "cell_type": "markdown",
      "source": [
        "> GridSearchCV로 좀 더 다양한 하이퍼 파라미터에 대한 튜닝 \n",
        " - 튜닝 대상:` num_leaves`, `max_depth`, `min_child_samples`, `subsample`"
      ],
      "metadata": {
        "id": "RiEgQscmTtyw"
      }
    },
    {
      "cell_type": "code",
      "source": [
        "from sklearn.model_selection import GridSearchCV\n",
        "\n",
        "# 하이퍼 파라미터 테스트의 수행 속도를 향상시키기 위해 n_estimators를 100으로 감소\n",
        "lgbm_clf = LGBMClassifier(n_estimators=200)\n",
        "\n",
        "params = {'num_leaves': [32, 64 ],\n",
        "          'max_depth':[128, 160],\n",
        "          'min_child_samples':[60, 100],\n",
        "          'subsample':[0.8, 1]}\n",
        "\n",
        "\n",
        "# cv는 3으로 지정 \n",
        "gridcv = GridSearchCV(lgbm_clf, param_grid=params, cv=3)\n",
        "gridcv.fit(X_train, y_train, early_stopping_rounds=30, eval_metric=\"auc\",\n",
        "           eval_set=[(X_train, y_train), (X_test, y_test)])\n",
        "\n",
        "print('GridSearchCV 최적 파라미터:', gridcv.best_params_)\n",
        "lgbm_roc_score = roc_auc_score(y_test, gridcv.predict_proba(X_test)[:,1], average='macro')\n",
        "print('ROC AUC: {0:.4f}'.format(lgbm_roc_score))"
      ],
      "metadata": {
        "id": "7aMc9kzKTbju"
      },
      "execution_count": null,
      "outputs": []
    },
    {
      "cell_type": "markdown",
      "source": [
        "> 해당 하이퍼 파라미터를 LightGBM에 적용하고 다시 학습해 ROC-AUC 측정 결과 도출"
      ],
      "metadata": {
        "id": "5twPpidvUA2J"
      }
    },
    {
      "cell_type": "code",
      "source": [
        "lgbm_clf = LGBMClassifier(n_estimators=1000, num_leaves=32, sumbsample=0.8, min_child_samples=100,\n",
        "                          max_depth=128)\n",
        "\n",
        "evals = [(X_test, y_test)]\n",
        "lgbm_clf.fit(X_train, y_train, early_stopping_rounds=100, eval_metric=\"auc\", eval_set=evals,\n",
        "                verbose=True)\n",
        "\n",
        "lgbm_roc_score = roc_auc_score(y_test, lgbm_clf.predict_proba(X_test)[:,1],average='macro')\n",
        "print('ROC AUC: {0:.4f}'.format(lgbm_roc_score))"
      ],
      "metadata": {
        "id": "GQKhh6ABUF-2"
      },
      "execution_count": null,
      "outputs": []
    },
    {
      "cell_type": "markdown",
      "source": [
        "수행 결과 ROC-AUC 0.8442"
      ],
      "metadata": {
        "id": "AV1ubZ66UQEN"
      }
    },
    {
      "cell_type": "markdown",
      "source": [
        "## 09. 분류 실습2 - 캐글 신용카드 사기 검출"
      ],
      "metadata": {
        "id": "jJ5Pj1u7G_z1"
      }
    },
    {
      "cell_type": "markdown",
      "source": [
        "* 신용카드 데이터 \n",
        " - 레이블인 Class 속성\n",
        "   - 0: 사기가 아닌 정상적인 신용카드 트랜잭션 데이터\n",
        "   - 1: 신용카드 사기 트랜잭션\n",
        "   - 전체 데이터의 약 0.172% 만이 레이블 값이 1, 즉 사기 트랜잭션\n",
        "\n",
        "일반적으로 사기 검출이나 이상 검출과 같은 데이터 세트는 레이블 값이 극도로 불균형한 분포를 가지기 쉬움 (사기와 같은 이상 현상은 전체 데이터에서 차지하는 비중이 매우 적음) "
      ],
      "metadata": {
        "id": "48Fk1IGCHFIn"
      }
    },
    {
      "cell_type": "markdown",
      "source": [
        "### 언더 샘플링과 오버 샘플링의 이해\n",
        "* 문제점: 레이블이 불균형한 분포를 가진 데이터 세트 학습 시, 이상 레이블을 가지는 데이터 건수가 정상 레이블을 가진 데이터 건수에 비해 현저히 적기 때문에 예측 성능의 문제 발생 가능성 높음. \n",
        " - 이상 레이블을 가지는 데이터 건수는 매우 적어 제대로 다양한 유형을 학습하지 못함\n",
        " - 반면, 정상 레이블을 가지는 데이터 건수는 매우 많아 일방적으로 정상 레이블로 치우친 학습을 수행하여 제대로 된 이상 데이터 검출이 어려움\n",
        "\n",
        "* 해결: 적절한 학습 데이터 확보\n",
        " - **오버 샘플링(OverSampling)** : 많은 데이터 세트를 적은 데이터 세트 수준으로 감소시키는 방식.\n",
        "   - 장점: 정상 레이블 데이터를 이상 레이블 데이터 수준으로 줄여버린 상태에서 학습을 수행하면 과도하게 정상 레이블로 학습/예측하는 부작용 개선\n",
        "   - 단점: 너무 많은 정상 레이블 데이터를 감소시키기 때문에 정상 레이블의 경우 오히려 제대로 된 학습을 수행할 수 없음\n",
        " - **언더 샘플링(UnderSampling)** : 적은 데이터 세트를 증식하여 학습을 위한 충분한 데이터를 확보하는 방식.\n",
        "   - 동일한 데이터를 단순히 증식하는 방법은 과적합이 되기 때문에 의미가 없으므로 원본 데이터의 피처 값들을 아주 약간만 변경하여 중식함\n",
        "   - SMOTE 방식: 적은 데이터 세트에 있는 개별 데이터들의 K 최근접 이웃을 찾아 이 데이터와 K개의 이웃들의 차이를 일정 값으로 만들어 기존 데이터와 약간 차이가 나는 새로운 데이터를 생성하는 방식 (파이썬 패키지 imbalanced-learn)\n"
      ],
      "metadata": {
        "id": "AiTilaWzJ39N"
      }
    },
    {
      "cell_type": "markdown",
      "source": [
        "### 데이터 일차 가공 및 모델 학습/예측/평가"
      ],
      "metadata": {
        "id": "euiKsUuOL0oD"
      }
    },
    {
      "cell_type": "code",
      "source": [
        "from google.colab import drive\n",
        "drive.mount('/content/drive')"
      ],
      "metadata": {
        "colab": {
          "base_uri": "https://localhost:8080/"
        },
        "id": "rqpBd6JIQ5ox",
        "outputId": "dc84a169-b8f3-4f5d-9de0-89a4469aec25"
      },
      "execution_count": 1,
      "outputs": [
        {
          "output_type": "stream",
          "name": "stdout",
          "text": [
            "Mounted at /content/drive\n"
          ]
        }
      ]
    },
    {
      "cell_type": "markdown",
      "source": [
        "> 1. 데이터 세트 로딩 및 신용카드 사기 검출 모델 생성"
      ],
      "metadata": {
        "id": "8vzE5o8pRQHg"
      }
    },
    {
      "cell_type": "code",
      "source": [
        "import numpy as np\n",
        "import pandas as pd\n",
        "import matplotlib.pyplot as plt\n",
        "import warnings\n",
        "warnings.filterwarnings('ignore')\n",
        "%matplotlib inline\n",
        "\n",
        "card_df=pd.read_csv('/content/drive/MyDrive/Colab Notebooks/ESAA/creditcard.csv')\n",
        "card_df.head(3)"
      ],
      "metadata": {
        "colab": {
          "base_uri": "https://localhost:8080/",
          "height": 237
        },
        "id": "-ESvMYo-Q-9h",
        "outputId": "31110a46-45d6-47c9-f2b8-9d28ad0ec13a"
      },
      "execution_count": 2,
      "outputs": [
        {
          "output_type": "execute_result",
          "data": {
            "text/plain": [
              "   Time        V1        V2        V3        V4        V5        V6        V7  \\\n",
              "0   0.0 -1.359807 -0.072781  2.536347  1.378155 -0.338321  0.462388  0.239599   \n",
              "1   0.0  1.191857  0.266151  0.166480  0.448154  0.060018 -0.082361 -0.078803   \n",
              "2   1.0 -1.358354 -1.340163  1.773209  0.379780 -0.503198  1.800499  0.791461   \n",
              "\n",
              "         V8        V9  ...       V21       V22       V23       V24       V25  \\\n",
              "0  0.098698  0.363787  ... -0.018307  0.277838 -0.110474  0.066928  0.128539   \n",
              "1  0.085102 -0.255425  ... -0.225775 -0.638672  0.101288 -0.339846  0.167170   \n",
              "2  0.247676 -1.514654  ...  0.247998  0.771679  0.909412 -0.689281 -0.327642   \n",
              "\n",
              "        V26       V27       V28  Amount  Class  \n",
              "0 -0.189115  0.133558 -0.021053  149.62      0  \n",
              "1  0.125895 -0.008983  0.014724    2.69      0  \n",
              "2 -0.139097 -0.055353 -0.059752  378.66      0  \n",
              "\n",
              "[3 rows x 31 columns]"
            ],
            "text/html": [
              "\n",
              "  <div id=\"df-24014a3b-195b-4c5d-9c4f-482d91ceeca4\">\n",
              "    <div class=\"colab-df-container\">\n",
              "      <div>\n",
              "<style scoped>\n",
              "    .dataframe tbody tr th:only-of-type {\n",
              "        vertical-align: middle;\n",
              "    }\n",
              "\n",
              "    .dataframe tbody tr th {\n",
              "        vertical-align: top;\n",
              "    }\n",
              "\n",
              "    .dataframe thead th {\n",
              "        text-align: right;\n",
              "    }\n",
              "</style>\n",
              "<table border=\"1\" class=\"dataframe\">\n",
              "  <thead>\n",
              "    <tr style=\"text-align: right;\">\n",
              "      <th></th>\n",
              "      <th>Time</th>\n",
              "      <th>V1</th>\n",
              "      <th>V2</th>\n",
              "      <th>V3</th>\n",
              "      <th>V4</th>\n",
              "      <th>V5</th>\n",
              "      <th>V6</th>\n",
              "      <th>V7</th>\n",
              "      <th>V8</th>\n",
              "      <th>V9</th>\n",
              "      <th>...</th>\n",
              "      <th>V21</th>\n",
              "      <th>V22</th>\n",
              "      <th>V23</th>\n",
              "      <th>V24</th>\n",
              "      <th>V25</th>\n",
              "      <th>V26</th>\n",
              "      <th>V27</th>\n",
              "      <th>V28</th>\n",
              "      <th>Amount</th>\n",
              "      <th>Class</th>\n",
              "    </tr>\n",
              "  </thead>\n",
              "  <tbody>\n",
              "    <tr>\n",
              "      <th>0</th>\n",
              "      <td>0.0</td>\n",
              "      <td>-1.359807</td>\n",
              "      <td>-0.072781</td>\n",
              "      <td>2.536347</td>\n",
              "      <td>1.378155</td>\n",
              "      <td>-0.338321</td>\n",
              "      <td>0.462388</td>\n",
              "      <td>0.239599</td>\n",
              "      <td>0.098698</td>\n",
              "      <td>0.363787</td>\n",
              "      <td>...</td>\n",
              "      <td>-0.018307</td>\n",
              "      <td>0.277838</td>\n",
              "      <td>-0.110474</td>\n",
              "      <td>0.066928</td>\n",
              "      <td>0.128539</td>\n",
              "      <td>-0.189115</td>\n",
              "      <td>0.133558</td>\n",
              "      <td>-0.021053</td>\n",
              "      <td>149.62</td>\n",
              "      <td>0</td>\n",
              "    </tr>\n",
              "    <tr>\n",
              "      <th>1</th>\n",
              "      <td>0.0</td>\n",
              "      <td>1.191857</td>\n",
              "      <td>0.266151</td>\n",
              "      <td>0.166480</td>\n",
              "      <td>0.448154</td>\n",
              "      <td>0.060018</td>\n",
              "      <td>-0.082361</td>\n",
              "      <td>-0.078803</td>\n",
              "      <td>0.085102</td>\n",
              "      <td>-0.255425</td>\n",
              "      <td>...</td>\n",
              "      <td>-0.225775</td>\n",
              "      <td>-0.638672</td>\n",
              "      <td>0.101288</td>\n",
              "      <td>-0.339846</td>\n",
              "      <td>0.167170</td>\n",
              "      <td>0.125895</td>\n",
              "      <td>-0.008983</td>\n",
              "      <td>0.014724</td>\n",
              "      <td>2.69</td>\n",
              "      <td>0</td>\n",
              "    </tr>\n",
              "    <tr>\n",
              "      <th>2</th>\n",
              "      <td>1.0</td>\n",
              "      <td>-1.358354</td>\n",
              "      <td>-1.340163</td>\n",
              "      <td>1.773209</td>\n",
              "      <td>0.379780</td>\n",
              "      <td>-0.503198</td>\n",
              "      <td>1.800499</td>\n",
              "      <td>0.791461</td>\n",
              "      <td>0.247676</td>\n",
              "      <td>-1.514654</td>\n",
              "      <td>...</td>\n",
              "      <td>0.247998</td>\n",
              "      <td>0.771679</td>\n",
              "      <td>0.909412</td>\n",
              "      <td>-0.689281</td>\n",
              "      <td>-0.327642</td>\n",
              "      <td>-0.139097</td>\n",
              "      <td>-0.055353</td>\n",
              "      <td>-0.059752</td>\n",
              "      <td>378.66</td>\n",
              "      <td>0</td>\n",
              "    </tr>\n",
              "  </tbody>\n",
              "</table>\n",
              "<p>3 rows × 31 columns</p>\n",
              "</div>\n",
              "      <button class=\"colab-df-convert\" onclick=\"convertToInteractive('df-24014a3b-195b-4c5d-9c4f-482d91ceeca4')\"\n",
              "              title=\"Convert this dataframe to an interactive table.\"\n",
              "              style=\"display:none;\">\n",
              "        \n",
              "  <svg xmlns=\"http://www.w3.org/2000/svg\" height=\"24px\"viewBox=\"0 0 24 24\"\n",
              "       width=\"24px\">\n",
              "    <path d=\"M0 0h24v24H0V0z\" fill=\"none\"/>\n",
              "    <path d=\"M18.56 5.44l.94 2.06.94-2.06 2.06-.94-2.06-.94-.94-2.06-.94 2.06-2.06.94zm-11 1L8.5 8.5l.94-2.06 2.06-.94-2.06-.94L8.5 2.5l-.94 2.06-2.06.94zm10 10l.94 2.06.94-2.06 2.06-.94-2.06-.94-.94-2.06-.94 2.06-2.06.94z\"/><path d=\"M17.41 7.96l-1.37-1.37c-.4-.4-.92-.59-1.43-.59-.52 0-1.04.2-1.43.59L10.3 9.45l-7.72 7.72c-.78.78-.78 2.05 0 2.83L4 21.41c.39.39.9.59 1.41.59.51 0 1.02-.2 1.41-.59l7.78-7.78 2.81-2.81c.8-.78.8-2.07 0-2.86zM5.41 20L4 18.59l7.72-7.72 1.47 1.35L5.41 20z\"/>\n",
              "  </svg>\n",
              "      </button>\n",
              "      \n",
              "  <style>\n",
              "    .colab-df-container {\n",
              "      display:flex;\n",
              "      flex-wrap:wrap;\n",
              "      gap: 12px;\n",
              "    }\n",
              "\n",
              "    .colab-df-convert {\n",
              "      background-color: #E8F0FE;\n",
              "      border: none;\n",
              "      border-radius: 50%;\n",
              "      cursor: pointer;\n",
              "      display: none;\n",
              "      fill: #1967D2;\n",
              "      height: 32px;\n",
              "      padding: 0 0 0 0;\n",
              "      width: 32px;\n",
              "    }\n",
              "\n",
              "    .colab-df-convert:hover {\n",
              "      background-color: #E2EBFA;\n",
              "      box-shadow: 0px 1px 2px rgba(60, 64, 67, 0.3), 0px 1px 3px 1px rgba(60, 64, 67, 0.15);\n",
              "      fill: #174EA6;\n",
              "    }\n",
              "\n",
              "    [theme=dark] .colab-df-convert {\n",
              "      background-color: #3B4455;\n",
              "      fill: #D2E3FC;\n",
              "    }\n",
              "\n",
              "    [theme=dark] .colab-df-convert:hover {\n",
              "      background-color: #434B5C;\n",
              "      box-shadow: 0px 1px 3px 1px rgba(0, 0, 0, 0.15);\n",
              "      filter: drop-shadow(0px 1px 2px rgba(0, 0, 0, 0.3));\n",
              "      fill: #FFFFFF;\n",
              "    }\n",
              "  </style>\n",
              "\n",
              "      <script>\n",
              "        const buttonEl =\n",
              "          document.querySelector('#df-24014a3b-195b-4c5d-9c4f-482d91ceeca4 button.colab-df-convert');\n",
              "        buttonEl.style.display =\n",
              "          google.colab.kernel.accessAllowed ? 'block' : 'none';\n",
              "\n",
              "        async function convertToInteractive(key) {\n",
              "          const element = document.querySelector('#df-24014a3b-195b-4c5d-9c4f-482d91ceeca4');\n",
              "          const dataTable =\n",
              "            await google.colab.kernel.invokeFunction('convertToInteractive',\n",
              "                                                     [key], {});\n",
              "          if (!dataTable) return;\n",
              "\n",
              "          const docLinkHtml = 'Like what you see? Visit the ' +\n",
              "            '<a target=\"_blank\" href=https://colab.research.google.com/notebooks/data_table.ipynb>data table notebook</a>'\n",
              "            + ' to learn more about interactive tables.';\n",
              "          element.innerHTML = '';\n",
              "          dataTable['output_type'] = 'display_data';\n",
              "          await google.colab.output.renderOutput(dataTable, element);\n",
              "          const docLink = document.createElement('div');\n",
              "          docLink.innerHTML = docLinkHtml;\n",
              "          element.appendChild(docLink);\n",
              "        }\n",
              "      </script>\n",
              "    </div>\n",
              "  </div>\n",
              "  "
            ]
          },
          "metadata": {},
          "execution_count": 2
        }
      ]
    },
    {
      "cell_type": "markdown",
      "source": [
        "- V로 시작하는 피처들의 의미는 알 수 없음\n",
        "- Time 피처: 데이터 생성 관련한 작업용 속성으로서 큰 의미가 없으므로 제거\n",
        "- Amount 피처: 신용카드 트랜잭션 금액\n",
        "  - class는 레이블로서 0의 경우 정상/ 1의 경우 사기 트랜잭션"
      ],
      "metadata": {
        "id": "ivjq4ktfJ7e2"
      }
    },
    {
      "cell_type": "code",
      "source": [
        "card_df.info()"
      ],
      "metadata": {
        "colab": {
          "base_uri": "https://localhost:8080/"
        },
        "id": "oXvbejBPR4pX",
        "outputId": "76dda138-ee13-4ab7-dbee-79d34218222e"
      },
      "execution_count": 3,
      "outputs": [
        {
          "output_type": "stream",
          "name": "stdout",
          "text": [
            "<class 'pandas.core.frame.DataFrame'>\n",
            "RangeIndex: 284807 entries, 0 to 284806\n",
            "Data columns (total 31 columns):\n",
            " #   Column  Non-Null Count   Dtype  \n",
            "---  ------  --------------   -----  \n",
            " 0   Time    284807 non-null  float64\n",
            " 1   V1      284807 non-null  float64\n",
            " 2   V2      284807 non-null  float64\n",
            " 3   V3      284807 non-null  float64\n",
            " 4   V4      284807 non-null  float64\n",
            " 5   V5      284807 non-null  float64\n",
            " 6   V6      284807 non-null  float64\n",
            " 7   V7      284807 non-null  float64\n",
            " 8   V8      284807 non-null  float64\n",
            " 9   V9      284807 non-null  float64\n",
            " 10  V10     284807 non-null  float64\n",
            " 11  V11     284807 non-null  float64\n",
            " 12  V12     284807 non-null  float64\n",
            " 13  V13     284807 non-null  float64\n",
            " 14  V14     284807 non-null  float64\n",
            " 15  V15     284807 non-null  float64\n",
            " 16  V16     284807 non-null  float64\n",
            " 17  V17     284807 non-null  float64\n",
            " 18  V18     284807 non-null  float64\n",
            " 19  V19     284807 non-null  float64\n",
            " 20  V20     284807 non-null  float64\n",
            " 21  V21     284807 non-null  float64\n",
            " 22  V22     284807 non-null  float64\n",
            " 23  V23     284807 non-null  float64\n",
            " 24  V24     284807 non-null  float64\n",
            " 25  V25     284807 non-null  float64\n",
            " 26  V26     284807 non-null  float64\n",
            " 27  V27     284807 non-null  float64\n",
            " 28  V28     284807 non-null  float64\n",
            " 29  Amount  284807 non-null  float64\n",
            " 30  Class   284807 non-null  int64  \n",
            "dtypes: float64(30), int64(1)\n",
            "memory usage: 67.4 MB\n"
          ]
        }
      ]
    },
    {
      "cell_type": "markdown",
      "source": [
        "전체 284807개의 레코드에서 결측치는 없으며, class 레이블만 int형/ 나머지는 float형"
      ],
      "metadata": {
        "id": "vNALQrarRzxq"
      }
    },
    {
      "cell_type": "markdown",
      "source": [
        ">데이터 사전 가공 수행과 이에 따른 예측 성능 비교"
      ],
      "metadata": {
        "id": "wF0t5UyESC86"
      }
    },
    {
      "cell_type": "code",
      "source": [
        "from sklearn.model_selection import train_test_split\n",
        "\n",
        "#인자로 입력받은 DataFrame을 복사한 뒤 Time 칼럼만 삭제하고 복사된 DataFrame 반환\n",
        "def get_preprocessed_df(df=None):\n",
        "  df_copy=df.copy()\n",
        "  df_copy.drop('Time',axis=1,inplace=True)\n",
        "  return df_copy"
      ],
      "metadata": {
        "id": "sDHYi_fESJ6K"
      },
      "execution_count": 4,
      "outputs": []
    },
    {
      "cell_type": "markdown",
      "source": [
        "> * `get_train_test_dataset()` \n",
        " - get_preprocessed_df() 호출한 뒤, 학습 피처/레이블 데이터 세트, 테스트 피처/레이블 데이터 세트 반환\n",
        " - 내부에서 train_test_split()함수 호출\n",
        " - 테스트 데이터 세트를 전체의 30%인 Stratified 방식으로 추출해 학습 데이터 세트와 테스트 데이터 세트의 레이블 값 분포도를 서로 동일하게 만듦 "
      ],
      "metadata": {
        "id": "ucDIRYA6SOIT"
      }
    },
    {
      "cell_type": "code",
      "source": [
        "#사전 데이터 가공 후 학습과 테스트 데이터 세트를 반환하는 함수\n",
        "def get_train_test_dataset(df=None):\n",
        "  #인자로 입력된 DataFrame의 사전 데이터 가공이 완료된 복사 DataFrame 반환\n",
        "  df_copy=get_preprocessed_df(df)\n",
        "  #DataFrame의 맨 마지막 칼럼이 레이블, 나머지는 피처들\n",
        "  X_features=df_copy.iloc[:,:-1]\n",
        "  y_target=df_copy.iloc[:,-1]\n",
        "  #train_test_split()으로 학습과 테스트 데이터 분할, stratify=y_target으로 기반 분할\n",
        "  X_train,X_test,y_train,y_test=train_test_split(X_features,y_target,test_size=0.3,random_state=0,stratify=y_target)\n",
        "  #학습과 테스트 데이터 세트 반환\n",
        "  return X_train,X_test,y_train,y_test\n",
        "\n",
        "X_train,X_test,y_train,y_test=get_train_test_dataset(card_df)"
      ],
      "metadata": {
        "id": "wb4PF4hbSNL_"
      },
      "execution_count": 5,
      "outputs": []
    },
    {
      "cell_type": "markdown",
      "source": [
        "> 생성한 학습 데이터 세트와 테스트 데이터 세트의 레이블 값 비율을 백분율로 환산해 서로 비슷하게 분할 됐는지 확인"
      ],
      "metadata": {
        "id": "rNW0z9yGS9AC"
      }
    },
    {
      "cell_type": "code",
      "source": [
        "print('학습 데이터 레이블 값 비율')\n",
        "print(y_train.value_counts()/y_train.shape[0]*100)\n",
        "print('테스트 데이터 레이블 값 비율')\n",
        "print(y_test.value_counts()/y_test.shape[0]*100)"
      ],
      "metadata": {
        "colab": {
          "base_uri": "https://localhost:8080/"
        },
        "id": "WRAIflncS6zK",
        "outputId": "dd4dd393-170c-438e-cfd8-90b08fd4ab03"
      },
      "execution_count": 6,
      "outputs": [
        {
          "output_type": "stream",
          "name": "stdout",
          "text": [
            "학습 데이터 레이블 값 비율\n",
            "0    99.827451\n",
            "1     0.172549\n",
            "Name: Class, dtype: float64\n",
            "테스트 데이터 레이블 값 비율\n",
            "0    99.826785\n",
            "1     0.173215\n",
            "Name: Class, dtype: float64\n"
          ]
        }
      ]
    },
    {
      "cell_type": "markdown",
      "source": [
        "학습 데이터 레이블의 경우 1값이 약 0.172% / 테스트 데이터 레이블의 경우 1값이 약 0.173%로 큰 차이가 없이 잘 분할됨"
      ],
      "metadata": {
        "id": "Rit4IRmuTRIT"
      }
    },
    {
      "cell_type": "markdown",
      "source": [
        "> 모델 생성 : 로지스틱 회귀와 LightGBM 기반의 모델이 데이터 가공을 수행하면서 예측 성능이 어떻게 변하는지 확인"
      ],
      "metadata": {
        "id": "T4KyjJC8Tavb"
      }
    },
    {
      "cell_type": "markdown",
      "source": [
        "로지스틱 회귀 모델 생성"
      ],
      "metadata": {
        "id": "X_X2kBnjWvY3"
      }
    },
    {
      "cell_type": "code",
      "source": [
        "from sklearn.linear_model import LogisticRegression\n",
        "\n",
        "lr_clf = LogisticRegression()\n",
        "lr_clf.fit(X_train, y_train)\n",
        "lr_pred = lr_clf.predict(X_test)\n",
        "lr_pred_proba = lr_clf.predict_proba(X_test)[:,1]"
      ],
      "metadata": {
        "id": "fYTufdfsT6DV"
      },
      "execution_count": 7,
      "outputs": []
    },
    {
      "cell_type": "code",
      "source": [
        "from sklearn.metrics import accuracy_score, precision_score, recall_score, confusion_matrix, f1_score, roc_auc_score\n",
        "\n",
        "def get_clf_eval(y_test,pred=None,pred_proba=None): #3장에서 생성한 함수\n",
        "  confusion=confusion_matrix(y_test,pred)\n",
        "  accuracy=accuracy_score(y_test,pred)\n",
        "  precision=precision_score(y_test,pred)\n",
        "  recall=recall_score(y_test,pred)\n",
        "  f1=f1_score(y_test,pred)\n",
        "  #ROC-AUC 추가\n",
        "  roc_auc = roc_auc_score(y_test, pred_proba)\n",
        "  print('오차 행렬')\n",
        "  print(confusion)\n",
        "  #ROC-AUC print 추가\n",
        "  print('정확도: {0:.4f}, 정밀도: {1:.4f}, 재현율: {2:.4f}, F1: {3:.4f}, AUC:{4:.4f}'.format(accuracy, precision, recall, f1, roc_auc))"
      ],
      "metadata": {
        "id": "O9SMQE-1Uczi"
      },
      "execution_count": 8,
      "outputs": []
    },
    {
      "cell_type": "code",
      "source": [
        "get_clf_eval(y_test, lr_pred, lr_pred_proba)"
      ],
      "metadata": {
        "colab": {
          "base_uri": "https://localhost:8080/"
        },
        "id": "44659WtAUeXr",
        "outputId": "f6acad10-530f-4cf1-97a8-d6159ed1a76c"
      },
      "execution_count": 9,
      "outputs": [
        {
          "output_type": "stream",
          "name": "stdout",
          "text": [
            "오차 행렬\n",
            "[[85281    14]\n",
            " [   56    92]]\n",
            "정확도: 0.9992, 정밀도: 0.8679, 재현율: 0.6216, F1: 0.7244, AUC:0.9609\n"
          ]
        }
      ]
    },
    {
      "cell_type": "markdown",
      "source": [
        "LightGBM 모델 생성"
      ],
      "metadata": {
        "id": "XfYvvzuOVzz4"
      }
    },
    {
      "cell_type": "code",
      "source": [
        "#인자로 사이킷런의 Estimator 객체와 학습/테스트 데이터 세트를 입력 받아서 학습/예측/평가 수행\n",
        "def get_model_train_eval(model,ftr_train=None,ftr_test=None,tgt_train=None,tgt_test=None):\n",
        "  model.fit(ftr_train,tgt_train)\n",
        "  pred=model.predict(ftr_test)\n",
        "  pred_proba=model.predict_proba(ftr_test)[:,1]\n",
        "  get_clf_eval(tgt_test,pred,pred_proba)"
      ],
      "metadata": {
        "id": "Kq9ZrUbKWA9e"
      },
      "execution_count": 10,
      "outputs": []
    },
    {
      "cell_type": "markdown",
      "source": [
        "> LightGBM으로 모델 학습 뒤, 별도의 테스트 데이터 세트에서 예측 평가 수행"
      ],
      "metadata": {
        "id": "diG3_qfeWMC2"
      }
    },
    {
      "cell_type": "code",
      "source": [
        "from lightgbm import LGBMClassifier\n",
        "lgbm_clf=LGBMClassifier(n_estimators=1000,num_leaves=64,n_jobs=-1,boost_from_average=False)\n",
        "get_model_train_eval(lgbm_clf,ftr_train=X_train,ftr_test=X_test,tgt_train=y_train,tgt_test=y_test)"
      ],
      "metadata": {
        "colab": {
          "base_uri": "https://localhost:8080/"
        },
        "id": "b_WmeD2eWW8w",
        "outputId": "a17e0f6a-e60d-4532-f341-37f569351af9"
      },
      "execution_count": 11,
      "outputs": [
        {
          "output_type": "stream",
          "name": "stdout",
          "text": [
            "오차 행렬\n",
            "[[85289     6]\n",
            " [   36   112]]\n",
            "정확도: 0.9995, 정밀도: 0.9492, 재현율: 0.7568, F1: 0.8421, AUC:0.9797\n"
          ]
        }
      ]
    },
    {
      "cell_type": "markdown",
      "source": [
        "앞의 로지스틱 회귀보다 높은 수치를 나타냄"
      ],
      "metadata": {
        "id": "oXDSSXISW7UZ"
      }
    },
    {
      "cell_type": "markdown",
      "source": [
        "### 데이터 분포도 변환 후 모델 학습/예측/평가"
      ],
      "metadata": {
        "id": "1GN1zqXHGcRJ"
      }
    },
    {
      "cell_type": "markdown",
      "source": [
        "왜곡된 분포도를 가지는 데이터를 재가공 한 뒤에 모델을 다시 테스트함\n",
        "\n",
        "> 1. creditcard.csv의 중요 피처 값의 분포도 살펴보기\n",
        "* 로지스틱 회귀는 선형모델\n",
        "  - 대부분의 선형 모델읜 중요 피처들의 값이 정규 분포 형태를 유지하는 것을 선호함\n",
        "  - Amount 피처는 신용 카드 사용 금액으로 정상/사기 트랜잭션을 결정하는 매우 중요한 속성일 가능성이 높음"
      ],
      "metadata": {
        "id": "R0SmGiKvGgvY"
      }
    },
    {
      "cell_type": "code",
      "execution_count": 12,
      "metadata": {
        "colab": {
          "base_uri": "https://localhost:8080/",
          "height": 320
        },
        "id": "oe7UWvyWGY1P",
        "outputId": "f46b6d1f-5301-4239-b7e3-6eb8a7f5b75a"
      },
      "outputs": [
        {
          "output_type": "execute_result",
          "data": {
            "text/plain": [
              "<matplotlib.axes._subplots.AxesSubplot at 0x7fc5ab040810>"
            ]
          },
          "metadata": {},
          "execution_count": 12
        },
        {
          "output_type": "display_data",
          "data": {
            "text/plain": [
              "<Figure size 576x288 with 1 Axes>"
            ],
            "image/png": "[encoded data removed]"
          },
          "metadata": {
            "needs_background": "light"
          }
        }
      ],
      "source": [
        "# Amount 피처의 분포도 확인\n",
        "import seaborn as sns\n",
        "plt.figure(figsize=(8,4))\n",
        "plt.xticks(range(0,30000,1000),rotation=60)\n",
        "sns.distplot(card_df['Amount'])"
      ]
    },
    {
      "cell_type": "markdown",
      "source": [
        "Amount, 즉 카드 사용 금액이 1000불 이하인 데이터가 대부분임.\n",
        "\n",
        "27,000불까지 드물지만 많은 금액을 사용한 경우가 발생하면서 꼬리가 긴 형태의 분포 곡선을 가짐"
      ],
      "metadata": {
        "id": "z79O5dKsXZ2e"
      }
    },
    {
      "cell_type": "markdown",
      "source": [
        "> 2. Amount를 표준 정규분포 형태로 변환한 뒤에 로지스틱 회귀의 예측 성능을 측정\n",
        "- get_preprocessed_df() 함수를 사이킷런의 StandardScaler 클래스를 이용해 Amount 피처를 정규 분포 형태로 변환하는 코드로 변경\n"
      ],
      "metadata": {
        "id": "UJHzUtWYX9vL"
      }
    },
    {
      "cell_type": "code",
      "source": [
        "from sklearn.preprocessing import StandardScaler\n",
        "#사이킷런의 StandardScaler을 이용해 정규 분포 형태로 Amount 피처값으로 변환하는 로직으로 수정\n",
        "def get_preprocessed_df(df=None):\n",
        "  df_copy=df.copy()\n",
        "  scaler=StandardScaler()\n",
        "  amount_n=scaler.fit_transform(df_copy['Amount'].values.reshape(-1,1))\n",
        "  #변환된 amount를 amount_scaled로 피처명 변경 후 DataFrame 맨 앞 칼럼으로 입력\n",
        "  df_copy.insert(0,'Amount_Scaled',amount_n)\n",
        "  #기존 Time,Amount 피처 삭제\n",
        "  df_copy.drop(['Time','Amount'],axis=1,inplace=True)\n",
        "  return df_copy"
      ],
      "metadata": {
        "id": "1vrI0M9nXsZt"
      },
      "execution_count": 13,
      "outputs": []
    },
    {
      "cell_type": "markdown",
      "source": [
        "> Amount를 정규분포로 변환한 학습/테스트 데이터 세트를 생성한 후 get_model_train_eval()을 이용해 로지스틱 회귀와 LightGBM 모델을 각각 학습/예측/평가"
      ],
      "metadata": {
        "id": "MRL8ak8xadY0"
      }
    },
    {
      "cell_type": "code",
      "source": [
        "# Amount를 정규분포 형태로 변환 후 로지스틱 회귀 및 LightGBM 수행\n",
        "X_train, X_test, y_train, y_test = get_train_test_dataset(card_df)\n",
        "\n",
        "print('### 로지스틱 회귀 예측 성능 ###')\n",
        "lr_clf = LogisticRegression()\n",
        "get_model_train_eval(lr_clf, ftr_train=X_train, ftr_test=X_test, tgt_train=y_train, tgt_test=y_test)\n",
        "\n",
        "print('### LightGBM 예측 성능 ###')\n",
        "lgbm_clf = LGBMClassifier(n_estimators=1000, num_leaves=64, n_jobs=-1, boost_from_average=False)\n",
        "get_model_train_eval(lgbm_clf, ftr_train=X_train, ftr_test=X_test, tgt_train=y_train, tgt_test=y_test)"
      ],
      "metadata": {
        "colab": {
          "base_uri": "https://localhost:8080/"
        },
        "id": "tpD2tImNanj_",
        "outputId": "e8ebbd25-2299-4977-aa6f-98533191cbcd"
      },
      "execution_count": 14,
      "outputs": [
        {
          "output_type": "stream",
          "name": "stdout",
          "text": [
            "### 로지스틱 회귀 예측 성능 ###\n",
            "오차 행렬\n",
            "[[85281    14]\n",
            " [   58    90]]\n",
            "정확도: 0.9992, 정밀도: 0.8654, 재현율: 0.6081, F1: 0.7143, AUC:0.9702\n",
            "### LightGBM 예측 성능 ###\n",
            "오차 행렬\n",
            "[[85289     6]\n",
            " [   36   112]]\n",
            "정확도: 0.9995, 정밀도: 0.9492, 재현율: 0.7568, F1: 0.8421, AUC:0.9773\n"
          ]
        }
      ]
    },
    {
      "cell_type": "markdown",
      "source": [
        "정규 분포 형태로 Amount 피처값을 변환한 후 테스트 데이터 세트에 적용한 로지스틱 회귀 및 LightGBM 두 모델 모두 변환 이전과 비교해 성능이 크게 개선되지는 않음"
      ],
      "metadata": {
        "id": "x-SZw1-ja1d6"
      }
    },
    {
      "cell_type": "markdown",
      "source": [
        "> StandardScaler가 아닌 로그 변환 수행\n",
        "* 로그 변환: 데이터 분포도가 심하게 왜곡되어 있을 경우 적용하는 기법\n",
        "  - 원래의 값을 log 값으로 변환해 원래 큰 값을 상대적으로 작은 값으로 변환하기 때문에 데이터 분포도의 왜곡을 상당 수준 개선"
      ],
      "metadata": {
        "id": "65XiX2bza94Q"
      }
    },
    {
      "cell_type": "code",
      "source": [
        "def get_preprocessed_df(df=None):\n",
        "  df_copy=df.copy()\n",
        "  #넘파이의 log1p()를 이용해 Amount를 로그 변환\n",
        "  amount_n=np.log1p(df_copy['Amount']) \n",
        "  df_copy.insert(0,'Amount_Scaled',amount_n)\n",
        "  df_copy.drop(['Time','Amount'],axis=1,inplace=True)\n",
        "  return df_copy"
      ],
      "metadata": {
        "id": "qnDmEzxjczRu"
      },
      "execution_count": 15,
      "outputs": []
    },
    {
      "cell_type": "code",
      "source": [
        "#amount 피처를 로그 변환한 후 다시 모델 적용 후 예측 성능 확인\n",
        "X_train, X_test, y_train, y_test = get_train_test_dataset(card_df)\n",
        "\n",
        "print('### 로지스틱 회귀 예측 성능 ###')\n",
        "get_model_train_eval(lr_clf, ftr_train=X_train, ftr_test=X_test, tgt_train=y_train, tgt_test=y_test)\n",
        "\n",
        "print('### LightGBM 예측 성능 ###')\n",
        "get_model_train_eval(lgbm_clf, ftr_train=X_train, ftr_test=X_test, tgt_train=y_train, tgt_test=y_test)"
      ],
      "metadata": {
        "colab": {
          "base_uri": "https://localhost:8080/"
        },
        "id": "tFyORyd2c5oA",
        "outputId": "643edc80-b79e-48ed-d936-2128e41f8683"
      },
      "execution_count": 16,
      "outputs": [
        {
          "output_type": "stream",
          "name": "stdout",
          "text": [
            "### 로지스틱 회귀 예측 성능 ###\n",
            "오차 행렬\n",
            "[[85283    12]\n",
            " [   59    89]]\n",
            "정확도: 0.9992, 정밀도: 0.8812, 재현율: 0.6014, F1: 0.7149, AUC:0.9727\n",
            "### LightGBM 예측 성능 ###\n",
            "오차 행렬\n",
            "[[85290     5]\n",
            " [   35   113]]\n",
            "정확도: 0.9995, 정밀도: 0.9576, 재현율: 0.7635, F1: 0.8496, AUC:0.9786\n"
          ]
        }
      ]
    },
    {
      "cell_type": "markdown",
      "source": [
        "두 모델 모두 정밀도, 재현율, ROC-AUC 에서 약간씩 성능이 개선됨"
      ],
      "metadata": {
        "id": "paVP0ylkc8hg"
      }
    },
    {
      "cell_type": "markdown",
      "source": [
        "### 이상치 데이터 제거 후 모델 학습/예측/평가\n",
        "* 이상치 데이터(Outlier): 전체 데이터의 패턴에서 벗어난 이상 값을 가진 데이터 - 아웃라이어\n",
        "* **IQR(Internet Quantile Range)** : 사분위 값의 편차를 이용하는 기법으로 흔히 박스플롯 방식으로 시각화\n",
        "    - 사분위: 전체 데이터를 값 이 높은 순으로 정렬하고 이를 1/4(25%)씩 구간을 분할하는 것\n",
        "    - IQR에 1.5를 곱해서 생성된 범위를 이용해 최댓값과 최솟값을 결정한 뒤, 최댓값을 초과하거나 최솟값에 미달하는 데이터를 이상치로 간주함\n"
      ],
      "metadata": {
        "id": "l1E88PpidD03"
      }
    },
    {
      "cell_type": "markdown",
      "source": [
        "> 이상치 데이터를 IQR을 이용해 제거\n",
        "1. 먼저 어떤 피처의 이상치 데이터를 검출할 것인지 선택이 필요함\n",
        " - 매우 많은 피처가 있을 경우 이들 중 결정값(즉 레이블)과 가장 상관성이 높은 피처들을 위주로 이상치를 검출하는 것이 좋음\n",
        "    - 결정값과 상관성이 높지 않은 피처들의 경우는 이상치를 제거하더라도 크게 성능 향상에 기여하지 않기 때문"
      ],
      "metadata": {
        "id": "Yw7mbH5Ee8Jy"
      }
    },
    {
      "cell_type": "code",
      "source": [
        "# DataFrame의 corr()을 이용해 각 피처별로 상관도를 구한 뒤 시본의 heatmap을 통해 시각화\n",
        "import seaborn as sns\n",
        "\n",
        "plt.figure(figsize=(9,9))\n",
        "corr=card_df.corr()\n",
        "sns.heatmap(corr,cmap='RdBu')"
      ],
      "metadata": {
        "colab": {
          "base_uri": "https://localhost:8080/",
          "height": 588
        },
        "id": "i5X0Luhce4aX",
        "outputId": "a413abdd-3d5d-4606-e4e1-0abafcc89311"
      },
      "execution_count": 17,
      "outputs": [
        {
          "output_type": "execute_result",
          "data": {
            "text/plain": [
              "<matplotlib.axes._subplots.AxesSubplot at 0x7fc5a6964490>"
            ]
          },
          "metadata": {},
          "execution_count": 17
        },
        {
          "output_type": "display_data",
          "data": {
            "text/plain": [
              "<Figure size 648x648 with 2 Axes>"
            ],
            "image/png": "[encoded data removed]"
          },
          "metadata": {
            "needs_background": "light"
          }
        }
      ]
    },
    {
      "cell_type": "markdown",
      "source": [
        "상관관계 히트맵 해석\n",
        "- cmap을 'RdBu'로 설정해 양의 상관관계가 높을수록 색깔이 진한 파란색에 가까움 / 음의 상관관계가 높을수록 색깔이 진한 빨간색에 가깝게 표현\n",
        "- 맨 아래에 위치한 결정 레이블인 Class 피처와 음의 상관관계가 가장 높은 피처는 V14와 V17\n",
        "\n"
      ],
      "metadata": {
        "id": "geDa267wfbLv"
      }
    },
    {
      "cell_type": "markdown",
      "source": [
        "> V14에 대해서만 이상치를 찾아서 제거\n",
        "  - IQR을 이용해 검출된 이상치 삭제 \n",
        "    - get_outlier() : dataframe 과 이상치를 검출한 칼럼 입력받음\n"
      ],
      "metadata": {
        "id": "yXaH8TWif3pT"
      }
    },
    {
      "cell_type": "code",
      "source": [
        "import numpy as np\n",
        "\n",
        "def get_outlier(df=None, column=None, weight=1.5):\n",
        "    # fraud에 해당하는 column 데이터만 추출, 1/4 분위와 3/4 분위 지점을 np.percentile로 구함. \n",
        "    fraud = df[df['Class']==1][column]\n",
        "    quantile_25 = np.percentile(fraud.values, 25)\n",
        "    quantile_75 = np.percentile(fraud.values, 75)\n",
        "    # IQR을 구하고, IQR에 1.5를 곱하여 최대값과 최소값 지점 구함. \n",
        "    iqr = quantile_75 - quantile_25\n",
        "    iqr_weight = iqr * weight\n",
        "    lowest_val = quantile_25 - iqr_weight\n",
        "    highest_val = quantile_75 + iqr_weight\n",
        "    # 최대값 보다 크거나, 최소값 보다 작은 값을 아웃라이어로 설정하고 DataFrame index 반환. \n",
        "    outlier_index = fraud[(fraud < lowest_val) | (fraud > highest_val)].index\n",
        "    return outlier_index"
      ],
      "metadata": {
        "id": "Hn-aHt1fx1iP"
      },
      "execution_count": 18,
      "outputs": []
    },
    {
      "cell_type": "code",
      "source": [
        "#get_oulier() 함수를 이용해 V14 칼럼에서 이상치 데이터 찾기\n",
        "outlier_index = get_outlier(df=card_df, column='V14', weight=1.5)\n",
        "print('이상치 데이터 인덱스:', outlier_index)"
      ],
      "metadata": {
        "colab": {
          "base_uri": "https://localhost:8080/"
        },
        "id": "bg_VdPrhyUw0",
        "outputId": "d3624ab7-ef48-4e3a-857c-b40d90eea5ee"
      },
      "execution_count": 19,
      "outputs": [
        {
          "output_type": "stream",
          "name": "stdout",
          "text": [
            "이상치 데이터 인덱스: Int64Index([8296, 8615, 9035, 9252], dtype='int64')\n"
          ]
        }
      ]
    },
    {
      "cell_type": "markdown",
      "source": [
        "4개의 데이터(8296,8615,9035,9252번 인덱스) 이상치로 추출"
      ],
      "metadata": {
        "id": "v317PkQrydS-"
      }
    },
    {
      "cell_type": "markdown",
      "source": [
        "> 이상치를 추출하고 삭제하는 로직을 get_processed_df()에 추가해 데이터를 가공한 뒤 이 데이터 세트를 이용해 로지스틱 회귀와 LightGBM 모델 적용"
      ],
      "metadata": {
        "id": "84pbHvq1yqXX"
      }
    },
    {
      "cell_type": "code",
      "source": [
        "# get_processed_df( )를 로그 변환 후 V14 피처의 이상치 데이터를 삭제하는 로직으로 변경\n",
        "def get_preprocessed_df(df=None):\n",
        "    df_copy = df.copy()\n",
        "    amount_n = np.log1p(df_copy['Amount'])\n",
        "    df_copy.insert(0, 'Amount_Scaled', amount_n)\n",
        "    df_copy.drop(['Time','Amount'], axis=1, inplace=True)\n",
        "    # 이상치 데이터 삭제하는 로직 추가\n",
        "    outlier_index = get_outlier(df=df_copy, column='V14', weight=1.5)\n",
        "    df_copy.drop(outlier_index, axis=0, inplace=True)\n",
        "    return df_copy\n",
        "\n",
        "X_train, X_test, y_train, y_test = get_train_test_dataset(card_df)\n",
        "print('### 로지스틱 회귀 예측 성능 ###')\n",
        "get_model_train_eval(lr_clf, ftr_train=X_train, ftr_test=X_test, tgt_train=y_train, tgt_test=y_test)\n",
        "print('### LightGBM 예측 성능 ###')\n",
        "get_model_train_eval(lgbm_clf, ftr_train=X_train, ftr_test=X_test, tgt_train=y_train, tgt_test=y_test)"
      ],
      "metadata": {
        "id": "3__MamGfyUnV"
      },
      "execution_count": 19,
      "outputs": []
    },
    {
      "cell_type": "markdown",
      "source": [
        "이상치 데이터를 제거한 뒤, 로지스틱 회귀와 LightGBM 모두 예측 성능 크게 향상"
      ],
      "metadata": {
        "id": "Y5cBbKKpy-bJ"
      }
    },
    {
      "cell_type": "markdown",
      "source": [
        "### SMOTE 오버 샘플링 적용 후 무델 학습/예측/평가"
      ],
      "metadata": {
        "id": "KWhtGy95zGaD"
      }
    },
    {
      "cell_type": "markdown",
      "source": [
        "* SMOTE 기법 : 오버 샘플링 적용\n",
        " - imbalanced-learn 패키지의 SMOTE 클래스를 이용해 간단하게 구현 가능\n",
        " - 반드시 학습 데이터 세트만 오버 샘플링을 해야 함! \n",
        "   - 검증 데이터 세트나 테스트 데이터 세트를 오버 샘플링 할 경우, 결국 원본 데이터 세트가 아닌 데이터 세트에서 검증 또는 테스트를 수행하기 때문에 올바른 검증/테스트가 될 수 없음"
      ],
      "metadata": {
        "id": "vzYXnKp4zKw2"
      }
    },
    {
      "cell_type": "markdown",
      "source": [
        "> 앞 예제에서 생성한 학습 피처/레이블 데이터를 SMOTE 객체의 fit_sample() 메서드를 이용해 증식한 뒤 데이터를 증식 전과 비교"
      ],
      "metadata": {
        "id": "mHG3BV3Izr8H"
      }
    },
    {
      "cell_type": "code",
      "source": [
        "from imblearn.over_sampling import SMOTE\n",
        "\n",
        "smote = SMOTE(random_state=0)\n",
        "X_train_over, y_train_over = smote.fit_resample(X_train, y_train)\n",
        "print('SMOTE 적용 전 학습용 피처/레이블 데이터 세트: ', X_train.shape, y_train.shape)\n",
        "print('SMOTE 적용 후 학습용 피처/레이블 데이터 세트: ', X_train_over.shape, y_train_over.shape)\n",
        "print('SMOTE 적용 후 레이블 값 분포: \\n', pd.Series(y_train_over).value_counts())\n"
      ],
      "metadata": {
        "colab": {
          "base_uri": "https://localhost:8080/"
        },
        "id": "2I3pXDSIz2gM",
        "outputId": "0619834d-94a4-46e3-fceb-efffa5b397a9"
      },
      "execution_count": 21,
      "outputs": [
        {
          "output_type": "stream",
          "name": "stdout",
          "text": [
            "SMOTE 적용 전 학습용 피처/레이블 데이터 세트:  (199364, 29) (199364,)\n",
            "SMOTE 적용 후 학습용 피처/레이블 데이터 세트:  (398040, 29) (398040,)\n",
            "SMOTE 적용 후 레이블 값 분포: \n",
            " 0    199020\n",
            "1    199020\n",
            "Name: Class, dtype: int64\n"
          ]
        }
      ]
    },
    {
      "cell_type": "markdown",
      "source": [
        "적용 전 학습 데이터 세트는 199,362건 -> SMOTE 적용 후, 가까운 398,040건으로 2배 이상 증식\n",
        "\n",
        "적용 후 레이블 값이 0과 1의 분포가 동일하게 199,020건 으로 생성"
      ],
      "metadata": {
        "id": "EMtUnoB4z8Fc"
      }
    },
    {
      "cell_type": "markdown",
      "source": [
        "> 생성된 학습 데이터 세트르 기반으로 로지스틱 회귀 모델 학습 후 성능 평가"
      ],
      "metadata": {
        "id": "I6zvBqgo00eb"
      }
    },
    {
      "cell_type": "code",
      "source": [
        "lr_clf = LogisticRegression()\n",
        "# ftr_train과 tgt_train 인자값이 SMOTE 증식된 X_train_over와 y_train_over로 변경됨에 유의\n",
        "get_model_train_eval(lr_clf, ftr_train=X_train_over, ftr_test=X_test, tgt_train=y_train_over, tgt_test=y_test)"
      ],
      "metadata": {
        "colab": {
          "base_uri": "https://localhost:8080/"
        },
        "id": "cMF4J_4t05s9",
        "outputId": "0c51dffb-0538-431c-91a6-3bb3db7a99e9"
      },
      "execution_count": 22,
      "outputs": [
        {
          "output_type": "stream",
          "name": "stdout",
          "text": [
            "오차 행렬\n",
            "[[83317  1978]\n",
            " [   15   133]]\n",
            "정확도: 0.9767, 정밀도: 0.0630, 재현율: 0.8986, F1: 0.1178, AUC:0.9803\n"
          ]
        }
      ]
    },
    {
      "cell_type": "markdown",
      "source": [
        "SMOTE 오버 샘플링 된 데이터로 학습할 경우 재현율이 92.47%로 크게 증가 / 반대로 정밀도가 5.4%로 급격하게 저하\n",
        " - 재현율이 높더라도 저조한 정밀도로는 현실 업무에 적용할 수 없음\n",
        " - 로지스틱 회귀 모델이 오버 샘플링으로 인해 실제 원본 데이터의 유형보다 너무나 많은 Class=1 데이터를 학습하면서 실제 테스트 데이터 세트에서 예측을 지나치게 Class=1로 적용해 정밀도가 급격히 떨어지게 된 것"
      ],
      "metadata": {
        "id": "_HymCQRX09CN"
      }
    },
    {
      "cell_type": "markdown",
      "source": [
        "> 분류 결정 임곗값에 따른 정밀도와 재현율 곡선을 통해 SMOTE로 학습된 로지스틱 회귀 모델에 어떠한 문제가 발생하고 있는지 시각적으로 확인"
      ],
      "metadata": {
        "id": "dVEs32NO1g0l"
      }
    },
    {
      "cell_type": "code",
      "source": [
        "# 이전에 사용한 precision_recall_curve_plot()함수 이용\n",
        "import matplotlib.pyplot as plt\n",
        "import matplotlib.ticker as ticker\n",
        "from sklearn.metrics import precision_recall_curve\n",
        "%matplotlib inline\n",
        "\n",
        "def precision_recall_curve_plot(y_test , pred_proba_c1):\n",
        "    # threshold ndarray와 이 threshold에 따른 정밀도, 재현율 ndarray 추출. \n",
        "    precisions, recalls, thresholds = precision_recall_curve( y_test, pred_proba_c1)\n",
        "    \n",
        "    # X축을 threshold값으로, Y축은 정밀도, 재현율 값으로 각각 Plot 수행. 정밀도는 점선으로 표시\n",
        "    plt.figure(figsize=(8,6))\n",
        "    threshold_boundary = thresholds.shape[0]\n",
        "    plt.plot(thresholds, precisions[0:threshold_boundary], linestyle='--', label='precision')\n",
        "    plt.plot(thresholds, recalls[0:threshold_boundary],label='recall')\n",
        "    \n",
        "    # threshold 값 X 축의 Scale을 0.1 단위로 변경\n",
        "    start, end = plt.xlim()\n",
        "    plt.xticks(np.round(np.arange(start, end, 0.1),2))\n",
        "    \n",
        "    # x축, y축 label과 legend, 그리고 grid 설정\n",
        "    plt.xlabel('Threshold value'); plt.ylabel('Precision and Recall value')\n",
        "    plt.legend(); plt.grid()\n",
        "    plt.show()"
      ],
      "metadata": {
        "id": "-6l66hmC1p_7"
      },
      "execution_count": 23,
      "outputs": []
    },
    {
      "cell_type": "code",
      "source": [
        "precision_recall_curve_plot(y_test, lr_clf.predict_proba(X_test)[:, 1])"
      ],
      "metadata": {
        "colab": {
          "base_uri": "https://localhost:8080/",
          "height": 388
        },
        "id": "tZ3LkGnw1_BM",
        "outputId": "d48afb85-8e73-47c8-ab78-ff35242f7c39"
      },
      "execution_count": 24,
      "outputs": [
        {
          "output_type": "display_data",
          "data": {
            "text/plain": [
              "<Figure size 576x432 with 1 Axes>"
            ],
            "image/png": "[encoded data removed]"
          },
          "metadata": {
            "needs_background": "light"
          }
        }
      ]
    },
    {
      "cell_type": "markdown",
      "source": [
        "임계값이 0.99 이하에서는 재현율이 매우 좋고 정밀도가 극단적으로 낮다가 0.99 이상에서는 반대로 재현율이 대폭 떨어지고 정밀도가 높아짐\n",
        "\n",
        "분류 결정 임계값을 조정하더라도 임계값의 민감도가 너무 심해 올바른 재현율/정밀도 성능을 얻을 수 없으므로 로지스틱 회귀 모델의 경우 SMOTE 적용 후 올바른 예측 모델이 생성되지 못함"
      ],
      "metadata": {
        "id": "t38gK1nf2BMl"
      }
    },
    {
      "cell_type": "markdown",
      "source": [
        "> LightGBM 모델을 SMOTE로 오버 샘플링된 데이터 세트로 학습/예측/평가 수행"
      ],
      "metadata": {
        "id": "pS5diLp12R-L"
      }
    },
    {
      "cell_type": "code",
      "source": [
        "lgbm_clf = LGBMClassifier(n_estimators=1000, num_leaves=64, n_jobs=-1, boost_from_average=False)\n",
        "get_model_train_eval(lgbm_clf, ftr_train=X_train_over, ftr_test=X_test,\n",
        "                  tgt_train=y_train_over, tgt_test=y_test)"
      ],
      "metadata": {
        "colab": {
          "base_uri": "https://localhost:8080/"
        },
        "id": "dI8VZjy32YER",
        "outputId": "2a54b99d-c16b-492a-d416-1eea69aa6e1c"
      },
      "execution_count": 25,
      "outputs": [
        {
          "output_type": "stream",
          "name": "stdout",
          "text": [
            "오차 행렬\n",
            "[[85284    11]\n",
            " [   32   116]]\n",
            "정확도: 0.9995, 정밀도: 0.9134, 재현율: 0.7838, F1: 0.8436, AUC:0.9855\n"
          ]
        }
      ]
    },
    {
      "cell_type": "markdown",
      "source": [
        "* 재현율이 이상치만 제거한 경우인 82.88% 보다 높은 84.93% 가 됨\n",
        "* 정밀도는 이전의 96.8% 보다 낮은 92.23%\n",
        "\n",
        "SMOTE를 적용하면 재현율은 높아지나, 정밀도는 낮아짐\n"
      ],
      "metadata": {
        "id": "rlEEA6yg2azP"
      }
    }
  ]
}