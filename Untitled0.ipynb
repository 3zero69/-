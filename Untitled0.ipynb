{
  "nbformat": 4,
  "nbformat_minor": 0,
  "metadata": {
    "colab": {
      "provenance": [],
      "authorship_tag": "ABX9TyOfF4hmZrXL0IA3xOrYfDR0",
      "include_colab_link": true
    },
    "kernelspec": {
      "name": "python3",
      "display_name": "Python 3"
    },
    "language_info": {
      "name": "python"
    }
  },
  "cells": [
    {
      "cell_type": "markdown",
      "metadata": {
        "id": "view-in-github",
        "colab_type": "text"
      },
      "source": [
        "<a href=\"https://colab.research.google.com/github/3zero69/-/blob/main/Untitled0.ipynb\" target=\"_parent\"><img src=\"https://colab.research.google.com/assets/colab-badge.svg\" alt=\"Open In Colab\"/></a>"
      ]
    },
    {
      "cell_type": "markdown",
      "source": [
        "# 1 파이썬 기반의 머신러닝과 생태계 이해"
      ],
      "metadata": {
        "id": "DuHLwDubUIfa"
      }
    },
    {
      "cell_type": "markdown",
      "source": [
        "## 01. 머신러닝의 개념\n",
        "* 머신러닝: 애플리케이션을 수정하지 않고도 데이터를 기반으로 패턴을 학습하고 결과를 예측하는 알고리즘 기법 (ex. 금융사기 거래 적발 프로그램)\n",
        " * 업무적으로 복잡한 조건/규칙들이 다양한 형태로 결합하고 시시각각 변하면서 도저히 소프트웨어 코드로 로직을 구성하여 이들을 관통하는 일정한 패턴을 찾기 어려운 경우에 머신러닝은 훌륭한 솔루션 제공 \n",
        "   - ex. 스팸메일 필터링 프로그램\n",
        " * 데이터를 기반으로 숨겨진 패턴을 인지해 해결\n",
        "* 머신러닝 알고리즘 : 데이터를 기반으로 통계적인 신뢰도를 강화, 예측 오류를 최소화하기 위한 다양한 수학적 기법 적용 -> 데이터 내의 패턴을 스스로 인지, 신뢰도 있는 예측 결과 도출\n",
        "### 머신러닝의 분류\n",
        "1. 지도학습: 분류, 회귀, 추천시스템, 시각/음성 감지/인지, 텍스트 분석, NLP\n",
        "2. 비지도 학습: 클러스터링, 차원축소, 강화학습\n",
        "### 데이터 전쟁\n",
        "* 머신러닝의 단점: 데이터에 매우 의존적 :(\n",
        "  -  최적의 머신러닝 알고리즘과 모델 파라미터를 구축하는 능력 \n",
        "  - 데이터를 이해하고 효율적으로 가공, 처리, 추출하여 최적의 데이터를 기반으로 알고리즘을 구동할 수 있도록 준비하는 능력 **\n",
        "### 파이썬과 R 기반의 머신러닝 비교\n",
        "* R : 통계 전용 프로그램 언어\n",
        "* 파이썬 : 다양한 영역에서 사용되는 개발 전문 프로그램 언어\n",
        " - 직관적인 문법, 객체지향과 함수형 프로그래밍 모두 포괄\n",
        " - 댜앙한 라이브러리\n",
        "* 파이썬이 R보다 뛰어난 점\n",
        "  - 쉽고 뛰어난 개발 생산성\n",
        "  - 오픈 소스 계열의 전폭적인 지원, 다양한 라이브러리로 인하여 개발 시 높은 생산성 보장\n",
        "  - 인터프리터 언어: 속도는 느림 / 뛰어난 확장성, 유연성, 호환성으로 인해 다양한 영역에서 사용됨\n",
        "  - 머신러닝 애플리케이션과 결합한 다양한 애플리케이션 개발\n",
        "  - 엔터프라이즈 아키텍처로의 확장 및 마이크로서비스 기반의 실시간 연계 등 다양한 기업 환경으로의 확산\n"
      ],
      "metadata": {
        "id": "NPiUQHvtHODu"
      }
    },
    {
      "cell_type": "markdown",
      "source": [
        "\n",
        "## 02. 파이썬 머신러닝 생태계를 구성하는 주요 패키지\n",
        "* 머신러닝 패키지\n",
        "* 행렬/선형대수/통계 패키지\n",
        "* 데이터 핸들링\n",
        "* 시각화\n",
        "* 파이썬 기반의 머신러닝을 지원하는 서드파티 라이브러리\n",
        "* 주피터 노트북(아이파이썬 툴)"
      ],
      "metadata": {
        "id": "qBIuofglT8fH"
      }
    },
    {
      "cell_type": "markdown",
      "source": [
        "## 03. 넘파이\n",
        "* Numerical Python (Numpy): 파이썬에서 선형대수 기반의 프로그램을 쉽게 만들 수 있도록 지원하는 대표적인 패키지\n",
        " - 루프를 사용하지 않고 대량 데이터의 배열 연산을 가능하게 함 -> 빠른 배열 연산 속도 보장\n",
        " - 저수준 언어 기반의 호환 API 보장 : 수행 성능이 중요한 부분은 C/C++ 기반의 코드로 작성하고 이를 넘파이에서 호출하는 방식으로 통합\n",
        "  - 다양한 데이터 핸들링 기능 제공\n",
        "### 넘파이 ndarray 개요\n",
        "\n",
        "* 넘파이 모듈 임포트\n",
        "```\n",
        "import numpy as np\n",
        "```\n",
        "\n",
        "* 넘파이 기반 데이터 타입: ndarray - 다차원 배열을 쉽게 생성하고 다양한 연산 수행\n",
        "* 넘파이 array() 함수: 파이썬의 리스트와 같은 다양한 인자를 입력 받아 ndarray로 변환하는 기능 수행\n",
        " - 생성된 ndarray 배열의 shape 변수는 ndarray의 크기(행과 열의 수)를 튜플 형태로 가짐"
      ],
      "metadata": {
        "id": "CvtyTfWZT0Ln"
      }
    },
    {
      "cell_type": "code",
      "source": [
        "import numpy as np"
      ],
      "metadata": {
        "id": "OVTkMJ4gUV1D"
      },
      "execution_count": 1,
      "outputs": []
    },
    {
      "cell_type": "code",
      "source": [
        "\n",
        "array1 = np.array([1,2,3])\n",
        "print('array1 type:', type(array1))\n",
        "print('array1 array 형태:', array1.shape)\n",
        "\n",
        "array2 = np.array([[1,2,3],\n",
        "                   [2,3,4]])\n",
        "print('array2 type:',type(array2))\n",
        "print('array2 array 형태:', array2.shape)\n",
        "\n",
        "array3 = np.array([[1,2,3]])\n",
        "print('array3 type:',type(array3))\n",
        "print('array3 array 형태:', array3.shape)\n"
      ],
      "metadata": {
        "colab": {
          "base_uri": "https://localhost:8080/"
        },
        "id": "oZhBlG_XL92D",
        "outputId": "40ed5471-6e18-4e31-ea10-69b09dbcec21"
      },
      "execution_count": 4,
      "outputs": [
        {
          "output_type": "stream",
          "name": "stdout",
          "text": [
            "array1 type: <class 'numpy.ndarray'>\n",
            "array1 array 형태: (3,)\n",
            "array2 type: <class 'numpy.ndarray'>\n",
            "array2 array 형태: (2, 3)\n",
            "array3 type: <class 'numpy.ndarray'>\n",
            "array3 array 형태: (1, 3)\n"
          ]
        }
      ]
    },
    {
      "cell_type": "markdown",
      "source": [
        " \n",
        "### ndarray의 데이터 타입\n",
        "* 숫자 값, 문자열 값, 불 값 등 모두 가능\n",
        " - 숫자형: int형, float 형, complex 타입\n",
        "* 연산의 특성상 같은 데이터 타입만 가능 (한 개의 ndarray 객체에 int와 float이 함께 있을 수는 없음)\n",
        "* `dtype`: 데이터 타입 확인\n",
        "\n"
      ],
      "metadata": {
        "id": "RiD2r7hlUspL"
      }
    },
    {
      "cell_type": "code",
      "source": [
        "list1 = [1, 2, 3]\n",
        "print(type(list1))\n",
        "\n",
        "array1 = np.array(list1)\n",
        "print(type(array1))\n",
        "print(array1, array1.dtype)\n"
      ],
      "metadata": {
        "colab": {
          "base_uri": "https://localhost:8080/"
        },
        "id": "xpLxwMhTUsTE",
        "outputId": "9ceeb102-d4ae-4e51-dc4f-ec952e859c9d"
      },
      "execution_count": 5,
      "outputs": [
        {
          "output_type": "stream",
          "name": "stdout",
          "text": [
            "<class 'list'>\n",
            "<class 'numpy.ndarray'>\n",
            "[1 2 3] int64\n"
          ]
        }
      ]
    },
    {
      "cell_type": "markdown",
      "source": [
        "> list1은 integer 숫자인 1,2,3을 값으로 가지고 있고, 이를 ndarray로 쉽게 변경 가능"
      ],
      "metadata": {
        "id": "f980T6RSWVvI"
      }
    },
    {
      "cell_type": "code",
      "source": [
        "list2 = [1,2,'test']\n",
        "array2 = np.array(list2)\n",
        "print(array2, array2.dtype)\n",
        "\n",
        "list3 = [1,2,3.0]\n",
        "array3 = np.array(list3)\n",
        "print(array3, array3.dtype)"
      ],
      "metadata": {
        "colab": {
          "base_uri": "https://localhost:8080/"
        },
        "id": "kyadiynKV5nu",
        "outputId": "8d0e105d-d75c-4df4-91a9-f2d5aace65a5"
      },
      "execution_count": 6,
      "outputs": [
        {
          "output_type": "stream",
          "name": "stdout",
          "text": [
            "['1' '2' 'test'] <U21\n",
            "[1. 2. 3.] float64\n"
          ]
        }
      ]
    },
    {
      "cell_type": "markdown",
      "source": [
        "> int형 값과 문자열이 섞여 있는 list2를 ndarray로 변환한 array2는 숫자형 값 1,2 가 모두 문자열 값인 '1', '2'로 변환\n",
        "\n",
        "ndarray는 데이터값이 모두 같은 데이터 타입이어야 하므로 서로 다른 데이터 타입이 섞여 있을 경우 데이터 타입이 더 큰 데이터 타입으로 변환됨"
      ],
      "metadata": {
        "id": "PYj46MjsWob5"
      }
    },
    {
      "cell_type": "markdown",
      "source": [
        "* `astype()` : ndarray 내 데이터값의 타입 변경\n",
        "  - (인자) 원하는 타입을 문자열로 지정\n"
      ],
      "metadata": {
        "id": "xjo-yILIXZix"
      }
    },
    {
      "cell_type": "code",
      "source": [
        "array_int = np.array([1,2,3])\n",
        "array_float = array_int.astype('float64') \n",
        "print(array_float, array_float.dtype)\n",
        "\n",
        "array_int1 = array_float.astype('int32') \n",
        "print(array_int1, array_int1.dtype)\n",
        "\n",
        "array_float1 = np.array([1.1, 2.1, 3.1]) \n",
        "array_int2 = array_float1.astype('int32') \n",
        "print(array_int2, array_int2.dtype)"
      ],
      "metadata": {
        "colab": {
          "base_uri": "https://localhost:8080/"
        },
        "id": "2pSh3lztX6Fs",
        "outputId": "b74631f5-7353-4d08-a03b-574f2189cc20"
      },
      "execution_count": 7,
      "outputs": [
        {
          "output_type": "stream",
          "name": "stdout",
          "text": [
            "[1. 2. 3.] float64\n",
            "[1 2 3] int32\n",
            "[1 2 3] int32\n"
          ]
        }
      ]
    },
    {
      "cell_type": "markdown",
      "source": [
        "\n",
        "### ndarray를 편리하게 생성하기 - `arange, zeros, ones`\n",
        "* `arrange()` : 파이썬 표준함수인 range()와 유사한 기능\n",
        " * default (인자) _ stop 값 "
      ],
      "metadata": {
        "id": "yuR3EDxrU5hq"
      }
    },
    {
      "cell_type": "code",
      "source": [
        "sequence_array = np.array(10)\n",
        "print(sequence_array)\n",
        "print(sequence_array.dtype, sequence_array.shape)"
      ],
      "metadata": {
        "colab": {
          "base_uri": "https://localhost:8080/"
        },
        "id": "dnIpWcJMVffw",
        "outputId": "8ecb2edb-367c-418c-f502-81ea62470f7b"
      },
      "execution_count": 8,
      "outputs": [
        {
          "output_type": "stream",
          "name": "stdout",
          "text": [
            "10\n",
            "int64 ()\n"
          ]
        }
      ]
    },
    {
      "cell_type": "markdown",
      "source": [
        "* `zeros()`: 모든 값을 0으로 채운 해당 shape을 가진 ndarray 반환\n",
        "  - (인자) _ 튜플 형태의 shape 값 \n",
        "\n",
        "* `ones()`: 모든 값을 1로 채운 해당 shape을 가진 ndarray 반환\n",
        "  - (인자) _ shape \n",
        "  *  함수 인자로 dtype을 정해주지 않으면 default로 float64 형의 데이터로 ndarray를 채움"
      ],
      "metadata": {
        "id": "ICii82WPZ8Vc"
      }
    },
    {
      "cell_type": "code",
      "source": [
        "zero_array = np.zeros((3, 2), dtype = 'int32')\n",
        "print(zero_array)\n",
        "print(zero_array.dtype, zero_array.shape, '\\n')\n",
        "\n",
        "one_array = np.ones((3, 2))\n",
        "print(one_array.dtype, one_array.shape)"
      ],
      "metadata": {
        "colab": {
          "base_uri": "https://localhost:8080/"
        },
        "id": "hn4KW8WBZred",
        "outputId": "b7107a14-6085-4f3a-ff14-4dd1fa056ae2"
      },
      "execution_count": 9,
      "outputs": [
        {
          "output_type": "stream",
          "name": "stdout",
          "text": [
            "[[0 0]\n",
            " [0 0]\n",
            " [0 0]]\n",
            "int32 (3, 2) \n",
            "\n",
            "[[1. 1.]\n",
            " [1. 1.]\n",
            " [1. 1.]]\n",
            "float64 (3, 2)\n"
          ]
        }
      ]
    },
    {
      "cell_type": "markdown",
      "source": [
        "### ndarray의 차원과 크기를 변경하는 `reshape()`\n",
        "ndarray를 특정 차원 및 크기로 변환\n",
        "> 0~9 까지의 1차원 ndarray를 2로우 5칼럼/ 5로우 2칼럼 형태로 변환:\n"
      ],
      "metadata": {
        "id": "UWu0jKXbVNxa"
      }
    },
    {
      "cell_type": "code",
      "source": [
        "array1 = np.arange(10)\n",
        "print('array1:\\n', array1)\n",
        "\n",
        "array2 = array1.reshape(2,5)\n",
        "print('array2:\\n', array2)\n",
        "\n",
        "array3 = array1.reshape(5,2)\n",
        "print('array3:\\n', array3)"
      ],
      "metadata": {
        "colab": {
          "base_uri": "https://localhost:8080/"
        },
        "id": "3jJpehJravrD",
        "outputId": "8920dffd-95d4-433a-bdd2-bc348b529d8a"
      },
      "execution_count": 10,
      "outputs": [
        {
          "output_type": "stream",
          "name": "stdout",
          "text": [
            "array1:\n",
            " [0 1 2 3 4 5 6 7 8 9]\n",
            "array2:\n",
            " [[0 1 2 3 4]\n",
            " [5 6 7 8 9]]\n",
            "array3:\n",
            " [[0 1]\n",
            " [2 3]\n",
            " [4 5]\n",
            " [6 7]\n",
            " [8 9]]\n"
          ]
        }
      ]
    },
    {
      "cell_type": "markdown",
      "source": [
        "> 지정된 사이즈로 변경이 불가능하면 오류를 발생"
      ],
      "metadata": {
        "id": "V6X4vJAZbGq-"
      }
    },
    {
      "cell_type": "code",
      "source": [
        "array1.reshape(4,3)"
      ],
      "metadata": {
        "colab": {
          "base_uri": "https://localhost:8080/",
          "height": 172
        },
        "id": "uA9GsKcvbSnA",
        "outputId": "e613c6a7-6832-4193-adc6-314341f3335d"
      },
      "execution_count": 11,
      "outputs": [
        {
          "output_type": "error",
          "ename": "ValueError",
          "evalue": "ignored",
          "traceback": [
            "\u001b[0;31m---------------------------------------------------------------------------\u001b[0m",
            "\u001b[0;31mValueError\u001b[0m                                Traceback (most recent call last)",
            "\u001b[0;32m<ipython-input-11-a40469ec5825>\u001b[0m in \u001b[0;36m<module>\u001b[0;34m\u001b[0m\n\u001b[0;32m----> 1\u001b[0;31m \u001b[0marray1\u001b[0m\u001b[0;34m.\u001b[0m\u001b[0mreshape\u001b[0m\u001b[0;34m(\u001b[0m\u001b[0;36m4\u001b[0m\u001b[0;34m,\u001b[0m\u001b[0;36m3\u001b[0m\u001b[0;34m)\u001b[0m\u001b[0;34m\u001b[0m\u001b[0;34m\u001b[0m\u001b[0m\n\u001b[0m",
            "\u001b[0;31mValueError\u001b[0m: cannot reshape array of size 10 into shape (4,3)"
          ]
        }
      ]
    },
    {
      "cell_type": "markdown",
      "source": [
        "> 인자를 -1로 적용하는 경우 (reshape()을 효율적으로 사용)\n",
        ": 원래 ndarray와 호환되는 새로운 shape로 변환"
      ],
      "metadata": {
        "id": "f53yYrZibX3v"
      }
    },
    {
      "cell_type": "code",
      "source": [
        "array1 = np.arange(10)\n",
        "print(array1)\n",
        "\n",
        "array2 = array1.reshape(-1,5)\n",
        "print(array2)\n",
        "print('array2 shape:', array2.shape)\n",
        "print()\n",
        "\n",
        "array3 = array1.reshape(5,-1)\n",
        "print(array3)\n",
        "print('array3 shape', array3.shape)"
      ],
      "metadata": {
        "colab": {
          "base_uri": "https://localhost:8080/"
        },
        "id": "Xo2d7HfnbXek",
        "outputId": "d150a61c-b080-4a25-b6ae-c7c174fa5f4c"
      },
      "execution_count": 12,
      "outputs": [
        {
          "output_type": "stream",
          "name": "stdout",
          "text": [
            "[0 1 2 3 4 5 6 7 8 9]\n",
            "[[0 1 2 3 4]\n",
            " [5 6 7 8 9]]\n",
            "array2 shape: (2, 5)\n",
            "\n",
            "[[0 1]\n",
            " [2 3]\n",
            " [4 5]\n",
            " [6 7]\n",
            " [8 9]]\n",
            "array3 shape (5, 2)\n"
          ]
        }
      ]
    },
    {
      "cell_type": "code",
      "source": [
        "array1 = mp.arrange(10)\n",
        "array4 = array1.reshape(-1,4)"
      ],
      "metadata": {
        "colab": {
          "base_uri": "https://localhost:8080/",
          "height": 190
        },
        "id": "2L_JqceGbq4V",
        "outputId": "91732af7-4980-463e-cd11-e939136435c4"
      },
      "execution_count": 13,
      "outputs": [
        {
          "output_type": "error",
          "ename": "NameError",
          "evalue": "ignored",
          "traceback": [
            "\u001b[0;31m---------------------------------------------------------------------------\u001b[0m",
            "\u001b[0;31mNameError\u001b[0m                                 Traceback (most recent call last)",
            "\u001b[0;32m<ipython-input-13-66845315a736>\u001b[0m in \u001b[0;36m<module>\u001b[0;34m\u001b[0m\n\u001b[0;32m----> 1\u001b[0;31m \u001b[0marray1\u001b[0m \u001b[0;34m=\u001b[0m \u001b[0mmp\u001b[0m\u001b[0;34m.\u001b[0m\u001b[0marrange\u001b[0m\u001b[0;34m(\u001b[0m\u001b[0;36m10\u001b[0m\u001b[0;34m)\u001b[0m\u001b[0;34m\u001b[0m\u001b[0;34m\u001b[0m\u001b[0m\n\u001b[0m\u001b[1;32m      2\u001b[0m \u001b[0marray4\u001b[0m \u001b[0;34m=\u001b[0m \u001b[0marray1\u001b[0m\u001b[0;34m.\u001b[0m\u001b[0mreshape\u001b[0m\u001b[0;34m(\u001b[0m\u001b[0;34m-\u001b[0m\u001b[0;36m1\u001b[0m\u001b[0;34m,\u001b[0m\u001b[0;36m4\u001b[0m\u001b[0;34m)\u001b[0m\u001b[0;34m\u001b[0m\u001b[0;34m\u001b[0m\u001b[0m\n",
            "\u001b[0;31mNameError\u001b[0m: name 'mp' is not defined"
          ]
        }
      ]
    },
    {
      "cell_type": "markdown",
      "source": [
        "> reshap()을 이용해 3차원 -> 2차원, 1차원 -> 2차원 으로 변경\n",
        "  - tolist() : list로 변경"
      ],
      "metadata": {
        "id": "XzbxlV5dc408"
      }
    },
    {
      "cell_type": "code",
      "source": [
        "array1 = np.arange(8)\n",
        "array3d = array1.reshape((2,2,2)) \n",
        "print('array3d: \\n', array3d.tolist())\n",
        "\n",
        "# 3차원 ndarray를 2차원으로 변환\n",
        "array5 = array3d.reshape(-1,1)\n",
        "print('array5 : \\n', array5.tolist()) \n",
        "print('array5 shape:', array5.shape)\n",
        "print()\n",
        "# 1차원 ndarray를 2차원으로 변환\n",
        "array6 = array1.reshape(-1,1)\n",
        "print('array6 : \\n', array6.tolist()) \n",
        "print('array6 shape:', array6.shape)"
      ],
      "metadata": {
        "id": "fDCER1q_c4HW"
      },
      "execution_count": null,
      "outputs": []
    },
    {
      "cell_type": "markdown",
      "source": [
        "### 넘파이의 ndarray의 데이터 세트 선택하기 - 인덱싱(indexing)\n",
        "1. 특정한 데이터만 추출: 원하는 위치의 인덱스 값을 지정하면 해당 위치의 데이터가 반환\n",
        "2. 슬라이싱(slicing): 연속된 인덱스 상의 ndarray를 추출하는 방식, : 기호 사이에 시작 인덱스와 종료 인덱스를 표시하면 시작 인덱스에서 종료 인덱스 -1 위치에 있는 데이터의 ndarray를 반환\n",
        "3. 펜시 인덱싱(fancy indexing): 일정한 인덱싱 집합을 리스트 또는 ndarray 형태로 지정해 해당 위치에 있는 데이터의 ndarray를 반환합니다.\n",
        "4. 불린 인덱싱(boolean indexing): 특정 조건에 해당하는지 여부인 True/False의 값 인덱싱 집합을 기반으로 True에 해당하는 인덱스 위치에 있는 데이터의 ndarray를 반환"
      ],
      "metadata": {
        "id": "DxdNMMajVQpv"
      }
    },
    {
      "cell_type": "markdown",
      "source": [
        "* 단일 값 추출\n",
        "\n",
        "\n"
      ],
      "metadata": {
        "id": "TmbCNikwfaTv"
      }
    },
    {
      "cell_type": "code",
      "source": [
        "# 1부터 9까지의 1차원 ndarray 생성\n",
        "array1 = np.arange(start=1, stop=10)\n",
        "print('array1: ', array1)\n",
        "\n",
        "# index는 0부터 시작하므로 array1[2]는 3번째 index 위치의 데이터값을 의미\n",
        "value = array1[2] \n",
        "print('value: ', value)\n",
        "print(type(value))"
      ],
      "metadata": {
        "colab": {
          "base_uri": "https://localhost:8080/"
        },
        "id": "tFCXpITufcJC",
        "outputId": "5e25c932-59ec-42c8-fde7-8a85d9bd4d2a"
      },
      "execution_count": 14,
      "outputs": [
        {
          "output_type": "stream",
          "name": "stdout",
          "text": [
            "array1:  [1 2 3 4 5 6 7 8 9]\n",
            "value:  3\n",
            "<class 'numpy.int64'>\n"
          ]
        }
      ]
    },
    {
      "cell_type": "markdown",
      "source": [
        "* 슬라이싱\n",
        " - 단일 데이터값 추출을 제외한 슬라이싱, 팬시 인덱싱, 불린 인덱싱으로 추출된 데이터 세트는 모두 ndarray 타입\n",
        " - : 사이의 시작, 종료 인덱스는 생략 가능\n",
        "    1. 시작 인덱스 생략 -> 맨 처음 인덱스인 0 으로 간주\n",
        "    2. 종료 인덱스 생략 -> 맨 마지막 인덱스로 간주\n",
        "    3. 앞/뒤에 시작/종료 인덱스 생략 -> 맨 처음/맨 마지막 인덱스로 간주\n"
      ],
      "metadata": {
        "id": "FaqUv-y2fcdH"
      }
    },
    {
      "cell_type": "code",
      "source": [
        "array1 = np.arange(start=1, stop=10\n",
        "array4 = array1[:3] \n",
        "print(array4) \n",
        "\n",
        "array5 = array1[3:] \n",
        "print(array5) \n",
        "\n",
        "array6 = array1[:] \n",
        "print(array6) "
      ],
      "metadata": {
        "colab": {
          "base_uri": "https://localhost:8080/"
        },
        "id": "FoWMFkNcffFm",
        "outputId": "779904e5-a93d-4c9e-cbd4-3b2c3685d8cc"
      },
      "execution_count": 15,
      "outputs": [
        {
          "output_type": "stream",
          "name": "stdout",
          "text": [
            "[1 2 3]\n",
            "[4 5 6 7 8 9]\n",
            "[1 2 3 4 5 6 7 8 9]\n"
          ]
        }
      ]
    },
    {
      "cell_type": "markdown",
      "source": [
        "> 2차원 ndarray에서 슬라이싱으로 데이터에 접근"
      ],
      "metadata": {
        "id": "UPrT6kj3ihx_"
      }
    },
    {
      "cell_type": "code",
      "source": [
        "array1d = np.arange(1,10)\n",
        "array2d = array1d.reshape(3,3)\n",
        "print('array2d : \\n', array2d)\n",
        "\n",
        "print('aarray2d[0:2,0:2] : \\n', array2d[0:2,0:2])\n",
        "print('aarray2d[1:3,1:3] : \\n', array2d[1:3,1:3])\n",
        "print('aarray2d[1:3,:] : \\n', array2d[1:3,:])\n",
        "print('aarray2d[:,:] : \\n', array2d[:,:])\n",
        "print('aarray2d[:2,1:] : \\n', array2d[:2,1:])\n",
        "print('aarray2d[:2,0] : \\n', array2d[:2,0])"
      ],
      "metadata": {
        "colab": {
          "base_uri": "https://localhost:8080/"
        },
        "id": "h6Y1y8jdixo4",
        "outputId": "0a99012b-ee59-42d9-a3d0-a276dc420dbd"
      },
      "execution_count": 23,
      "outputs": [
        {
          "output_type": "stream",
          "name": "stdout",
          "text": [
            "array2d : \n",
            " [[1 2 3]\n",
            " [4 5 6]\n",
            " [7 8 9]]\n",
            "aarray2d[0:2,0:2] : \n",
            " [[1 2]\n",
            " [4 5]]\n",
            "aarray2d[1:3,1:3] : \n",
            " [[5 6]\n",
            " [8 9]]\n",
            "aarray2d[1:3,:] : \n",
            " [[4 5 6]\n",
            " [7 8 9]]\n",
            "aarray2d[:,:] : \n",
            " [[1 2 3]\n",
            " [4 5 6]\n",
            " [7 8 9]]\n",
            "aarray2d[:2,1:] : \n",
            " [[2 3]\n",
            " [5 6]]\n",
            "aarray2d[:2,0] : \n",
            " [1 4]\n"
          ]
        }
      ]
    },
    {
      "cell_type": "markdown",
      "source": [
        "* 팬시 인덱싱\n",
        ": 해당 위치의 인덱스에 해당하는 ndarray를 반환하는 인덱싱 방식\n"
      ],
      "metadata": {
        "id": "iPZLqdG9ffwZ"
      }
    },
    {
      "cell_type": "code",
      "source": [
        "array1d = np.arange(1,10)\n",
        "array2d = array1d.reshape(3,3)\n",
        "\n",
        "array3 = array2d[[0,1],2]\n",
        "print('array2d[[0,1],2] => ', array3.tolist()) \n",
        "\n",
        "array4 = array2d[[0,1],0:2]\n",
        "print('array2d[[0,1],0:2] => ', array4.tolist()) \n",
        "\n",
        "array5 = array2d[[0,1]]\n",
        "print('array2d[[0,1]] => ', array5.tolist()) "
      ],
      "metadata": {
        "colab": {
          "base_uri": "https://localhost:8080/"
        },
        "id": "-6dEKiPNfhHx",
        "outputId": "ee024781-eda3-4762-902c-9fc62fad927d"
      },
      "execution_count": 17,
      "outputs": [
        {
          "output_type": "stream",
          "name": "stdout",
          "text": [
            "array2d[[0,1],2] =>  [3, 6]\n",
            "array2d[[0,1],0:2] =>  [[1, 2], [4, 5]]\n",
            "array2d[[0,1]] =>  [[1, 2, 3], [4, 5, 6]]\n"
          ]
        }
      ]
    },
    {
      "cell_type": "markdown",
      "source": [
        "* 불린 인덱싱\n",
        ": 조건 필터링과 검색 동시에 가능"
      ],
      "metadata": {
        "id": "OBti8G3Hfhj6"
      }
    },
    {
      "cell_type": "code",
      "source": [
        "array1d = np.arange(1,10)\n",
        "# []안에 array1d > 5 Boolean indexing을 적용\n",
        "array3 = array1d[array1d > 5]\n",
        "print('array1d > 5인 boolean indexing 결과 값 : ', array3)"
      ],
      "metadata": {
        "colab": {
          "base_uri": "https://localhost:8080/"
        },
        "id": "iyRhOTMVgj8r",
        "outputId": "a5822225-7e94-48a2-e77b-4c64439a83ec"
      },
      "execution_count": 16,
      "outputs": [
        {
          "output_type": "stream",
          "name": "stdout",
          "text": [
            "array1d > 5인 boolean indexing 결과 값 :  [6 7 8 9]\n"
          ]
        }
      ]
    },
    {
      "cell_type": "markdown",
      "source": [
        "### 행렬의 정렬 - sort()와 argsort()\n",
        "* 행렬 정렬\n",
        " - np.sort() : 넘파이에서 sort() 호출하는 방식\n",
        "   - 원 행렬은 그대로 유지한 채 원 행렬의 정렬된 행렬을 반환\n",
        " - ndarray.sort() : 행렬 자체에서 sort()를 호출하는 방식\n",
        "   - 원 행렬 자체를 정렬한 형태로 변환, 변환 값은 None\n"
      ],
      "metadata": {
        "id": "awu4Yf9xVTt_"
      }
    },
    {
      "cell_type": "code",
      "source": [
        "org_array = np.array([3,1,9,5])\n",
        "print('원본 행렬 : ', org_array)\n",
        "\n",
        "# np.sort()로 정렬\n",
        "sort_array1 = np.sort(org_array)\n",
        "print('np.sort() 호출 후 반환된 정렬 행렬', sort_array1)\n",
        "print('np.sort() 호출 후 원본 행렬', org_array)\n",
        "\n",
        "# ndarray.sort()로 정렬\n",
        "sort_array2 = org_array.sort()\n",
        "print('org_array.sort() 호출 후 반환된 정렬 행렬', sort_array2)\n",
        "print('org_array.sort() 호출 후 원본 행렬', org_array)"
      ],
      "metadata": {
        "colab": {
          "base_uri": "https://localhost:8080/"
        },
        "id": "ZQ-2f7aMU438",
        "outputId": "ca0c1b43-4798-4f60-c889-d19bb9cbf000"
      },
      "execution_count": 18,
      "outputs": [
        {
          "output_type": "stream",
          "name": "stdout",
          "text": [
            "원본 행렬 :  [3 1 9 5]\n",
            "np.sort() 호출 후 반환된 정렬 행렬 [1 3 5 9]\n",
            "np.sort() 호출 후 원본 행렬 [3 1 9 5]\n",
            "org_array.sort() 호출 후 반환된 정렬 행렬 None\n",
            "org_array.sort() 호출 후 원본 행렬 [1 3 5 9]\n"
          ]
        }
      ]
    },
    {
      "cell_type": "markdown",
      "source": [
        "> 행렬이 2차원 이상일 경우 : axis 축 값 설정을 통해 로우 방향, 또는 칼럼 방향으로 정렬 수행"
      ],
      "metadata": {
        "id": "gAk7goSriITx"
      }
    },
    {
      "cell_type": "code",
      "source": [
        "array2d = np.array([[8,12],\n",
        "                    [7,1]])\n",
        "sort_array2d_axis0 = np.sort(array2d, axis = 0)\n",
        "print('row 방향으로 정렬:\\n', sort_array2d_axis0)\n",
        "\n",
        "sort_array2d_axis1 = np.sort(array2d, axis = 1)\n",
        "print('column 방향으로 정렬:\\n', sort_array2d_axis1)"
      ],
      "metadata": {
        "colab": {
          "base_uri": "https://localhost:8080/"
        },
        "id": "9kkpBTDDiO-g",
        "outputId": "c83cbf6c-f665-4e19-9277-0418c9f2dd3f"
      },
      "execution_count": 22,
      "outputs": [
        {
          "output_type": "stream",
          "name": "stdout",
          "text": [
            "row 방향으로 정렬:\n",
            " [[ 7  1]\n",
            " [ 8 12]]\n",
            "column 방향으로 정렬:\n",
            " [[ 8 12]\n",
            " [ 1  7]]\n"
          ]
        }
      ]
    },
    {
      "cell_type": "markdown",
      "source": [
        "* 정렬된 행렬의 인덱스를 반환하기\n",
        " - np.argsort() \n",
        "   - 정렬 행렬의 원본 형렬 인덱스를 ndarray 형으로 반환"
      ],
      "metadata": {
        "id": "iEaCGzBpg_F5"
      }
    },
    {
      "cell_type": "markdown",
      "source": [
        "> 원본 행렬 정렬 시 행렬 인덱스 값 구하기"
      ],
      "metadata": {
        "id": "tn0a0sGNh8dn"
      }
    },
    {
      "cell_type": "code",
      "source": [
        "org_array = np.array([3,1,9,5])\n",
        "sort_indices = np.argsort(org_array)\n",
        "print(type(sort_indices)) \n",
        "print('행렬 정렬 시 원본 행렬의 인덱스 :', sort_indices)"
      ],
      "metadata": {
        "colab": {
          "base_uri": "https://localhost:8080/"
        },
        "id": "5-yVT__shAx6",
        "outputId": "6ab3e649-b587-452c-d12c-ba96d2491a54"
      },
      "execution_count": 20,
      "outputs": [
        {
          "output_type": "stream",
          "name": "stdout",
          "text": [
            "<class 'numpy.ndarray'>\n",
            "행렬 정렬 시 원본 행렬의 인덱스 : [1 0 3 2]\n"
          ]
        }
      ]
    },
    {
      "cell_type": "markdown",
      "source": [
        "> 내림차순으로 정렬 시 원본 행렬의 인덱스 구하기"
      ],
      "metadata": {
        "id": "LUWNSAkgh3GW"
      }
    },
    {
      "cell_type": "code",
      "source": [
        "org_array = np.array([3,1,9,5])\n",
        "sort_indices_desc = np.argsort(org_array)[::-1]\n",
        "print('행렬 내림차순 정렬 시 원본 행렬의 인덱스 :', sort_indices_desc)"
      ],
      "metadata": {
        "colab": {
          "base_uri": "https://localhost:8080/"
        },
        "id": "p0EmxbOLhmks",
        "outputId": "e70b63c1-c5ac-4119-ea84-3e1618d574f8"
      },
      "execution_count": 21,
      "outputs": [
        {
          "output_type": "stream",
          "name": "stdout",
          "text": [
            "행렬 내림차순 정렬 시 원본 행렬의 인덱스 : [2 3 0 1]\n"
          ]
        }
      ]
    },
    {
      "cell_type": "markdown",
      "source": [
        "### 선형대수 연산 - 행렬 내적과 전치 행렬 구하기\n",
        "* 행렬 내적 (행렬 곱) : `np.dot()`"
      ],
      "metadata": {
        "id": "tFoVRSmog2Li"
      }
    },
    {
      "cell_type": "code",
      "source": [
        "A = np.array([[1,2,3],\n",
        "              [4,5,6]])\n",
        "B = np.array([[7,8],\n",
        "              [9,10],\n",
        "              [11,12]])\n",
        "dot_product = np.dot(A,B)\n",
        "print('행렬 곱 결과: \\n', dot_product)"
      ],
      "metadata": {
        "id": "cjWAw89_hPiU"
      },
      "execution_count": null,
      "outputs": []
    },
    {
      "cell_type": "markdown",
      "source": [
        "* 전치 행렬 : `transpose()`"
      ],
      "metadata": {
        "id": "akHfirsghP0D"
      }
    },
    {
      "cell_type": "code",
      "source": [
        "A = np.array([[1,2],\n",
        "              [3,4]])\n",
        "transpose_mat = np.transpose(A)\n",
        "print('A의 전치행렬: \\n', transpose_mat)"
      ],
      "metadata": {
        "id": "4-jdCykxhQlh"
      },
      "execution_count": null,
      "outputs": []
    }
  ]
}