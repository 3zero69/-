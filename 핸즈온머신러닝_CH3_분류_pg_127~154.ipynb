{
  "cells": [
    {
      "cell_type": "markdown",
      "metadata": {
        "id": "view-in-github",
        "colab_type": "text"
      },
      "source": [
        "<a href=\"https://colab.research.google.com/github/3zero69/-/blob/main/%ED%95%B8%EC%A6%88%EC%98%A8%EB%A8%B8%EC%8B%A0%EB%9F%AC%EB%8B%9D_CH3_%EB%B6%84%EB%A5%98_pg_127~154.ipynb\" target=\"_parent\"><img src=\"https://colab.research.google.com/assets/colab-badge.svg\" alt=\"Open In Colab\"/></a>"
      ]
    },
    {
      "cell_type": "markdown",
      "metadata": {
        "id": "I0VuM0xMxuFT"
      },
      "source": [
        "#CHAPTE 3. 분류\n",
        "* 1장. 가장 일반적인 지도학습 작업: 회귀(값 예측) /분류(클래스 예측)\n",
        "* 2장. 주택 가격 예측 회귀 작업 알고리즘 - 선형 회귀, 결정 트리, 랜덤 포레스트\n",
        "* 3장. 분류 시스템"
      ]
    },
    {
      "cell_type": "markdown",
      "metadata": {
        "id": "Iho_LH3pxzm2"
      },
      "source": [
        "## 3.1 MNIST\n",
        "* **MNIST** : 70,000개의 작은 숫자 이미지를 모은 데이터셋\n",
        " - 각 이미지에는 어떤 숫자를 나타내는지 레이블 되어 있음"
      ]
    },
    {
      "cell_type": "code",
      "execution_count": null,
      "metadata": {
        "id": "yQgOM3KDyd5n"
      },
      "outputs": [],
      "source": [
        "import numpy as np\n",
        "import pandas as pd"
      ]
    },
    {
      "cell_type": "code",
      "execution_count": null,
      "metadata": {
        "colab": {
          "base_uri": "https://localhost:8080/"
        },
        "id": "Am2vKlTEpPzc",
        "outputId": "9998977f-fc9b-4245-c29a-b6560d086ed0"
      },
      "outputs": [
        {
          "output_type": "stream",
          "name": "stderr",
          "text": [
            "/usr/local/lib/python3.9/dist-packages/sklearn/datasets/_openml.py:932: FutureWarning: The default value of `parser` will change from `'liac-arff'` to `'auto'` in 1.4. You can set `parser='auto'` to silence this warning. Therefore, an `ImportError` will be raised from 1.4 if the dataset is dense and pandas is not installed. Note that the pandas parser may return different data types. See the Notes Section in fetch_openml's API doc for details.\n",
            "  warn(\n"
          ]
        },
        {
          "output_type": "execute_result",
          "data": {
            "text/plain": [
              "dict_keys(['data', 'target', 'frame', 'categories', 'feature_names', 'target_names', 'DESCR', 'details', 'url'])"
            ]
          },
          "metadata": {},
          "execution_count": 2
        }
      ],
      "source": [
        "#@title MINIST 데이터셋 내려받는 코드\n",
        "from sklearn.datasets import fetch_openml\n",
        "mnist = fetch_openml('mnist_784', version=1, as_frame = False)\n",
        "mnist.keys()"
      ]
    },
    {
      "cell_type": "markdown",
      "metadata": {
        "id": "WXiO0MYRyt15"
      },
      "source": [
        "- 'DESCR' 키: 데이터셋을 설명 \n",
        "- 'data' 키: 샘플이 하나의 행, 특성이 하나의 열로 구성된 배열을 가짐\n",
        "- 'target' 키: 레이블 배열을 담음"
      ]
    },
    {
      "cell_type": "code",
      "execution_count": null,
      "metadata": {
        "colab": {
          "base_uri": "https://localhost:8080/"
        },
        "id": "5-w-x5BpuICt",
        "outputId": "85920446-17af-4be8-83a0-d412bf407089"
      },
      "outputs": [
        {
          "output_type": "execute_result",
          "data": {
            "text/plain": [
              "(70000, 784)"
            ]
          },
          "metadata": {},
          "execution_count": 3
        }
      ],
      "source": [
        "#@title 배열 살펴보기\n",
        "X,y = mnist[\"data\"],mnist[\"target\"]\n",
        "X.shape"
      ]
    },
    {
      "cell_type": "code",
      "execution_count": null,
      "metadata": {
        "colab": {
          "base_uri": "https://localhost:8080/"
        },
        "id": "zeO52DvAwXMY",
        "outputId": "7f32fadc-25e7-4d35-fcd6-c8fc23cffb47"
      },
      "outputs": [
        {
          "output_type": "execute_result",
          "data": {
            "text/plain": [
              "(70000,)"
            ]
          },
          "metadata": {},
          "execution_count": 4
        }
      ],
      "source": [
        "y.shape"
      ]
    },
    {
      "cell_type": "markdown",
      "metadata": {
        "id": "JIS9Un_5ze-7"
      },
      "source": [
        "- 이미지가 70,000개 있고 각 이미지에는 784개의 특성이 있음 (28x28 픽셀)\n",
        "\n",
        "  - 개개의 특성은 단순히 0(흰색)부터 255(검은색)까지의 픽셀 강도를 나타냄"
      ]
    },
    {
      "cell_type": "code",
      "execution_count": null,
      "metadata": {
        "colab": {
          "base_uri": "https://localhost:8080/",
          "height": 248
        },
        "id": "FilVsdb4wZVq",
        "outputId": "e04e1714-e7d7-49ce-e177-4b289f928dab"
      },
      "outputs": [
        {
          "output_type": "display_data",
          "data": {
            "text/plain": [
              "<Figure size 432x288 with 1 Axes>"
            ],
            "image/png": "[encoded data removed]"
          },
          "metadata": {
            "needs_background": "light"
          }
        }
      ],
      "source": [
        "#@title 데이터셋에서 이미지 확인\n",
        "import matplotlib as mpl\n",
        "import matplotlib.pyplot as plt\n",
        "\n",
        "#샘플의 특성 벡터를 추출해 28 x 28 배열로 크기 바꿈\n",
        "some_digit = X[0]  # X.np_array[0]\n",
        "some_digit_image = some_digit.reshape(28,28) \n",
        "\n",
        "plt.imshow(some_digit_image, cmap='binary')\n",
        "plt.axis('off')\n",
        "plt.show()"
      ]
    },
    {
      "cell_type": "code",
      "execution_count": null,
      "metadata": {
        "colab": {
          "base_uri": "https://localhost:8080/",
          "height": 35
        },
        "id": "9m32jscnyW4w",
        "outputId": "5fa0e1ee-e3e9-47fa-a56c-9622ff72d1dd"
      },
      "outputs": [
        {
          "output_type": "execute_result",
          "data": {
            "text/plain": [
              "'5'"
            ],
            "application/vnd.google.colaboratory.intrinsic+json": {
              "type": "string"
            }
          },
          "metadata": {},
          "execution_count": 6
        }
      ],
      "source": [
        "# 실제 레이블 확인 (cf.레이블은 문자열)\n",
        "y[0]"
      ]
    },
    {
      "cell_type": "code",
      "execution_count": null,
      "metadata": {
        "id": "SBPXeGFkyYVU"
      },
      "outputs": [],
      "source": [
        "# 머신러닝 알고리즘은 숫자를 기대하므로 y를 정수로 변환\n",
        "y = y.astype(np.uint8)"
      ]
    },
    {
      "cell_type": "markdown",
      "metadata": {
        "id": "HFwy5U_hyWYl"
      },
      "source": [
        "주의 ) 데이터를 자세히 조사하기 전에 항상 테스트 세트를 만들고 따로 떼어놓아야 함."
      ]
    },
    {
      "cell_type": "code",
      "execution_count": null,
      "metadata": {
        "id": "zcrye2Hm1Uyl"
      },
      "outputs": [],
      "source": [
        "X_train, X_test, y_train, y_test = X[:60000],X[60000:],y[:60000],y[60000:]"
      ]
    },
    {
      "cell_type": "markdown",
      "metadata": {
        "id": "sbyuG0YS0_M9"
      },
      "source": [
        "## 3.2 이진 분류기 훈련\n",
        "\n",
        "* 이진 분류기 : '5'와 '5아님' 두 개의 클래스를 구분할 수 있음"
      ]
    },
    {
      "cell_type": "code",
      "execution_count": null,
      "metadata": {
        "id": "SXV29bJD1k3P"
      },
      "outputs": [],
      "source": [
        "# 분류 작업을 위한 타깃 벡터 생성\n",
        "\n",
        "y_train_5 = (y_train == 5) # 5는 True고, 다른 숫자는 모두 False\n",
        "y_test_5 = (y_test == 5)"
      ]
    },
    {
      "cell_type": "code",
      "execution_count": null,
      "metadata": {
        "colab": {
          "base_uri": "https://localhost:8080/",
          "height": 74
        },
        "id": "mM47QjfQ12bV",
        "outputId": "89e7d037-9e70-4697-b1cb-1aba848fb6d7"
      },
      "outputs": [
        {
          "output_type": "execute_result",
          "data": {
            "text/plain": [
              "SGDClassifier(random_state=42)"
            ],
            "text/html": [
              "<style>#sk-container-id-1 {color: black;background-color: white;}#sk-container-id-1 pre{padding: 0;}#sk-container-id-1 div.sk-toggleable {background-color: white;}#sk-container-id-1 label.sk-toggleable__label {cursor: pointer;display: block;width: 100%;margin-bottom: 0;padding: 0.3em;box-sizing: border-box;text-align: center;}#sk-container-id-1 label.sk-toggleable__label-arrow:before {content: \"▸\";float: left;margin-right: 0.25em;color: #696969;}#sk-container-id-1 label.sk-toggleable__label-arrow:hover:before {color: black;}#sk-container-id-1 div.sk-estimator:hover label.sk-toggleable__label-arrow:before {color: black;}#sk-container-id-1 div.sk-toggleable__content {max-height: 0;max-width: 0;overflow: hidden;text-align: left;background-color: #f0f8ff;}#sk-container-id-1 div.sk-toggleable__content pre {margin: 0.2em;color: black;border-radius: 0.25em;background-color: #f0f8ff;}#sk-container-id-1 input.sk-toggleable__control:checked~div.sk-toggleable__content {max-height: 200px;max-width: 100%;overflow: auto;}#sk-container-id-1 input.sk-toggleable__control:checked~label.sk-toggleable__label-arrow:before {content: \"▾\";}#sk-container-id-1 div.sk-estimator input.sk-toggleable__control:checked~label.sk-toggleable__label {background-color: #d4ebff;}#sk-container-id-1 div.sk-label input.sk-toggleable__control:checked~label.sk-toggleable__label {background-color: #d4ebff;}#sk-container-id-1 input.sk-hidden--visually {border: 0;clip: rect(1px 1px 1px 1px);clip: rect(1px, 1px, 1px, 1px);height: 1px;margin: -1px;overflow: hidden;padding: 0;position: absolute;width: 1px;}#sk-container-id-1 div.sk-estimator {font-family: monospace;background-color: #f0f8ff;border: 1px dotted black;border-radius: 0.25em;box-sizing: border-box;margin-bottom: 0.5em;}#sk-container-id-1 div.sk-estimator:hover {background-color: #d4ebff;}#sk-container-id-1 div.sk-parallel-item::after {content: \"\";width: 100%;border-bottom: 1px solid gray;flex-grow: 1;}#sk-container-id-1 div.sk-label:hover label.sk-toggleable__label {background-color: #d4ebff;}#sk-container-id-1 div.sk-serial::before {content: \"\";position: absolute;border-left: 1px solid gray;box-sizing: border-box;top: 0;bottom: 0;left: 50%;z-index: 0;}#sk-container-id-1 div.sk-serial {display: flex;flex-direction: column;align-items: center;background-color: white;padding-right: 0.2em;padding-left: 0.2em;position: relative;}#sk-container-id-1 div.sk-item {position: relative;z-index: 1;}#sk-container-id-1 div.sk-parallel {display: flex;align-items: stretch;justify-content: center;background-color: white;position: relative;}#sk-container-id-1 div.sk-item::before, #sk-container-id-1 div.sk-parallel-item::before {content: \"\";position: absolute;border-left: 1px solid gray;box-sizing: border-box;top: 0;bottom: 0;left: 50%;z-index: -1;}#sk-container-id-1 div.sk-parallel-item {display: flex;flex-direction: column;z-index: 1;position: relative;background-color: white;}#sk-container-id-1 div.sk-parallel-item:first-child::after {align-self: flex-end;width: 50%;}#sk-container-id-1 div.sk-parallel-item:last-child::after {align-self: flex-start;width: 50%;}#sk-container-id-1 div.sk-parallel-item:only-child::after {width: 0;}#sk-container-id-1 div.sk-dashed-wrapped {border: 1px dashed gray;margin: 0 0.4em 0.5em 0.4em;box-sizing: border-box;padding-bottom: 0.4em;background-color: white;}#sk-container-id-1 div.sk-label label {font-family: monospace;font-weight: bold;display: inline-block;line-height: 1.2em;}#sk-container-id-1 div.sk-label-container {text-align: center;}#sk-container-id-1 div.sk-container {/* jupyter's `normalize.less` sets `[hidden] { display: none; }` but bootstrap.min.css set `[hidden] { display: none !important; }` so we also need the `!important` here to be able to override the default hidden behavior on the sphinx rendered scikit-learn.org. See: https://github.com/scikit-learn/scikit-learn/issues/21755 */display: inline-block !important;position: relative;}#sk-container-id-1 div.sk-text-repr-fallback {display: none;}</style><div id=\"sk-container-id-1\" class=\"sk-top-container\"><div class=\"sk-text-repr-fallback\"><pre>SGDClassifier(random_state=42)</pre><b>In a Jupyter environment, please rerun this cell to show the HTML representation or trust the notebook. <br />On GitHub, the HTML representation is unable to render, please try loading this page with nbviewer.org.</b></div><div class=\"sk-container\" hidden><div class=\"sk-item\"><div class=\"sk-estimator sk-toggleable\"><input class=\"sk-toggleable__control sk-hidden--visually\" id=\"sk-estimator-id-1\" type=\"checkbox\" checked><label for=\"sk-estimator-id-1\" class=\"sk-toggleable__label sk-toggleable__label-arrow\">SGDClassifier</label><div class=\"sk-toggleable__content\"><pre>SGDClassifier(random_state=42)</pre></div></div></div></div></div>"
            ]
          },
          "metadata": {},
          "execution_count": 9
        }
      ],
      "source": [
        "#@title 분류 모델 선택 및 훈련 - 확률적 경사 하강법(SGD) 분류기\n",
        "\n",
        "from sklearn.linear_model import SGDClassifier\n",
        "\n",
        "sgd_clf = SGDClassifier(random_state=42) #SGDClassifier는 훈련에 무작위성을 사용함. 결과를 재현하고 싶다면 random_state 지정해야 함\n",
        "sgd_clf.fit(X_train, y_train)"
      ]
    },
    {
      "cell_type": "markdown",
      "metadata": {
        "id": "QXn9S_wu28nP"
      },
      "source": [
        "* 확률적 경사 하강법(SGD) 분류기\n",
        " - 매우 큰 데이터셋을 효율적으로 처리하는 장점\n",
        "  - 한 번에 하나씩 훈련 샘플을 독립적으로 처리함"
      ]
    },
    {
      "cell_type": "code",
      "execution_count": null,
      "metadata": {
        "colab": {
          "base_uri": "https://localhost:8080/"
        },
        "id": "uTBveCD227Ij",
        "outputId": "6ce5e193-f213-4d05-f9ec-03f2ac8bf02f"
      },
      "outputs": [
        {
          "output_type": "execute_result",
          "data": {
            "text/plain": [
              "array([3], dtype=uint8)"
            ]
          },
          "metadata": {},
          "execution_count": 10
        }
      ],
      "source": [
        "# 숫자 5의 이미지 감지\n",
        "sgd_clf.predict([some_digit])"
      ]
    },
    {
      "cell_type": "markdown",
      "metadata": {
        "id": "CfjzWBIq1z5c"
      },
      "source": [
        "## 3.3 성능 측정"
      ]
    },
    {
      "cell_type": "markdown",
      "metadata": {
        "id": "qDTF-eQq3z8m"
      },
      "source": [
        "### 3.3.1 교차 검증을 사용한 정확도 측정\n"
      ]
    },
    {
      "cell_type": "code",
      "execution_count": null,
      "metadata": {
        "colab": {
          "base_uri": "https://localhost:8080/",
          "height": 162
        },
        "id": "pJoJeIwU4CJ4",
        "outputId": "b6319856-9e0e-4526-b4ad-54b7521db42c"
      },
      "outputs": [
        {
          "output_type": "stream",
          "name": "stdout",
          "text": [
            "0.9669\n",
            "0.91625\n",
            "0.96785\n"
          ]
        },
        {
          "output_type": "execute_result",
          "data": {
            "text/plain": [
              "'\\nfor train_index, test_index in skfolds.split(X_train, y_train_5):\\n  clone_clf = clone(sgd_clf) # 분류기 객체(모델) 복제 후 훈련\\n  X_train_folds = X_train[train_index]\\n  y_train_folds = y_train_5[train_index]\\n  X_test_fold = X_train[test_index]\\n  y_test_fold = y_train_5[test_index]\\n\\n  clone_clf.fit(X_train_folds, y_train_folds)\\n  y_pred = clone_clf.predict(X_test_fold)\\n  n_correct = sum(y_pred == y_test_fold)\\n  print(n_correct / len(y_pred))\\n'"
            ],
            "application/vnd.google.colaboratory.intrinsic+json": {
              "type": "string"
            }
          },
          "metadata": {},
          "execution_count": 11
        }
      ],
      "source": [
        "#@title 교차검증 구현 \n",
        "\n",
        "# skelarn의 cross_val_score() 와 같은 작업 코드\n",
        "\n",
        "from sklearn.model_selection import StratifiedKFold\n",
        "from sklearn.base import clone\n",
        "\n",
        "skfolds = StratifiedKFold(n_splits=3, random_state=42, shuffle=True)\n",
        "\n",
        "for train_index, test_index in skfolds.split(X_train, y_train_5):\n",
        "    clone_clf = clone(sgd_clf) # 분류기 객체(모델) 복제 후 훈련\n",
        "    X_train_folds = X_train[train_index]\n",
        "    y_train_folds = y_train_5[train_index]\n",
        "    X_test_fold = X_train[test_index]\n",
        "    y_test_fold = y_train_5[test_index]\n",
        "\n",
        "    clone_clf.fit(X_train_folds, y_train_folds)\n",
        "    y_pred = clone_clf.predict(X_test_fold)\n",
        "    n_correct = sum(y_pred == y_test_fold)\n",
        "    print(n_correct / len(y_pred))\n",
        "\n",
        "'''\n",
        "for train_index, test_index in skfolds.split(X_train, y_train_5):\n",
        "  clone_clf = clone(sgd_clf) # 분류기 객체(모델) 복제 후 훈련\n",
        "  X_train_folds = X_train[train_index]\n",
        "  y_train_folds = y_train_5[train_index]\n",
        "  X_test_fold = X_train[test_index]\n",
        "  y_test_fold = y_train_5[test_index]\n",
        "\n",
        "  clone_clf.fit(X_train_folds, y_train_folds)\n",
        "  y_pred = clone_clf.predict(X_test_fold)\n",
        "  n_correct = sum(y_pred == y_test_fold)\n",
        "  print(n_correct / len(y_pred))\n",
        "'''"
      ]
    },
    {
      "cell_type": "markdown",
      "metadata": {
        "id": "vgWTUn-r6fmB"
      },
      "source": [
        "**StratifiedKFold** 는 클래스별 비율이 유지되도록 폴드를 만들기 위해 계층적 샘플링 수행\n",
        "  - 매 반복에서 분류기 객체를 복제하여 훈련 폴드로 훈련시키고 테스트 폴드로 예측을 만듦\n",
        "  - 그 다음 올바른 예측의 수를 세어 정확한 예측의 비율을 출력함"
      ]
    },
    {
      "cell_type": "code",
      "execution_count": null,
      "metadata": {
        "colab": {
          "base_uri": "https://localhost:8080/"
        },
        "id": "3NE5KSxb6xBU",
        "outputId": "778355c0-c62e-4062-ff98-f483acee6cb0"
      },
      "outputs": [
        {
          "output_type": "execute_result",
          "data": {
            "text/plain": [
              "array([0.95035, 0.96035, 0.9604 ])"
            ]
          },
          "metadata": {},
          "execution_count": 12
        }
      ],
      "source": [
        "#@title cross_val_score() 함수로 폴드가 3개인 k-겹 교차 검증을 사용해 SGDClassifier 모델 평가\n",
        "\n",
        "from sklearn.model_selection import cross_val_score\n",
        "cross_val_score(sgd_clf, X_train, y_train_5, cv=3, scoring=\"accuracy\")\n",
        "\n",
        "## 결과: 모든 교차 검증 폴드에 대해 정확도(accuracy)가 95% 이상"
      ]
    },
    {
      "cell_type": "markdown",
      "metadata": {
        "id": "itnxUkCQ6wGi"
      },
      "source": [
        "**k-겹 교차 검증** 은 훈련 세트를 k개의 폴드로 나누고, 각 폴드에 대해 예측을 만들고 평가하기 위해 나머지 폴드로 훈련시킨 모델을 사용"
      ]
    },
    {
      "cell_type": "code",
      "execution_count": null,
      "metadata": {
        "id": "8lSBY9Az7lIW"
      },
      "outputs": [],
      "source": [
        "#@title 모든 이미지를 '5 아님' 클래스로 분류하는 더미 분류기 생성 및 비교\n",
        "\n",
        "from sklearn.base import BaseEstimator\n",
        "\n",
        "class Never5Classifier(BaseEstimator):\n",
        "  def fit(self, X, y=None):\n",
        "    return self\n",
        "  def predict(self, X):\n",
        "    return np.zeros((len(X),1), dtype=bool)"
      ]
    },
    {
      "cell_type": "code",
      "execution_count": null,
      "metadata": {
        "colab": {
          "base_uri": "https://localhost:8080/"
        },
        "id": "q1vXCwwI8o_C",
        "outputId": "af2648bb-b103-4a88-bd51-dbbf33de2aa1"
      },
      "outputs": [
        {
          "output_type": "execute_result",
          "data": {
            "text/plain": [
              "array([0.91125, 0.90855, 0.90915])"
            ]
          },
          "metadata": {},
          "execution_count": 14
        }
      ],
      "source": [
        "# 모델의 정확도 추측\n",
        "never_5_clf = Never5Classifier()\n",
        "cross_val_score(never_5_clf, X_train, y_train_5, cv=3, scoring='accuracy')\n",
        "\n",
        "## 결과: 정확도 90% 이상 (이미지의 10% 정도만 숫자 5 이기 때문에 무조건 '5 아님' 으로 예측하면 정확히 맞출 확률이 90%)"
      ]
    },
    {
      "cell_type": "markdown",
      "metadata": {
        "id": "EZtG5SnN7kCo"
      },
      "source": [
        "해당 예제는 정확도를 분류기의 성능 측정 지표로 선호하지 않는 이유를 보여줌. \n",
        "- 특히 **불균형한 데이터셋**을 다룰 때 더욱 그러함"
      ]
    },
    {
      "cell_type": "markdown",
      "metadata": {
        "id": "99k7enWP9P-K"
      },
      "source": [
        "### 3.3.2 오차 행렬\n"
      ]
    },
    {
      "cell_type": "markdown",
      "metadata": {
        "id": "26qfuN53fME8"
      },
      "source": [
        "**오차행렬**: 분류기의 성능을 평가하는 더 좋은 방법\n",
        "\n",
        " - 클래스 A의 샘플이 클래스 B로 분류된 횟수를 세는 것\n",
        "   - 예) 분류기가 숫자 5의 이미지를 3으로 잘못 분류한 횟수를 알고 싶다면 오차 행렬의 5행 3열을 보면 됨\n",
        " - 실제 타깃과 비교할 수 있도록 먼저 예측값을 만들어야 함\n",
        "   - 테스트 세트로 예측을 만들 수 있지만 사용하면 안 됨 (테스트 세트는 분류기가 출시 준비를 마치고 나서 프로젝트의 맨 마지막에 사용됨)\n",
        "   - cross_val_predict() 함수 사용\n",
        "     - k-겹 교차 검증을 수해하지만 평가 점수를 반환하지 않고, 각 테스트 폴드에서 얻은 예측을 반환\n",
        "     - 훈련 세트의 모든 샘플에 대해 깨끗한 예측을 얻게 됨(모델이 훈련하는 동안 보지 못했던 데이터에 대해 예측)\n",
        "      "
      ]
    },
    {
      "cell_type": "code",
      "execution_count": null,
      "metadata": {
        "id": "aj5F2yc196yx"
      },
      "outputs": [],
      "source": [
        "from sklearn.model_selection import cross_val_predict\n",
        "\n",
        "y_train_pred = cross_val_predict(sgd_clf, X_train, y_train_5, cv=3)"
      ]
    },
    {
      "cell_type": "code",
      "execution_count": null,
      "metadata": {
        "colab": {
          "base_uri": "https://localhost:8080/"
        },
        "id": "OoFFnpE2NHMM",
        "outputId": "447d6ad2-b5a1-440b-abc5-a21714a5d178"
      },
      "outputs": [
        {
          "output_type": "execute_result",
          "data": {
            "text/plain": [
              "array([[53892,   687],\n",
              "       [ 1891,  3530]])"
            ]
          },
          "metadata": {},
          "execution_count": 16
        }
      ],
      "source": [
        "from sklearn.metrics import confusion_matrix\n",
        "confusion_matrix(y_train_5, y_train_pred)\n",
        "\n",
        "## 결과:\n",
        "## 첫번째 행 - '5 아님' 이미지(음성 클래스) : 53892개를 '5 아님'으로 정확하게 분류 (진짜 음성) /나머지 687개는 '5' 라고 잘못 분류 (거짓 양성)\n",
        "## 두번째 행 - '5' 이미지(양성 클래스) : 1891개를 '5 아님'으로 잘못 분류 (거짓 음성) /나머지 3530개는 정확히 '5' 라고 분류 (진짜 양성)"
      ]
    },
    {
      "cell_type": "markdown",
      "metadata": {
        "id": "WnUjBhy9NnOU"
      },
      "source": [
        "* 오차 행렬 결과\n",
        " - 행: 실제 클래스\n",
        " - 열: 예측한 클래스\n"
      ]
    },
    {
      "cell_type": "code",
      "execution_count": null,
      "metadata": {
        "colab": {
          "base_uri": "https://localhost:8080/"
        },
        "id": "72SBJpGSRAPH",
        "outputId": "0bea725d-50c5-4830-c4f6-54dc70423442"
      },
      "outputs": [
        {
          "output_type": "execute_result",
          "data": {
            "text/plain": [
              "array([[54579,     0],\n",
              "       [    0,  5421]])"
            ]
          },
          "metadata": {},
          "execution_count": 17
        }
      ],
      "source": [
        "# 완벽한 분류기라면, 진짜 양성과 진짜 음성만 가지고 있을 것이므로 오차 행렬의 주대각선(왼쪽 위에서 오른쪽 아래로)만 0이 아닌 값 \n",
        "y_train_perfect_predictions = y_train_5\n",
        "confusion_matrix(y_train_5, y_train_perfect_predictions)"
      ]
    },
    {
      "cell_type": "markdown",
      "metadata": {
        "id": "6I22EkFISONI"
      },
      "source": [
        "* **정밀도** : 양성 예측의 정확도\n",
        "$$정밀도 = {TP \\over TP+FP}$$\n",
        "  - TP : 진짜 양성의 수\n",
        "  - FP : 거짓 양성의 수\n",
        " \n",
        "\n",
        "* **재현율** : 정확하게 감지한 양성 샘플의 비율 (민감도, 진짜 양성 비율)\n",
        "$$재현율 = {TP \\over TP+FN}$$\n",
        "  - FN : 거짓 음성의 수"
      ]
    },
    {
      "cell_type": "markdown",
      "metadata": {
        "id": "a87NQtMdWnX3"
      },
      "source": [
        "###3.3.3 정밀도와 재현율"
      ]
    },
    {
      "cell_type": "code",
      "execution_count": null,
      "metadata": {
        "colab": {
          "base_uri": "https://localhost:8080/"
        },
        "id": "At3z7LadWsHq",
        "outputId": "350c2aad-6657-4850-b8c0-67d9f3b112f8"
      },
      "outputs": [
        {
          "output_type": "execute_result",
          "data": {
            "text/plain": [
              "0.8370879772350012"
            ]
          },
          "metadata": {},
          "execution_count": 18
        }
      ],
      "source": [
        "#@title (사이킷런) 정밀도와 재현율을 계산하는 함수 \n",
        "\n",
        "from sklearn.metrics import precision_score, recall_score\n",
        "precision_score(y_train_5, y_train_pred) #"
      ]
    },
    {
      "cell_type": "code",
      "execution_count": null,
      "metadata": {
        "colab": {
          "base_uri": "https://localhost:8080/"
        },
        "id": "PGkYhk4IW5hR",
        "outputId": "455e6ab4-4eeb-4721-a003-65b7cff9241a"
      },
      "outputs": [
        {
          "output_type": "execute_result",
          "data": {
            "text/plain": [
              "0.6511713705958311"
            ]
          },
          "metadata": {},
          "execution_count": 19
        }
      ],
      "source": [
        "recall_score(y_train_5, y_train_pred)\n",
        "\n",
        "## 결과: 5로 판별된 이미지 중 65.11% 만 정확함, 전체 숫자 5에서 65.11% 만 감지"
      ]
    },
    {
      "cell_type": "markdown",
      "metadata": {
        "id": "BgdT1U5lYEDw"
      },
      "source": [
        "- **F1 점수** : 정밀도와 재현율의 조화 평균\n",
        "  - 두 분류기를 비교할 때 F1 을 사용하면 편리함\n",
        "\n",
        "  $$ F1 = {2 \\over {{1 \\over 정밀도)} + {1 \\over 재현율}}} = {2 * {정밀도 * 재현율 \\over 정밀도 + 재현율}} = {TP \\over {TP + {FN+FP \\over 2}}} $$\n",
        "\n"
      ]
    },
    {
      "cell_type": "code",
      "execution_count": null,
      "metadata": {
        "colab": {
          "base_uri": "https://localhost:8080/"
        },
        "id": "uzZ8CwiSXkZ2",
        "outputId": "19ffbbc6-8817-4a69-ffbc-d390f2f69005"
      },
      "outputs": [
        {
          "output_type": "execute_result",
          "data": {
            "text/plain": [
              "0.7325171197343846"
            ]
          },
          "metadata": {},
          "execution_count": 20
        }
      ],
      "source": [
        "#@title F1 점수 계산 - f1_score() 함수\n",
        "from sklearn.metrics import f1_score\n",
        "f1_score(y_train_5, y_train_pred)"
      ]
    },
    {
      "cell_type": "markdown",
      "metadata": {
        "id": "MBT__k41gDsH"
      },
      "source": [
        "정밀도와 재현율이 비슷한 분류기에서는 F1 점수가 높음\n",
        "\n",
        "그러나, 둘 다를 얻을 수는 없음. 정밀도를 올리면 재현율이 줄고, 그 반대도 마찬가지 **정밀도/재현율 트레이드오프**"
      ]
    },
    {
      "cell_type": "markdown",
      "metadata": {
        "id": "WOg6D8zBgq8H"
      },
      "source": [
        "### 3.3.4 정밀도/재현율 트레이드오프\n",
        "\n"
      ]
    },
    {
      "cell_type": "markdown",
      "metadata": {
        "id": "DYNXrulUg9TM"
      },
      "source": [
        "사이킷런에서 임곗값을 직접 지정할 수는 없지만 예측에 사용한 점수는 확인 할 수 있음. \n",
        "\n",
        "* predict() 대신 decsion_function() 매서드 호출\n",
        " - 각 샘플의 점수를 얻을 수 있음\n",
        " - 이 점수를 기반으로 원하는 임곗값을 정해 예측을 만들 수 있음"
      ]
    },
    {
      "cell_type": "code",
      "execution_count": null,
      "metadata": {
        "colab": {
          "base_uri": "https://localhost:8080/"
        },
        "id": "7nsOHQdCg2At",
        "outputId": "47898f71-c4d8-4988-93da-bc5515efddb4"
      },
      "outputs": [
        {
          "output_type": "execute_result",
          "data": {
            "text/plain": [
              "array([[-31893.03095419, -34419.69069632,  -9530.63950739,\n",
              "          1823.73154031, -22320.14822878,  -1385.80478895,\n",
              "        -26188.91070951, -16147.51323997,  -4604.35491274,\n",
              "        -12050.767298  ]])"
            ]
          },
          "metadata": {},
          "execution_count": 21
        }
      ],
      "source": [
        "#@title 예측에 사용한 점수 확인 - decision_function() 메서드\n",
        "y_scores = sgd_clf.decision_function([some_digit])\n",
        "y_scores"
      ]
    },
    {
      "cell_type": "code",
      "execution_count": null,
      "metadata": {
        "colab": {
          "base_uri": "https://localhost:8080/"
        },
        "id": "c7U7_X4-htEY",
        "outputId": "5a4b7283-82c5-4c6a-894e-fbc0e5e1e73e"
      },
      "outputs": [
        {
          "output_type": "execute_result",
          "data": {
            "text/plain": [
              "array([[False, False, False,  True, False, False, False, False, False,\n",
              "        False]])"
            ]
          },
          "metadata": {},
          "execution_count": 22
        }
      ],
      "source": [
        "threshold = 0\n",
        "y_some_digit_pred = (y_scores > threshold)\n",
        "y_some_digit_pred\n",
        "\n",
        "## 결과: 임곗값이 0 이므로 predict() 매서드와 같은 결과(True) 반환"
      ]
    },
    {
      "cell_type": "code",
      "execution_count": null,
      "metadata": {
        "colab": {
          "base_uri": "https://localhost:8080/"
        },
        "id": "4FGuirUIh-Sl",
        "outputId": "18ad301d-a28e-4fab-8c66-2d109531d177"
      },
      "outputs": [
        {
          "output_type": "execute_result",
          "data": {
            "text/plain": [
              "array([[False, False, False, False, False, False, False, False, False,\n",
              "        False]])"
            ]
          },
          "metadata": {},
          "execution_count": 23
        }
      ],
      "source": [
        "# SGDClassifier 의 임곗값을 높이는 경우\n",
        "threshold = 8000\n",
        "y_some_digit_pred = (y_scores > threshold)\n",
        "y_some_digit_pred\n",
        "\n",
        "## 결과: 임곗값을 높이면 재현율이 줄어듦"
      ]
    },
    {
      "cell_type": "markdown",
      "metadata": {
        "id": "j_p01nVqiewW"
      },
      "source": [
        "#### < **적절한 임곗값을 정하는 방법 1** >\n"
      ]
    },
    {
      "cell_type": "markdown",
      "metadata": {
        "id": "ex9-8-CRGf3_"
      },
      "source": [
        "1. cross_val_predict() 함수를 사용해 훈련 세트에 있는 모든 샘플의 점수를 구해야 함\n",
        "  - 예측 결과가 아닌 결정 점수를 반환하도록 지정 "
      ]
    },
    {
      "cell_type": "code",
      "execution_count": null,
      "metadata": {
        "colab": {
          "base_uri": "https://localhost:8080/"
        },
        "id": "N2vQa6OzjBek",
        "outputId": "b93a6154-5913-4486-a198-3c8bc23a1aba"
      },
      "outputs": [
        {
          "output_type": "execute_result",
          "data": {
            "text/plain": [
              "array([  1200.93051237, -26883.79202424, -33072.03475406, ...,\n",
              "        13272.12718981,  -7258.47203373, -16877.50840447])"
            ]
          },
          "metadata": {},
          "execution_count": 24
        }
      ],
      "source": [
        "y_scores = cross_val_predict(sgd_clf, X_train, y_train_5, cv=3, method=\"decision_function\")\n",
        "y_scores"
      ]
    },
    {
      "cell_type": "markdown",
      "metadata": {
        "id": "BRKiDkyzjBKF"
      },
      "source": [
        "2. 이 점수로 precision_recall_curve() 함수를 사용하여, 가능한 모든 임곗값에 대해 정밀도와 재현율 계산"
      ]
    },
    {
      "cell_type": "code",
      "execution_count": null,
      "metadata": {
        "id": "ARWnKTiyjpZC"
      },
      "outputs": [],
      "source": [
        "from sklearn.metrics import precision_recall_curve\n",
        "\n",
        "precisions, recalls, thresholds = precision_recall_curve(y_train_5, y_scores)"
      ]
    },
    {
      "cell_type": "markdown",
      "metadata": {
        "id": "ytSWwd5qkH3I"
      },
      "source": [
        "3. 맷플롯립, 임곗값의 함수로 정밀도와 재현율을 그릴 수 있음"
      ]
    },
    {
      "cell_type": "code",
      "execution_count": null,
      "metadata": {
        "colab": {
          "base_uri": "https://localhost:8080/",
          "height": 265
        },
        "id": "GoQdH4KbkNv0",
        "outputId": "549d33f5-0a3f-4e92-ceef-e7793c592703"
      },
      "outputs": [
        {
          "output_type": "display_data",
          "data": {
            "text/plain": [
              "<Figure size 432x288 with 1 Axes>"
            ],
            "image/png": "[encoded data removed]"
          },
          "metadata": {
            "needs_background": "light"
          }
        }
      ],
      "source": [
        "def plot_precision_recall_vs_threshold(precisions, recalls, thresholds):\n",
        "  plt.plot(thresholds, precisions[:-1], \"b--\", label=\"정밀도\")\n",
        "  plt.plot(thresholds, recalls[:-1], \"g--\", label=\"재현율\")\n",
        "\n",
        "plot_precision_recall_vs_threshold(precisions, recalls, thresholds)\n",
        "plt.show()  \n",
        "\n",
        "## 결과\n",
        "## 정밀도 곡선이 재현율 곡선보다 더 울퉁불퉁한 이유: 임곗값을 올리더라도 정밀도가 가끔 낮아질 때가 있음"
      ]
    },
    {
      "cell_type": "markdown",
      "metadata": {
        "id": "XDd8_wdjFTRD"
      },
      "source": [
        "#### **< 적절한 임곗값을 정하는 방법 2>**\n",
        "\n"
      ]
    },
    {
      "cell_type": "markdown",
      "metadata": {
        "id": "DR8untTQGitg"
      },
      "source": [
        "* 재현율에 대한 정밀도 곡선 그리기"
      ]
    },
    {
      "cell_type": "code",
      "execution_count": null,
      "metadata": {
        "id": "Wz9VzMwAGxPo"
      },
      "outputs": [],
      "source": [
        "## 결과: 재현율 80% 근처에서 정밀도가 급격하게 줄어듦 "
      ]
    },
    {
      "cell_type": "markdown",
      "metadata": {
        "id": "MnagUhAiG4cU"
      },
      "source": [
        "하강점 직전을 정밀도/재현율 트레이드오프로 선택하는 것이 좋음"
      ]
    },
    {
      "cell_type": "markdown",
      "metadata": {
        "id": "ECeKCmdoG-mS"
      },
      "source": [
        "***정밀도 90% 달성 목표***\n",
        "* [그림 3-4]: 임곗값 약 8,000 정도"
      ]
    },
    {
      "cell_type": "code",
      "execution_count": null,
      "metadata": {
        "id": "YYNyJDJBHXSf"
      },
      "outputs": [],
      "source": [
        "#@title 정밀도 90% 달성 목표\n",
        "\n",
        "# 최소한 90% 정밀도가 되는 가장 낮은 임곗값을 찾을 수 있음\n",
        "threshold_90_precision = thresholds[np.argmax(precisions >= 0.90)] #np.argmax() : 최댓값의 첫번째 인덱스 반환 (첫번째 True 값)\n",
        "\n",
        "# (훈련 세트에 대한) 예측 생성 - 분류기의 predict() 메서드 호출 대신 다음 코드 실행\n",
        "y_train_pred_90 = (y_scores >= threshold_90_precision)\n"
      ]
    },
    {
      "cell_type": "code",
      "execution_count": null,
      "metadata": {
        "colab": {
          "base_uri": "https://localhost:8080/"
        },
        "id": "2lBOLgCdIheH",
        "outputId": "346d793a-f39b-4125-a47b-0284d634a14c"
      },
      "outputs": [
        {
          "output_type": "execute_result",
          "data": {
            "text/plain": [
              "0.9000345901072293"
            ]
          },
          "metadata": {},
          "execution_count": 29
        }
      ],
      "source": [
        "#@title 예측에 대한 정밀도와 재현율 확인\n",
        "\n",
        "# 정밀도\n",
        "precision_score(y_train_5, y_train_pred_90) "
      ]
    },
    {
      "cell_type": "code",
      "execution_count": null,
      "metadata": {
        "colab": {
          "base_uri": "https://localhost:8080/"
        },
        "id": "KH0LBNyiIxK4",
        "outputId": "30687c0a-557b-4eb0-b523-dbd6b688ecb5"
      },
      "outputs": [
        {
          "output_type": "execute_result",
          "data": {
            "text/plain": [
              "0.4799852425751706"
            ]
          },
          "metadata": {},
          "execution_count": 30
        }
      ],
      "source": [
        "# 재현율\n",
        "recall_score(y_train_5, y_train_pred_90)\n",
        "\n",
        "## 재현율이 너무 낮다면 높은 정밀도의 분류기는 전혀 유용하지 않음"
      ]
    },
    {
      "cell_type": "markdown",
      "metadata": {
        "id": "YV2IqSAbJXdM"
      },
      "source": [
        "### 3.3.5 ROC 곡선\n"
      ]
    },
    {
      "cell_type": "markdown",
      "metadata": {
        "id": "IDiwJJsKJcqm"
      },
      "source": [
        "* **수신기 조작 특성 (ROC) 곡선** - 이진 분류에서 널리 사용하는 도구\n",
        "  - 정밀도에 대한 재현율 곡선이 아닌, 거짓 양성 비율*(FPR)*에 대한 진짜 양성 비율*(TPR*, 재현율의 다른 이름) 의 곡선\n",
        "    - *FPR* : 양성으로 잘못 분류된 음성 샘플의 비율 / 1 - *진짜 음성 비율* (*TNR*, 특이도)\n",
        "      - *TNR* :음성으로 정확하게 분류한 음성 샘플의 비율\n",
        "  - *민감도(재현율)* 에 대한 *1 - 특이도* 그래프"
      ]
    },
    {
      "cell_type": "markdown",
      "metadata": {
        "id": "wUWozUbXKaDs"
      },
      "source": [
        "ROC 곡선 그리는 법\n",
        "\n",
        "\n",
        "\n"
      ]
    },
    {
      "cell_type": "code",
      "execution_count": null,
      "metadata": {
        "id": "qMOkTCijKtQf"
      },
      "outputs": [],
      "source": [
        "#@title 1. roc_curve() 함수: 여러 임곗값에서 TPR과 FPR 계산\n",
        "\n",
        "from sklearn.metrics import roc_curve\n",
        "\n",
        "fpr, tpr, thresholds = roc_curve(y_train_5, y_scores)"
      ]
    },
    {
      "cell_type": "code",
      "execution_count": null,
      "metadata": {
        "colab": {
          "base_uri": "https://localhost:8080/",
          "height": 265
        },
        "id": "mzAefeQ1Ldqy",
        "outputId": "bc146a33-9699-4657-fb58-192160412346"
      },
      "outputs": [
        {
          "output_type": "display_data",
          "data": {
            "text/plain": [
              "<Figure size 432x288 with 1 Axes>"
            ],
            "image/png": "[encoded data removed]"
          },
          "metadata": {
            "needs_background": "light"
          }
        }
      ],
      "source": [
        "#@title 2.  TPR 에 대한 FPR 곡선 \n",
        "\n",
        "def plot_roc_curve(fpr, tpr, label=None):\n",
        "  plt.plot(fpr, tpr, linewidth=2,label=label)\n",
        "  plt.plot([0,1],[0,1],'k--')\n",
        "\n",
        "plot_roc_curve(fpr, tpr)\n",
        "plt.show()  \n",
        "\n",
        "## 결과: 모든 가능한 임곗값에서 진짜 양성 비율에 대한 거짓 양성 비율을 나타낸 ROC 곡선. 붉은 점이 선택한 비율의 지점(43.68% 재현율)"
      ]
    },
    {
      "cell_type": "markdown",
      "metadata": {
        "id": "-I4k_rNkMe_6"
      },
      "source": [
        "- 재현율(TPR) 이 높을수록 분류기가 만드는 거짓 양성(FPR) 이 늘어남\n",
        "- 점선은 완전한 랜덤 분류기의 ROC 곡선을 뜻함\n",
        "  - 좋은 분류기는 점선에서 최대한 멀리 떨어져 있어야 함 (왼쪽 위 모서리)"
      ]
    },
    {
      "cell_type": "code",
      "execution_count": null,
      "metadata": {
        "colab": {
          "base_uri": "https://localhost:8080/"
        },
        "id": "k0cpVMX3MzeV",
        "outputId": "7eec9daf-23fc-4bdb-f8c3-cac0d1b038ac"
      },
      "outputs": [
        {
          "output_type": "execute_result",
          "data": {
            "text/plain": [
              "0.9604938554008616"
            ]
          },
          "metadata": {},
          "execution_count": 33
        }
      ],
      "source": [
        "#@title 분류기 비교 - 곡선 아래의 면적(AUC) 측정\n",
        "\n",
        "from sklearn.metrics import roc_auc_score\n",
        "roc_auc_score(y_train_5, y_scores)"
      ]
    },
    {
      "cell_type": "markdown",
      "metadata": {
        "id": "7we5as1pNF4_"
      },
      "source": [
        "* 완벽한 분류기는 ROC의 AUC가 1, 완전한 랜덤 분류기는 0.5"
      ]
    },
    {
      "cell_type": "markdown",
      "metadata": {
        "id": "WfBmuRHmN7hO"
      },
      "source": [
        "#### **RandomForestClassifier 를 훈련시켜 SGDClassifier의 ROC 곡선과 ROC AUC 점수 비교**"
      ]
    },
    {
      "cell_type": "markdown",
      "metadata": {
        "id": "gyR4ItdKOZNi"
      },
      "source": [
        "1. **predict_proba()**: 샘플이 행, 클래스가 열이고 샘플이 주어진 클래스에 속할 확률을 담은 배열 반환\n"
      ]
    },
    {
      "cell_type": "code",
      "execution_count": null,
      "metadata": {
        "id": "-6RAZlMKOGGM"
      },
      "outputs": [],
      "source": [
        "#@title predict_proba()\n",
        "\n",
        "from sklearn.ensemble import RandomForestClassifier\n",
        "\n",
        "forest_clf = RandomForestClassifier(random_state=42)\n",
        "y_probas_forest = cross_val_predict(forest_clf, X_train, y_train_5, cv=3, method='predict_proba')"
      ]
    },
    {
      "cell_type": "markdown",
      "metadata": {
        "id": "EGc6xAO5PHzd"
      },
      "source": [
        "2. **roc_curve()** : 레이블과 점수 기대 / 점수 대신 클래스 확률 전달 가능"
      ]
    },
    {
      "cell_type": "code",
      "execution_count": null,
      "metadata": {
        "id": "sCr8yZl7PO45"
      },
      "outputs": [],
      "source": [
        "#@title roc_curve()\n",
        "\n",
        "y_scores_forest = y_probas_forest[:,1]  # 양성 클래스에 대한 확률을 점수로 사용\n",
        "fpr_forest, tpr_forest, thresholds_forest = roc_curve(y_train_5, y_scores_forest)"
      ]
    },
    {
      "cell_type": "markdown",
      "metadata": {
        "id": "sqQUkhcQPnaB"
      },
      "source": [
        "3. ROC 곡선 그리기"
      ]
    },
    {
      "cell_type": "code",
      "execution_count": null,
      "metadata": {
        "colab": {
          "base_uri": "https://localhost:8080/",
          "height": 503
        },
        "id": "dqS3mhXcPpPz",
        "outputId": "80d613c3-1c61-48c5-f42b-266cb5587177"
      },
      "outputs": [
        {
          "output_type": "stream",
          "name": "stderr",
          "text": [
            "/usr/local/lib/python3.9/dist-packages/IPython/core/pylabtools.py:128: UserWarning: Glyph 47004 (\\N{HANGUL SYLLABLE RAEN}) missing from current font.\n",
            "  fig.canvas.print_figure(bytes_io, **kw)\n",
            "/usr/local/lib/python3.9/dist-packages/IPython/core/pylabtools.py:128: UserWarning: Glyph 45924 (\\N{HANGUL SYLLABLE DEOM}) missing from current font.\n",
            "  fig.canvas.print_figure(bytes_io, **kw)\n",
            "/usr/local/lib/python3.9/dist-packages/IPython/core/pylabtools.py:128: UserWarning: Glyph 54252 (\\N{HANGUL SYLLABLE PO}) missing from current font.\n",
            "  fig.canvas.print_figure(bytes_io, **kw)\n",
            "/usr/local/lib/python3.9/dist-packages/IPython/core/pylabtools.py:128: UserWarning: Glyph 47112 (\\N{HANGUL SYLLABLE RE}) missing from current font.\n",
            "  fig.canvas.print_figure(bytes_io, **kw)\n",
            "/usr/local/lib/python3.9/dist-packages/IPython/core/pylabtools.py:128: UserWarning: Glyph 49828 (\\N{HANGUL SYLLABLE SEU}) missing from current font.\n",
            "  fig.canvas.print_figure(bytes_io, **kw)\n",
            "/usr/local/lib/python3.9/dist-packages/IPython/core/pylabtools.py:128: UserWarning: Glyph 53944 (\\N{HANGUL SYLLABLE TEU}) missing from current font.\n",
            "  fig.canvas.print_figure(bytes_io, **kw)\n"
          ]
        },
        {
          "output_type": "display_data",
          "data": {
            "text/plain": [
              "<Figure size 432x288 with 1 Axes>"
            ],
            "image/png": "[encoded data removed]"
          },
          "metadata": {
            "needs_background": "light"
          }
        }
      ],
      "source": [
        "plt.plot(fpr, tpr, \"b:\", label=\"SGD\")\n",
        "plot_roc_curve(fpr_forest, tpr_forest, \"랜덤 포레스트\")\n",
        "plt.legend(loc=\"lower right\")\n",
        "plt.show()\n",
        "\n",
        "## ROC 곡선 비교: 랜덤 포레스트 분류기가 SGD 분류기보다 훨씬 좋음 (랜덤 포레스트의 ROC 곡선이 왼쪽 위 모서리에 더 가까워 AUC 값이 크기 때문)"
      ]
    },
    {
      "cell_type": "code",
      "execution_count": null,
      "metadata": {
        "colab": {
          "base_uri": "https://localhost:8080/"
        },
        "id": "j-OjDHADQLBh",
        "outputId": "00090d2c-003c-4826-d43f-42ac4cad7364"
      },
      "outputs": [
        {
          "output_type": "execute_result",
          "data": {
            "text/plain": [
              "0.9983436731328145"
            ]
          },
          "metadata": {},
          "execution_count": 37
        }
      ],
      "source": [
        "roc_auc_score(y_train_5, y_scores_forest) \n",
        "\n",
        "## ROC AUC 점수도 훨씬 높음"
      ]
    },
    {
      "cell_type": "markdown",
      "metadata": {
        "id": "R7hGqIQoQi89"
      },
      "source": [
        "> 정리 \n",
        "* 분류기를 훈련시키는 방법과 작업에 맞는 적절한 지표 선택\n",
        "* 교차 검증을 사용한 평가\n",
        "* 요구 사항에 맞는 정밀도/재현율 트레이드오프 선택\n",
        "* ROC 곡선과 ROC AUC 점수를 사용한 여러 모델의 비교"
      ]
    },
    {
      "cell_type": "markdown",
      "metadata": {
        "id": "TwHlJOu0QwaS"
      },
      "source": [
        "## 3.4 다중 분류\n",
        "\n",
        "* 이진 분류: 두 개의 클래스를 구별\n",
        "* 다중 분류기 (다항 분류기) : 둘 이상의 클래스를 구별\n",
        "\n"
      ]
    },
    {
      "cell_type": "code",
      "execution_count": null,
      "metadata": {
        "colab": {
          "base_uri": "https://localhost:8080/"
        },
        "id": "rHiwob90Rfwq",
        "outputId": "2864ede0-65e3-43e6-cffd-cf6ce92e0a09"
      },
      "outputs": [
        {
          "output_type": "execute_result",
          "data": {
            "text/plain": [
              "array([5], dtype=uint8)"
            ]
          },
          "metadata": {},
          "execution_count": 38
        }
      ],
      "source": [
        "#@title SVC 서포트 벡터 머신 분류기\n",
        "\n",
        "from sklearn.svm import SVC\n",
        "svm_clf = SVC()\n",
        "svm_clf.fit(X_train, y_train) #y_train_5가 아닌 y_train 사용 : 5를 구별한 타깃 클래스(y_train_5) 대신 0에서 9까지의 원래 타깃 클래스(y_train) 을 사용해 SVC를 훈련 시킴\n",
        "svm_clf.predict([some_digit])"
      ]
    },
    {
      "cell_type": "code",
      "execution_count": null,
      "metadata": {
        "colab": {
          "base_uri": "https://localhost:8080/"
        },
        "id": "yD--cirCl6l1",
        "outputId": "de705bee-ba16-4052-b44f-776e4da58f08"
      },
      "outputs": [
        {
          "output_type": "execute_result",
          "data": {
            "text/plain": [
              "array([[ 1.72501977,  2.72809088,  7.2510018 ,  8.3076379 , -0.31087254,\n",
              "         9.3132482 ,  1.70975103,  2.76765202,  6.23049537,  4.84771048]])"
            ]
          },
          "metadata": {},
          "execution_count": 39
        }
      ],
      "source": [
        "#@title decision_function() 으로 확인\n",
        "some_digit_scores = svm_clf.decision_function([some_digit])\n",
        "some_digit_scores\n",
        "\n",
        "## 가장 높은 점수가 클래스 5에 해당하는 값"
      ]
    },
    {
      "cell_type": "code",
      "execution_count": null,
      "metadata": {
        "colab": {
          "base_uri": "https://localhost:8080/"
        },
        "id": "vgDNd-EVmNb_",
        "outputId": "0b62e935-397f-4b91-c597-6287c536576b"
      },
      "outputs": [
        {
          "output_type": "execute_result",
          "data": {
            "text/plain": [
              "5"
            ]
          },
          "metadata": {},
          "execution_count": 40
        }
      ],
      "source": [
        "np.argmax(some_digit_scores)"
      ]
    },
    {
      "cell_type": "code",
      "execution_count": null,
      "metadata": {
        "colab": {
          "base_uri": "https://localhost:8080/"
        },
        "id": "OdeEuskwmScI",
        "outputId": "63ded1fa-6c4f-4c2f-d4d5-fd95dbac086a"
      },
      "outputs": [
        {
          "output_type": "execute_result",
          "data": {
            "text/plain": [
              "array([0, 1, 2, 3, 4, 5, 6, 7, 8, 9], dtype=uint8)"
            ]
          },
          "metadata": {},
          "execution_count": 41
        }
      ],
      "source": [
        "svm_clf.classes_ # 분류기 훈련 시 classes_ 속성에 타깃 클래스의 리스트르 값으로 정렬하여 저장"
      ]
    },
    {
      "cell_type": "code",
      "execution_count": null,
      "metadata": {
        "colab": {
          "base_uri": "https://localhost:8080/"
        },
        "id": "PxFCRP1hmVMH",
        "outputId": "a37d5968-1a2d-448d-e3ea-147b6e00831c"
      },
      "outputs": [
        {
          "output_type": "execute_result",
          "data": {
            "text/plain": [
              "5"
            ]
          },
          "metadata": {},
          "execution_count": 42
        }
      ],
      "source": [
        "svm_clf.classes_[5]"
      ]
    },
    {
      "cell_type": "code",
      "execution_count": null,
      "metadata": {
        "colab": {
          "base_uri": "https://localhost:8080/"
        },
        "id": "XtoSBhWtmgfs",
        "outputId": "4290f2de-f84e-4c94-b68d-7beecb99079d"
      },
      "outputs": [
        {
          "output_type": "execute_result",
          "data": {
            "text/plain": [
              "array([5], dtype=uint8)"
            ]
          },
          "metadata": {},
          "execution_count": 43
        }
      ],
      "source": [
        "#@title OvO 나 OvR 사용하도록 강제\n",
        "\n",
        "from sklearn.multiclass import OneVsRestClassifier\n",
        "ovr_clf = OneVsRestClassifier(SVC())\n",
        "ovr_clf.fit(X_train,y_train)\n",
        "ovr_clf.predict([some_digit])"
      ]
    },
    {
      "cell_type": "code",
      "execution_count": null,
      "metadata": {
        "colab": {
          "base_uri": "https://localhost:8080/"
        },
        "id": "Jl21HotznS3s",
        "outputId": "bb798a4c-7379-4bd7-e005-ca6de8f2db45"
      },
      "outputs": [
        {
          "data": {
            "text/plain": [
              "10"
            ]
          },
          "execution_count": 44,
          "metadata": {},
          "output_type": "execute_result"
        }
      ],
      "source": [
        "len(ovr_clf.estimators_)"
      ]
    },
    {
      "cell_type": "code",
      "execution_count": null,
      "metadata": {
        "colab": {
          "base_uri": "https://localhost:8080/"
        },
        "id": "igz8uukUnfRF",
        "outputId": "16d7f135-878b-46c2-8574-5added304ba1"
      },
      "outputs": [
        {
          "output_type": "execute_result",
          "data": {
            "text/plain": [
              "array([3], dtype=uint8)"
            ]
          },
          "metadata": {},
          "execution_count": 45
        }
      ],
      "source": [
        "#@title SGDClassifier(또는 RandomForestClassifier) 훈련\n",
        "\n",
        "sgd_clf.fit(X_train, y_train)\n",
        "sgd_clf.predict([some_digit])"
      ]
    },
    {
      "cell_type": "markdown",
      "metadata": {
        "id": "mHU9xbpHndCF"
      },
      "source": [
        "SGD 분류기는 직접 샘플을 다중 클래스로 분류할 수 있기 때문에 별도로 사이킷런의 OvR 이나 OvO를 적용할 필요 없음"
      ]
    },
    {
      "cell_type": "code",
      "execution_count": null,
      "metadata": {
        "id": "z8sQOlW5oDIk"
      },
      "outputs": [],
      "source": [
        "#@title SGD 분류기가 클래스마다 부여한 점수 확인\n",
        "\n",
        "sgd_clf.decision_function([some_digit]) # decision_function() 메서드는 클래스마다 하나의 값을 반환\n",
        "\n",
        "## 분류기가 예측 결과에 강한 확신을 보임 \n",
        "## 대부분의 점수가 큰 음수 /반면, 클래스 5의 점수는 \n",
        "## 이 모델은 점수를 얻은 클래스 3을 조금 의심함"
      ]
    },
    {
      "cell_type": "code",
      "execution_count": null,
      "metadata": {
        "colab": {
          "base_uri": "https://localhost:8080/"
        },
        "id": "eJR5yTGDo3Xk",
        "outputId": "6c1fc1a7-4d51-443a-edec-b59935495640"
      },
      "outputs": [
        {
          "output_type": "execute_result",
          "data": {
            "text/plain": [
              "array([0.87365, 0.85835, 0.8689 ])"
            ]
          },
          "metadata": {},
          "execution_count": 47
        }
      ],
      "source": [
        "#@title 분류기 평가 - 교차검증\n",
        "\n",
        "cross_val_score(sgd_clf, X_train, y_train, cv=3,scoring=\"accuracy\") # cross_val_score() 함수를 사용해 SGDClassifier 정확도 평가\n",
        "\n",
        "## 모든 테스트 폴드에서 84% 이상을 얻음"
      ]
    },
    {
      "cell_type": "code",
      "execution_count": null,
      "metadata": {
        "colab": {
          "base_uri": "https://localhost:8080/"
        },
        "id": "lcIr2pucpW8M",
        "outputId": "a0389a8f-d403-4ac6-cb97-34652c94be8a"
      },
      "outputs": [
        {
          "output_type": "execute_result",
          "data": {
            "text/plain": [
              "array([0.8983, 0.891 , 0.9018])"
            ]
          },
          "metadata": {},
          "execution_count": 48
        }
      ],
      "source": [
        "# 성능을 더 높이는 법 - 예) 입력의 스케일 조정\n",
        "\n",
        "from sklearn.preprocessing import StandardScaler\n",
        "scaler = StandardScaler()\n",
        "X_train_scaled = scaler.fit_transform(X_train.astype(np.float64))\n",
        "cross_val_score(sgd_clf, X_train_scaled, y_train, cv=3, scoring='accuracy')\n",
        "\n",
        "## 정확도를 89% 이상으로 높임"
      ]
    },
    {
      "cell_type": "markdown",
      "metadata": {
        "id": "AG8bjI4do3Ih"
      },
      "source": [
        "## 3.5 에러 분석\n",
        "\n",
        "머신러닝 프로젝트 체크리스트(부록B) 의 단계\n",
        "1. 데이터 준비 단계에서 가능한 선택 사항 탐색\n",
        "2. 여러 모델 시도\n",
        "3. 가장 좋은 몇 개를 골라 GridSearchCV 사용해 하이퍼파라미터를 세밀하게 튜닝 및 자동화"
      ]
    },
    {
      "cell_type": "markdown",
      "metadata": {
        "id": "ZYYsY5foqTjR"
      },
      "source": [
        "#### 가능성이 높은 모델을 하나 찾았다고 가정하고, 이 모델의 성능을 향상시킬 방법 찾아보기\n",
        "\n",
        "만들어진 에러의 종류 분석\n"
      ]
    },
    {
      "cell_type": "code",
      "execution_count": null,
      "metadata": {
        "id": "03c-e8MCrJe9"
      },
      "outputs": [],
      "source": [
        "#@title 오차 행렬 살펴보기\n",
        "y_train_pred = cross_val_predict(sgd_clf, X_train_scaled, y_train, cv=3)\n",
        "conf_mx = confusion_matrix(y_train, y_train_pred)\n",
        "conf_mx"
      ]
    },
    {
      "cell_type": "code",
      "execution_count": null,
      "metadata": {
        "id": "2HxPTz_Wrc9o"
      },
      "outputs": [],
      "source": [
        "# 1. matshow() 함수: 오차 행렬을 이미지로 표현\n",
        "plt.matshow(conf_mx, cmap=plt.cm.gray)\n",
        "plt.show()\n",
        "\n",
        "## 대부분의 이미지가 올바르게 분류되었음을 나타내는 주대각선에 있으므로 매우 좋아 보임\n",
        "## 숫자 5는 다른 숫자보다 조금 더 어두워보임 \n",
        "##\n",
        "## 데이터셋에 숫자 5의 이미지가 적거나, 분류기가 숫자 5를 다른 숫자만큼 잘 분류하지 못한다는 의미"
      ]
    },
    {
      "cell_type": "code",
      "execution_count": null,
      "metadata": {
        "id": "appzTBWSsRl1"
      },
      "outputs": [],
      "source": [
        "# 2. 에러 비율 비교 : 오차 행렬의 각 값을 대응되는 클래스의 이미지 개수로 나누어 에러 비율 비교\n",
        "\n",
        "row_sums = conf_mx.sum(axis=1, keepdims=True)\n",
        "norm_conf_mx = conf_mx / row_sums\n",
        "\n",
        "#다른 항목은 그대로 유지하고 주대각선만 0으로 채워 그래프 그림\n",
        "np.fill_diagonal(norm_conf_mx, 0) \n",
        "plt.matshow(norm_conf_mx, cmap=plt.cm.gray)\n",
        "plt.show()\n",
        "\n",
        "## 행은 실제 클래스를 나타내고 열은 예측한 클래스를 나타냄!\n",
        "\n",
        "## 클래스 8의 열이 상당히 밝음 - 많은 이미지가 8로 잘못 분류 되었음\n",
        "## 클래스 8의 행은 그리 나쁘지 않음 - 실제 8이 적절히 8로 분류 되었음\n",
        "##\n",
        "## 오차 행렬이 반드시 대칭인 것은 아님\n",
        "\n",
        "## 3과 5가 (서로) 많이 혼동 되고 있음"
      ]
    },
    {
      "cell_type": "markdown",
      "metadata": {
        "id": "orL35LEGr1zl"
      },
      "source": [
        "오차 행렬 분석 시, 분류기의 성능 향상 방안에 대한 통찰을 얻을 수 있음 \n",
        "\n",
        "* 8로 잘못 분류되는 것을 줄이도록 개선할 필요성\n",
        "  - 8처럼 보이는 (하지만 실제 8은 아닌) 숫자의 훈련 데이터를 더 많이 모아 실제 8과 구분하도록 분류기 학습\n",
        "  - 분류기에 도움 될 만한 특성 찾아보기 \n",
        "   - 동심원의 수를 세는 알고리즘 (8은 2개, 6은 1개 ...)\n",
        "   - 동심원 같은 어떠한 패턴이 드러나도록 이미지 전처리\n",
        "\n",
        "\n"
      ]
    },
    {
      "cell_type": "markdown",
      "metadata": {
        "id": "qA6hSAAYvEkd"
      },
      "source": [
        "개개의 에러를 분석하면 분류기가 무슨 일을 하고, 왜 잘못되었는지에 대한 통찰을 얻을 수 있음\n",
        "\n",
        "그러나, 더 어렵고 시간이 오래 걸림 "
      ]
    },
    {
      "cell_type": "code",
      "execution_count": null,
      "metadata": {
        "id": "sw10U7gyu6HT"
      },
      "outputs": [],
      "source": [
        "# 예. 3과 5의 샘플 그리기\n",
        "\n",
        "cl_a, cl_b = 3,5\n",
        "X_aa = X_train[(y_train==cl_a) & (y_train_pred==cl_a)]\n",
        "X_ab = X_train[(y_train==cl_a) & (y_train_pred==cl_b)]\n",
        "X_ba = X_train[(y_train==cl_b) & (y_train_pred==cl_a)]\n",
        "X_bb = X_train[(y_train==cl_b) & (y_train_pred==cl_b)]\n",
        "\n",
        "def plot_digits(instances, images_per_row=10, **options): \n",
        "    size = 28\n",
        "    images_per_row = min(len(instances), images_per_row)\n",
        "    images = [instance.reshape(size, size) for instance in instances]\n",
        "    n_rows = (len(instances) - 1) // images_per_row + 1\n",
        "    row_images = []\n",
        "    n_empty = n_rows * images_per_row - len(instances)\n",
        "    images.append(np.zeros((size, size * n_empty)))\n",
        "    for row in range(n_rows):\n",
        "        rimages = images[row * images_per_row: (row + 1) * images_per_row]\n",
        "        row_images.append(np.concatenate(rimages, axis=1))\n",
        "    image = np.concatentate(row_images, axis=0)\n",
        "    plt.imshow(image, cmap=mpl.cm.binary, **options)\n",
        "    plt.axis(\"off\")\n",
        "\n",
        "plt.figure(figsize=(8,8))\n",
        "plt.subplot(221)\n",
        "plot_digits(X_aa[:25], images_per_row=5)\n",
        "plt.subplot(222)\n",
        "plot_digits(X_ab[:25], images_per_row=5)\n",
        "plt.subplot(223)\n",
        "plot_digits(X_ba[:25], images_per_row=5)\n",
        "plt.subplot(224)\n",
        "plot_digits(X_bb[:25], images_per_row=5)\n",
        "plt.show()\n",
        "\n",
        "## 왼쪽 5x5 블록 두 개는 3으로 분류된 이미지 /오른쪽 5x5 블록 두 개는 5로 분류된 이미지"
      ]
    },
    {
      "cell_type": "markdown",
      "metadata": {
        "id": "3usn1RV6wAZV"
      },
      "source": [
        "대부분의 잘못 분류된 이미지는 확실히 에러인 것 같고, 분류기가 실수한 이유를 이해하기 어려움\n",
        "\n",
        "원인은 SGDClassifier를 사용했기 때문\n",
        " - 선형 분류기는 클래스마다 픽셀에 가중치를 할당하고 새로운 이미지에 대해 단순히 픽셀 강도의 가중치 합을 클래스의 점수로 계산\n",
        " - 따라서 3과 5는 몇 개의 픽셀만 다르기 때문에 쉽게 혼동\n",
        "\n",
        "분류기는 이미지의 위치나 회전 방향에 매우 민감\n",
        "* 3과 5의 에러를 줄이는 방법\n",
        " - 이미지를 중앙에 위치시키고 회전되어 있지 않도록 전처리 "
      ]
    },
    {
      "cell_type": "markdown",
      "metadata": {
        "id": "Zfg62EE2xZ0R"
      },
      "source": [
        "##3.6 다중 레이블 분류\n",
        "분류기가 샘플마다 여러 개의 클래스를 출력해야 할 때도 있음\n",
        "\n",
        "* **다중 레이블 분류 시스템**: 여러 개의 이진 꼬리표를 출력하는 분류 시스템\n",
        "  - 예 ) 얼굴 인식 분류기\n",
        "    - 같은 사진에 여러 사람이 등장하는 경우, 인식된 사람마다 하나씩 꼬리표를 붙여야 함\n",
        "    - 분류기가 앨리스, 밥, 찰리 세 얼굴을 인식하도록 훈련되었다고 가정: 앨리스와 찰리가 있는 사진을 보는 경우 [1,0,1] 출력해야 함"
      ]
    },
    {
      "cell_type": "code",
      "execution_count": null,
      "metadata": {
        "id": "53IkyiDFx5jU"
      },
      "outputs": [],
      "source": [
        "#@title 다중 레이블 분류 예시\n",
        "\n",
        "# 각 숫자 이미지에 두 개의 타깃 레이블이 담긴 y_multilabel 배열을 만듦\n",
        "from sklearn.neighbors import KNeighborsClassifier\n",
        "\n",
        "y_train_large = (y_train >= 7) # 숫자가 큰 값(7,8,9) 인지 나타냄\n",
        "y_train_odd = (y_train % 2 == 1) # 홀수 인지 나타냄\n",
        "y_multilabel = np.c_[y_train_large, y_train_odd] \n",
        "\n",
        "# KNeighborsClassifier 인스턴스를 만들고 다중 타깃 배열을 사용하여 훈련\n",
        "knn_clf=KNeighborsClassifier()\n",
        "knn_clf.fit(X_train, y_multilabel) "
      ]
    },
    {
      "cell_type": "code",
      "execution_count": null,
      "metadata": {
        "id": "CDhLo6LT1ly7"
      },
      "outputs": [],
      "source": [
        "knn_clf.predict([some_digit])\n",
        "\n",
        "## 올바르게 분류되었음. 숫자 5는 크지 않고(False) 홀수(True)"
      ]
    },
    {
      "cell_type": "code",
      "execution_count": null,
      "metadata": {
        "id": "kB9zhMyE19aW"
      },
      "outputs": [],
      "source": [
        "#@title 다중 레이블 분류기를 평가하는 방법\n",
        "\n",
        "# 모든 레이블의 F1 점수를 구하고 평균 점수 계산 \n",
        "y_train_knn_pred= cross_val_predict(knn_clf, X_train, y_multilabel, cv=3)\n",
        "f1_score(y_multilabel, y_train_knn_pred, average='macro') # 모든 레이블의 가중치가 같다고 가정 \n",
        "                                                          # average = 'weighted' : 레이블에 클래스의 지지도(타깃 레이블에 속한 샘플 수)를 가중치로 줌, 앨리스 사진이 밥이나 찰리 사진보다 훨씬 많다면 앨리스 사진에 대한 분류기의 점수에 더 높은 가중치를 둠"
      ]
    },
    {
      "cell_type": "markdown",
      "metadata": {
        "id": "tB6T9FD93bhR"
      },
      "source": [
        "## 3.7 다중 출력 분류\n",
        "\n",
        "* **다중 출력 다중 클래스 분류 (다중 출력 분류)** : 다중 레이블 분류에서 한 레이블이 다중 클래스가 될 수 있도록 일반화 한 것 (즉, 값을 두 개 이상 가질 수 있음)"
      ]
    },
    {
      "cell_type": "markdown",
      "metadata": {
        "id": "oppkaeE84WWB"
      },
      "source": [
        "#### 이미지에서 잡음을 제거하는 시스템"
      ]
    },
    {
      "cell_type": "code",
      "execution_count": null,
      "metadata": {
        "id": "7a9_QOum4H39"
      },
      "outputs": [],
      "source": [
        "#@title MNIST 이미지에서 추출한 세트의 픽셀 강도에 잡음 추가\n",
        "\n",
        "noise = np.random.randint(0,100,(len(X_train),784))\n",
        "X_train_mod = X_train + noise\n",
        "noise = np.random.randint(0,100,(len(X_test),784))\n",
        "X_test_mod = X_test + noise\n",
        "y_train_mod = X_train\n",
        "y_test_mod = X_test"
      ]
    },
    {
      "cell_type": "code",
      "execution_count": null,
      "metadata": {
        "id": "MgMTieeD5muM"
      },
      "outputs": [],
      "source": [
        "#@title 테스트 세트에서 이미지 선택\n",
        "\n",
        "idx = 36000\n",
        "\n",
        "plt.subplot(2,1,1)\n",
        "plt.inshow(X_train_mod[idx].reshape(28,28))\n",
        "plt.subplot(2,1,2)\n",
        "plt.imshow(y_train_mod[idx].reshape(28,28))\n",
        "plt.show()"
      ]
    },
    {
      "cell_type": "code",
      "execution_count": null,
      "metadata": {
        "id": "yvGBqjtj6Ze5"
      },
      "outputs": [],
      "source": [
        "#@title 분류기 훈련 및 이미지 깨끗하게 만들기\n",
        "\n",
        "knn_clf.fit(X_train_mod, y_train_mod)\n",
        "clean_digit = knn_clf.predict([X_test_mod[idx]])\n",
        "\n",
        "plt.imshow(clean_digit.reshape(28,28))\n",
        "plt.show() \n",
        "\n",
        "#plot_digit(clean_digit)"
      ]
    }
  ],
  "metadata": {
    "colab": {
      "provenance": [],
      "authorship_tag": "ABX9TyPLXAdpUJEaNiHeJ30MhAIY",
      "include_colab_link": true
    },
    "kernelspec": {
      "display_name": "Python 3",
      "name": "python3"
    },
    "language_info": {
      "name": "python"
    }
  },
  "nbformat": 4,
  "nbformat_minor": 0
}