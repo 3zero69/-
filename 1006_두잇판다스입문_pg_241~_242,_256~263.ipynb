{
  "nbformat": 4,
  "nbformat_minor": 0,
  "metadata": {
    "colab": {
      "provenance": [],
      "authorship_tag": "ABX9TyMb/dgt2dg9TR/UFNf7I3q4",
      "include_colab_link": true
    },
    "kernelspec": {
      "name": "python3",
      "display_name": "Python 3"
    },
    "language_info": {
      "name": "python"
    }
  },
  "cells": [
    {
      "cell_type": "markdown",
      "metadata": {
        "id": "view-in-github",
        "colab_type": "text"
      },
      "source": [
        "<a href=\"https://colab.research.google.com/github/3zero69/-/blob/main/1006_%EB%91%90%EC%9E%87%ED%8C%90%EB%8B%A4%EC%8A%A4%EC%9E%85%EB%AC%B8_pg_241~_242%2C_256~263.ipynb\" target=\"_parent\"><img src=\"https://colab.research.google.com/assets/colab-badge.svg\" alt=\"Open In Colab\"/></a>"
      ]
    },
    {
      "cell_type": "markdown",
      "source": [
        "#12.시계열 데이터"
      ],
      "metadata": {
        "id": "Eno9InPxnUw1"
      }
    },
    {
      "cell_type": "markdown",
      "source": [
        "##12-1. datetime 오브젝트\n",
        "* datetime 라이브러리: 날짜와 시간을 처리하는 등의 다양한 기능을 제공하는 파이썬 라이브러리\n",
        " - date : 날짜 처리 오브젝트\n",
        " - time : 시간 처리 오브젝트\n",
        " - datetime : 날짜와 시간 모두 처리 오브젝트"
      ],
      "metadata": {
        "id": "X5_YU2cGnXCN"
      }
    },
    {
      "cell_type": "markdown",
      "source": [
        "### datetime 오브젝트 사용하기\n"
      ],
      "metadata": {
        "id": "EdoujWQynr-l"
      }
    },
    {
      "cell_type": "markdown",
      "source": [
        "1. datetime 라이브러리 불러오기"
      ],
      "metadata": {
        "id": "XVswwS2Nnwd5"
      }
    },
    {
      "cell_type": "code",
      "execution_count": 1,
      "metadata": {
        "id": "jOO3hfh3nJ85"
      },
      "outputs": [],
      "source": [
        "from datetime import datetime"
      ]
    },
    {
      "cell_type": "markdown",
      "source": [
        "2. now, today 메서드 - 현재 시간 출력"
      ],
      "metadata": {
        "id": "b6Zt1fZ0n02t"
      }
    },
    {
      "cell_type": "code",
      "source": [
        "now1=datetime.now()\n",
        "print(now1)"
      ],
      "metadata": {
        "colab": {
          "base_uri": "https://localhost:8080/"
        },
        "id": "qufBqdzUoAQc",
        "outputId": "77805b38-163a-46b3-a83d-c6721629a84d"
      },
      "execution_count": 2,
      "outputs": [
        {
          "output_type": "stream",
          "name": "stdout",
          "text": [
            "2022-10-10 06:41:07.572186\n"
          ]
        }
      ]
    },
    {
      "cell_type": "code",
      "source": [
        "now2=datetime.today()\n",
        "print(now2)"
      ],
      "metadata": {
        "colab": {
          "base_uri": "https://localhost:8080/"
        },
        "id": "rBMJKV2MoCkW",
        "outputId": "06f74932-2fb6-47d0-fcfe-a876ef8536af"
      },
      "execution_count": 3,
      "outputs": [
        {
          "output_type": "stream",
          "name": "stdout",
          "text": [
            "2022-10-10 06:41:08.038175\n"
          ]
        }
      ]
    },
    {
      "cell_type": "markdown",
      "source": [
        "3. 시간을 직접 입력하여 인자로 전달 - 입력한 시간을 바탕으로 datetime 오브젝트 생성"
      ],
      "metadata": {
        "id": "afB1NsO2oGUv"
      }
    },
    {
      "cell_type": "code",
      "source": [
        "t1=datetime.now() # now 메서드는 밀리초 단위까지 구함\n",
        "t2=datetime(1970,1,1)\n",
        "t3=datetime(1970,12,12,13,24,34)\n",
        "print(t1);print(t2);print(t3) "
      ],
      "metadata": {
        "colab": {
          "base_uri": "https://localhost:8080/"
        },
        "id": "H0kJ9cefoPeW",
        "outputId": "11dfe585-206e-4ffe-ffad-1f61e6567cf3"
      },
      "execution_count": 4,
      "outputs": [
        {
          "output_type": "stream",
          "name": "stdout",
          "text": [
            "2022-10-10 06:42:02.178636\n",
            "1970-01-01 00:00:00\n",
            "1970-12-12 13:24:34\n"
          ]
        }
      ]
    },
    {
      "cell_type": "markdown",
      "source": [
        "4. 시간 계산 - 두 datetime 오브젝트의 차이 구하기 "
      ],
      "metadata": {
        "id": "Ai2RbyP2oSQF"
      }
    },
    {
      "cell_type": "code",
      "source": [
        "diff1=t1-t2\n",
        "print(diff1)\n",
        "print(type(diff1))"
      ],
      "metadata": {
        "colab": {
          "base_uri": "https://localhost:8080/"
        },
        "id": "fPHEZGHpoX9k",
        "outputId": "400dd504-09a7-454f-f11d-04e078e841f0"
      },
      "execution_count": 5,
      "outputs": [
        {
          "output_type": "stream",
          "name": "stdout",
          "text": [
            "19275 days, 6:42:02.178636\n",
            "<class 'datetime.timedelta'>\n"
          ]
        }
      ]
    },
    {
      "cell_type": "code",
      "source": [
        "diff2=t2-t1\n",
        "print(diff2)\n",
        "print(type(diff2))"
      ],
      "metadata": {
        "colab": {
          "base_uri": "https://localhost:8080/"
        },
        "id": "--fB30Yooa6E",
        "outputId": "8d0a823d-4822-4c0b-94eb-538fbaf8d6d1"
      },
      "execution_count": 6,
      "outputs": [
        {
          "output_type": "stream",
          "name": "stdout",
          "text": [
            "-19276 days, 17:17:57.821364\n",
            "<class 'datetime.timedelta'>\n"
          ]
        }
      ]
    },
    {
      "cell_type": "markdown",
      "source": [
        "### 테슬라 주식 데이터로 시간 계산하기"
      ],
      "metadata": {
        "id": "jiypHE2uoou_"
      }
    },
    {
      "cell_type": "markdown",
      "source": [
        "주식 데이터 불러오기 "
      ],
      "metadata": {
        "id": "hZVFzNX5ouNl"
      }
    },
    {
      "cell_type": "code",
      "source": [
        "!pip install pandas-datareader"
      ],
      "metadata": {
        "colab": {
          "base_uri": "https://localhost:8080/"
        },
        "id": "cCjOcU3los11",
        "outputId": "fc5d9222-8164-4c49-e826-93d6cac80a00"
      },
      "execution_count": 7,
      "outputs": [
        {
          "output_type": "stream",
          "name": "stdout",
          "text": [
            "Looking in indexes: https://pypi.org/simple, https://us-python.pkg.dev/colab-wheels/public/simple/\n",
            "Requirement already satisfied: pandas-datareader in /usr/local/lib/python3.7/dist-packages (0.9.0)\n",
            "Requirement already satisfied: pandas>=0.23 in /usr/local/lib/python3.7/dist-packages (from pandas-datareader) (1.3.5)\n",
            "Requirement already satisfied: requests>=2.19.0 in /usr/local/lib/python3.7/dist-packages (from pandas-datareader) (2.23.0)\n",
            "Requirement already satisfied: lxml in /usr/local/lib/python3.7/dist-packages (from pandas-datareader) (4.9.1)\n",
            "Requirement already satisfied: python-dateutil>=2.7.3 in /usr/local/lib/python3.7/dist-packages (from pandas>=0.23->pandas-datareader) (2.8.2)\n",
            "Requirement already satisfied: numpy>=1.17.3 in /usr/local/lib/python3.7/dist-packages (from pandas>=0.23->pandas-datareader) (1.21.6)\n",
            "Requirement already satisfied: pytz>=2017.3 in /usr/local/lib/python3.7/dist-packages (from pandas>=0.23->pandas-datareader) (2022.4)\n",
            "Requirement already satisfied: six>=1.5 in /usr/local/lib/python3.7/dist-packages (from python-dateutil>=2.7.3->pandas>=0.23->pandas-datareader) (1.15.0)\n",
            "Requirement already satisfied: certifi>=2017.4.17 in /usr/local/lib/python3.7/dist-packages (from requests>=2.19.0->pandas-datareader) (2022.9.24)\n",
            "Requirement already satisfied: chardet<4,>=3.0.2 in /usr/local/lib/python3.7/dist-packages (from requests>=2.19.0->pandas-datareader) (3.0.4)\n",
            "Requirement already satisfied: idna<3,>=2.5 in /usr/local/lib/python3.7/dist-packages (from requests>=2.19.0->pandas-datareader) (2.10)\n",
            "Requirement already satisfied: urllib3!=1.25.0,!=1.25.1,<1.26,>=1.21.1 in /usr/local/lib/python3.7/dist-packages (from requests>=2.19.0->pandas-datareader) (1.24.3)\n"
          ]
        }
      ]
    },
    {
      "cell_type": "markdown",
      "source": [
        "1. get_data_quanal 메서드에 TSLA 문자열을 전달하여 테슬라의 주식 데이터를 내려받은 후, to_csv 메서드를 사용하여 data 폴더 안에 저장하기"
      ],
      "metadata": {
        "id": "Ylxfqolcoq9-"
      }
    },
    {
      "cell_type": "code",
      "source": [
        "import pandas as pd\n",
        "pd.core.common.is_list_like=pd.api.types.is_list_like\n",
        "import pandas_datareader as pdr\n",
        "\n",
        "#tesla에 데이터 프레임이 저장\n",
        "tesla = pdr.get_data_quandl('TSLA', api_key = 'tp3x47sKCu1s3NJpeJ8H')\n",
        "\n",
        "#tesla에 저장된 데이터프레임을 파일로 저장\n",
        "tesla.to_csv('/content/sample_data/tesla_stock_quandl.csv')"
      ],
      "metadata": {
        "id": "c-ylaaqyo8XY"
      },
      "execution_count": 9,
      "outputs": []
    },
    {
      "cell_type": "markdown",
      "source": [
        "2. tesla 데이터프레임의 Date 열은 문자열로 저장되어 있음. 즉, datetime 오브젝트로 자료형을 변환해야 시간 계산 가능"
      ],
      "metadata": {
        "id": "MUdVH-a0pFzl"
      }
    },
    {
      "cell_type": "code",
      "source": [
        "print(tesla.head())"
      ],
      "metadata": {
        "colab": {
          "base_uri": "https://localhost:8080/"
        },
        "id": "G63jT1ZfpNiV",
        "outputId": "b7ad48bd-26ab-4e67-8c16-c5c400809149"
      },
      "execution_count": 10,
      "outputs": [
        {
          "output_type": "stream",
          "name": "stdout",
          "text": [
            "              Open    High     Low   Close      Volume  ExDividend  \\\n",
            "Date                                                                 \n",
            "2018-03-27  304.00  304.27  277.18  279.18  13696168.0         0.0   \n",
            "2018-03-26  307.34  307.59  291.36  304.18   8324639.0         0.0   \n",
            "2018-03-23  311.25  311.61  300.45  301.54   6600538.0         0.0   \n",
            "2018-03-22  313.89  318.82  308.18  309.10   4914307.0         0.0   \n",
            "2018-03-21  310.25  322.44  310.19  316.53   5927881.0         0.0   \n",
            "\n",
            "            SplitRatio  AdjOpen  AdjHigh  AdjLow  AdjClose   AdjVolume  \n",
            "Date                                                                    \n",
            "2018-03-27         1.0   304.00   304.27  277.18    279.18  13696168.0  \n",
            "2018-03-26         1.0   307.34   307.59  291.36    304.18   8324639.0  \n",
            "2018-03-23         1.0   311.25   311.61  300.45    301.54   6600538.0  \n",
            "2018-03-22         1.0   313.89   318.82  308.18    309.10   4914307.0  \n",
            "2018-03-21         1.0   310.25   322.44  310.19    316.53   5927881.0  \n"
          ]
        }
      ]
    },
    {
      "cell_type": "markdown",
      "source": [
        "3. Date 열을 Datetime 형으로 변환하려면 read_csv 메서드로 데이터 집합을 불러올 때, parse_dates 인자에 Date 열을 전달"
      ],
      "metadata": {
        "id": "_wTPKRSXpUu1"
      }
    },
    {
      "cell_type": "code",
      "source": [
        "tesla=pd.read_csv('/content/sample_data/tesla_stock_quandl.csv',parse_dates=[0])\n",
        "print(tesla.info())"
      ],
      "metadata": {
        "colab": {
          "base_uri": "https://localhost:8080/"
        },
        "id": "TizFr2JApPnc",
        "outputId": "fc35be3d-97cd-401a-887e-d390189aa249"
      },
      "execution_count": 11,
      "outputs": [
        {
          "output_type": "stream",
          "name": "stdout",
          "text": [
            "<class 'pandas.core.frame.DataFrame'>\n",
            "RangeIndex: 114 entries, 0 to 113\n",
            "Data columns (total 13 columns):\n",
            " #   Column      Non-Null Count  Dtype         \n",
            "---  ------      --------------  -----         \n",
            " 0   Date        114 non-null    datetime64[ns]\n",
            " 1   Open        114 non-null    float64       \n",
            " 2   High        114 non-null    float64       \n",
            " 3   Low         114 non-null    float64       \n",
            " 4   Close       114 non-null    float64       \n",
            " 5   Volume      114 non-null    float64       \n",
            " 6   ExDividend  114 non-null    float64       \n",
            " 7   SplitRatio  114 non-null    float64       \n",
            " 8   AdjOpen     114 non-null    float64       \n",
            " 9   AdjHigh     114 non-null    float64       \n",
            " 10  AdjLow      114 non-null    float64       \n",
            " 11  AdjClose    114 non-null    float64       \n",
            " 12  AdjVolume   114 non-null    float64       \n",
            "dtypes: datetime64[ns](1), float64(12)\n",
            "memory usage: 11.7 KB\n",
            "None\n"
          ]
        }
      ]
    },
    {
      "cell_type": "markdown",
      "source": [
        "4. Date 열의 자료형이 datetime 오브젝트로 변환되었으므로, 이제 dt 접근자 사용 가능"
      ],
      "metadata": {
        "id": "mTILPQILphSF"
      }
    },
    {
      "cell_type": "code",
      "source": [
        "print(tesla.loc[(tesla.Date.dt.year == 2017) & (tesla.Date.dt.month == 6)])"
      ],
      "metadata": {
        "colab": {
          "base_uri": "https://localhost:8080/"
        },
        "id": "hvb7jeCVpo22",
        "outputId": "ecb01bd4-9e9d-454a-f5f2-eda7ad3aaae0"
      },
      "execution_count": 13,
      "outputs": [
        {
          "output_type": "stream",
          "name": "stdout",
          "text": [
            "Empty DataFrame\n",
            "Columns: [Date, Open, High, Low, Close, Volume, ExDividend, SplitRatio, AdjOpen, AdjHigh, AdjLow, AdjClose, AdjVolume]\n",
            "Index: []\n"
          ]
        }
      ]
    },
    {
      "cell_type": "markdown",
      "source": [
        "## datetime 오브젝트와 인덱스 - DatetimeIndex\n",
        "- datetime 오브젝트를 데이터프레임의 인덱스로 설정하면 원하는 시간의 데이터를 바로 추출 가능\n",
        "- datetime 오브젝트를 인덱스로 지정하는 방법"
      ],
      "metadata": {
        "id": "LPDjfM2Ip2lt"
      }
    },
    {
      "cell_type": "markdown",
      "source": [
        "### datetime 오브젝트를 인덱스로 설정해 데이터 추출하기"
      ],
      "metadata": {
        "id": "pTnp8ltGqLYe"
      }
    },
    {
      "cell_type": "markdown",
      "source": [
        "1. Date 열을 tesla 데이터프레임의 인덱스로 지정"
      ],
      "metadata": {
        "id": "3Eo9zMzcqSVQ"
      }
    },
    {
      "cell_type": "code",
      "source": [
        "tesla.index=tesla['Date']\n",
        "print(tesla.index)"
      ],
      "metadata": {
        "colab": {
          "base_uri": "https://localhost:8080/"
        },
        "id": "tOtXiKRHqVo2",
        "outputId": "73cca243-1d9f-44cc-c50e-583dfea6c212"
      },
      "execution_count": 14,
      "outputs": [
        {
          "output_type": "stream",
          "name": "stdout",
          "text": [
            "DatetimeIndex(['2018-03-27', '2018-03-26', '2018-03-23', '2018-03-22',\n",
            "               '2018-03-21', '2018-03-20', '2018-03-19', '2018-03-16',\n",
            "               '2018-03-15', '2018-03-14',\n",
            "               ...\n",
            "               '2017-10-24', '2017-10-23', '2017-10-20', '2017-10-19',\n",
            "               '2017-10-18', '2017-10-17', '2017-10-16', '2017-10-13',\n",
            "               '2017-10-12', '2017-10-11'],\n",
            "              dtype='datetime64[ns]', name='Date', length=114, freq=None)\n"
          ]
        }
      ]
    },
    {
      "cell_type": "markdown",
      "source": [
        "2. datetime 오브젝트를 인덱스로 지정하면 원하는 시간의 데이터를 바로 추출할 수 있음"
      ],
      "metadata": {
        "id": "YJdF3ar8qZvH"
      }
    },
    {
      "cell_type": "code",
      "source": [
        "print(tesla['2018'].iloc[:5,:5]) #2018년 데이터 추출"
      ],
      "metadata": {
        "colab": {
          "base_uri": "https://localhost:8080/"
        },
        "id": "Loms1yjOqfg-",
        "outputId": "f0b958e1-bcae-405b-f8b3-807c733cef45"
      },
      "execution_count": 16,
      "outputs": [
        {
          "output_type": "stream",
          "name": "stdout",
          "text": [
            "                 Date    Open    High     Low   Close\n",
            "Date                                                 \n",
            "2018-03-27 2018-03-27  304.00  304.27  277.18  279.18\n",
            "2018-03-26 2018-03-26  307.34  307.59  291.36  304.18\n",
            "2018-03-23 2018-03-23  311.25  311.61  300.45  301.54\n",
            "2018-03-22 2018-03-22  313.89  318.82  308.18  309.10\n",
            "2018-03-21 2018-03-21  310.25  322.44  310.19  316.53\n"
          ]
        },
        {
          "output_type": "stream",
          "name": "stderr",
          "text": [
            "/usr/local/lib/python3.7/dist-packages/ipykernel_launcher.py:1: FutureWarning: Indexing a DataFrame with a datetimelike index using a single string to slice the rows, like `frame[string]`, is deprecated and will be removed in a future version. Use `frame.loc[string]` instead.\n",
            "  \"\"\"Entry point for launching an IPython kernel.\n"
          ]
        }
      ]
    },
    {
      "cell_type": "code",
      "source": [
        "#2018년 3월 추출\n",
        "print(tesla['2018-03'].iloc[:,:5])"
      ],
      "metadata": {
        "colab": {
          "base_uri": "https://localhost:8080/"
        },
        "id": "1c94OJteqldH",
        "outputId": "c5f4ffd4-3d90-4457-ef12-cbc8a6834206"
      },
      "execution_count": 20,
      "outputs": [
        {
          "output_type": "stream",
          "name": "stdout",
          "text": [
            "                 Date    Open    High       Low   Close\n",
            "Date                                                   \n",
            "2018-03-27 2018-03-27  304.00  304.27  277.1800  279.18\n",
            "2018-03-26 2018-03-26  307.34  307.59  291.3600  304.18\n",
            "2018-03-23 2018-03-23  311.25  311.61  300.4500  301.54\n",
            "2018-03-22 2018-03-22  313.89  318.82  308.1800  309.10\n",
            "2018-03-21 2018-03-21  310.25  322.44  310.1900  316.53\n",
            "2018-03-20 2018-03-20  314.87  316.25  308.7600  310.55\n",
            "2018-03-19 2018-03-19  316.50  320.75  309.6700  313.56\n",
            "2018-03-16 2018-03-16  325.96  327.40  319.0700  321.35\n",
            "2018-03-15 2018-03-15  329.38  332.85  321.1000  325.60\n",
            "2018-03-14 2018-03-14  336.76  339.81  323.9300  326.63\n",
            "2018-03-13 2018-03-13  344.92  345.12  336.2635  341.84\n",
            "2018-03-12 2018-03-12  328.61  347.21  326.5000  345.51\n",
            "2018-03-09 2018-03-09  324.10  328.49  322.3700  327.17\n",
            "2018-03-08 2018-03-08  332.86  333.30  326.2740  329.10\n",
            "2018-03-07 2018-03-07  325.44  332.50  321.7400  332.30\n",
            "2018-03-06 2018-03-06  333.75  336.37  327.0300  328.20\n",
            "2018-03-05 2018-03-05  332.39  337.75  329.2929  333.35\n",
            "2018-03-02 2018-03-02  326.98  335.22  322.9700  335.12\n",
            "2018-03-01 2018-03-01  345.01  348.67  330.0700  330.93\n"
          ]
        },
        {
          "output_type": "stream",
          "name": "stderr",
          "text": [
            "/usr/local/lib/python3.7/dist-packages/ipykernel_launcher.py:2: FutureWarning: Indexing a DataFrame with a datetimelike index using a single string to slice the rows, like `frame[string]`, is deprecated and will be removed in a future version. Use `frame.loc[string]` instead.\n",
            "  \n"
          ]
        }
      ]
    },
    {
      "cell_type": "markdown",
      "source": [
        "## 시간 간격과 인덱스 - TimedeltanIndex\n",
        "* 최초 5일간 수집된 데이터만 살펴보고 싶은 경우\n",
        "* 시간 간격을 인덱스로 지정하여 데이터를 추출"
      ],
      "metadata": {
        "id": "52-3rov6q18u"
      }
    },
    {
      "cell_type": "markdown",
      "source": [
        "### 시간 간격을 인덱스로 지정해 데이터 추출하기"
      ],
      "metadata": {
        "id": "Kf2hS2R1q7L1"
      }
    },
    {
      "cell_type": "markdown",
      "source": [
        "1. Date 열에서 Date 열의 최솟값을 빼면 데이터를 수집한 이후에 시간이 얼마나 흘렀는 지를 알 수 있음 "
      ],
      "metadata": {
        "id": "KSxIIoi3q-eU"
      }
    },
    {
      "cell_type": "code",
      "source": [
        "tesla['ref_date']=tesla['Date']-tesla['Date'].min()\n",
        "print(tesla.head())"
      ],
      "metadata": {
        "colab": {
          "base_uri": "https://localhost:8080/"
        },
        "id": "0u8Qk0HWrNrA",
        "outputId": "a7d12275-4deb-4b6e-fbc4-02909fb32526"
      },
      "execution_count": 21,
      "outputs": [
        {
          "output_type": "stream",
          "name": "stdout",
          "text": [
            "                 Date    Open    High     Low   Close      Volume  ExDividend  \\\n",
            "Date                                                                            \n",
            "2018-03-27 2018-03-27  304.00  304.27  277.18  279.18  13696168.0         0.0   \n",
            "2018-03-26 2018-03-26  307.34  307.59  291.36  304.18   8324639.0         0.0   \n",
            "2018-03-23 2018-03-23  311.25  311.61  300.45  301.54   6600538.0         0.0   \n",
            "2018-03-22 2018-03-22  313.89  318.82  308.18  309.10   4914307.0         0.0   \n",
            "2018-03-21 2018-03-21  310.25  322.44  310.19  316.53   5927881.0         0.0   \n",
            "\n",
            "            SplitRatio  AdjOpen  AdjHigh  AdjLow  AdjClose   AdjVolume  \\\n",
            "Date                                                                     \n",
            "2018-03-27         1.0   304.00   304.27  277.18    279.18  13696168.0   \n",
            "2018-03-26         1.0   307.34   307.59  291.36    304.18   8324639.0   \n",
            "2018-03-23         1.0   311.25   311.61  300.45    301.54   6600538.0   \n",
            "2018-03-22         1.0   313.89   318.82  308.18    309.10   4914307.0   \n",
            "2018-03-21         1.0   310.25   322.44  310.19    316.53   5927881.0   \n",
            "\n",
            "           ref_date  \n",
            "Date                 \n",
            "2018-03-27 167 days  \n",
            "2018-03-26 166 days  \n",
            "2018-03-23 163 days  \n",
            "2018-03-22 162 days  \n",
            "2018-03-21 161 days  \n"
          ]
        }
      ]
    },
    {
      "cell_type": "markdown",
      "source": [
        "2. ref_date 열을 인덱스로 지정함. 시간간격을 이용하여 데이터를 추출"
      ],
      "metadata": {
        "id": "cJ020u-GrSRc"
      }
    },
    {
      "cell_type": "code",
      "source": [
        "tesla.index=tesla['ref_date']\n",
        "print(tesla.iloc[:5,:5])"
      ],
      "metadata": {
        "colab": {
          "base_uri": "https://localhost:8080/"
        },
        "id": "zZ9bDxTyrXfN",
        "outputId": "4ad7ded8-c3ed-477c-8c6a-79fa389cb0f8"
      },
      "execution_count": 22,
      "outputs": [
        {
          "output_type": "stream",
          "name": "stdout",
          "text": [
            "               Date    Open    High     Low   Close\n",
            "ref_date                                           \n",
            "167 days 2018-03-27  304.00  304.27  277.18  279.18\n",
            "166 days 2018-03-26  307.34  307.59  291.36  304.18\n",
            "163 days 2018-03-23  311.25  311.61  300.45  301.54\n",
            "162 days 2018-03-22  313.89  318.82  308.18  309.10\n",
            "161 days 2018-03-21  310.25  322.44  310.19  316.53\n"
          ]
        }
      ]
    },
    {
      "cell_type": "markdown",
      "source": [
        "3. 데이터를 수집한 이후 최최 5일의 데이터를 추출"
      ],
      "metadata": {
        "id": "dNHgqPMrraIu"
      }
    },
    {
      "cell_type": "code",
      "source": [
        "print(tesla['5 days':].iloc[:5,:5])"
      ],
      "metadata": {
        "colab": {
          "base_uri": "https://localhost:8080/"
        },
        "id": "QIWIoBPWrcs5",
        "outputId": "4d9ec2ad-27fe-4b8a-fa34-ecb54f0eb9f3"
      },
      "execution_count": 23,
      "outputs": [
        {
          "output_type": "stream",
          "name": "stdout",
          "text": [
            "               Date    Open    High     Low   Close\n",
            "ref_date                                           \n",
            "5 days   2017-10-16  353.76  354.48  347.16  350.60\n",
            "2 days   2017-10-13  356.98  358.49  353.68  355.57\n",
            "1 days   2017-10-12  352.95  359.78  352.64  355.68\n",
            "0 days   2017-10-11  353.89  357.60  351.15  354.60\n"
          ]
        }
      ]
    },
    {
      "cell_type": "markdown",
      "source": [
        "## 시간 범위와 인덱스\n",
        "* 특정 일에 누락된 데이터도 포함시켜 데이터를 살펴보려면"
      ],
      "metadata": {
        "id": "r4ZMAg2yre61"
      }
    },
    {
      "cell_type": "markdown",
      "source": [
        "### 시간 범위 생성해 인덱스로 지정하기"
      ],
      "metadata": {
        "id": "9r0CwEAHrhmn"
      }
    },
    {
      "cell_type": "markdown",
      "source": [
        "1. 에볼라 데이터 집합 - 2015년 01월 01일의 데이터 누락 / 2014년 03월 23일 데이터 누락"
      ],
      "metadata": {
        "id": "dTBZzY_Brop-"
      }
    },
    {
      "cell_type": "code",
      "source": [
        "from google.colab import files\n",
        "ebola = files.upload()\n"
      ],
      "metadata": {
        "colab": {
          "base_uri": "https://localhost:8080/",
          "height": 77
        },
        "id": "qCI0bBzqrvO0",
        "outputId": "63b12765-bc65-4430-8203-68f09f5fe92e"
      },
      "execution_count": 27,
      "outputs": [
        {
          "output_type": "display_data",
          "data": {
            "text/plain": [
              "<IPython.core.display.HTML object>"
            ],
            "text/html": [
              "\n",
              "     <input type=\"file\" id=\"files-1977da23-0177-40ca-91bc-e1c0a4bb316e\" name=\"files[]\" multiple disabled\n",
              "        style=\"border:none\" />\n",
              "     <output id=\"result-1977da23-0177-40ca-91bc-e1c0a4bb316e\">\n",
              "      Upload widget is only available when the cell has been executed in the\n",
              "      current browser session. Please rerun this cell to enable.\n",
              "      </output>\n",
              "      <script>// Copyright 2017 Google LLC\n",
              "//\n",
              "// Licensed under the Apache License, Version 2.0 (the \"License\");\n",
              "// you may not use this file except in compliance with the License.\n",
              "// You may obtain a copy of the License at\n",
              "//\n",
              "//      http://www.apache.org/licenses/LICENSE-2.0\n",
              "//\n",
              "// Unless required by applicable law or agreed to in writing, software\n",
              "// distributed under the License is distributed on an \"AS IS\" BASIS,\n",
              "// WITHOUT WARRANTIES OR CONDITIONS OF ANY KIND, either express or implied.\n",
              "// See the License for the specific language governing permissions and\n",
              "// limitations under the License.\n",
              "\n",
              "/**\n",
              " * @fileoverview Helpers for google.colab Python module.\n",
              " */\n",
              "(function(scope) {\n",
              "function span(text, styleAttributes = {}) {\n",
              "  const element = document.createElement('span');\n",
              "  element.textContent = text;\n",
              "  for (const key of Object.keys(styleAttributes)) {\n",
              "    element.style[key] = styleAttributes[key];\n",
              "  }\n",
              "  return element;\n",
              "}\n",
              "\n",
              "// Max number of bytes which will be uploaded at a time.\n",
              "const MAX_PAYLOAD_SIZE = 100 * 1024;\n",
              "\n",
              "function _uploadFiles(inputId, outputId) {\n",
              "  const steps = uploadFilesStep(inputId, outputId);\n",
              "  const outputElement = document.getElementById(outputId);\n",
              "  // Cache steps on the outputElement to make it available for the next call\n",
              "  // to uploadFilesContinue from Python.\n",
              "  outputElement.steps = steps;\n",
              "\n",
              "  return _uploadFilesContinue(outputId);\n",
              "}\n",
              "\n",
              "// This is roughly an async generator (not supported in the browser yet),\n",
              "// where there are multiple asynchronous steps and the Python side is going\n",
              "// to poll for completion of each step.\n",
              "// This uses a Promise to block the python side on completion of each step,\n",
              "// then passes the result of the previous step as the input to the next step.\n",
              "function _uploadFilesContinue(outputId) {\n",
              "  const outputElement = document.getElementById(outputId);\n",
              "  const steps = outputElement.steps;\n",
              "\n",
              "  const next = steps.next(outputElement.lastPromiseValue);\n",
              "  return Promise.resolve(next.value.promise).then((value) => {\n",
              "    // Cache the last promise value to make it available to the next\n",
              "    // step of the generator.\n",
              "    outputElement.lastPromiseValue = value;\n",
              "    return next.value.response;\n",
              "  });\n",
              "}\n",
              "\n",
              "/**\n",
              " * Generator function which is called between each async step of the upload\n",
              " * process.\n",
              " * @param {string} inputId Element ID of the input file picker element.\n",
              " * @param {string} outputId Element ID of the output display.\n",
              " * @return {!Iterable<!Object>} Iterable of next steps.\n",
              " */\n",
              "function* uploadFilesStep(inputId, outputId) {\n",
              "  const inputElement = document.getElementById(inputId);\n",
              "  inputElement.disabled = false;\n",
              "\n",
              "  const outputElement = document.getElementById(outputId);\n",
              "  outputElement.innerHTML = '';\n",
              "\n",
              "  const pickedPromise = new Promise((resolve) => {\n",
              "    inputElement.addEventListener('change', (e) => {\n",
              "      resolve(e.target.files);\n",
              "    });\n",
              "  });\n",
              "\n",
              "  const cancel = document.createElement('button');\n",
              "  inputElement.parentElement.appendChild(cancel);\n",
              "  cancel.textContent = 'Cancel upload';\n",
              "  const cancelPromise = new Promise((resolve) => {\n",
              "    cancel.onclick = () => {\n",
              "      resolve(null);\n",
              "    };\n",
              "  });\n",
              "\n",
              "  // Wait for the user to pick the files.\n",
              "  const files = yield {\n",
              "    promise: Promise.race([pickedPromise, cancelPromise]),\n",
              "    response: {\n",
              "      action: 'starting',\n",
              "    }\n",
              "  };\n",
              "\n",
              "  cancel.remove();\n",
              "\n",
              "  // Disable the input element since further picks are not allowed.\n",
              "  inputElement.disabled = true;\n",
              "\n",
              "  if (!files) {\n",
              "    return {\n",
              "      response: {\n",
              "        action: 'complete',\n",
              "      }\n",
              "    };\n",
              "  }\n",
              "\n",
              "  for (const file of files) {\n",
              "    const li = document.createElement('li');\n",
              "    li.append(span(file.name, {fontWeight: 'bold'}));\n",
              "    li.append(span(\n",
              "        `(${file.type || 'n/a'}) - ${file.size} bytes, ` +\n",
              "        `last modified: ${\n",
              "            file.lastModifiedDate ? file.lastModifiedDate.toLocaleDateString() :\n",
              "                                    'n/a'} - `));\n",
              "    const percent = span('0% done');\n",
              "    li.appendChild(percent);\n",
              "\n",
              "    outputElement.appendChild(li);\n",
              "\n",
              "    const fileDataPromise = new Promise((resolve) => {\n",
              "      const reader = new FileReader();\n",
              "      reader.onload = (e) => {\n",
              "        resolve(e.target.result);\n",
              "      };\n",
              "      reader.readAsArrayBuffer(file);\n",
              "    });\n",
              "    // Wait for the data to be ready.\n",
              "    let fileData = yield {\n",
              "      promise: fileDataPromise,\n",
              "      response: {\n",
              "        action: 'continue',\n",
              "      }\n",
              "    };\n",
              "\n",
              "    // Use a chunked sending to avoid message size limits. See b/62115660.\n",
              "    let position = 0;\n",
              "    do {\n",
              "      const length = Math.min(fileData.byteLength - position, MAX_PAYLOAD_SIZE);\n",
              "      const chunk = new Uint8Array(fileData, position, length);\n",
              "      position += length;\n",
              "\n",
              "      const base64 = btoa(String.fromCharCode.apply(null, chunk));\n",
              "      yield {\n",
              "        response: {\n",
              "          action: 'append',\n",
              "          file: file.name,\n",
              "          data: base64,\n",
              "        },\n",
              "      };\n",
              "\n",
              "      let percentDone = fileData.byteLength === 0 ?\n",
              "          100 :\n",
              "          Math.round((position / fileData.byteLength) * 100);\n",
              "      percent.textContent = `${percentDone}% done`;\n",
              "\n",
              "    } while (position < fileData.byteLength);\n",
              "  }\n",
              "\n",
              "  // All done.\n",
              "  yield {\n",
              "    response: {\n",
              "      action: 'complete',\n",
              "    }\n",
              "  };\n",
              "}\n",
              "\n",
              "scope.google = scope.google || {};\n",
              "scope.google.colab = scope.google.colab || {};\n",
              "scope.google.colab._files = {\n",
              "  _uploadFiles,\n",
              "  _uploadFilesContinue,\n",
              "};\n",
              "})(self);\n",
              "</script> "
            ]
          },
          "metadata": {}
        },
        {
          "output_type": "stream",
          "name": "stdout",
          "text": [
            "Saving country_timeseries.csv to country_timeseries (1).csv\n"
          ]
        }
      ]
    },
    {
      "cell_type": "code",
      "source": [
        "ebola = pd.read_csv('country_timeseries.csv', parse_dates=[0])\n",
        "print(ebola.iloc[:5,:5])"
      ],
      "metadata": {
        "colab": {
          "base_uri": "https://localhost:8080/"
        },
        "id": "1FUu0OymwOYr",
        "outputId": "2ef08e0c-15ef-4a91-9550-aaa82132bf0b"
      },
      "execution_count": 28,
      "outputs": [
        {
          "output_type": "stream",
          "name": "stdout",
          "text": [
            "        Date  Day  Cases_Guinea  Cases_Liberia  Cases_SierraLeone\n",
            "0 2015-01-05  289        2776.0            NaN            10030.0\n",
            "1 2015-01-04  288        2775.0            NaN             9780.0\n",
            "2 2015-01-03  287        2769.0         8166.0             9722.0\n",
            "3 2015-01-02  286           NaN         8157.0                NaN\n",
            "4 2014-12-31  284        2730.0         8115.0             9633.0\n"
          ]
        }
      ]
    },
    {
      "cell_type": "code",
      "source": [
        "print(ebola.iloc[-5:,:5])"
      ],
      "metadata": {
        "colab": {
          "base_uri": "https://localhost:8080/"
        },
        "id": "Q-i2R4Luwar9",
        "outputId": "54f68a0a-be94-4e8f-c3f5-2ce981d21393"
      },
      "execution_count": 29,
      "outputs": [
        {
          "output_type": "stream",
          "name": "stdout",
          "text": [
            "          Date  Day  Cases_Guinea  Cases_Liberia  Cases_SierraLeone\n",
            "117 2014-03-27    5         103.0            8.0                6.0\n",
            "118 2014-03-26    4          86.0            NaN                NaN\n",
            "119 2014-03-25    3          86.0            NaN                NaN\n",
            "120 2014-03-24    2          86.0            NaN                NaN\n",
            "121 2014-03-22    0          49.0            NaN                NaN\n"
          ]
        }
      ]
    },
    {
      "cell_type": "markdown",
      "source": [
        "3. date_range 메서드로 인덱스 생성"
      ],
      "metadata": {
        "id": "lkDLXUbZwXKE"
      }
    },
    {
      "cell_type": "code",
      "source": [
        "head_range=pd.date_range(start='2014-12-31',end='2015-01-05')\n",
        "print(head_range)"
      ],
      "metadata": {
        "colab": {
          "base_uri": "https://localhost:8080/"
        },
        "id": "y1ppK7wbwrJL",
        "outputId": "e4f2069e-b92e-407f-d812-e4ee04e1f629"
      },
      "execution_count": 30,
      "outputs": [
        {
          "output_type": "stream",
          "name": "stdout",
          "text": [
            "DatetimeIndex(['2014-12-31', '2015-01-01', '2015-01-02', '2015-01-03',\n",
            "               '2015-01-04', '2015-01-05'],\n",
            "              dtype='datetime64[ns]', freq='D')\n"
          ]
        }
      ]
    },
    {
      "cell_type": "markdown",
      "source": [
        "4. 원본데이터 유지, 새로운 데이터 생성"
      ],
      "metadata": {
        "id": "_nie06uZwtgD"
      }
    },
    {
      "cell_type": "code",
      "source": [
        "ebola_5=ebola.head()\n",
        "ebola_5.index=ebola_5['Date']\n",
        "ebola_5.reindex(head_range)\n",
        "print(ebola_5.iloc[:5,:5])"
      ],
      "metadata": {
        "colab": {
          "base_uri": "https://localhost:8080/"
        },
        "id": "g8mLd0NnwvZi",
        "outputId": "b71e2d52-cd27-4233-914c-56c49f44c4eb"
      },
      "execution_count": 31,
      "outputs": [
        {
          "output_type": "stream",
          "name": "stdout",
          "text": [
            "                 Date  Day  Cases_Guinea  Cases_Liberia  Cases_SierraLeone\n",
            "Date                                                                      \n",
            "2015-01-05 2015-01-05  289        2776.0            NaN            10030.0\n",
            "2015-01-04 2015-01-04  288        2775.0            NaN             9780.0\n",
            "2015-01-03 2015-01-03  287        2769.0         8166.0             9722.0\n",
            "2015-01-02 2015-01-02  286           NaN         8157.0                NaN\n",
            "2014-12-31 2014-12-31  284        2730.0         8115.0             9633.0\n"
          ]
        }
      ]
    },
    {
      "cell_type": "markdown",
      "source": [
        "시간 범위의 주기 설정하기\n",
        "- freq 속성값을 지정하면 시간 간격을 조절하여 인덱스 생성 가능\n",
        "  - B :평일만 포함\n",
        "  - C :사용자가 정의한 평일만 포함\n",
        "  - D : 달력 일자 단위\n",
        "  - W :주간 단위\n",
        "  - M :월 마지막 날만 포함\n",
        "  - SM :15일과 월 마지막 날만 포함\n",
        "  - BM : M 주기의 값이 휴일이면 제외하고 평일만 포함\n",
        "  - CBM : BM에 사용자 정의 평일을 적용\n",
        "  - MS : 월 시작일만 포함\n",
        "  - SMS : 월 시작일과 15일만 포함\n",
        "  - BMS : MS 주기의 값이 휴일이면 제외하고 평일만 포함\n",
        "  - CBMS : BMS에 사용자 정의 평일을 적용\n",
        "  - Q : 3,6,9,12월 분기 마지막 날만 포함\n",
        "  - BQ : 3,6,9,12월 분기 마지막 날이 휴일이면 제외하고 평일만 포함\n",
        "  - QS : 3,6,9,12월 분기 시작일만 포함\n",
        "  - BQS : 3,6,9,12월 분기 시작일이 휴일이면 제외하고 평일만 포함\n",
        "  - A : 년의 마지막 날만 포함\n",
        "  - BA : 년의 마지막 날이 휴일이면 제외하고 평일만 포함\n",
        "  - AS : 년의 시작일만 포함\n",
        "  - BAS : 년의 시작일이 휴일이면 제외하고 평일만 포함\n",
        "  - BH : 평일을 시간 단위로 포함(09:00~16:00)\n",
        "  - H : 시간 단위로 포함(00:00~00:00)\n",
        "  - T :분 단위 포함\n",
        "  - S : 초 단위 포함\n",
        "  - L : 밀리초 단위 포함\n",
        "  - U : 마이크로초 단위포함\n",
        "  - N : 나노초 단위 포함"
      ],
      "metadata": {
        "id": "PdTza80uw1Sc"
      }
    }
  ]
}