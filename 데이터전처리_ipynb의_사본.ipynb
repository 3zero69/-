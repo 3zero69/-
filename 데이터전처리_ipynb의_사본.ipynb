{
  "nbformat": 4,
  "nbformat_minor": 0,
  "metadata": {
    "colab": {
      "provenance": [],
      "authorship_tag": "ABX9TyN2z2thEaKueg3blDWvERRd",
      "include_colab_link": true
    },
    "kernelspec": {
      "name": "python3",
      "display_name": "Python 3"
    },
    "language_info": {
      "name": "python"
    }
  },
  "cells": [
    {
      "cell_type": "markdown",
      "metadata": {
        "id": "view-in-github",
        "colab_type": "text"
      },
      "source": [
        "<a href=\"https://colab.research.google.com/github/3zero69/-/blob/main/%EB%8D%B0%EC%9D%B4%ED%84%B0%EC%A0%84%EC%B2%98%EB%A6%AC_ipynb%EC%9D%98_%EC%82%AC%EB%B3%B8.ipynb\" target=\"_parent\"><img src=\"https://colab.research.google.com/assets/colab-badge.svg\" alt=\"Open In Colab\"/></a>"
      ]
    },
    {
      "cell_type": "markdown",
      "source": [
        "# 물류 유통량 예측 경진대회\n",
        "\n",
        "https://dacon.io/competitions/official/235867/overview/description\n",
        "\n",
        "* 목적\n",
        ": 제주시 내 택배 운송 데이터를 이용하여 운송량 예측 AI 개발\n",
        "\n",
        "* 데이터 정보\n",
        "  - train_df.csv\n",
        "\n",
        "    - index : 인덱스\n",
        "    - 송하인_격자공간고유번호\n",
        "    - 수하인 격자공간고유번호\n",
        "    - 물품_카테고리\n",
        "    - 운송장_건수\n",
        "  - test_df.csv\n",
        "    - index : 인덱스\n",
        "    - 송하인_격자공간고유번호\n",
        "    - 수하인 격자공간고유번호\n",
        "    - 물품_카테고리\n",
        "  - sample_submission.csv\n",
        "    - index : 인덱스\n",
        "    - 운송장_건수\n",
        "\n",
        "\n"
      ],
      "metadata": {
        "id": "Bfv6zaPJS2ty"
      }
    },
    {
      "cell_type": "markdown",
      "source": [
        "## 데이터 불러오기  및 기본 info()"
      ],
      "metadata": {
        "id": "70EfgDIwUr_V"
      }
    },
    {
      "cell_type": "code",
      "execution_count": null,
      "metadata": {
        "id": "DmnG1iWbfjNy"
      },
      "outputs": [],
      "source": [
        "#import pandas as pd\n",
        "import numpy as np\n",
        "import pandas as pd\n",
        "\n",
        "import warnings\n",
        "warnings.filterwarnings('ignore')"
      ]
    },
    {
      "cell_type": "code",
      "execution_count": null,
      "metadata": {
        "id": "vN5BtswCMHaN",
        "colab": {
          "base_uri": "https://localhost:8080/"
        },
        "outputId": "09401bdb-a473-452c-e3d8-983072548f12"
      },
      "outputs": [
        {
          "output_type": "stream",
          "name": "stdout",
          "text": [
            "Mounted at /content/gdrive/\n"
          ]
        }
      ],
      "source": [
        "from google.colab import drive \n",
        "drive.mount('/content/gdrive/')\n",
        "\n",
        "file_path = '/content/gdrive/My Drive/Colab Notebooks/ESAA_OB/project1/'\n"
      ]
    },
    {
      "cell_type": "code",
      "execution_count": null,
      "metadata": {
        "id": "j53mRIVYNM7a"
      },
      "outputs": [],
      "source": [
        "# 파일 불러오기 \n",
        "\n",
        "train = pd.read_csv(file_path + 'train.csv')\n",
        "test = pd.read_csv(file_path + 'test.csv')\n",
        "\n",
        "submission = pd.read_csv(file_path + 'sample_submission.csv')\n"
      ]
    },
    {
      "cell_type": "markdown",
      "source": [
        "#### 데이터 기본정보"
      ],
      "metadata": {
        "id": "cOfGGpYTMZZL"
      }
    },
    {
      "cell_type": "code",
      "source": [
        "train.head()"
      ],
      "metadata": {
        "colab": {
          "base_uri": "https://localhost:8080/",
          "height": 267
        },
        "id": "63A1ssnJUb3g",
        "outputId": "ad57a0fc-3d74-4273-d0e5-728350705e79"
      },
      "execution_count": null,
      "outputs": [
        {
          "output_type": "execute_result",
          "data": {
            "text/plain": [
              "   index      송하인_격자공간고유번호      수하인_격자공간고유번호 물품_카테고리  운송장_건수\n",
              "0      0  5011000595017300  2871000192069300      음반       3\n",
              "1      1  4148000690043300  5011000264024400   문화컨텐츠       3\n",
              "2      2  5011000078068400  1120000007005400     농산물       3\n",
              "3      3  4127100048006400  5011000587019400    기타식품       7\n",
              "4      4  5011000078068400  2823700010076300     농산물       3"
            ],
            "text/html": [
              "\n",
              "  <div id=\"df-d070da33-9719-4b91-9910-5be15246d761\">\n",
              "    <div class=\"colab-df-container\">\n",
              "      <div>\n",
              "<style scoped>\n",
              "    .dataframe tbody tr th:only-of-type {\n",
              "        vertical-align: middle;\n",
              "    }\n",
              "\n",
              "    .dataframe tbody tr th {\n",
              "        vertical-align: top;\n",
              "    }\n",
              "\n",
              "    .dataframe thead th {\n",
              "        text-align: right;\n",
              "    }\n",
              "</style>\n",
              "<table border=\"1\" class=\"dataframe\">\n",
              "  <thead>\n",
              "    <tr style=\"text-align: right;\">\n",
              "      <th></th>\n",
              "      <th>index</th>\n",
              "      <th>송하인_격자공간고유번호</th>\n",
              "      <th>수하인_격자공간고유번호</th>\n",
              "      <th>물품_카테고리</th>\n",
              "      <th>운송장_건수</th>\n",
              "    </tr>\n",
              "  </thead>\n",
              "  <tbody>\n",
              "    <tr>\n",
              "      <th>0</th>\n",
              "      <td>0</td>\n",
              "      <td>5011000595017300</td>\n",
              "      <td>2871000192069300</td>\n",
              "      <td>음반</td>\n",
              "      <td>3</td>\n",
              "    </tr>\n",
              "    <tr>\n",
              "      <th>1</th>\n",
              "      <td>1</td>\n",
              "      <td>4148000690043300</td>\n",
              "      <td>5011000264024400</td>\n",
              "      <td>문화컨텐츠</td>\n",
              "      <td>3</td>\n",
              "    </tr>\n",
              "    <tr>\n",
              "      <th>2</th>\n",
              "      <td>2</td>\n",
              "      <td>5011000078068400</td>\n",
              "      <td>1120000007005400</td>\n",
              "      <td>농산물</td>\n",
              "      <td>3</td>\n",
              "    </tr>\n",
              "    <tr>\n",
              "      <th>3</th>\n",
              "      <td>3</td>\n",
              "      <td>4127100048006400</td>\n",
              "      <td>5011000587019400</td>\n",
              "      <td>기타식품</td>\n",
              "      <td>7</td>\n",
              "    </tr>\n",
              "    <tr>\n",
              "      <th>4</th>\n",
              "      <td>4</td>\n",
              "      <td>5011000078068400</td>\n",
              "      <td>2823700010076300</td>\n",
              "      <td>농산물</td>\n",
              "      <td>3</td>\n",
              "    </tr>\n",
              "  </tbody>\n",
              "</table>\n",
              "</div>\n",
              "      <button class=\"colab-df-convert\" onclick=\"convertToInteractive('df-d070da33-9719-4b91-9910-5be15246d761')\"\n",
              "              title=\"Convert this dataframe to an interactive table.\"\n",
              "              style=\"display:none;\">\n",
              "        \n",
              "  <svg xmlns=\"http://www.w3.org/2000/svg\" height=\"24px\"viewBox=\"0 0 24 24\"\n",
              "       width=\"24px\">\n",
              "    <path d=\"M0 0h24v24H0V0z\" fill=\"none\"/>\n",
              "    <path d=\"M18.56 5.44l.94 2.06.94-2.06 2.06-.94-2.06-.94-.94-2.06-.94 2.06-2.06.94zm-11 1L8.5 8.5l.94-2.06 2.06-.94-2.06-.94L8.5 2.5l-.94 2.06-2.06.94zm10 10l.94 2.06.94-2.06 2.06-.94-2.06-.94-.94-2.06-.94 2.06-2.06.94z\"/><path d=\"M17.41 7.96l-1.37-1.37c-.4-.4-.92-.59-1.43-.59-.52 0-1.04.2-1.43.59L10.3 9.45l-7.72 7.72c-.78.78-.78 2.05 0 2.83L4 21.41c.39.39.9.59 1.41.59.51 0 1.02-.2 1.41-.59l7.78-7.78 2.81-2.81c.8-.78.8-2.07 0-2.86zM5.41 20L4 18.59l7.72-7.72 1.47 1.35L5.41 20z\"/>\n",
              "  </svg>\n",
              "      </button>\n",
              "      \n",
              "  <style>\n",
              "    .colab-df-container {\n",
              "      display:flex;\n",
              "      flex-wrap:wrap;\n",
              "      gap: 12px;\n",
              "    }\n",
              "\n",
              "    .colab-df-convert {\n",
              "      background-color: #E8F0FE;\n",
              "      border: none;\n",
              "      border-radius: 50%;\n",
              "      cursor: pointer;\n",
              "      display: none;\n",
              "      fill: #1967D2;\n",
              "      height: 32px;\n",
              "      padding: 0 0 0 0;\n",
              "      width: 32px;\n",
              "    }\n",
              "\n",
              "    .colab-df-convert:hover {\n",
              "      background-color: #E2EBFA;\n",
              "      box-shadow: 0px 1px 2px rgba(60, 64, 67, 0.3), 0px 1px 3px 1px rgba(60, 64, 67, 0.15);\n",
              "      fill: #174EA6;\n",
              "    }\n",
              "\n",
              "    [theme=dark] .colab-df-convert {\n",
              "      background-color: #3B4455;\n",
              "      fill: #D2E3FC;\n",
              "    }\n",
              "\n",
              "    [theme=dark] .colab-df-convert:hover {\n",
              "      background-color: #434B5C;\n",
              "      box-shadow: 0px 1px 3px 1px rgba(0, 0, 0, 0.15);\n",
              "      filter: drop-shadow(0px 1px 2px rgba(0, 0, 0, 0.3));\n",
              "      fill: #FFFFFF;\n",
              "    }\n",
              "  </style>\n",
              "\n",
              "      <script>\n",
              "        const buttonEl =\n",
              "          document.querySelector('#df-d070da33-9719-4b91-9910-5be15246d761 button.colab-df-convert');\n",
              "        buttonEl.style.display =\n",
              "          google.colab.kernel.accessAllowed ? 'block' : 'none';\n",
              "\n",
              "        async function convertToInteractive(key) {\n",
              "          const element = document.querySelector('#df-d070da33-9719-4b91-9910-5be15246d761');\n",
              "          const dataTable =\n",
              "            await google.colab.kernel.invokeFunction('convertToInteractive',\n",
              "                                                     [key], {});\n",
              "          if (!dataTable) return;\n",
              "\n",
              "          const docLinkHtml = 'Like what you see? Visit the ' +\n",
              "            '<a target=\"_blank\" href=https://colab.research.google.com/notebooks/data_table.ipynb>data table notebook</a>'\n",
              "            + ' to learn more about interactive tables.';\n",
              "          element.innerHTML = '';\n",
              "          dataTable['output_type'] = 'display_data';\n",
              "          await google.colab.output.renderOutput(dataTable, element);\n",
              "          const docLink = document.createElement('div');\n",
              "          docLink.innerHTML = docLinkHtml;\n",
              "          element.appendChild(docLink);\n",
              "        }\n",
              "      </script>\n",
              "    </div>\n",
              "  </div>\n",
              "  "
            ]
          },
          "metadata": {},
          "execution_count": 4
        }
      ]
    },
    {
      "cell_type": "code",
      "source": [
        "test.head()"
      ],
      "metadata": {
        "colab": {
          "base_uri": "https://localhost:8080/",
          "height": 250
        },
        "id": "Q8amrplhUd8l",
        "outputId": "a7a622be-112f-45f3-e2fb-d3a29237239e"
      },
      "execution_count": null,
      "outputs": [
        {
          "output_type": "execute_result",
          "data": {
            "text/plain": [
              "   index      송하인_격자공간고유번호      수하인_격자공간고유번호      물품_카테고리\n",
              "0      0  4167000577042200  5011000435014100          선케어\n",
              "1      1  1156000009012200  5011000172034400       구강위생용품\n",
              "2      2  4122000363057300  5011000361097300           캠핑\n",
              "3      3  5011000436041400  2826000084036400       아웃도어가구\n",
              "4      4  4150000241065200  5011000169044300  분유/이유식/아기간식"
            ],
            "text/html": [
              "\n",
              "  <div id=\"df-8f4997bb-d78a-4e45-90e3-73b9999a82ff\">\n",
              "    <div class=\"colab-df-container\">\n",
              "      <div>\n",
              "<style scoped>\n",
              "    .dataframe tbody tr th:only-of-type {\n",
              "        vertical-align: middle;\n",
              "    }\n",
              "\n",
              "    .dataframe tbody tr th {\n",
              "        vertical-align: top;\n",
              "    }\n",
              "\n",
              "    .dataframe thead th {\n",
              "        text-align: right;\n",
              "    }\n",
              "</style>\n",
              "<table border=\"1\" class=\"dataframe\">\n",
              "  <thead>\n",
              "    <tr style=\"text-align: right;\">\n",
              "      <th></th>\n",
              "      <th>index</th>\n",
              "      <th>송하인_격자공간고유번호</th>\n",
              "      <th>수하인_격자공간고유번호</th>\n",
              "      <th>물품_카테고리</th>\n",
              "    </tr>\n",
              "  </thead>\n",
              "  <tbody>\n",
              "    <tr>\n",
              "      <th>0</th>\n",
              "      <td>0</td>\n",
              "      <td>4167000577042200</td>\n",
              "      <td>5011000435014100</td>\n",
              "      <td>선케어</td>\n",
              "    </tr>\n",
              "    <tr>\n",
              "      <th>1</th>\n",
              "      <td>1</td>\n",
              "      <td>1156000009012200</td>\n",
              "      <td>5011000172034400</td>\n",
              "      <td>구강위생용품</td>\n",
              "    </tr>\n",
              "    <tr>\n",
              "      <th>2</th>\n",
              "      <td>2</td>\n",
              "      <td>4122000363057300</td>\n",
              "      <td>5011000361097300</td>\n",
              "      <td>캠핑</td>\n",
              "    </tr>\n",
              "    <tr>\n",
              "      <th>3</th>\n",
              "      <td>3</td>\n",
              "      <td>5011000436041400</td>\n",
              "      <td>2826000084036400</td>\n",
              "      <td>아웃도어가구</td>\n",
              "    </tr>\n",
              "    <tr>\n",
              "      <th>4</th>\n",
              "      <td>4</td>\n",
              "      <td>4150000241065200</td>\n",
              "      <td>5011000169044300</td>\n",
              "      <td>분유/이유식/아기간식</td>\n",
              "    </tr>\n",
              "  </tbody>\n",
              "</table>\n",
              "</div>\n",
              "      <button class=\"colab-df-convert\" onclick=\"convertToInteractive('df-8f4997bb-d78a-4e45-90e3-73b9999a82ff')\"\n",
              "              title=\"Convert this dataframe to an interactive table.\"\n",
              "              style=\"display:none;\">\n",
              "        \n",
              "  <svg xmlns=\"http://www.w3.org/2000/svg\" height=\"24px\"viewBox=\"0 0 24 24\"\n",
              "       width=\"24px\">\n",
              "    <path d=\"M0 0h24v24H0V0z\" fill=\"none\"/>\n",
              "    <path d=\"M18.56 5.44l.94 2.06.94-2.06 2.06-.94-2.06-.94-.94-2.06-.94 2.06-2.06.94zm-11 1L8.5 8.5l.94-2.06 2.06-.94-2.06-.94L8.5 2.5l-.94 2.06-2.06.94zm10 10l.94 2.06.94-2.06 2.06-.94-2.06-.94-.94-2.06-.94 2.06-2.06.94z\"/><path d=\"M17.41 7.96l-1.37-1.37c-.4-.4-.92-.59-1.43-.59-.52 0-1.04.2-1.43.59L10.3 9.45l-7.72 7.72c-.78.78-.78 2.05 0 2.83L4 21.41c.39.39.9.59 1.41.59.51 0 1.02-.2 1.41-.59l7.78-7.78 2.81-2.81c.8-.78.8-2.07 0-2.86zM5.41 20L4 18.59l7.72-7.72 1.47 1.35L5.41 20z\"/>\n",
              "  </svg>\n",
              "      </button>\n",
              "      \n",
              "  <style>\n",
              "    .colab-df-container {\n",
              "      display:flex;\n",
              "      flex-wrap:wrap;\n",
              "      gap: 12px;\n",
              "    }\n",
              "\n",
              "    .colab-df-convert {\n",
              "      background-color: #E8F0FE;\n",
              "      border: none;\n",
              "      border-radius: 50%;\n",
              "      cursor: pointer;\n",
              "      display: none;\n",
              "      fill: #1967D2;\n",
              "      height: 32px;\n",
              "      padding: 0 0 0 0;\n",
              "      width: 32px;\n",
              "    }\n",
              "\n",
              "    .colab-df-convert:hover {\n",
              "      background-color: #E2EBFA;\n",
              "      box-shadow: 0px 1px 2px rgba(60, 64, 67, 0.3), 0px 1px 3px 1px rgba(60, 64, 67, 0.15);\n",
              "      fill: #174EA6;\n",
              "    }\n",
              "\n",
              "    [theme=dark] .colab-df-convert {\n",
              "      background-color: #3B4455;\n",
              "      fill: #D2E3FC;\n",
              "    }\n",
              "\n",
              "    [theme=dark] .colab-df-convert:hover {\n",
              "      background-color: #434B5C;\n",
              "      box-shadow: 0px 1px 3px 1px rgba(0, 0, 0, 0.15);\n",
              "      filter: drop-shadow(0px 1px 2px rgba(0, 0, 0, 0.3));\n",
              "      fill: #FFFFFF;\n",
              "    }\n",
              "  </style>\n",
              "\n",
              "      <script>\n",
              "        const buttonEl =\n",
              "          document.querySelector('#df-8f4997bb-d78a-4e45-90e3-73b9999a82ff button.colab-df-convert');\n",
              "        buttonEl.style.display =\n",
              "          google.colab.kernel.accessAllowed ? 'block' : 'none';\n",
              "\n",
              "        async function convertToInteractive(key) {\n",
              "          const element = document.querySelector('#df-8f4997bb-d78a-4e45-90e3-73b9999a82ff');\n",
              "          const dataTable =\n",
              "            await google.colab.kernel.invokeFunction('convertToInteractive',\n",
              "                                                     [key], {});\n",
              "          if (!dataTable) return;\n",
              "\n",
              "          const docLinkHtml = 'Like what you see? Visit the ' +\n",
              "            '<a target=\"_blank\" href=https://colab.research.google.com/notebooks/data_table.ipynb>data table notebook</a>'\n",
              "            + ' to learn more about interactive tables.';\n",
              "          element.innerHTML = '';\n",
              "          dataTable['output_type'] = 'display_data';\n",
              "          await google.colab.output.renderOutput(dataTable, element);\n",
              "          const docLink = document.createElement('div');\n",
              "          docLink.innerHTML = docLinkHtml;\n",
              "          element.appendChild(docLink);\n",
              "        }\n",
              "      </script>\n",
              "    </div>\n",
              "  </div>\n",
              "  "
            ]
          },
          "metadata": {},
          "execution_count": 5
        }
      ]
    },
    {
      "cell_type": "code",
      "source": [
        "train.info()"
      ],
      "metadata": {
        "colab": {
          "base_uri": "https://localhost:8080/"
        },
        "id": "Ha20N0zTUiPb",
        "outputId": "ac6dd6b3-12c1-4349-a5d8-9737c04ccb27"
      },
      "execution_count": null,
      "outputs": [
        {
          "output_type": "stream",
          "name": "stdout",
          "text": [
            "<class 'pandas.core.frame.DataFrame'>\n",
            "RangeIndex: 31684 entries, 0 to 31683\n",
            "Data columns (total 5 columns):\n",
            " #   Column        Non-Null Count  Dtype \n",
            "---  ------        --------------  ----- \n",
            " 0   index         31684 non-null  int64 \n",
            " 1   송하인_격자공간고유번호  31684 non-null  int64 \n",
            " 2   수하인_격자공간고유번호  31684 non-null  int64 \n",
            " 3   물품_카테고리       31684 non-null  object\n",
            " 4   운송장_건수        31684 non-null  int64 \n",
            "dtypes: int64(4), object(1)\n",
            "memory usage: 1.2+ MB\n"
          ]
        }
      ]
    },
    {
      "cell_type": "code",
      "source": [
        "test.info()"
      ],
      "metadata": {
        "colab": {
          "base_uri": "https://localhost:8080/"
        },
        "id": "9cJI_BiwUkXU",
        "outputId": "41274b15-0c6b-4f53-a3d1-279d48211009"
      },
      "execution_count": null,
      "outputs": [
        {
          "output_type": "stream",
          "name": "stdout",
          "text": [
            "<class 'pandas.core.frame.DataFrame'>\n",
            "RangeIndex: 7920 entries, 0 to 7919\n",
            "Data columns (total 4 columns):\n",
            " #   Column        Non-Null Count  Dtype \n",
            "---  ------        --------------  ----- \n",
            " 0   index         7920 non-null   int64 \n",
            " 1   송하인_격자공간고유번호  7920 non-null   int64 \n",
            " 2   수하인_격자공간고유번호  7920 non-null   int64 \n",
            " 3   물품_카테고리       7920 non-null   object\n",
            "dtypes: int64(3), object(1)\n",
            "memory usage: 247.6+ KB\n"
          ]
        }
      ]
    },
    {
      "cell_type": "code",
      "source": [
        "train.isnull().sum()"
      ],
      "metadata": {
        "colab": {
          "base_uri": "https://localhost:8080/"
        },
        "id": "OUFwMuSbUmLY",
        "outputId": "c8ac42a4-2c53-432d-d74c-1e40984e7876"
      },
      "execution_count": null,
      "outputs": [
        {
          "output_type": "execute_result",
          "data": {
            "text/plain": [
              "index           0\n",
              "송하인_격자공간고유번호    0\n",
              "수하인_격자공간고유번호    0\n",
              "물품_카테고리         0\n",
              "운송장_건수          0\n",
              "dtype: int64"
            ]
          },
          "metadata": {},
          "execution_count": 8
        }
      ]
    },
    {
      "cell_type": "code",
      "source": [
        "train.columns"
      ],
      "metadata": {
        "colab": {
          "base_uri": "https://localhost:8080/"
        },
        "id": "xlAHhn-1V0UM",
        "outputId": "91164243-7a38-4777-ac22-052af54fcd31"
      },
      "execution_count": null,
      "outputs": [
        {
          "output_type": "execute_result",
          "data": {
            "text/plain": [
              "Index(['index', '송하인_격자공간고유번호', '수하인_격자공간고유번호', '물품_카테고리', '운송장_건수'], dtype='object')"
            ]
          },
          "metadata": {},
          "execution_count": 9
        }
      ]
    },
    {
      "cell_type": "markdown",
      "source": [
        "## 데이터 전처리"
      ],
      "metadata": {
        "id": "AJNF25tTUrKY"
      }
    },
    {
      "cell_type": "markdown",
      "source": [
        "### '물품 카테고리' 칼럼"
      ],
      "metadata": {
        "id": "lK9tMKEmVl3V"
      }
    },
    {
      "cell_type": "code",
      "source": [
        "train['물품_카테고리'].value_counts(dropna=False)"
      ],
      "metadata": {
        "colab": {
          "base_uri": "https://localhost:8080/"
        },
        "id": "6UATY8PDVpfI",
        "outputId": "c05ab599-7cea-44ef-8380-52e8abc74a38"
      },
      "execution_count": null,
      "outputs": [
        {
          "output_type": "execute_result",
          "data": {
            "text/plain": [
              "농산물              20321\n",
              "문화컨텐츠             1091\n",
              "음료                1034\n",
              "수산                 860\n",
              "가공식품               846\n",
              "                 ...  \n",
              "유아가구                 4\n",
              "기타출산/육아              4\n",
              "태블릿PC/노트북액세서리        4\n",
              "선케어                  4\n",
              "스포츠잡화                4\n",
              "Name: 물품_카테고리, Length: 100, dtype: int64"
            ]
          },
          "metadata": {},
          "execution_count": 10
        }
      ]
    },
    {
      "cell_type": "code",
      "source": [
        "train['물품_카테고리'].unique()"
      ],
      "metadata": {
        "colab": {
          "base_uri": "https://localhost:8080/"
        },
        "id": "9CwevjWuVlXP",
        "outputId": "483fd39e-18aa-40d1-d272-5a1a4ca5b16b"
      },
      "execution_count": null,
      "outputs": [
        {
          "output_type": "execute_result",
          "data": {
            "text/plain": [
              "array(['음반', '문화컨텐츠', '농산물', '기타식품', '수산', '아우터', '신발', '건강식품', '음료',\n",
              "       '가공식품', '스킨케어', '축산', '헤어케어', '기저귀/물티슈', '의료용품', '기타디지털/가전', '상의',\n",
              "       '건강용품', '바디케어', '기타스포츠/레저', '출산/유아동의류', '반려동물', '완구/매트', '과자',\n",
              "       '생활용품', '하의', '문구/사무용품', '선케어', '다이어트식품', '기타패션의류', '냉동/간편조리식품',\n",
              "       '네일케어', '서재/사무용가구', '선글라스/안경테', '기타화장품/미용', '등산', '모니터', '주방용품',\n",
              "       '색조메이크업', '침구세트', '침구단품', '인테리어소품', '양말/스타킹', '클렌징', '공구', '이미용가전',\n",
              "       'PC', '커튼/블라인드', '헤어스타일링', '주방가구', 'DIY자재/용품', '헤어액세서리', '김치',\n",
              "       '위생/건강용품', '침실가구', '가방', '주방가전', '낚시', '재활운동용품', '자동차용품', '뷰티소품',\n",
              "       '주얼리', '골프', 'PC주변기기', '수납/정리용품', '음향가전', '잠옷', '패션소품', '언더웨어',\n",
              "       '원피스/점프슈트', '스포츠잡화', '수납가구', '취미용품', '아웃도어가구', '계절가전', '홈데코', '캠핑',\n",
              "       '남성화장품', '분유/이유식/아기간식', '베이스메이크업', '헬스', '향수', '모자', '카페트/러그',\n",
              "       '구강위생용품', '눈관리용품', '기타출산/육아', '기타패션잡화', '기능성', '반찬', '욕실용품',\n",
              "       '스마트디바이스액세서리', '게임기/타이틀', '생활가전', '유아가구', '출산/유아동잡화', '세탁용품',\n",
              "       '태블릿PC/노트북액세서리', '스마트디바이스', '지갑'], dtype=object)"
            ]
          },
          "metadata": {},
          "execution_count": 12
        }
      ]
    },
    {
      "cell_type": "code",
      "source": [
        "arr = train['물품_카테고리'].unique()\n",
        "arr1 = np.array2string(arr)\n",
        "str(arr1)\n",
        "\n",
        "arr1.replace(\"'\", \" \")"
      ],
      "metadata": {
        "colab": {
          "base_uri": "https://localhost:8080/",
          "height": 288
        },
        "id": "XSDbeab5YtPK",
        "outputId": "a30883ac-89ee-4909-b448-88e0fdec768e"
      },
      "execution_count": null,
      "outputs": [
        {
          "output_type": "execute_result",
          "data": {
            "text/plain": [
              "'[ 음반   문화컨텐츠   농산물   기타식품   수산   아우터   신발   건강식품   음료   가공식품   스킨케어   축산 \\n  헤어케어   기저귀/물티슈   의료용품   기타디지털/가전   상의   건강용품   바디케어   기타스포츠/레저 \\n  출산/유아동의류   반려동물   완구/매트   과자   생활용품   하의   문구/사무용품   선케어   다이어트식품 \\n  기타패션의류   냉동/간편조리식품   네일케어   서재/사무용가구   선글라스/안경테   기타화장품/미용   등산   모니터 \\n  주방용품   색조메이크업   침구세트   침구단품   인테리어소품   양말/스타킹   클렌징   공구   이미용가전   PC \\n  커튼/블라인드   헤어스타일링   주방가구   DIY자재/용품   헤어액세서리   김치   위생/건강용품   침실가구   가방 \\n  주방가전   낚시   재활운동용품   자동차용품   뷰티소품   주얼리   골프   PC주변기기   수납/정리용품   음향가전 \\n  잠옷   패션소품   언더웨어   원피스/점프슈트   스포츠잡화   수납가구   취미용품   아웃도어가구   계절가전   홈데코 \\n  캠핑   남성화장품   분유/이유식/아기간식   베이스메이크업   헬스   향수   모자   카페트/러그   구강위생용품 \\n  눈관리용품   기타출산/육아   기타패션잡화   기능성   반찬   욕실용품   스마트디바이스액세서리   게임기/타이틀 \\n  생활가전   유아가구   출산/유아동잡화   세탁용품   태블릿PC/노트북액세서리   스마트디바이스   지갑 ]'"
            ],
            "application/vnd.google.colaboratory.intrinsic+json": {
              "type": "string"
            }
          },
          "metadata": {},
          "execution_count": 21
        }
      ]
    },
    {
      "cell_type": "markdown",
      "source": [
        "#### '물품_카테고리'"
      ],
      "metadata": {
        "id": "sD1UfM0_MxYd"
      }
    },
    {
      "cell_type": "code",
      "source": [
        "식음료품 = ['농산물', '음료', '수산', '가공식품', '기타식품', '건강식품',\n",
        "        '냉동/간편조리식품', '과자', '다이어트식품', '김치', '분유/이유식/아기간식', '반찬']\n",
        "개인관리용품 = ['스킨케어', '기타화장품/미용', '헤어케어', '베이스메이크업',\n",
        "          '바디케어', '색조메이크업', '네일케어', '뷰티소품', '눈관리용품', '헤어액세서리',\n",
        "          '향수', '남성화장품', '헤어스타일링', '클렌징', '선케어']\n",
        "의류가방 = ['상의', '기타패션의류', '아우터', '하의', '신발', '언더웨어', '원피스/점프슈트', \n",
        "         '잠옷', '양말/스타킹', '패션소품', '기타패션잡화',  '출산/유아동의류', '가방', \n",
        "         '모자', '재활운동용품', '선글라스/안경테', '지갑','기저귀/물티슈']\n",
        "산동식물및생산품 = ['축산','반려동물']\n",
        "가정용품및가전제품 = ['주방용품', '기타디지털/가전', '이미용가전', '주방가전', '음향가전', '계절가전',\n",
        "             '생활가전', '카페트/러그', '침구단품', '수납/정리용품', '침구세트', '커튼/블라인드',\n",
        "             '홈데코', '출산/유아동잡화', '기타출산/육아', '생활용품']\n",
        "정보기술방송및통신기 = ['스마트디바이스', '스마트디바이스액세서리', '모니터', 'PC주변기기', '태블릿PC/노트북액세서리', '게임기/타이틀', 'PC']\n",
        "가구및관련제품 = ['주방가구', '수납가구', '서재/사무용가구', '아웃도어가구', '침실가구', '유아가구', '인테리어소품', 'DIY자재/용품']\n",
        "보건서비스 = ['헬스']\n",
        "스포츠및레크레이션 = ['기타스포츠/레저', '낚시', '캠핑', '스포츠잡화', '등산', '골프', '건강용품']\n",
        "사무용기기액세서리 = ['문구/사무용품']\n",
        "공구및범용기계 =['공구'] \n",
        "개인용운송기구및액세서리 = ['자동차용품']\n",
        "위생장비및용품 = ['위생/건강용품', '욕실용품', '구강위생용품', '세탁용품']\n",
        "악기게임장난감등 = ['완구/매트', '취미용품']\n",
        "예술관련서비스 = ['문화컨텐츠', '음반']\n",
        "의약품 =['의료용품']"
      ],
      "metadata": {
        "id": "pYA7d85gw6Ss"
      },
      "execution_count": null,
      "outputs": []
    },
    {
      "cell_type": "code",
      "source": [
        "train['물품_카테고리_대분류']=' '"
      ],
      "metadata": {
        "id": "IerkY09QxEav"
      },
      "execution_count": null,
      "outputs": []
    },
    {
      "cell_type": "code",
      "source": [
        "for i in train['물품_카테고리']:\n",
        "  if i in 식음료품:\n",
        "    train.loc[train['물품_카테고리']==i, '물품_카테고리_대분류'] = '식음료품'\n",
        "  elif i in 개인관리용품:\n",
        "    train.loc[train['물품_카테고리']==i,'물품_카테고리_대분류']='개인관리용품'\n",
        "  elif i in 의류가방:\n",
        "    train.loc[train['물품_카테고리']==i,'물품_카테고리_대분류']='의류가방'\n",
        "  elif i in 산동식물및생산품:\n",
        "    train.loc[train['물품_카테고리']==i,'물품_카테고리_대분류']='산동식물및생산품'\n",
        "  elif i in 가정용품및가전제품:\n",
        "    train.loc[train['물품_카테고리']==i,'물품_카테고리_대분류']='가정용품및가전제품'\n",
        "  elif i in 정보기술방송및통신기:\n",
        "    train.loc[train['물품_카테고리']==i,'물품_카테고리_대분류']='정보기술방송및통신기'\n",
        "  elif i in 가구및관련제품:\n",
        "    train.loc[train['물품_카테고리']==i,'물품_카테고리_대분류']='가구및관련제품'\n",
        "  elif i in 보건서비스:\n",
        "    train.loc[train['물품_카테고리']==i,'물품_카테고리_대분류']='보건서비스'\n",
        "  elif i in 스포츠및레크레이션:\n",
        "    train.loc[train['물품_카테고리']==i,'물품_카테고리_대분류']='스포츠및레크레이션'\n",
        "  elif i in 사무용기기액세서리:\n",
        "    train.loc[train['물품_카테고리']==i,'물품_카테고리_대분류']='사무용기기액세서리'\n",
        "  elif i in 공구및범용기계:\n",
        "    train.loc[train['물품_카테고리']==i,'물품_카테고리_대분류']='공구및범용기계'\n",
        "  elif i in 개인용운송기구및액세서리:\n",
        "    train.loc[train['물품_카테고리']==i,'물품_카테고리_대분류']='개인용운송기구및액세서리'\n",
        "  elif i in 위생장비및용품:\n",
        "    train.loc[train['물품_카테고리']==i,'물품_카테고리_대분류']='위생장비및용품'\n",
        "  elif i in 악기게임장난감등:\n",
        "    train.loc[train['물품_카테고리']==i,'물품_카테고리_대분류']='악기게임장난감등'\n",
        "  elif i in 예술관련서비스:\n",
        "    train.loc[train['물품_카테고리']==i,'물품_카테고리_대분류']='예술관련서비스'\n",
        "  else:\n",
        "    train.loc[train['물품_카테고리']==i,'물품_카테고리_대분류']='의약품'"
      ],
      "metadata": {
        "id": "qQq1Rg7xxu1h"
      },
      "execution_count": null,
      "outputs": []
    },
    {
      "cell_type": "code",
      "source": [
        "train"
      ],
      "metadata": {
        "colab": {
          "base_uri": "https://localhost:8080/",
          "height": 658
        },
        "id": "O2FCVo7e0ZU5",
        "outputId": "6af66718-cc1b-44cc-f727-c7d5c3c787f0"
      },
      "execution_count": null,
      "outputs": [
        {
          "output_type": "execute_result",
          "data": {
            "text/plain": [
              "       index      송하인_격자공간고유번호      수하인_격자공간고유번호  물품_카테고리  운송장_건수 물품_카테고리_대분류\n",
              "0          0  5011000595017300  2871000192069300       음반       3     예술관련서비스\n",
              "1          1  4148000690043300  5011000264024400    문화컨텐츠       3     예술관련서비스\n",
              "2          2  5011000078068400  1120000007005400      농산물       3        식음료품\n",
              "3          3  4127100048006400  5011000587019400     기타식품       7        식음료품\n",
              "4          4  5011000078068400  2823700010076300      농산물       3        식음료품\n",
              "...      ...               ...               ...      ...     ...         ...\n",
              "31679  31679  4471000290087200  5011000213073200    스포츠잡화       3   스포츠및레크레이션\n",
              "31680  31680  1129000014045300  5011000319087100  스마트디바이스       4  정보기술방송및통신기\n",
              "31681  31681  1129000014045300  5011000263065200  스마트디바이스       6  정보기술방송및통신기\n",
              "31682  31682  4127300065073100  5011000264061200       지갑       7        의류가방\n",
              "31683  31683  2811000139076100  5011000520070100     세탁용품       4     위생장비및용품\n",
              "\n",
              "[31684 rows x 6 columns]"
            ],
            "text/html": [
              "\n",
              "  <div id=\"df-226863a9-fa45-45e3-8a8f-cc1daf84ec08\">\n",
              "    <div class=\"colab-df-container\">\n",
              "      <div>\n",
              "<style scoped>\n",
              "    .dataframe tbody tr th:only-of-type {\n",
              "        vertical-align: middle;\n",
              "    }\n",
              "\n",
              "    .dataframe tbody tr th {\n",
              "        vertical-align: top;\n",
              "    }\n",
              "\n",
              "    .dataframe thead th {\n",
              "        text-align: right;\n",
              "    }\n",
              "</style>\n",
              "<table border=\"1\" class=\"dataframe\">\n",
              "  <thead>\n",
              "    <tr style=\"text-align: right;\">\n",
              "      <th></th>\n",
              "      <th>index</th>\n",
              "      <th>송하인_격자공간고유번호</th>\n",
              "      <th>수하인_격자공간고유번호</th>\n",
              "      <th>물품_카테고리</th>\n",
              "      <th>운송장_건수</th>\n",
              "      <th>물품_카테고리_대분류</th>\n",
              "    </tr>\n",
              "  </thead>\n",
              "  <tbody>\n",
              "    <tr>\n",
              "      <th>0</th>\n",
              "      <td>0</td>\n",
              "      <td>5011000595017300</td>\n",
              "      <td>2871000192069300</td>\n",
              "      <td>음반</td>\n",
              "      <td>3</td>\n",
              "      <td>예술관련서비스</td>\n",
              "    </tr>\n",
              "    <tr>\n",
              "      <th>1</th>\n",
              "      <td>1</td>\n",
              "      <td>4148000690043300</td>\n",
              "      <td>5011000264024400</td>\n",
              "      <td>문화컨텐츠</td>\n",
              "      <td>3</td>\n",
              "      <td>예술관련서비스</td>\n",
              "    </tr>\n",
              "    <tr>\n",
              "      <th>2</th>\n",
              "      <td>2</td>\n",
              "      <td>5011000078068400</td>\n",
              "      <td>1120000007005400</td>\n",
              "      <td>농산물</td>\n",
              "      <td>3</td>\n",
              "      <td>식음료품</td>\n",
              "    </tr>\n",
              "    <tr>\n",
              "      <th>3</th>\n",
              "      <td>3</td>\n",
              "      <td>4127100048006400</td>\n",
              "      <td>5011000587019400</td>\n",
              "      <td>기타식품</td>\n",
              "      <td>7</td>\n",
              "      <td>식음료품</td>\n",
              "    </tr>\n",
              "    <tr>\n",
              "      <th>4</th>\n",
              "      <td>4</td>\n",
              "      <td>5011000078068400</td>\n",
              "      <td>2823700010076300</td>\n",
              "      <td>농산물</td>\n",
              "      <td>3</td>\n",
              "      <td>식음료품</td>\n",
              "    </tr>\n",
              "    <tr>\n",
              "      <th>...</th>\n",
              "      <td>...</td>\n",
              "      <td>...</td>\n",
              "      <td>...</td>\n",
              "      <td>...</td>\n",
              "      <td>...</td>\n",
              "      <td>...</td>\n",
              "    </tr>\n",
              "    <tr>\n",
              "      <th>31679</th>\n",
              "      <td>31679</td>\n",
              "      <td>4471000290087200</td>\n",
              "      <td>5011000213073200</td>\n",
              "      <td>스포츠잡화</td>\n",
              "      <td>3</td>\n",
              "      <td>스포츠및레크레이션</td>\n",
              "    </tr>\n",
              "    <tr>\n",
              "      <th>31680</th>\n",
              "      <td>31680</td>\n",
              "      <td>1129000014045300</td>\n",
              "      <td>5011000319087100</td>\n",
              "      <td>스마트디바이스</td>\n",
              "      <td>4</td>\n",
              "      <td>정보기술방송및통신기</td>\n",
              "    </tr>\n",
              "    <tr>\n",
              "      <th>31681</th>\n",
              "      <td>31681</td>\n",
              "      <td>1129000014045300</td>\n",
              "      <td>5011000263065200</td>\n",
              "      <td>스마트디바이스</td>\n",
              "      <td>6</td>\n",
              "      <td>정보기술방송및통신기</td>\n",
              "    </tr>\n",
              "    <tr>\n",
              "      <th>31682</th>\n",
              "      <td>31682</td>\n",
              "      <td>4127300065073100</td>\n",
              "      <td>5011000264061200</td>\n",
              "      <td>지갑</td>\n",
              "      <td>7</td>\n",
              "      <td>의류가방</td>\n",
              "    </tr>\n",
              "    <tr>\n",
              "      <th>31683</th>\n",
              "      <td>31683</td>\n",
              "      <td>2811000139076100</td>\n",
              "      <td>5011000520070100</td>\n",
              "      <td>세탁용품</td>\n",
              "      <td>4</td>\n",
              "      <td>위생장비및용품</td>\n",
              "    </tr>\n",
              "  </tbody>\n",
              "</table>\n",
              "<p>31684 rows × 6 columns</p>\n",
              "</div>\n",
              "      <button class=\"colab-df-convert\" onclick=\"convertToInteractive('df-226863a9-fa45-45e3-8a8f-cc1daf84ec08')\"\n",
              "              title=\"Convert this dataframe to an interactive table.\"\n",
              "              style=\"display:none;\">\n",
              "        \n",
              "  <svg xmlns=\"http://www.w3.org/2000/svg\" height=\"24px\"viewBox=\"0 0 24 24\"\n",
              "       width=\"24px\">\n",
              "    <path d=\"M0 0h24v24H0V0z\" fill=\"none\"/>\n",
              "    <path d=\"M18.56 5.44l.94 2.06.94-2.06 2.06-.94-2.06-.94-.94-2.06-.94 2.06-2.06.94zm-11 1L8.5 8.5l.94-2.06 2.06-.94-2.06-.94L8.5 2.5l-.94 2.06-2.06.94zm10 10l.94 2.06.94-2.06 2.06-.94-2.06-.94-.94-2.06-.94 2.06-2.06.94z\"/><path d=\"M17.41 7.96l-1.37-1.37c-.4-.4-.92-.59-1.43-.59-.52 0-1.04.2-1.43.59L10.3 9.45l-7.72 7.72c-.78.78-.78 2.05 0 2.83L4 21.41c.39.39.9.59 1.41.59.51 0 1.02-.2 1.41-.59l7.78-7.78 2.81-2.81c.8-.78.8-2.07 0-2.86zM5.41 20L4 18.59l7.72-7.72 1.47 1.35L5.41 20z\"/>\n",
              "  </svg>\n",
              "      </button>\n",
              "      \n",
              "  <style>\n",
              "    .colab-df-container {\n",
              "      display:flex;\n",
              "      flex-wrap:wrap;\n",
              "      gap: 12px;\n",
              "    }\n",
              "\n",
              "    .colab-df-convert {\n",
              "      background-color: #E8F0FE;\n",
              "      border: none;\n",
              "      border-radius: 50%;\n",
              "      cursor: pointer;\n",
              "      display: none;\n",
              "      fill: #1967D2;\n",
              "      height: 32px;\n",
              "      padding: 0 0 0 0;\n",
              "      width: 32px;\n",
              "    }\n",
              "\n",
              "    .colab-df-convert:hover {\n",
              "      background-color: #E2EBFA;\n",
              "      box-shadow: 0px 1px 2px rgba(60, 64, 67, 0.3), 0px 1px 3px 1px rgba(60, 64, 67, 0.15);\n",
              "      fill: #174EA6;\n",
              "    }\n",
              "\n",
              "    [theme=dark] .colab-df-convert {\n",
              "      background-color: #3B4455;\n",
              "      fill: #D2E3FC;\n",
              "    }\n",
              "\n",
              "    [theme=dark] .colab-df-convert:hover {\n",
              "      background-color: #434B5C;\n",
              "      box-shadow: 0px 1px 3px 1px rgba(0, 0, 0, 0.15);\n",
              "      filter: drop-shadow(0px 1px 2px rgba(0, 0, 0, 0.3));\n",
              "      fill: #FFFFFF;\n",
              "    }\n",
              "  </style>\n",
              "\n",
              "      <script>\n",
              "        const buttonEl =\n",
              "          document.querySelector('#df-226863a9-fa45-45e3-8a8f-cc1daf84ec08 button.colab-df-convert');\n",
              "        buttonEl.style.display =\n",
              "          google.colab.kernel.accessAllowed ? 'block' : 'none';\n",
              "\n",
              "        async function convertToInteractive(key) {\n",
              "          const element = document.querySelector('#df-226863a9-fa45-45e3-8a8f-cc1daf84ec08');\n",
              "          const dataTable =\n",
              "            await google.colab.kernel.invokeFunction('convertToInteractive',\n",
              "                                                     [key], {});\n",
              "          if (!dataTable) return;\n",
              "\n",
              "          const docLinkHtml = 'Like what you see? Visit the ' +\n",
              "            '<a target=\"_blank\" href=https://colab.research.google.com/notebooks/data_table.ipynb>data table notebook</a>'\n",
              "            + ' to learn more about interactive tables.';\n",
              "          element.innerHTML = '';\n",
              "          dataTable['output_type'] = 'display_data';\n",
              "          await google.colab.output.renderOutput(dataTable, element);\n",
              "          const docLink = document.createElement('div');\n",
              "          docLink.innerHTML = docLinkHtml;\n",
              "          element.appendChild(docLink);\n",
              "        }\n",
              "      </script>\n",
              "    </div>\n",
              "  </div>\n",
              "  "
            ]
          },
          "metadata": {},
          "execution_count": 35
        }
      ]
    },
    {
      "cell_type": "code",
      "source": [
        "train['물품_카테고리_대분류'].value_counts()"
      ],
      "metadata": {
        "colab": {
          "base_uri": "https://localhost:8080/"
        },
        "id": "__C4ND9QxLde",
        "outputId": "d23982af-5200-4215-87a3-339ed528ba3b"
      },
      "execution_count": null,
      "outputs": [
        {
          "output_type": "execute_result",
          "data": {
            "text/plain": [
              "식음료품            25209\n",
              "예술관련서비스          1667\n",
              "의류가방             1224\n",
              "가정용품및가전제품        1175\n",
              "산동식물및생산품          698\n",
              "개인관리용품            541\n",
              "스포츠및레크레이션         270\n",
              "가구및관련제품           227\n",
              "사무용기기액세서리         167\n",
              "의약품               109\n",
              "악기게임장난감등          109\n",
              "공구및범용기계            95\n",
              "정보기술방송및통신기         79\n",
              "위생장비및용품            68\n",
              "개인용운송기구및액세서리       32\n",
              "보건서비스              14\n",
              "Name: 물품_카테고리_대분류, dtype: int64"
            ]
          },
          "metadata": {},
          "execution_count": 36
        }
      ]
    },
    {
      "cell_type": "code",
      "source": [
        "df = train.copy()"
      ],
      "metadata": {
        "id": "PLxHnOzXHbLB"
      },
      "execution_count": null,
      "outputs": []
    },
    {
      "cell_type": "code",
      "source": [
        "df.loc[(df['물품_카테고리']=='농산물') | \n",
        "   (df['물품_카테고리']=='기타식품') | \n",
        "   (df['물품_카테고리']=='수산')|\n",
        "   (df['물품_카테고리']=='건강식품')|\n",
        "   (df['물품_카테고리']=='음료')|\n",
        "   (df['물품_카테고리']=='가공식품')|\n",
        "   (df['물품_카테고리']=='축산')|\n",
        "   (df['물품_카테고리']=='과자')|\n",
        "   (df['물품_카테고리']=='다이어트식품')|\n",
        "   (df['물품_카테고리']=='냉동/간편조리식품')|\n",
        "   (df['물품_카테고리']=='김치')|\n",
        "   (df['물품_카테고리']=='반찬'), '물품_카테고리'] = '식품'\n",
        "\n",
        "df.loc[(df['물품_카테고리']=='아우터') | \n",
        "   (df['물품_카테고리']=='신발') | \n",
        "   (df['물품_카테고리']=='상의')|\n",
        "   (df['물품_카테고리']=='하의')|\n",
        "   (df['물품_카테고리']=='양말/스타킹')|\n",
        "   (df['물품_카테고리']=='기타패션의류')|\n",
        "   (df['물품_카테고리']=='선글라스/안경테')|\n",
        "   (df['물품_카테고리']=='가방')|\n",
        "   (df['물품_카테고리']=='주얼리')|\n",
        "   (df['물품_카테고리']=='잠옷')|\n",
        "   (df['물품_카테고리']=='패션소품')|\n",
        "   (df['물품_카테고리']=='언더웨어')|\n",
        "   (df['물품_카테고리']=='원피스/점프슈트')|\n",
        "   (df['물품_카테고리']=='모자')|\n",
        "   (df['물품_카테고리']=='스포츠잡화')|\n",
        "   (df['물품_카테고리']=='기타패션잡화')|\n",
        "   (df['물품_카테고리']=='지갑')|\n",
        "   (df['물품_카테고리']=='헤어액세서리')|\n",
        "   (df['물품_카테고리']=='기능성'), '물품_카테고리'] = '패션의류/잡화'\n",
        "\n",
        "df.loc[(df['물품_카테고리']=='스킨케어') | \n",
        "   (df['물품_카테고리']=='헤어케어') | \n",
        "   (df['물품_카테고리']=='바디케어')|\n",
        "   (df['물품_카테고리']=='선케어')|\n",
        "   (df['물품_카테고리']=='네일케어')|\n",
        "   (df['물품_카테고리']=='기타화장품/미용')|\n",
        "   (df['물품_카테고리']=='주얼리')|\n",
        "   (df['물품_카테고리']=='색조메이크업')|\n",
        "   (df['물품_카테고리']=='클렌징')|\n",
        "   (df['물품_카테고리']=='헤어스타일링')|\n",
        "   (df['물품_카테고리']=='뷰티소품')|\n",
        "   (df['물품_카테고리']=='남성화장품')|\n",
        "   (df['물품_카테고리']=='베이스메이크업')|\n",
        "   (df['물품_카테고리']=='향수'), '물품_카테고리'] = '뷰티'\n",
        "\n",
        "df.loc[(df['물품_카테고리']=='서재/사무용가구') | \n",
        "   (df['물품_카테고리']=='주방가구') | \n",
        "   (df['물품_카테고리']=='침실가구')|\n",
        "   (df['물품_카테고리']=='수납가구')|\n",
        "   (df['물품_카테고리']=='아웃도어가구')|\n",
        "   (df['물품_카테고리']=='침구세트')|\n",
        "   (df['물품_카테고리']=='침구단품')|\n",
        "   (df['물품_카테고리']=='인테리어소품')|\n",
        "   (df['물품_카테고리']=='커튼/블라인드')|\n",
        "   (df['물품_카테고리']=='DIY자재/용품')|\n",
        "   (df['물품_카테고리']=='홈데코')|\n",
        "   (df['물품_카테고리']=='카페트/러그'), '물품_카테고리'] = '가구/침구'\n",
        "\n",
        "df.loc[(df['물품_카테고리']=='기타스포츠/레저') | \n",
        "   (df['물품_카테고리']=='등산') | \n",
        "   (df['물품_카테고리']=='낚시')|\n",
        "   (df['물품_카테고리']=='골프')|\n",
        "   (df['물품_카테고리']=='캠핑')|\n",
        "   (df['물품_카테고리']=='헬스')|\n",
        "   (df['물품_카테고리']=='음반')|\n",
        "   (df['물품_카테고리']=='문화컨텐츠'), '물품_카테고리'] = '스포츠/레저/문화'\n",
        "\n",
        "df.loc[(df['물품_카테고리']=='모니터') | \n",
        "   (df['물품_카테고리']=='PC') | \n",
        "   (df['물품_카테고리']=='PC주변기기')|\n",
        "   (df['물품_카테고리']=='게임기/타이틀')|\n",
        "   (df['물품_카테고리']=='스마트디바이스액세서리')|\n",
        "   (df['물품_카테고리']=='태블릿PC/노트북액세서리')|\n",
        "   (df['물품_카테고리']=='스마트디바이스')|\n",
        "   (df['물품_카테고리']=='기타디지털/가전')|\n",
        "   (df['물품_카테고리']=='주방가전')|\n",
        "   (df['물품_카테고리']=='음향가전')|\n",
        "   (df['물품_카테고리']=='계절가전')|\n",
        "   (df['물품_카테고리']=='생활가전')|\n",
        "   (df['물품_카테고리']=='이미용가전'), '물품_카테고리'] = '가전/디지털'\n",
        "\n",
        "df.loc[(df['물품_카테고리']=='기저귀/물티슈') | \n",
        "   (df['물품_카테고리']=='기타출산/육아') | \n",
        "   (df['물품_카테고리']=='분유/이유식/아기간식')|\n",
        "   (df['물품_카테고리']=='출산/유아동의류')|\n",
        "   (df['물품_카테고리']=='출산/유아동잡화')|\n",
        "   (df['물품_카테고리']=='유아가구')|\n",
        "   (df['물품_카테고리']=='반려동물'), '물품_카테고리'] = '출산/유아동/반려동물'\n",
        "\n",
        "df.loc[(df['물품_카테고리']=='의료용품') | \n",
        "   (df['물품_카테고리']=='건강용품') | \n",
        "   (df['물품_카테고리']=='생활용품')|\n",
        "   (df['물품_카테고리']=='문구/사무용품')|\n",
        "   (df['물품_카테고리']=='주방용품')|\n",
        "   (df['물품_카테고리']=='위생/건강용품')|\n",
        "   (df['물품_카테고리']=='재활운동용품')|\n",
        "   (df['물품_카테고리']=='자동차용품')|\n",
        "   (df['물품_카테고리']=='수납/정리용품')|\n",
        "   (df['물품_카테고리']=='취미용품')|\n",
        "   (df['물품_카테고리']=='구강위생용품')|\n",
        "   (df['물품_카테고리']=='눈관리용품')|\n",
        "   (df['물품_카테고리']=='욕실용품')|\n",
        "   (df['물품_카테고리']=='세탁용품')|\n",
        "   (df['물품_카테고리']=='공구')|\n",
        "   (df['물품_카테고리']=='완구/매트'), '물품_카테고리'] = '생활/건강'\n",
        "\n",
        "df"
      ],
      "metadata": {
        "colab": {
          "base_uri": "https://localhost:8080/",
          "height": 554
        },
        "id": "M2U-eOQqUykL",
        "outputId": "14bbd9f1-9bea-4377-e231-7286ff793e22"
      },
      "execution_count": null,
      "outputs": [
        {
          "output_type": "execute_result",
          "data": {
            "text/plain": [
              "       index      송하인_격자공간고유번호      수하인_격자공간고유번호    물품_카테고리  운송장_건수\n",
              "0          0  5011000595017300  2871000192069300  스포츠/레저/문화       3\n",
              "1          1  4148000690043300  5011000264024400  스포츠/레저/문화       3\n",
              "2          2  5011000078068400  1120000007005400         식품       3\n",
              "3          3  4127100048006400  5011000587019400         식품       7\n",
              "4          4  5011000078068400  2823700010076300         식품       3\n",
              "...      ...               ...               ...        ...     ...\n",
              "31679  31679  4471000290087200  5011000213073200    패션의류/잡화       3\n",
              "31680  31680  1129000014045300  5011000319087100     가전/디지털       4\n",
              "31681  31681  1129000014045300  5011000263065200     가전/디지털       6\n",
              "31682  31682  4127300065073100  5011000264061200    패션의류/잡화       7\n",
              "31683  31683  2811000139076100  5011000520070100      생활/건강       4\n",
              "\n",
              "[31684 rows x 5 columns]"
            ],
            "text/html": [
              "\n",
              "  <div id=\"df-0bb21e8b-caff-4b65-b7fc-28e1b4acf95d\">\n",
              "    <div class=\"colab-df-container\">\n",
              "      <div>\n",
              "<style scoped>\n",
              "    .dataframe tbody tr th:only-of-type {\n",
              "        vertical-align: middle;\n",
              "    }\n",
              "\n",
              "    .dataframe tbody tr th {\n",
              "        vertical-align: top;\n",
              "    }\n",
              "\n",
              "    .dataframe thead th {\n",
              "        text-align: right;\n",
              "    }\n",
              "</style>\n",
              "<table border=\"1\" class=\"dataframe\">\n",
              "  <thead>\n",
              "    <tr style=\"text-align: right;\">\n",
              "      <th></th>\n",
              "      <th>index</th>\n",
              "      <th>송하인_격자공간고유번호</th>\n",
              "      <th>수하인_격자공간고유번호</th>\n",
              "      <th>물품_카테고리</th>\n",
              "      <th>운송장_건수</th>\n",
              "    </tr>\n",
              "  </thead>\n",
              "  <tbody>\n",
              "    <tr>\n",
              "      <th>0</th>\n",
              "      <td>0</td>\n",
              "      <td>5011000595017300</td>\n",
              "      <td>2871000192069300</td>\n",
              "      <td>스포츠/레저/문화</td>\n",
              "      <td>3</td>\n",
              "    </tr>\n",
              "    <tr>\n",
              "      <th>1</th>\n",
              "      <td>1</td>\n",
              "      <td>4148000690043300</td>\n",
              "      <td>5011000264024400</td>\n",
              "      <td>스포츠/레저/문화</td>\n",
              "      <td>3</td>\n",
              "    </tr>\n",
              "    <tr>\n",
              "      <th>2</th>\n",
              "      <td>2</td>\n",
              "      <td>5011000078068400</td>\n",
              "      <td>1120000007005400</td>\n",
              "      <td>식품</td>\n",
              "      <td>3</td>\n",
              "    </tr>\n",
              "    <tr>\n",
              "      <th>3</th>\n",
              "      <td>3</td>\n",
              "      <td>4127100048006400</td>\n",
              "      <td>5011000587019400</td>\n",
              "      <td>식품</td>\n",
              "      <td>7</td>\n",
              "    </tr>\n",
              "    <tr>\n",
              "      <th>4</th>\n",
              "      <td>4</td>\n",
              "      <td>5011000078068400</td>\n",
              "      <td>2823700010076300</td>\n",
              "      <td>식품</td>\n",
              "      <td>3</td>\n",
              "    </tr>\n",
              "    <tr>\n",
              "      <th>...</th>\n",
              "      <td>...</td>\n",
              "      <td>...</td>\n",
              "      <td>...</td>\n",
              "      <td>...</td>\n",
              "      <td>...</td>\n",
              "    </tr>\n",
              "    <tr>\n",
              "      <th>31679</th>\n",
              "      <td>31679</td>\n",
              "      <td>4471000290087200</td>\n",
              "      <td>5011000213073200</td>\n",
              "      <td>패션의류/잡화</td>\n",
              "      <td>3</td>\n",
              "    </tr>\n",
              "    <tr>\n",
              "      <th>31680</th>\n",
              "      <td>31680</td>\n",
              "      <td>1129000014045300</td>\n",
              "      <td>5011000319087100</td>\n",
              "      <td>가전/디지털</td>\n",
              "      <td>4</td>\n",
              "    </tr>\n",
              "    <tr>\n",
              "      <th>31681</th>\n",
              "      <td>31681</td>\n",
              "      <td>1129000014045300</td>\n",
              "      <td>5011000263065200</td>\n",
              "      <td>가전/디지털</td>\n",
              "      <td>6</td>\n",
              "    </tr>\n",
              "    <tr>\n",
              "      <th>31682</th>\n",
              "      <td>31682</td>\n",
              "      <td>4127300065073100</td>\n",
              "      <td>5011000264061200</td>\n",
              "      <td>패션의류/잡화</td>\n",
              "      <td>7</td>\n",
              "    </tr>\n",
              "    <tr>\n",
              "      <th>31683</th>\n",
              "      <td>31683</td>\n",
              "      <td>2811000139076100</td>\n",
              "      <td>5011000520070100</td>\n",
              "      <td>생활/건강</td>\n",
              "      <td>4</td>\n",
              "    </tr>\n",
              "  </tbody>\n",
              "</table>\n",
              "<p>31684 rows × 5 columns</p>\n",
              "</div>\n",
              "      <button class=\"colab-df-convert\" onclick=\"convertToInteractive('df-0bb21e8b-caff-4b65-b7fc-28e1b4acf95d')\"\n",
              "              title=\"Convert this dataframe to an interactive table.\"\n",
              "              style=\"display:none;\">\n",
              "        \n",
              "  <svg xmlns=\"http://www.w3.org/2000/svg\" height=\"24px\"viewBox=\"0 0 24 24\"\n",
              "       width=\"24px\">\n",
              "    <path d=\"M0 0h24v24H0V0z\" fill=\"none\"/>\n",
              "    <path d=\"M18.56 5.44l.94 2.06.94-2.06 2.06-.94-2.06-.94-.94-2.06-.94 2.06-2.06.94zm-11 1L8.5 8.5l.94-2.06 2.06-.94-2.06-.94L8.5 2.5l-.94 2.06-2.06.94zm10 10l.94 2.06.94-2.06 2.06-.94-2.06-.94-.94-2.06-.94 2.06-2.06.94z\"/><path d=\"M17.41 7.96l-1.37-1.37c-.4-.4-.92-.59-1.43-.59-.52 0-1.04.2-1.43.59L10.3 9.45l-7.72 7.72c-.78.78-.78 2.05 0 2.83L4 21.41c.39.39.9.59 1.41.59.51 0 1.02-.2 1.41-.59l7.78-7.78 2.81-2.81c.8-.78.8-2.07 0-2.86zM5.41 20L4 18.59l7.72-7.72 1.47 1.35L5.41 20z\"/>\n",
              "  </svg>\n",
              "      </button>\n",
              "      \n",
              "  <style>\n",
              "    .colab-df-container {\n",
              "      display:flex;\n",
              "      flex-wrap:wrap;\n",
              "      gap: 12px;\n",
              "    }\n",
              "\n",
              "    .colab-df-convert {\n",
              "      background-color: #E8F0FE;\n",
              "      border: none;\n",
              "      border-radius: 50%;\n",
              "      cursor: pointer;\n",
              "      display: none;\n",
              "      fill: #1967D2;\n",
              "      height: 32px;\n",
              "      padding: 0 0 0 0;\n",
              "      width: 32px;\n",
              "    }\n",
              "\n",
              "    .colab-df-convert:hover {\n",
              "      background-color: #E2EBFA;\n",
              "      box-shadow: 0px 1px 2px rgba(60, 64, 67, 0.3), 0px 1px 3px 1px rgba(60, 64, 67, 0.15);\n",
              "      fill: #174EA6;\n",
              "    }\n",
              "\n",
              "    [theme=dark] .colab-df-convert {\n",
              "      background-color: #3B4455;\n",
              "      fill: #D2E3FC;\n",
              "    }\n",
              "\n",
              "    [theme=dark] .colab-df-convert:hover {\n",
              "      background-color: #434B5C;\n",
              "      box-shadow: 0px 1px 3px 1px rgba(0, 0, 0, 0.15);\n",
              "      filter: drop-shadow(0px 1px 2px rgba(0, 0, 0, 0.3));\n",
              "      fill: #FFFFFF;\n",
              "    }\n",
              "  </style>\n",
              "\n",
              "      <script>\n",
              "        const buttonEl =\n",
              "          document.querySelector('#df-0bb21e8b-caff-4b65-b7fc-28e1b4acf95d button.colab-df-convert');\n",
              "        buttonEl.style.display =\n",
              "          google.colab.kernel.accessAllowed ? 'block' : 'none';\n",
              "\n",
              "        async function convertToInteractive(key) {\n",
              "          const element = document.querySelector('#df-0bb21e8b-caff-4b65-b7fc-28e1b4acf95d');\n",
              "          const dataTable =\n",
              "            await google.colab.kernel.invokeFunction('convertToInteractive',\n",
              "                                                     [key], {});\n",
              "          if (!dataTable) return;\n",
              "\n",
              "          const docLinkHtml = 'Like what you see? Visit the ' +\n",
              "            '<a target=\"_blank\" href=https://colab.research.google.com/notebooks/data_table.ipynb>data table notebook</a>'\n",
              "            + ' to learn more about interactive tables.';\n",
              "          element.innerHTML = '';\n",
              "          dataTable['output_type'] = 'display_data';\n",
              "          await google.colab.output.renderOutput(dataTable, element);\n",
              "          const docLink = document.createElement('div');\n",
              "          docLink.innerHTML = docLinkHtml;\n",
              "          element.appendChild(docLink);\n",
              "        }\n",
              "      </script>\n",
              "    </div>\n",
              "  </div>\n",
              "  "
            ]
          },
          "metadata": {},
          "execution_count": 54
        }
      ]
    },
    {
      "cell_type": "code",
      "source": [
        "df['물품_카테고리'].value_counts()"
      ],
      "metadata": {
        "colab": {
          "base_uri": "https://localhost:8080/"
        },
        "id": "H58CoiBlzayU",
        "outputId": "5c65a053-5271-4c76-9965-7e3c4788255d"
      },
      "execution_count": null,
      "outputs": [
        {
          "output_type": "execute_result",
          "data": {
            "text/plain": [
              "식품             25570\n",
              "스포츠/레저/문화       1785\n",
              "생활/건강           1374\n",
              "패션의류/잡화         1113\n",
              "뷰티               527\n",
              "출산/유아동/반려동물      490\n",
              "가전/디지털           479\n",
              "가구/침구            346\n",
              "Name: 물품_카테고리, dtype: int64"
            ]
          },
          "metadata": {},
          "execution_count": 55
        }
      ]
    },
    {
      "cell_type": "code",
      "source": [
        "df1 = train.copy()"
      ],
      "metadata": {
        "id": "Ks72h3H8Lwk3"
      },
      "execution_count": null,
      "outputs": []
    },
    {
      "cell_type": "code",
      "source": [
        "\n",
        "from sklearn.preprocessing import LabelEncoder\n",
        "\n",
        "encoder = LabelEncoder()\n",
        "encoder.fit(df1['물품_카테고리'])\n",
        "\n",
        "df1['물품_카테고리'] = encoder.transform(df1['물품_카테고리'])\n"
      ],
      "metadata": {
        "id": "QR2qYw1EMYHl"
      },
      "execution_count": null,
      "outputs": []
    },
    {
      "cell_type": "code",
      "source": [
        "df1['물품_카테고리'].unique()"
      ],
      "metadata": {
        "id": "kFmcOWntMtsl",
        "outputId": "626ad1ed-f75a-4c3a-c419-1c6d63ecbd2a",
        "colab": {
          "base_uri": "https://localhost:8080/"
        }
      },
      "execution_count": null,
      "outputs": [
        {
          "output_type": "execute_result",
          "data": {
            "text/plain": [
              "array([67, 34, 27, 17, 51, 57, 56,  5, 66,  3, 54, 80, 97, 14, 69, 15, 41,\n",
              "        6, 35, 16, 81, 36, 61, 11, 44, 93, 33, 47, 29, 19, 25, 26, 45, 46,\n",
              "       21, 30, 31, 77, 42, 85, 84, 71, 59, 90, 10, 70,  1, 89, 95, 75,  0,\n",
              "       96, 22, 64, 86,  4, 76, 23, 74, 72, 40, 78,  9,  2, 49, 68, 73, 92,\n",
              "       60, 63, 55, 50, 83, 58,  8, 99, 88, 24, 39, 38, 98, 94, 32, 87, 12,\n",
              "       28, 18, 20, 13, 37, 62, 53,  7, 43, 65, 82, 48, 91, 52, 79])"
            ]
          },
          "metadata": {},
          "execution_count": 7
        }
      ]
    },
    {
      "cell_type": "code",
      "source": [
        "'''\n",
        "from sklearn.preprocessing import LabelEncoder\n",
        "\n",
        "encoder = LabelEncoder()\n",
        "encoder.fit(train['물품_카테고리'])\n",
        "\n",
        "train['물품_카테고리'] = encoder.transform(train['물품_카테고리'])\n",
        "test['물품_카테고리'] = encoder.transform(test['물품_카테고리'])\n",
        "\n",
        "'''"
      ],
      "metadata": {
        "id": "YF993pm0U2ge"
      },
      "execution_count": null,
      "outputs": []
    },
    {
      "cell_type": "markdown",
      "source": [
        "## 모델링 "
      ],
      "metadata": {
        "id": "8hn_31d3U5Ll"
      }
    },
    {
      "cell_type": "code",
      "source": [
        "from lightgbm import LGBMRegressor\n",
        "\n",
        "train_X = train.drop('운송장_건수',axis = 1)\n",
        "train_Y = train['운송장_건수']\n",
        "\n",
        "#모델 정의\n",
        "model = LGBMRegressor()"
      ],
      "metadata": {
        "id": "gxOCo2liU4WM"
      },
      "execution_count": null,
      "outputs": []
    },
    {
      "cell_type": "code",
      "source": [
        "# 모델 학습\n",
        "model.fit(train_X,train_Y)"
      ],
      "metadata": {
        "id": "3dP8gTxnU8Jv"
      },
      "execution_count": null,
      "outputs": []
    },
    {
      "cell_type": "code",
      "source": [
        "# test 데이터 예측\n",
        "pred = model.predict(test)"
      ],
      "metadata": {
        "id": "2-WRovj3U-ke"
      },
      "execution_count": null,
      "outputs": []
    },
    {
      "cell_type": "markdown",
      "source": [
        "## 정답 파일 생성"
      ],
      "metadata": {
        "id": "mJYFSJ2SVAq6"
      }
    }
  ]
}