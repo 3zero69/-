{
  "nbformat": 4,
  "nbformat_minor": 0,
  "metadata": {
    "colab": {
      "provenance": [],
      "authorship_tag": "ABX9TyONDDuQ1jULHk729Ebeo/KR",
      "include_colab_link": true
    },
    "kernelspec": {
      "name": "python3",
      "display_name": "Python 3"
    },
    "language_info": {
      "name": "python"
    }
  },
  "cells": [
    {
      "cell_type": "markdown",
      "metadata": {
        "id": "view-in-github",
        "colab_type": "text"
      },
      "source": [
        "<a href=\"https://colab.research.google.com/github/3zero69/-/blob/main/%ED%95%B8%EC%A6%88%EC%98%A8%EB%A8%B8%EC%8B%A0%EB%9F%AC%EB%8B%9D_CH4_%EB%AA%A8%EB%8D%B8_%ED%9B%88%EB%A0%A8_p_157_202.ipynb\" target=\"_parent\"><img src=\"https://colab.research.google.com/assets/colab-badge.svg\" alt=\"Open In Colab\"/></a>"
      ]
    },
    {
      "cell_type": "markdown",
      "source": [
        "# CHAPTER 4. 모델 훈련\n",
        "\n"
      ],
      "metadata": {
        "id": "cf10BIO-Tk0y"
      }
    },
    {
      "cell_type": "markdown",
      "source": [
        "1. 선형 회귀\n",
        "- 직접 계산할 수 있는 공식을 사용하여 훈련 세트에 가장 잘 맞는 모델 파라미터(즉, 훈련 세트에 대해 비용 함수를 최소화하는 모델 파라미터)를 해석적으로 구함\n",
        "- 경사 하강법(GD)이라 불리는 반복적인 최적화 방식을 사용하여 모델 파라미터를 조금씩 바꾸면서 비용 함수를 훈련 세트에 대해 최소화. 결국에는 앞의 방법과 동일한 파라미터로 수렴.\n",
        "- 경사 하강법의 변종으로 2부에서 신경망을 공부할 때 계속 사용하게 될 배치 경사 하강법, 미니 배치 경사 하강법, 확률적 경사 하강법 도 살펴보겠습니다.\n",
        "\n",
        "2. 다항회귀 - 비선형 데이터셋에 훈련시킬 수 있는 조금 더 복잡한 모델\n",
        "- 선형 회귀보다 파라미터가 많아서 훈련 데이터에 과대적합 되기 더 쉬움\n",
        "- 훈련 세트의 과대적합을 감소시킬 수 있는 규제 기법\n",
        "\n",
        "3. 로지스틱 회귀 & 소프트맥스 회귀 - 분류 작업에 널리 사용"
      ],
      "metadata": {
        "id": "uoTMuxQfWa7o"
      }
    },
    {
      "cell_type": "markdown",
      "source": [
        "## 4.1 선형 회귀\n",
        "\n",
        "* (1장) 삶의 만족도에 대한 간단한 선형 회귀 모델\n",
        "${삶의 만족도 = theata_0 + theata_1 * 1인당_GDP }$ \n",
        "  - 입력 특성인 '1인당_GDP' 에 대한 선형함수\n",
        "  - theata0과 theata1 이 모델 파라미터\n",
        "\n",
        "- 선형 모델\n",
        "  - 입력 특성의 가중치 합과 편향 (또는 절편) 이라는 상수를 더해 예측을 만듦"
      ],
      "metadata": {
        "id": "_FuZMkeoXRTr"
      }
    },
    {
      "cell_type": "markdown",
      "source": [
        "### 4.1.1 정규방정식\n",
        "\n",
        "- **정규 방정식** : 비용 함수를 최소화하는 theata 값을 찾기 위한 해석적 방법 (바로 결과를 얻을 수 있는 수학 공식)\n",
        "\n",
        "  - theata hat : 비용 함수를 최소화하는 theata 값\n",
        "  - y 는 y(1) 부터 y(m) 까지 포함하는 타깃 벡터"
      ],
      "metadata": {
        "id": "mt0xAaxmYHoQ"
      }
    },
    {
      "cell_type": "markdown",
      "source": [
        "공식을 테스트 해보자"
      ],
      "metadata": {
        "id": "DVRg4MAmY5gM"
      }
    },
    {
      "cell_type": "code",
      "execution_count": null,
      "metadata": {
        "id": "GPwTrylA0oUX"
      },
      "outputs": [],
      "source": [
        "# 선형처럼 보이는 데이터 생성\n",
        "\n",
        "import numpy as np\n",
        "\n",
        "X = 2 * np.random.rand(100,1)\n",
        "y = 4 + 3 * X + np.random.randn(100,1)"
      ]
    },
    {
      "cell_type": "code",
      "source": [
        "#@title 정규방정식을 사용해 theata hat 계산\n",
        "#\n",
        "# y = 4 + 3*x1 + 가우시안_잡음\n",
        "#\n",
        "# 넘파이 선형대수 모듈(np.linalg) 의 inv() 함수로 역행렬 계산 /dot() 메서드로 행렬 곱셈\n",
        "\n",
        "X_b = np.c_[np.ones((100,1)), X] # 모든 샘플에 x0 = 1 추가\n",
        "theta_best = np.linalg.inv(X_b.T.dot(X_b)).dot(X_b.T).dot(y)\n",
        "\n",
        "theta_best\n",
        "\n",
        "## 잡음 때문에 원래 함수의 파라미터를 정확하게 재현하지 못함"
      ],
      "metadata": {
        "colab": {
          "base_uri": "https://localhost:8080/"
        },
        "id": "ab_YRDUjZXD4",
        "outputId": "7c826ea9-1908-47a9-925d-00e8dc311624"
      },
      "execution_count": null,
      "outputs": [
        {
          "output_type": "execute_result",
          "data": {
            "text/plain": [
              "array([[4.11449915],\n",
              "       [2.94788842]])"
            ]
          },
          "metadata": {},
          "execution_count": 3
        }
      ]
    },
    {
      "cell_type": "code",
      "source": [
        "#@title theata hat 을 사용해 예측\n",
        "\n",
        "X_new = np.array([[0],[2]])\n",
        "X_new_b = np.c_[np.ones((2,1)),X_new]\n",
        "\n",
        "y_predict = X_new_b.dot(theta_best)\n",
        "y_predict"
      ],
      "metadata": {
        "colab": {
          "base_uri": "https://localhost:8080/"
        },
        "id": "VG9rDnLOams4",
        "outputId": "5ecfb1cc-37a9-4e6d-a521-ab67f7c7fd16"
      },
      "execution_count": null,
      "outputs": [
        {
          "output_type": "execute_result",
          "data": {
            "text/plain": [
              "array([[ 4.11449915],\n",
              "       [10.01027599]])"
            ]
          },
          "metadata": {},
          "execution_count": 4
        }
      ]
    },
    {
      "cell_type": "code",
      "source": [
        "# 모델의 예측 그래프에 나타내기\n",
        "\n",
        "import matplotlib.pyplot as plt\n",
        "\n",
        "plt.plot(X_new, y_predict, \"r-\")\n",
        "plt.plot(X,y,\"b.\")\n",
        "plt.axis([0,2,0,15])\n",
        "plt.show()"
      ],
      "metadata": {
        "colab": {
          "base_uri": "https://localhost:8080/",
          "height": 265
        },
        "id": "GKS0vgBNbAFq",
        "outputId": "35f34576-17dd-4aae-b625-827e52836f45"
      },
      "execution_count": null,
      "outputs": [
        {
          "output_type": "display_data",
          "data": {
            "text/plain": [
              "<Figure size 432x288 with 1 Axes>"
            ],
            "image/png": "[encoded data removed]"
          },
          "metadata": {
            "needs_background": "light"
          }
        }
      ]
    },
    {
      "cell_type": "code",
      "source": [
        "#@title 사이킷런에서 선형 회귀 수행\n",
        "\n",
        "from sklearn.linear_model import LinearRegression\n",
        "lin_reg = LinearRegression()\n",
        "lin_reg.fit(X,y)"
      ],
      "metadata": {
        "colab": {
          "base_uri": "https://localhost:8080/",
          "height": 74
        },
        "id": "XKV8WqP2bU6Q",
        "outputId": "9e49d205-017f-41f6-b7d8-31a24c0bffdb"
      },
      "execution_count": null,
      "outputs": [
        {
          "output_type": "execute_result",
          "data": {
            "text/plain": [
              "LinearRegression()"
            ],
            "text/html": [
              "<style>#sk-container-id-1 {color: black;background-color: white;}#sk-container-id-1 pre{padding: 0;}#sk-container-id-1 div.sk-toggleable {background-color: white;}#sk-container-id-1 label.sk-toggleable__label {cursor: pointer;display: block;width: 100%;margin-bottom: 0;padding: 0.3em;box-sizing: border-box;text-align: center;}#sk-container-id-1 label.sk-toggleable__label-arrow:before {content: \"▸\";float: left;margin-right: 0.25em;color: #696969;}#sk-container-id-1 label.sk-toggleable__label-arrow:hover:before {color: black;}#sk-container-id-1 div.sk-estimator:hover label.sk-toggleable__label-arrow:before {color: black;}#sk-container-id-1 div.sk-toggleable__content {max-height: 0;max-width: 0;overflow: hidden;text-align: left;background-color: #f0f8ff;}#sk-container-id-1 div.sk-toggleable__content pre {margin: 0.2em;color: black;border-radius: 0.25em;background-color: #f0f8ff;}#sk-container-id-1 input.sk-toggleable__control:checked~div.sk-toggleable__content {max-height: 200px;max-width: 100%;overflow: auto;}#sk-container-id-1 input.sk-toggleable__control:checked~label.sk-toggleable__label-arrow:before {content: \"▾\";}#sk-container-id-1 div.sk-estimator input.sk-toggleable__control:checked~label.sk-toggleable__label {background-color: #d4ebff;}#sk-container-id-1 div.sk-label input.sk-toggleable__control:checked~label.sk-toggleable__label {background-color: #d4ebff;}#sk-container-id-1 input.sk-hidden--visually {border: 0;clip: rect(1px 1px 1px 1px);clip: rect(1px, 1px, 1px, 1px);height: 1px;margin: -1px;overflow: hidden;padding: 0;position: absolute;width: 1px;}#sk-container-id-1 div.sk-estimator {font-family: monospace;background-color: #f0f8ff;border: 1px dotted black;border-radius: 0.25em;box-sizing: border-box;margin-bottom: 0.5em;}#sk-container-id-1 div.sk-estimator:hover {background-color: #d4ebff;}#sk-container-id-1 div.sk-parallel-item::after {content: \"\";width: 100%;border-bottom: 1px solid gray;flex-grow: 1;}#sk-container-id-1 div.sk-label:hover label.sk-toggleable__label {background-color: #d4ebff;}#sk-container-id-1 div.sk-serial::before {content: \"\";position: absolute;border-left: 1px solid gray;box-sizing: border-box;top: 0;bottom: 0;left: 50%;z-index: 0;}#sk-container-id-1 div.sk-serial {display: flex;flex-direction: column;align-items: center;background-color: white;padding-right: 0.2em;padding-left: 0.2em;position: relative;}#sk-container-id-1 div.sk-item {position: relative;z-index: 1;}#sk-container-id-1 div.sk-parallel {display: flex;align-items: stretch;justify-content: center;background-color: white;position: relative;}#sk-container-id-1 div.sk-item::before, #sk-container-id-1 div.sk-parallel-item::before {content: \"\";position: absolute;border-left: 1px solid gray;box-sizing: border-box;top: 0;bottom: 0;left: 50%;z-index: -1;}#sk-container-id-1 div.sk-parallel-item {display: flex;flex-direction: column;z-index: 1;position: relative;background-color: white;}#sk-container-id-1 div.sk-parallel-item:first-child::after {align-self: flex-end;width: 50%;}#sk-container-id-1 div.sk-parallel-item:last-child::after {align-self: flex-start;width: 50%;}#sk-container-id-1 div.sk-parallel-item:only-child::after {width: 0;}#sk-container-id-1 div.sk-dashed-wrapped {border: 1px dashed gray;margin: 0 0.4em 0.5em 0.4em;box-sizing: border-box;padding-bottom: 0.4em;background-color: white;}#sk-container-id-1 div.sk-label label {font-family: monospace;font-weight: bold;display: inline-block;line-height: 1.2em;}#sk-container-id-1 div.sk-label-container {text-align: center;}#sk-container-id-1 div.sk-container {/* jupyter's `normalize.less` sets `[hidden] { display: none; }` but bootstrap.min.css set `[hidden] { display: none !important; }` so we also need the `!important` here to be able to override the default hidden behavior on the sphinx rendered scikit-learn.org. See: https://github.com/scikit-learn/scikit-learn/issues/21755 */display: inline-block !important;position: relative;}#sk-container-id-1 div.sk-text-repr-fallback {display: none;}</style><div id=\"sk-container-id-1\" class=\"sk-top-container\"><div class=\"sk-text-repr-fallback\"><pre>LinearRegression()</pre><b>In a Jupyter environment, please rerun this cell to show the HTML representation or trust the notebook. <br />On GitHub, the HTML representation is unable to render, please try loading this page with nbviewer.org.</b></div><div class=\"sk-container\" hidden><div class=\"sk-item\"><div class=\"sk-estimator sk-toggleable\"><input class=\"sk-toggleable__control sk-hidden--visually\" id=\"sk-estimator-id-1\" type=\"checkbox\" checked><label for=\"sk-estimator-id-1\" class=\"sk-toggleable__label sk-toggleable__label-arrow\">LinearRegression</label><div class=\"sk-toggleable__content\"><pre>LinearRegression()</pre></div></div></div></div></div>"
            ]
          },
          "metadata": {},
          "execution_count": 6
        }
      ]
    },
    {
      "cell_type": "code",
      "source": [
        "lin_reg.intercept_, lin_reg.coef_"
      ],
      "metadata": {
        "colab": {
          "base_uri": "https://localhost:8080/"
        },
        "id": "HFZiK2Xobinx",
        "outputId": "2b43ca65-9ecf-4103-c1ea-2955adb657a5"
      },
      "execution_count": null,
      "outputs": [
        {
          "output_type": "execute_result",
          "data": {
            "text/plain": [
              "(array([4.11449915]), array([[2.94788842]]))"
            ]
          },
          "metadata": {},
          "execution_count": 7
        }
      ]
    },
    {
      "cell_type": "code",
      "source": [
        "lin_reg.predict(X_new)"
      ],
      "metadata": {
        "colab": {
          "base_uri": "https://localhost:8080/"
        },
        "id": "qR6P8_w0bo5y",
        "outputId": "d14e741e-ce20-439c-8e1a-16e9d1e81bf3"
      },
      "execution_count": null,
      "outputs": [
        {
          "output_type": "execute_result",
          "data": {
            "text/plain": [
              "array([[ 4.11449915],\n",
              "       [10.01027599]])"
            ]
          },
          "metadata": {},
          "execution_count": 8
        }
      ]
    },
    {
      "cell_type": "code",
      "source": [
        "#@title LinearRegression 클래스 scipy.linalg.lstsq() 기반, 함수 직접 호출\n",
        "#\n",
        "# theta hat = X^+ * y (X^+ : 유사역행렬)\n",
        "\n",
        "theta_best_svd, residuals, rank, s = np.linalg.lstsq(X_b, y, rcond=1e-6)\n",
        "theta_best_svd"
      ],
      "metadata": {
        "colab": {
          "base_uri": "https://localhost:8080/"
        },
        "id": "iyo61e4JbuE-",
        "outputId": "ec03cfcf-a8c5-459e-8e39-a569adcf5d99"
      },
      "execution_count": null,
      "outputs": [
        {
          "output_type": "execute_result",
          "data": {
            "text/plain": [
              "array([[4.11449915],\n",
              "       [2.94788842]])"
            ]
          },
          "metadata": {},
          "execution_count": 9
        }
      ]
    },
    {
      "cell_type": "code",
      "source": [
        "#유사역행렬 직접 구하기\n",
        "\n",
        "np.linalg.pinv(X_b).dot(y)\n"
      ],
      "metadata": {
        "colab": {
          "base_uri": "https://localhost:8080/"
        },
        "id": "S7Ws9yu6cUlC",
        "outputId": "99a32628-3f19-4134-ab75-5bdfb4c9b880"
      },
      "execution_count": null,
      "outputs": [
        {
          "output_type": "execute_result",
          "data": {
            "text/plain": [
              "array([[4.11449915],\n",
              "       [2.94788842]])"
            ]
          },
          "metadata": {},
          "execution_count": 10
        }
      ]
    },
    {
      "cell_type": "markdown",
      "source": [
        "### 4.1.2 계산 복잡도\n",
        "\n",
        "* 정규방정식은 (n+1) * (n+1) 크기가 되는 ${X^TX}$ 의 역행렬을 계산  \n",
        "* 역행렬을 계산하는 계산 복잡도\n"
      ],
      "metadata": {
        "id": "GNcHxYgkcfBf"
      }
    },
    {
      "cell_type": "markdown",
      "source": [
        "## 4.2 경사 하강법\n",
        "\n",
        "여러 종류의 문제에서 최적의 해법을 찾을 수 있는 일반적인 최적화 알고리즘\n",
        "\n",
        "* 아이디어 : 비용 함수를 최소화하기 위해 반복해서 파라미터 조정\n",
        "\n",
        "  - 파라미터 벡터 theta 에 대해 비용 함수의 현재 그레이디언트를 계산\n",
        "  - 그리고 그레이디언트가 감소하는 방향으로 진행\n",
        "  - 그레이디언트가 0이 되면 최솟값에 도달한 것\n",
        "\n",
        "* 방법\n",
        "  : theta 를 임의의 값으로 시작해서 (무작위 초기화) 한 번에 조금씩 비용 함수가 감소되는 방향으로 진행하여 알고리즘이 최솟값에 수렴할 때까지 점진적으로 향상시킴\n",
        "\n",
        "* 주요 파라미터 : 스텝의 크기\n",
        "  - 학습률 하이퍼파라미터로 결정됨\n",
        "   - 학습률이 너무 작으면 알고리즘이 수렴하기 위해 반복을 많이 진행해야 하므로 시간이 오래 걸림\n",
        "   - 학습률이 너무 크면 골짜기를 가로질러 반대편으로 건너뛰게 되어 더 높은 곳으로 올라가게 될지도 모름\n",
        "     - 이는 알고리즘을 더 큰 값으로 발산하게 만들어 적절한 해법을 찾지 못하게 함"
      ],
      "metadata": {
        "id": "9nWxtD1BeMyS"
      }
    },
    {
      "cell_type": "markdown",
      "source": [
        "* 경사 하강법의 문제점\n",
        "1. 무작위 초기화 때문에 알고리즘이 왼쪽에서 시작하면 전역 최솟값보다 덜 좋은 지역 최솟값에 수렴\n",
        "2. 알고리즘이 오른쪽에서 시작하면 평탄한 지역을 지나기 위해 시간이 오래 걸리고 일찍 멈추게 되어 전역 최솟값에 도달하지 못함\n",
        "\n",
        "* 선형 회귀를 위한 MSE 비용 함수 \n",
        " - 어떤 두 점을 선택해 선을 그어도 곡선을 가로지르지 않는 볼록 함수\n",
        "   - 지역 최솟값이 없고, 하나의 전역 최솟값만 있음\n",
        "   - 연속된 함수이고 기울기가 갑자기 변하지 않음\n",
        " - 경사 하강법이 전역 최솟값에 가깝게 접근할 수 있다는 것을 보장"
      ],
      "metadata": {
        "id": "5NtdqJs1o4Fn"
      }
    },
    {
      "cell_type": "markdown",
      "source": [
        "* 비용 함수는 대부분 그릇 모양을 하고 있지만,  특성들의 스케일이 매우 다르면 길쭉한 모양일 수 있음\n",
        " "
      ],
      "metadata": {
        "id": "VnaeIvSDpi3V"
      }
    },
    {
      "cell_type": "markdown",
      "source": [
        "### 4.2.1 배치 경사 하강법\n",
        "* 편도함수 : theta 가 조금씩 변경될 때 비용 함수가 얼마나 바뀌는지 계산"
      ],
      "metadata": {
        "id": "YBLoa0CjpuFq"
      }
    },
    {
      "cell_type": "markdown",
      "source": [
        "스텝 알고리즘 구현"
      ],
      "metadata": {
        "id": "Hsy_cLhyqhuy"
      }
    },
    {
      "cell_type": "code",
      "source": [
        "eta = 0.1 # 학습률\n",
        "n_iterations = 100\n",
        "m = 100\n",
        "\n",
        "theta = np.random.randn(2,1)  # 무작위 초기화\n",
        "\n",
        "for iteration in range(n_iterations):\n",
        "  gradients=2/m * X_b.T.dot(X_b.dot(theta)-y)\n",
        "  theta=theta-eta*gradients"
      ],
      "metadata": {
        "id": "9wIWeLsCqD5U"
      },
      "execution_count": null,
      "outputs": []
    },
    {
      "cell_type": "code",
      "source": [
        "theta\n",
        "\n",
        "## 정규 방정식으로 찾은 값과 정확히 같음 - 경사 하강법 완벽히 작동"
      ],
      "metadata": {
        "colab": {
          "base_uri": "https://localhost:8080/"
        },
        "id": "I_QWinXCqfd0",
        "outputId": "89bcc6fd-5144-4b1f-90d0-f234a5b0a62b"
      },
      "execution_count": null,
      "outputs": [
        {
          "output_type": "execute_result",
          "data": {
            "text/plain": [
              "array([[4.07324656],\n",
              "       [2.98402422]])"
            ]
          },
          "metadata": {},
          "execution_count": 12
        }
      ]
    },
    {
      "cell_type": "markdown",
      "source": [
        "학습률 \n",
        "- 학습률이 너무 낮으면\n",
        " - 알고리즘은 최적점에 도달하겠지만 시간이 오래 걸림\n",
        "- 학습률이 적당하면\n",
        " - 반복 몇 번 만에 이미 최적점에 수렴\n",
        "- 학습률이 너무 높으면\n",
        " - 알고리즘이 널뛰면서 스텝마다 최적점에서 점점 더 멀어져 발산\n",
        "\n",
        "\n",
        "적절한 학습률을 찾으려면,\n",
        "- 그리드 탐색 사용\n",
        "  - 그러나, 수렴하는 데 너무 오래 걸리는 모델을 막기 위해 반복 횟수 제한해야 함\n",
        "\n",
        "반복 횟수는 어떻게 지정?\n",
        "- 너무 작으면 \n",
        "  - 최적점에 도달하기 전에 알고리즘이 멈춤\n",
        "- 너무 크면 \n",
        "  - 모델 파라미터가 더는 변하지 않는 동안 시간 낭비\n",
        "\n",
        "- 해결책 :\n",
        " - 반복 횟수를 아주 크게 지정하고 그레이디언트 벡터가 아주 작아지면 (벡터의 노름이 어떤 값(허용오차) 보다 작아지면)\n",
        " - 경사 하강법이 최솟값에 도달한 것이므로 알고리즘 중지  \n"
      ],
      "metadata": {
        "id": "6gtWEYaBs7xc"
      }
    },
    {
      "cell_type": "markdown",
      "source": [
        "###4.2.2 확률적 경사 하강법"
      ],
      "metadata": {
        "id": "uDvQC65jqoxB"
      }
    },
    {
      "cell_type": "markdown",
      "source": [
        "배치 경사 하강법의 문제점\n",
        " - 매 스텝에서 전체 훈련 세트를 사용해 그레이디언트를 계싼\n",
        " - 훈련 세트가 커지면 매우 느려짐\n",
        "\n",
        "반대로, 확률적 경사 하강법은\n",
        " - 매 스텝에서 한 개의 샘플을 무작위로 선택하고, 그 하나의 샘플에 대한 그레이디언트를 계산\n",
        " - 매 반복에서 다뤄야 할 데이터가 매우 적기 때문에 한 번에 하나의 샘플을 처리하면 알고리즘이 훨씬 빠름\n",
        "\n",
        "그러나, 확률적(즉, 무작위) 이기 때문에\n",
        "- 배치 경사 하강법 보다 훨씬 불안정함 \n",
        "- 비용 함수가 최솟값에 다다를 때까지 부드럽게 감소하지 않고 위아래로 요동치면서 평균적으로 감소\n",
        "  - 시간이 지나면 최솟값에 매우 근접하나, 요동이 지속되면서 최솟값에 안착하지 못함\n",
        "  - 알고리즘이 멈출 때 좋은 파라미터가 구해지겠지만, 최적치는 아님 \n",
        "\n",
        "비용 함수가 매우 불규칙할 경우 \n",
        "- 알고리즘이 지역 최솟값을 건너 뛸 수도 있도록 도와주므로 \n",
        "- 확률적 경사 하강법이 배치 경사 하강법보다 전역 최솟값을 찾을 가능성 높음"
      ],
      "metadata": {
        "id": "S5HN8kb3uH_K"
      }
    },
    {
      "cell_type": "markdown",
      "source": [
        "**정리**\n",
        "\n",
        "무작위성은 \n",
        "- 지역 최솟값에서 탈출시켜줘서 좋지만\n",
        "- 알고리즘을 전역 최솟값에 다다르지 못하게 한다는 점에서는 좋지 않음\n",
        "\n",
        "해결책\n",
        "- 학습률을 점진적으로 감소시키는 것\n",
        "  - 시작할 때는 학습률을 크게 하고 \n",
        "    - 수렴을 빠르게, 지역 최솟값에 빠지지 않게\n",
        "  - 점차 작게 줄여서 알고리즘이 전역 최솟값에 도달하게 함\n",
        "\n",
        "cf . 학습 스케줄 : 매 반복에서 학습률을 결정하는 함수  "
      ],
      "metadata": {
        "id": "P-Bbo7VfvR0x"
      }
    },
    {
      "cell_type": "code",
      "source": [
        "#@title 간단한 학습 스케줄을 사용한 확률적 경사 하강법의 구현\n",
        "\n",
        "n_epochs=50\n",
        "t0, t1=5, 50 #학습 스케줄 하이퍼 파라미터\n",
        "\n",
        "def learning_schedule(t):\n",
        "  return t0/(t+t1)\n",
        "\n",
        "theta = np.random.randn(2,1) #무작위 초기화\n",
        "\n",
        "for epoch in range(n_epochs):\n",
        "  for i in range(m):                        \n",
        "    random_index=np.random.randint(m)\n",
        "    xi=X_b[random_index:random_index+1]\n",
        "    yi=y[random_index:random_index+1]\n",
        "    gradients=2*xi.T.dot(xi.dot(theta)-yi)\n",
        "    eta=learning_schedule(epoch*m+i)\n",
        "    theta=theta-eta*gradients"
      ],
      "metadata": {
        "id": "3FYxcm5dqr0J"
      },
      "execution_count": null,
      "outputs": []
    },
    {
      "cell_type": "markdown",
      "source": [
        "한 반복에서 m 번 되풀이 됨, 이때 각 반복을 **에포크** 라고 함"
      ],
      "metadata": {
        "id": "wnR50-Jpv-rb"
      }
    },
    {
      "cell_type": "code",
      "source": [
        "theta"
      ],
      "metadata": {
        "colab": {
          "base_uri": "https://localhost:8080/"
        },
        "id": "-4cNSzenquLb",
        "outputId": "d9dd4c83-28d7-4523-e98a-1f5b04e06746"
      },
      "execution_count": null,
      "outputs": [
        {
          "output_type": "execute_result",
          "data": {
            "text/plain": [
              "array([[4.10574766],\n",
              "       [2.93626374]])"
            ]
          },
          "metadata": {},
          "execution_count": 14
        }
      ]
    },
    {
      "cell_type": "markdown",
      "source": [
        "알고리즘이 에포크 마다 모든 샘플을 사용하게 하려면, 훈련 세트를 섞은 후 (입력 특성과 레이블을 동일하게 섞어야 함) , 차례대로 하나씩 선택하고 다음 에포크에서 다시 섞는 식의 방법 사용"
      ],
      "metadata": {
        "id": "IdGCC3iCwSM-"
      }
    },
    {
      "cell_type": "code",
      "source": [
        "#@title 사이킷런 SGD 방식 선형 회귀\n",
        "\n",
        "from sklearn.linear_model import SGDRegressor\n",
        "sgd_reg=SGDRegressor(max_iter=1000, tol=1e-3, penalty=None, eta0=0.1)\n",
        "sgd_reg.fit(X, y.ravel())\n",
        "     "
      ],
      "metadata": {
        "colab": {
          "base_uri": "https://localhost:8080/",
          "height": 74
        },
        "cellView": "form",
        "id": "vq7u-SolqwUG",
        "outputId": "9bacdf44-eb4a-4aca-f9d8-87057a1cec3e"
      },
      "execution_count": null,
      "outputs": [
        {
          "output_type": "execute_result",
          "data": {
            "text/plain": [
              "SGDRegressor(eta0=0.1, penalty=None)"
            ],
            "text/html": [
              "<style>#sk-container-id-2 {color: black;background-color: white;}#sk-container-id-2 pre{padding: 0;}#sk-container-id-2 div.sk-toggleable {background-color: white;}#sk-container-id-2 label.sk-toggleable__label {cursor: pointer;display: block;width: 100%;margin-bottom: 0;padding: 0.3em;box-sizing: border-box;text-align: center;}#sk-container-id-2 label.sk-toggleable__label-arrow:before {content: \"▸\";float: left;margin-right: 0.25em;color: #696969;}#sk-container-id-2 label.sk-toggleable__label-arrow:hover:before {color: black;}#sk-container-id-2 div.sk-estimator:hover label.sk-toggleable__label-arrow:before {color: black;}#sk-container-id-2 div.sk-toggleable__content {max-height: 0;max-width: 0;overflow: hidden;text-align: left;background-color: #f0f8ff;}#sk-container-id-2 div.sk-toggleable__content pre {margin: 0.2em;color: black;border-radius: 0.25em;background-color: #f0f8ff;}#sk-container-id-2 input.sk-toggleable__control:checked~div.sk-toggleable__content {max-height: 200px;max-width: 100%;overflow: auto;}#sk-container-id-2 input.sk-toggleable__control:checked~label.sk-toggleable__label-arrow:before {content: \"▾\";}#sk-container-id-2 div.sk-estimator input.sk-toggleable__control:checked~label.sk-toggleable__label {background-color: #d4ebff;}#sk-container-id-2 div.sk-label input.sk-toggleable__control:checked~label.sk-toggleable__label {background-color: #d4ebff;}#sk-container-id-2 input.sk-hidden--visually {border: 0;clip: rect(1px 1px 1px 1px);clip: rect(1px, 1px, 1px, 1px);height: 1px;margin: -1px;overflow: hidden;padding: 0;position: absolute;width: 1px;}#sk-container-id-2 div.sk-estimator {font-family: monospace;background-color: #f0f8ff;border: 1px dotted black;border-radius: 0.25em;box-sizing: border-box;margin-bottom: 0.5em;}#sk-container-id-2 div.sk-estimator:hover {background-color: #d4ebff;}#sk-container-id-2 div.sk-parallel-item::after {content: \"\";width: 100%;border-bottom: 1px solid gray;flex-grow: 1;}#sk-container-id-2 div.sk-label:hover label.sk-toggleable__label {background-color: #d4ebff;}#sk-container-id-2 div.sk-serial::before {content: \"\";position: absolute;border-left: 1px solid gray;box-sizing: border-box;top: 0;bottom: 0;left: 50%;z-index: 0;}#sk-container-id-2 div.sk-serial {display: flex;flex-direction: column;align-items: center;background-color: white;padding-right: 0.2em;padding-left: 0.2em;position: relative;}#sk-container-id-2 div.sk-item {position: relative;z-index: 1;}#sk-container-id-2 div.sk-parallel {display: flex;align-items: stretch;justify-content: center;background-color: white;position: relative;}#sk-container-id-2 div.sk-item::before, #sk-container-id-2 div.sk-parallel-item::before {content: \"\";position: absolute;border-left: 1px solid gray;box-sizing: border-box;top: 0;bottom: 0;left: 50%;z-index: -1;}#sk-container-id-2 div.sk-parallel-item {display: flex;flex-direction: column;z-index: 1;position: relative;background-color: white;}#sk-container-id-2 div.sk-parallel-item:first-child::after {align-self: flex-end;width: 50%;}#sk-container-id-2 div.sk-parallel-item:last-child::after {align-self: flex-start;width: 50%;}#sk-container-id-2 div.sk-parallel-item:only-child::after {width: 0;}#sk-container-id-2 div.sk-dashed-wrapped {border: 1px dashed gray;margin: 0 0.4em 0.5em 0.4em;box-sizing: border-box;padding-bottom: 0.4em;background-color: white;}#sk-container-id-2 div.sk-label label {font-family: monospace;font-weight: bold;display: inline-block;line-height: 1.2em;}#sk-container-id-2 div.sk-label-container {text-align: center;}#sk-container-id-2 div.sk-container {/* jupyter's `normalize.less` sets `[hidden] { display: none; }` but bootstrap.min.css set `[hidden] { display: none !important; }` so we also need the `!important` here to be able to override the default hidden behavior on the sphinx rendered scikit-learn.org. See: https://github.com/scikit-learn/scikit-learn/issues/21755 */display: inline-block !important;position: relative;}#sk-container-id-2 div.sk-text-repr-fallback {display: none;}</style><div id=\"sk-container-id-2\" class=\"sk-top-container\"><div class=\"sk-text-repr-fallback\"><pre>SGDRegressor(eta0=0.1, penalty=None)</pre><b>In a Jupyter environment, please rerun this cell to show the HTML representation or trust the notebook. <br />On GitHub, the HTML representation is unable to render, please try loading this page with nbviewer.org.</b></div><div class=\"sk-container\" hidden><div class=\"sk-item\"><div class=\"sk-estimator sk-toggleable\"><input class=\"sk-toggleable__control sk-hidden--visually\" id=\"sk-estimator-id-2\" type=\"checkbox\" checked><label for=\"sk-estimator-id-2\" class=\"sk-toggleable__label sk-toggleable__label-arrow\">SGDRegressor</label><div class=\"sk-toggleable__content\"><pre>SGDRegressor(eta0=0.1, penalty=None)</pre></div></div></div></div></div>"
            ]
          },
          "metadata": {},
          "execution_count": 15
        }
      ]
    },
    {
      "cell_type": "code",
      "source": [
        "sgd_reg.intercept_, sgd_reg.coef_\n",
        "\n",
        "## 정규방정식으로 구한 것과 매우 비슷한 값"
      ],
      "metadata": {
        "colab": {
          "base_uri": "https://localhost:8080/"
        },
        "id": "FngB1K8dq2NP",
        "outputId": "6726841d-72f0-4181-d520-a2118ef0e488"
      },
      "execution_count": null,
      "outputs": [
        {
          "output_type": "execute_result",
          "data": {
            "text/plain": [
              "(array([4.05240744]), array([2.91509955]))"
            ]
          },
          "metadata": {},
          "execution_count": 16
        }
      ]
    },
    {
      "cell_type": "markdown",
      "source": [
        "### 4.2.3 미니배치 경사 하강법"
      ],
      "metadata": {
        "id": "u0cSLx3qqt4-"
      }
    },
    {
      "cell_type": "markdown",
      "source": [
        "각 스텝에서 전체 훈련 세트(배치 경사 하강법 처럼) 나 하나의 샘플(확률적 경사 하강법 처럼) 을 기반으로 그레이디언트를 계산하는 것이 아니라,\n",
        "\n",
        "**미니배치**라 부르는 임의의 작음 샘플 세트에 대해 그레이디언트를 계산\n",
        "\n",
        "- 확률적 경사 하강법에 비해 행렬 연산에 최적화된 하드웨어, 특히 GPU 를 사용해서 얻는 성능 향상"
      ],
      "metadata": {
        "id": "98zdhc3bVDmn"
      }
    },
    {
      "cell_type": "markdown",
      "source": [
        "미니배치를 어느 정도 크게 하면, 파라미터 공간에서 SGD 보다 덜 불규칙하게 움직임 \n",
        " - 결국 미니배치 경사 하강법이 SGD 보다 최솟값에 더 가까이 도달\n",
        " - 하지만, 지역 최솟값에서 빠져나오기는 더 힘듦"
      ],
      "metadata": {
        "id": "FMRayEzkVbf5"
      }
    },
    {
      "cell_type": "markdown",
      "source": [
        "#### 세 가지 경사 하강법 비교\n",
        "각 알고리즘이 훈련 과정동안 파라미터 공간에서 움직인 경로\n",
        "\n",
        "- 모두 최솟값 근처에 도달\n",
        "- 배치 경사 하강법의 경로: 실제로 최솟값에서 멈춤\n",
        "  - 그러나, 매 스텝에서 많은 시간이 소요\n",
        "- 확률적 경사 하강법 & 미니배치 경사 하강법의 경로 : 근처에서 맴돌고 있음 \n",
        "  - 적절한 학습 스케줄을 사용하면 최솟값에 도달함"
      ],
      "metadata": {
        "id": "KfiDW_4fVomM"
      }
    },
    {
      "cell_type": "markdown",
      "source": [
        "## 4.3 다항 회귀"
      ],
      "metadata": {
        "id": "2zgrslmhq5Y1"
      }
    },
    {
      "cell_type": "markdown",
      "source": [
        "가지고 있는 데이터가 단순한 직선보다 복잡한 형태인 경우\n",
        "\n",
        "- 다항회귀 : 비선형데이터를 학습하는 데 선형 모델을 사용 할 수 있음\n",
        "  - 각 특성의 거듭제곱을 새로운 특성으로 추가하고, \n",
        "  - 확장된 특성을 포함한 데이터셋에 선형 모델을 훈련"
      ],
      "metadata": {
        "id": "eFrXBnd7WJtM"
      }
    },
    {
      "cell_type": "code",
      "source": [
        "# 2차 방정식 비선형 데이터 생성\n",
        "\n",
        "m=100\n",
        "X=6*np.random.rand(m, 1)-3\n",
        "y=0.5*X**2+X+2+np.random.randn(m,1) # 약간의 잡음 포함"
      ],
      "metadata": {
        "id": "zwUzL8znq77U"
      },
      "execution_count": null,
      "outputs": []
    },
    {
      "cell_type": "code",
      "source": [
        "# 훈련 데이터 변환 - 각 특성을 제곱하여 새로운 특성으로 추가\n",
        "\n",
        "from sklearn.preprocessing import PolynomialFeatures\n",
        "poly_features=PolynomialFeatures(degree=2, include_bias=False)\n",
        "X_poly=poly_features.fit_transform(X) \n",
        "X[0]"
      ],
      "metadata": {
        "colab": {
          "base_uri": "https://localhost:8080/"
        },
        "id": "6cnJOBi_q_rD",
        "outputId": "f5feebdf-719c-472e-a834-d185472e329d"
      },
      "execution_count": null,
      "outputs": [
        {
          "output_type": "execute_result",
          "data": {
            "text/plain": [
              "array([0.13229871])"
            ]
          },
          "metadata": {},
          "execution_count": 18
        }
      ]
    },
    {
      "cell_type": "code",
      "source": [
        "X_poly[0] ## 원래 특성 X와 이 특성의 제곱 포함"
      ],
      "metadata": {
        "colab": {
          "base_uri": "https://localhost:8080/"
        },
        "id": "yHFfEuelrIAj",
        "outputId": "73bcda78-d805-498d-dc2c-0c3cd1e8005b"
      },
      "execution_count": null,
      "outputs": [
        {
          "output_type": "execute_result",
          "data": {
            "text/plain": [
              "array([0.13229871, 0.01750295])"
            ]
          },
          "metadata": {},
          "execution_count": 19
        }
      ]
    },
    {
      "cell_type": "code",
      "source": [
        "# 확장된 훈련 데이터에 LInear Regression 적용\n",
        "lin_reg=LinearRegression()\n",
        "lin_reg.fit(X_poly, y)\n",
        "lin_reg.intercept_, lin_reg.coef_"
      ],
      "metadata": {
        "colab": {
          "base_uri": "https://localhost:8080/"
        },
        "id": "P7bd_iAWrI9J",
        "outputId": "edb9916e-3a5d-46da-92bd-002b2edcccb1"
      },
      "execution_count": null,
      "outputs": [
        {
          "output_type": "execute_result",
          "data": {
            "text/plain": [
              "(array([2.07049069]), array([[0.93639248, 0.44528025]]))"
            ]
          },
          "metadata": {},
          "execution_count": 20
        }
      ]
    },
    {
      "cell_type": "markdown",
      "source": [
        "특성이 여러 개일 때 다항 회귀는 이 특성 사이의 관계를 찾을 수 있음 (일반적인 선형 회귀 모델에서는 하지 못함)\n",
        "- PolynomialFeatures 가 주어진 차수까지 트성 간의 모든 교차항을 추가함"
      ],
      "metadata": {
        "id": "ZCbpvGj-YAZ-"
      }
    },
    {
      "cell_type": "markdown",
      "source": [
        "## 4.4 학습 곡선"
      ],
      "metadata": {
        "id": "o_YoYWt2rLlc"
      }
    },
    {
      "cell_type": "markdown",
      "source": [
        "고차 다항 회귀를 적용하면,\n",
        "- 보통의 선형 회귀에서보다 훨씬 더 훈련 데이터에 잘 맞추려고 함\n",
        "- 단순 선형 모델, 2차 모델과 비교\n",
        "  - 고차 다항 회귀 모델은 훈련 샘플에 가능한 가까이 가려고 구불구불하게 나타남\n",
        "   - 심각하게 훈련 데이터에 과대적합\n",
        "  - 반면, 선형 모델은 과소적합\n",
        "\n"
      ],
      "metadata": {
        "id": "mnMcsTE5YPP6"
      }
    },
    {
      "cell_type": "markdown",
      "source": [
        "얼마나 복잡한 모델을 사용할지 어떻게 결정?\n",
        "\n",
        "어떻게 모델이 데이터에 과대적합 또는 과소적합 되었는지 판단?\n",
        "\n",
        "- 2장. 모델의 일반화 성능을 추정하기 위해 교차 검증 사용\n",
        "  - 훈련 데이터의 성능이 좋지만, 교차 검증 점수가 나쁘면 모델이 과대적합\n",
        "  - 양 쪽 모두 좋지 않으면 과소적합\n",
        "\n",
        "- 3장. **학습 곡선**\n",
        "  - 훈련 세트와 검증 세트의 모델 성능을 훈련 세트 크기(또는 훈련 반복)의 함수로 나타냄\n",
        "  - 훈련 세트에서 크기가 다른 서브 세트를 만들어 모델을 여러번 훈련"
      ],
      "metadata": {
        "id": "1GLOQkalY3gu"
      }
    },
    {
      "cell_type": "code",
      "source": [
        "#@title 모델의 학습 곡선을 그리는 함수 : plot_learning_curves(model, X, y)\n",
        "\n",
        "from sklearn.metrics import mean_squared_error\n",
        "from sklearn.model_selection import train_test_split\n",
        "\n",
        "def plot_learning_curves(model, X, y):\n",
        "  X_train, X_val, y_train, y_val=train_test_split(X, y, test_size=0.2)\n",
        "  train_errors, val_errors=[], []\n",
        "  for m in range(1, len(X_train)):\n",
        "    model.fit(X_train[:m], y_train[:m])\n",
        "    y_train_predict=model.predict(X_train[:m])\n",
        "    y_val_predict=model.predict(X_val)\n",
        "    train_errors.append(mean_squared_error(y_train[:m], y_train_predict))\n",
        "    val_errors.append(mean_squared_error(y_val, y_val_predict))\n",
        "  plt.plot(np.sqrt(train_errors), 'r-+', linewidth=2, label='훈련 세트')\n",
        "  plt.plot(np.sqrt(val_errors), 'b-', linewidth=3, label='검증 세트')"
      ],
      "metadata": {
        "id": "0YUz4T9arNAW"
      },
      "execution_count": null,
      "outputs": []
    },
    {
      "cell_type": "code",
      "source": [
        "#단순 선형 회귀 모델의 학습 곡선\n",
        "\n",
        "lin_reg=LinearRegression()\n",
        "plot_learning_curves(lin_reg, X, y)"
      ],
      "metadata": {
        "colab": {
          "base_uri": "https://localhost:8080/",
          "height": 265
        },
        "id": "_34cWeWmrOdN",
        "outputId": "ef2528a7-be19-4336-8261-9d28d37b1e01"
      },
      "execution_count": null,
      "outputs": [
        {
          "output_type": "display_data",
          "data": {
            "text/plain": [
              "<Figure size 432x288 with 1 Axes>"
            ],
            "image/png": "[encoded data removed]"
          },
          "metadata": {
            "needs_background": "light"
          }
        }
      ]
    },
    {
      "cell_type": "markdown",
      "source": [
        "> 과소적합 모델 \n",
        "1. 훈련 데이터의 성능 : 그래프가 0에서 시작하므로,\n",
        "           - 훈련 세트에 하나 혹은 두개의 샘플이 있을 땐 모델이 완벽하게 작동\n",
        "           - 훈련 세트에 샘플이 추가됨에 따라 잡음도 있고 비선형이기 때문에 모델이 훈련 데이터를 완벽하게 학습하는 것이 불가능해짐\n",
        "           - 곡선이 어느 정도 평탄해질 때까지 오차가 계속 상승\n",
        "           - 훈련 세트에 샘플이 추가되어도 평균 오차가 크게 나아지거나 나빠지지 않음\n",
        "2. 검증 데이터에 대한 모델의 성능\n",
        "         - 모델이 적은 수의 훈련 샘플로 훈련될 때는 제대로 일반화 될 수 없어서 검증 오차가 초기에 매우 큼\n",
        "         - 훈련 샘플이 추가됨에 따라 학습이 되고 검증 오차가 천천히 감소\n",
        "         - 그러나, 선형 회귀의 직선은 데이터를 잘 모델링 할 수 없으므로 오차의 감소가 완만해져 훈련 세트의 그래프와 가까워짐\n",
        "3. 과소적합 모델의 전형적인 모습 \n",
        "- 두 곡선이 수평한 구간을 만들고 꽤 높은 오차에서 매우 가까이 근접\n"
      ],
      "metadata": {
        "id": "trdo1myVaQj9"
      }
    },
    {
      "cell_type": "code",
      "source": [
        "#@title 10차 다항 회귀 모델의 학습 곡선\n",
        "\n",
        "from sklearn.pipeline import Pipeline\n",
        "\n",
        "polynomial_regression=Pipeline([('poly_features', PolynomialFeatures(degree=10, include_bias=False)), ('lin_reg', LinearRegression())])\n",
        "plot_learning_curves(polynomial_regression, X, y)\n",
        "     "
      ],
      "metadata": {
        "colab": {
          "base_uri": "https://localhost:8080/",
          "height": 265
        },
        "id": "F-tT42BLrR6U",
        "outputId": "474c378b-dc41-4ffa-c639-67de2a58ebae"
      },
      "execution_count": null,
      "outputs": [
        {
          "output_type": "display_data",
          "data": {
            "text/plain": [
              "<Figure size 432x288 with 1 Axes>"
            ],
            "image/png": "[encoded data removed]"
          },
          "metadata": {
            "needs_background": "light"
          }
        }
      ]
    },
    {
      "cell_type": "markdown",
      "source": [
        "> - 훈련 데이터의 오차가 선형 회귀 모델보다 훨씬 낮음\n",
        "- 두 곡선 사이의 공간 : 훈련 데이터에서의 모델 성능이 검증 데이터에서보다 훨씬 낫다는 의미\n",
        "  - 과대적합 모델의 특징\n",
        "  - 더 큰 훈련 세트를 사용하면 두 곡선이 점점 가까워짐"
      ],
      "metadata": {
        "id": "Y_4rf_5-fTBs"
      }
    },
    {
      "cell_type": "markdown",
      "source": [
        "## 4.5 규제가 있는 선형 모델"
      ],
      "metadata": {
        "id": "t4o1mZAZrTnM"
      }
    },
    {
      "cell_type": "markdown",
      "source": [
        "과대 적합을 감소시키는 좋은 방법은 모델을 규제하는 것(즉, 모델을 제한)\n",
        "\n",
        "- 자유도를 줄이면 데이터에 과대적합 되기 더 어려워짐\n",
        "  - 다항 회귀 모델을 규제하는 방법은 다항식의 차수를 감소시키는 것\n",
        "- 선형 회귀 모델에서는 보통 모델의 가중치를 제한함으로써 규제를 가함"
      ],
      "metadata": {
        "id": "qjOSb_affnap"
      }
    },
    {
      "cell_type": "markdown",
      "source": [
        "### 4.5.1 릿지 회귀"
      ],
      "metadata": {
        "id": "PjNnW_zXrV6r"
      }
    },
    {
      "cell_type": "markdown",
      "source": [
        "규제가 추가된 선형 회귀 버전 \n",
        "* 규제항이 비용 함수에 추가됨\n",
        "  - 학습 알고리즘을 데이터에 맞추는 것 뿐만 아니라 모델의 가중치가 가능한 작게 유지되도록\n",
        "  - 규제항은 훈련하는 동안에만 비용 함수에 추가됨\n",
        "    - 모델의 훈련이 끝나면 모델의 성능을 규제가 없는 성능 지표로 평가\n",
        "  - 하이퍼파라미터 ${a}$ : 모델을 얼마나 많이 규제할 지 조절\n",
        "    - ${a=0}$ 이면, 릿지 회귀는 선형 회귀와 같아짐\n",
        "    - ${a}$ 가 아주 크면 모든 가중치가 거의 0에 가까워지고  결국 데이터의 평균을 지나는 수평선이 됨\n",
        "    - ${a}$ 를 증가시킬수록 직선에 가까워짐, 모델의 분산은 줄지만 편향은 커지게 됨"
      ],
      "metadata": {
        "id": "dhgKBqEYgWBZ"
      }
    },
    {
      "cell_type": "code",
      "source": [
        "#@title 정규방정식을 사용한 릿지 회귀 적용\n",
        "from sklearn.linear_model import Ridge\n",
        "ridge_reg=Ridge(alpha=1, solver='cholesky') # 행렬 분해를 사용하여 변형한 방정식\n",
        "ridge_reg.fit(X, y)\n",
        "ridge_reg.predict([[1.5]])"
      ],
      "metadata": {
        "id": "3E8Duw1krYU6",
        "colab": {
          "base_uri": "https://localhost:8080/"
        },
        "outputId": "b3fad66a-86aa-47c2-8806-318961d171c3"
      },
      "execution_count": null,
      "outputs": [
        {
          "output_type": "execute_result",
          "data": {
            "text/plain": [
              "array([[4.5704289]])"
            ]
          },
          "metadata": {},
          "execution_count": 24
        }
      ]
    },
    {
      "cell_type": "code",
      "source": [
        "sgd_reg=SGDRegressor(penalty='l2') # penalty :사용할 규제 지정, SGD의 비용 함수에 가중치 벡터의 노름의 제곱을 2로 나눈 규제항을 추가하게 만듦\n",
        "sgd_reg.fit(X, y.ravel())\n",
        "sgd_reg.predict([[1.5]])"
      ],
      "metadata": {
        "id": "gcQ41JoaraNP",
        "colab": {
          "base_uri": "https://localhost:8080/"
        },
        "outputId": "05879617-d23d-4fd7-f6d4-48fae007d3a9"
      },
      "execution_count": null,
      "outputs": [
        {
          "output_type": "execute_result",
          "data": {
            "text/plain": [
              "array([4.56241859])"
            ]
          },
          "metadata": {},
          "execution_count": 25
        }
      ]
    },
    {
      "cell_type": "markdown",
      "source": [
        "### 4.5.2 라쏘 회귀"
      ],
      "metadata": {
        "id": "3qSpmfjNrbs0"
      }
    },
    {
      "cell_type": "markdown",
      "source": [
        "릿지 회귀처럼 비용 함수에 규제항을 더하지만, 노름의 제곱을 2로 나눈 것 대신 가중치 벡터의 노름을 사용"
      ],
      "metadata": {
        "id": "l1jaFR9-lP6f"
      }
    },
    {
      "cell_type": "code",
      "source": [
        "from sklearn.linear_model import Lasso\n",
        "lasso_reg=Lasso(alpha=0.1)\n",
        "lasso_reg.fit(X, y)\n",
        "lasso_reg.predict([[1.5]])"
      ],
      "metadata": {
        "colab": {
          "base_uri": "https://localhost:8080/"
        },
        "id": "QwQ_9-2TrbfE",
        "outputId": "a1a4c5d3-187f-4a13-f67f-e798ac40db6a"
      },
      "execution_count": null,
      "outputs": [
        {
          "output_type": "execute_result",
          "data": {
            "text/plain": [
              "array([4.51880268])"
            ]
          },
          "metadata": {},
          "execution_count": 26
        }
      ]
    },
    {
      "cell_type": "code",
      "source": [
        "sgd_reg=SGDRegressor(penalty='l1')\n",
        "sgd_reg.fit(X, y.ravel())\n",
        "sgd_reg.predict([[1.5]])"
      ],
      "metadata": {
        "colab": {
          "base_uri": "https://localhost:8080/"
        },
        "id": "TopvmEgHre6d",
        "outputId": "6adff9d7-a43f-4c0e-cdca-494fbb7b5cde"
      },
      "execution_count": null,
      "outputs": [
        {
          "output_type": "execute_result",
          "data": {
            "text/plain": [
              "array([4.56372417])"
            ]
          },
          "metadata": {},
          "execution_count": 27
        }
      ]
    },
    {
      "cell_type": "markdown",
      "source": [
        "### 4.5.3 엘라스틱넷"
      ],
      "metadata": {
        "id": "iy6cfcLVriuT"
      }
    },
    {
      "cell_type": "markdown",
      "source": [
        "릿지 회귀와 라쏘 회귀를 절충한 모델\n",
        "- 규제항: 릿지와 회귀의 규제항을 단순히 더해서 사용\n",
        "- 혼합 정도는 혼합 비율을 사용해 조절\n",
        "  - ${gamma}$ = 0  : 릿지 회귀와 동일\n",
        "  - ${gamma}$ = 1 : 라쏘 회귀와 동일\n"
      ],
      "metadata": {
        "id": "la05k8dfldvM"
      }
    },
    {
      "cell_type": "markdown",
      "source": [
        "보통의 선형 회귀(즉, 규제가 없는 모델) /릿지 /라소 /엘라스틱넷 을 언제 사용해야 하는가\n",
        "  - 적어도 규제가 약간 있는 것이 대부분의 경우에 좋으므로 일반적으로 평범한 선형 회귀는 피해야 함\n",
        "  - 릿지가 기본이 되지만, 쓰이는 특성이 몇 개 뿐이라고 의심되면 라쏘나 엘라스틱넷이 나음\n",
        "    - 불필요한 특성의 가중치를 0으로 만들어 줌\n",
        "    - 특성 수가 훈련 샘플 수보다 많거나 특성 몇 개가 강하게 연관되어 있을 때는 보통 라쏘가 문제를 일으키므로 라쏘보다는 엘라스틱넷을 선호"
      ],
      "metadata": {
        "id": "eldBICewGkQS"
      }
    },
    {
      "cell_type": "code",
      "source": [
        "#@title 엘라스틱넷 예제\n",
        "\n",
        "from sklearn.linear_model import ElasticNet\n",
        "elastic_net=ElasticNet(alpha=0.1, l1_ratio=0.5)\n",
        "elastic_net.fit(X, y)\n",
        "elastic_net.predict([[1.5]])  "
      ],
      "metadata": {
        "id": "Ln-lZ1rarhLf",
        "colab": {
          "base_uri": "https://localhost:8080/"
        },
        "outputId": "19abae8d-572d-40fb-c90a-2e387933a89e"
      },
      "execution_count": null,
      "outputs": [
        {
          "output_type": "execute_result",
          "data": {
            "text/plain": [
              "array([4.52490378])"
            ]
          },
          "metadata": {},
          "execution_count": 28
        }
      ]
    },
    {
      "cell_type": "markdown",
      "source": [
        "### 4.5.4 조기 종료"
      ],
      "metadata": {
        "id": "SQ00eCPjrn1s"
      }
    },
    {
      "cell_type": "markdown",
      "source": [
        "반복적인 학습 알고리즘을 규제하는 아주 색다른 방식\n",
        "- 조기 종료:  검증 에러가 최솟값에 도달하면 바로 훈련을 중지시키는 것\n",
        "  - 에포크가 진행됨에 따라 알고리즘이 점차 학습되어 훈련 세트에 대한 예측 에러(RMSE)와 검증 세트에 대한 예측 에러가 줄어듦\n",
        "  - 그러나, 잠시후 감소하던 검증 에러가 멈추었다가 다시 상승함 \n",
        "    - 모델이 훈련 데이터에 과대적합 되기 시작 하는 것을 의미\n",
        "- 검증 에러가 최소에 도달하는 즉시 훈련을 멈추는 것"
      ],
      "metadata": {
        "id": "ZbsM2mMeKiiP"
      }
    },
    {
      "cell_type": "code",
      "source": [
        "#@title 조기 종료 구현 코드\n",
        "\n",
        "from sklearn.base import clone\n",
        "from sklearn.preprocessing import StandardScaler\n",
        "\n",
        "X_train, X_val, y_train, y_val=train_test_split(X, y, test_size=0.2)\n",
        "\n",
        "#데이터 준비\n",
        "poly_scaler=Pipeline([\n",
        "    ('poly_features', PolynomialFeatures(degree=90, include_bias=False)),\n",
        "    ('std_scaler', StandardScaler())\n",
        "])\n",
        "X_train_poly_scaled=poly_scaler.fit_transform(X_train)\n",
        "X_val_poly_scaled=poly_scaler.transform(X_val)\n",
        "\n",
        "sgd_reg=SGDRegressor(max_iter=1, tol=-np.inf, warm_start=True, penalty=None, learning_rate='constant', eta0=0.0005)\n",
        "# warm_start=True : fit()메서드가 호출될 때 처음부터 다시 시작하지 않고 이전 모델 파라미터에서 훈련을 이어감\n",
        "\n",
        "minimum_val_error=float('inf')\n",
        "best_epoch=None\n",
        "best_model=None\n",
        "for epoch in range(1000):\n",
        "  sgd_reg.fit(X_train_poly_scaled, y_train) #훈련을 이어서 진행\n",
        "  y_val_predict=sgd_reg.predict(X_val_poly_scaled)\n",
        "  val_error=mean_squared_error(y_val, y_val_predict)\n",
        "  if val_error"
      ],
      "metadata": {
        "id": "OyDTpW5jrqkC",
        "colab": {
          "base_uri": "https://localhost:8080/",
          "height": 136
        },
        "outputId": "102d831a-31db-40d1-9601-1368ab796f56"
      },
      "execution_count": null,
      "outputs": [
        {
          "output_type": "error",
          "ename": "SyntaxError",
          "evalue": "ignored",
          "traceback": [
            "\u001b[0;36m  File \u001b[0;32m\"<ipython-input-30-8d15542684e8>\"\u001b[0;36m, line \u001b[0;32m24\u001b[0m\n\u001b[0;31m    if val_error\u001b[0m\n\u001b[0m                ^\u001b[0m\n\u001b[0;31mSyntaxError\u001b[0m\u001b[0;31m:\u001b[0m invalid syntax\n"
          ]
        }
      ]
    },
    {
      "cell_type": "markdown",
      "source": [
        "## 4.6 로지스틱 회귀"
      ],
      "metadata": {
        "id": "mObIhqdtrusN"
      }
    },
    {
      "cell_type": "markdown",
      "source": [
        "어떤 회귀 알고리즘은 분류에서도 사용할 수 있음\n",
        "\n",
        "로지스틱 회귀(로짓 회귀) 는 샘플이 특정 클래스에 속할 확률을 추정하는데 널리 사용\n",
        "  - 예) 이메일이 스팸일 확률은 얼마인가?\n",
        "    - 추정 확률이 50% 넘으면 모델은 그 샘플이 해당 클래스에 속한다고 예측  : 이진 분류기\n",
        "     - 레이블 1 = 양성 클래스\n",
        "    - 아니면 클래스에 속하지 않는다고 예측\n",
        "      - 레이블 0 - 음성 클래스"
      ],
      "metadata": {
        "id": "EFquK6i3LNtS"
      }
    },
    {
      "cell_type": "markdown",
      "source": [
        "### 4.6.1 확률 추정"
      ],
      "metadata": {
        "id": "LGshJr_3rwkv"
      }
    },
    {
      "cell_type": "markdown",
      "source": [
        "로지스틱 회귀는 실제 어떻게 작동하는가?\n",
        "- 선형 회귀 모델과 같이 로지스틱 회귀 모델은 입력 특성의 가중치 합을 계산 (그리고 편향을 더함)\n",
        "- 대신 선형 회귀처럼 바로 결과를 출력하지 않고 결괏값의 로지스틱을 출력\n",
        "\n",
        "로지스틱은 0과 1 사이의 값을 출력하는 시그모이드 함수\n",
        "- 로지스틱 회귀 모델이 샘플 x 가 양성 클래스에 속할 확률을 추정하면 이에 대한 예측 y_hat 을 쉽게 구할 수 있음"
      ],
      "metadata": {
        "id": "hHkV1IqVLrV9"
      }
    },
    {
      "cell_type": "markdown",
      "source": [
        "### 4.6.2 훈련과 비용 함수"
      ],
      "metadata": {
        "id": "YGqn0zFPrycP"
      }
    },
    {
      "cell_type": "markdown",
      "source": [
        "훈련의 목적 : 양성 샘플에 대해서는 높은 확률을 추정하고 음성 샘플에 대해서는 낮은 확률을 추정하는 모델의 파라미터 벡터를 찾는 것\n",
        "\n"
      ],
      "metadata": {
        "id": "KRr8Qou-MPdw"
      }
    },
    {
      "cell_type": "markdown",
      "source": [
        "### 4.6.3 결정 경계"
      ],
      "metadata": {
        "id": "ZRONIbZqr1dr"
      }
    },
    {
      "cell_type": "markdown",
      "source": [
        "붓꽃 데이터 분류기 : Iris-Versicolor 종을 감지하는 분류기"
      ],
      "metadata": {
        "id": "SWGwHdP-r5ET"
      }
    },
    {
      "cell_type": "code",
      "source": [
        "# 데이터 로드\n",
        "from sklearn import datasets\n",
        "iris=datasets.load_iris()\n",
        "list(iris.keys())"
      ],
      "metadata": {
        "id": "xLw7yEW_r40B",
        "colab": {
          "base_uri": "https://localhost:8080/"
        },
        "outputId": "7695f9af-27b0-4bf9-b30b-262cdb864256"
      },
      "execution_count": null,
      "outputs": [
        {
          "output_type": "execute_result",
          "data": {
            "text/plain": [
              "['data',\n",
              " 'target',\n",
              " 'frame',\n",
              " 'target_names',\n",
              " 'DESCR',\n",
              " 'feature_names',\n",
              " 'filename',\n",
              " 'data_module']"
            ]
          },
          "metadata": {},
          "execution_count": 31
        }
      ]
    },
    {
      "cell_type": "code",
      "source": [
        "X=iris['data'][:, 3:] #꽃잎의 너비\n",
        "y=(iris['target']==2).astype(np.int) #1 Iris-Virginica면 1, 아니면 0"
      ],
      "metadata": {
        "id": "eRZpq1x_r6Tj",
        "colab": {
          "base_uri": "https://localhost:8080/"
        },
        "outputId": "19751fad-b001-4cc2-a1cd-0624102c0961"
      },
      "execution_count": null,
      "outputs": [
        {
          "output_type": "stream",
          "name": "stderr",
          "text": [
            "<ipython-input-32-d3eecaceb385>:2: DeprecationWarning: `np.int` is a deprecated alias for the builtin `int`. To silence this warning, use `int` by itself. Doing this will not modify any behavior and is safe. When replacing `np.int`, you may wish to use e.g. `np.int64` or `np.int32` to specify the precision. If you wish to review your current use, check the release note link for additional information.\n",
            "Deprecated in NumPy 1.20; for more details and guidance: https://numpy.org/devdocs/release/1.20.0-notes.html#deprecations\n",
            "  y=(iris['target']==2).astype(np.int) #1 Iris-Virginica면 1, 아니면 0\n"
          ]
        }
      ]
    },
    {
      "cell_type": "code",
      "source": [
        "#로지스틱 회귀 모델 훈련\n",
        "from sklearn.linear_model import LogisticRegression\n",
        "\n",
        "log_reg=LogisticRegression()\n",
        "log_reg.fit(X, y)"
      ],
      "metadata": {
        "id": "3Q5jUdZAr8zZ",
        "colab": {
          "base_uri": "https://localhost:8080/",
          "height": 74
        },
        "outputId": "2845d508-54f6-4a98-998a-cf34d7092e88"
      },
      "execution_count": null,
      "outputs": [
        {
          "output_type": "execute_result",
          "data": {
            "text/plain": [
              "LogisticRegression()"
            ],
            "text/html": [
              "<style>#sk-container-id-3 {color: black;background-color: white;}#sk-container-id-3 pre{padding: 0;}#sk-container-id-3 div.sk-toggleable {background-color: white;}#sk-container-id-3 label.sk-toggleable__label {cursor: pointer;display: block;width: 100%;margin-bottom: 0;padding: 0.3em;box-sizing: border-box;text-align: center;}#sk-container-id-3 label.sk-toggleable__label-arrow:before {content: \"▸\";float: left;margin-right: 0.25em;color: #696969;}#sk-container-id-3 label.sk-toggleable__label-arrow:hover:before {color: black;}#sk-container-id-3 div.sk-estimator:hover label.sk-toggleable__label-arrow:before {color: black;}#sk-container-id-3 div.sk-toggleable__content {max-height: 0;max-width: 0;overflow: hidden;text-align: left;background-color: #f0f8ff;}#sk-container-id-3 div.sk-toggleable__content pre {margin: 0.2em;color: black;border-radius: 0.25em;background-color: #f0f8ff;}#sk-container-id-3 input.sk-toggleable__control:checked~div.sk-toggleable__content {max-height: 200px;max-width: 100%;overflow: auto;}#sk-container-id-3 input.sk-toggleable__control:checked~label.sk-toggleable__label-arrow:before {content: \"▾\";}#sk-container-id-3 div.sk-estimator input.sk-toggleable__control:checked~label.sk-toggleable__label {background-color: #d4ebff;}#sk-container-id-3 div.sk-label input.sk-toggleable__control:checked~label.sk-toggleable__label {background-color: #d4ebff;}#sk-container-id-3 input.sk-hidden--visually {border: 0;clip: rect(1px 1px 1px 1px);clip: rect(1px, 1px, 1px, 1px);height: 1px;margin: -1px;overflow: hidden;padding: 0;position: absolute;width: 1px;}#sk-container-id-3 div.sk-estimator {font-family: monospace;background-color: #f0f8ff;border: 1px dotted black;border-radius: 0.25em;box-sizing: border-box;margin-bottom: 0.5em;}#sk-container-id-3 div.sk-estimator:hover {background-color: #d4ebff;}#sk-container-id-3 div.sk-parallel-item::after {content: \"\";width: 100%;border-bottom: 1px solid gray;flex-grow: 1;}#sk-container-id-3 div.sk-label:hover label.sk-toggleable__label {background-color: #d4ebff;}#sk-container-id-3 div.sk-serial::before {content: \"\";position: absolute;border-left: 1px solid gray;box-sizing: border-box;top: 0;bottom: 0;left: 50%;z-index: 0;}#sk-container-id-3 div.sk-serial {display: flex;flex-direction: column;align-items: center;background-color: white;padding-right: 0.2em;padding-left: 0.2em;position: relative;}#sk-container-id-3 div.sk-item {position: relative;z-index: 1;}#sk-container-id-3 div.sk-parallel {display: flex;align-items: stretch;justify-content: center;background-color: white;position: relative;}#sk-container-id-3 div.sk-item::before, #sk-container-id-3 div.sk-parallel-item::before {content: \"\";position: absolute;border-left: 1px solid gray;box-sizing: border-box;top: 0;bottom: 0;left: 50%;z-index: -1;}#sk-container-id-3 div.sk-parallel-item {display: flex;flex-direction: column;z-index: 1;position: relative;background-color: white;}#sk-container-id-3 div.sk-parallel-item:first-child::after {align-self: flex-end;width: 50%;}#sk-container-id-3 div.sk-parallel-item:last-child::after {align-self: flex-start;width: 50%;}#sk-container-id-3 div.sk-parallel-item:only-child::after {width: 0;}#sk-container-id-3 div.sk-dashed-wrapped {border: 1px dashed gray;margin: 0 0.4em 0.5em 0.4em;box-sizing: border-box;padding-bottom: 0.4em;background-color: white;}#sk-container-id-3 div.sk-label label {font-family: monospace;font-weight: bold;display: inline-block;line-height: 1.2em;}#sk-container-id-3 div.sk-label-container {text-align: center;}#sk-container-id-3 div.sk-container {/* jupyter's `normalize.less` sets `[hidden] { display: none; }` but bootstrap.min.css set `[hidden] { display: none !important; }` so we also need the `!important` here to be able to override the default hidden behavior on the sphinx rendered scikit-learn.org. See: https://github.com/scikit-learn/scikit-learn/issues/21755 */display: inline-block !important;position: relative;}#sk-container-id-3 div.sk-text-repr-fallback {display: none;}</style><div id=\"sk-container-id-3\" class=\"sk-top-container\"><div class=\"sk-text-repr-fallback\"><pre>LogisticRegression()</pre><b>In a Jupyter environment, please rerun this cell to show the HTML representation or trust the notebook. <br />On GitHub, the HTML representation is unable to render, please try loading this page with nbviewer.org.</b></div><div class=\"sk-container\" hidden><div class=\"sk-item\"><div class=\"sk-estimator sk-toggleable\"><input class=\"sk-toggleable__control sk-hidden--visually\" id=\"sk-estimator-id-3\" type=\"checkbox\" checked><label for=\"sk-estimator-id-3\" class=\"sk-toggleable__label sk-toggleable__label-arrow\">LogisticRegression</label><div class=\"sk-toggleable__content\"><pre>LogisticRegression()</pre></div></div></div></div></div>"
            ]
          },
          "metadata": {},
          "execution_count": 33
        }
      ]
    },
    {
      "cell_type": "code",
      "source": [
        "#꽃잎의 너비가 0~3cm인 꽃에 대해 모델이 추정 확률을 계산\n",
        "X_new=np.linspace(0,3,1000).reshape(-1,1)\n",
        "y_proba=log_reg.predict_proba(X_new)\n",
        "plt.plot(X_new, y_proba[:, 1], 'g-', label='Iris virginica')\n",
        "plt.plot(X_new, y_proba[:, 0], 'b-', label='Not Iris virginica')\n",
        "\n",
        "## 꽃잎의 너비는 1.4 ~ 2.5 cm 에 분포\n",
        "## 반면, 다른 붓꽃은 일반적으로 꽃잎 너비가 더 작아 0.1 ~ 1.8cm 에 분포"
      ],
      "metadata": {
        "id": "2_4yDXrSr-C0",
        "colab": {
          "base_uri": "https://localhost:8080/",
          "height": 283
        },
        "outputId": "fe15ef9e-e618-41f1-9357-f21342c65399"
      },
      "execution_count": null,
      "outputs": [
        {
          "output_type": "execute_result",
          "data": {
            "text/plain": [
              "[<matplotlib.lines.Line2D at 0x7f7ba16e2bb0>]"
            ]
          },
          "metadata": {},
          "execution_count": 34
        },
        {
          "output_type": "display_data",
          "data": {
            "text/plain": [
              "<Figure size 432x288 with 1 Axes>"
            ],
            "image/png": "[encoded data removed]"
          },
          "metadata": {
            "needs_background": "light"
          }
        }
      ]
    },
    {
      "cell_type": "markdown",
      "source": [
        "\n",
        "\n",
        "약간의 중첩되는 부분이 있음\n",
        "- 꽃잎 너비가 2cm 이상인 꽃은 분류기가 iris-verginica 라고 강하게 확신(이 클래스에 대해 높은 확률 출력)\n",
        "- 반면, 1cm 아래면 iris-verginica 가 아니라고 강하게 확신\n",
        "\n",
        "이 두 극단 사이에서는 분류가 확실하지 않음"
      ],
      "metadata": {
        "id": "MCoJsM2zMxAx"
      }
    },
    {
      "cell_type": "code",
      "source": [
        "log_reg.predict([[1.7], [1.5]])"
      ],
      "metadata": {
        "id": "H7GX5mO1r_A2",
        "colab": {
          "base_uri": "https://localhost:8080/"
        },
        "outputId": "f9cdd2d3-9dec-492e-979e-19d95b94ce35"
      },
      "execution_count": null,
      "outputs": [
        {
          "output_type": "execute_result",
          "data": {
            "text/plain": [
              "array([1, 0])"
            ]
          },
          "metadata": {},
          "execution_count": 35
        }
      ]
    },
    {
      "cell_type": "markdown",
      "source": [
        "### 4.6.4 소프트맥스 회귀"
      ],
      "metadata": {
        "id": "hYhQyelPr_2_"
      }
    },
    {
      "cell_type": "markdown",
      "source": [
        "로지스틱 회귀 모델은 여러개의 이진 분류기를 훈련시켜 연결하지 않고 직접 다중 클래스를 지원하도록 일반화 될 수 있음"
      ],
      "metadata": {
        "id": "pBhHBT0LNowI"
      }
    },
    {
      "cell_type": "code",
      "source": [
        "X=iris['data'][:, (2,3)] #꽃잎 길이, 꽃잎 너비\n",
        "y=iris['target']\n",
        "\n",
        "softmax_reg=LogisticRegression(multi_class='multinomial', solver='lbfgs', C=10)\n",
        "softmax_reg.fit(X, y)"
      ],
      "metadata": {
        "id": "L0Q2FVwcsDdn",
        "colab": {
          "base_uri": "https://localhost:8080/",
          "height": 74
        },
        "outputId": "0911bf22-7fad-42e6-f41c-29331de7eb80"
      },
      "execution_count": null,
      "outputs": [
        {
          "output_type": "execute_result",
          "data": {
            "text/plain": [
              "LogisticRegression(C=10, multi_class='multinomial')"
            ],
            "text/html": [
              "<style>#sk-container-id-4 {color: black;background-color: white;}#sk-container-id-4 pre{padding: 0;}#sk-container-id-4 div.sk-toggleable {background-color: white;}#sk-container-id-4 label.sk-toggleable__label {cursor: pointer;display: block;width: 100%;margin-bottom: 0;padding: 0.3em;box-sizing: border-box;text-align: center;}#sk-container-id-4 label.sk-toggleable__label-arrow:before {content: \"▸\";float: left;margin-right: 0.25em;color: #696969;}#sk-container-id-4 label.sk-toggleable__label-arrow:hover:before {color: black;}#sk-container-id-4 div.sk-estimator:hover label.sk-toggleable__label-arrow:before {color: black;}#sk-container-id-4 div.sk-toggleable__content {max-height: 0;max-width: 0;overflow: hidden;text-align: left;background-color: #f0f8ff;}#sk-container-id-4 div.sk-toggleable__content pre {margin: 0.2em;color: black;border-radius: 0.25em;background-color: #f0f8ff;}#sk-container-id-4 input.sk-toggleable__control:checked~div.sk-toggleable__content {max-height: 200px;max-width: 100%;overflow: auto;}#sk-container-id-4 input.sk-toggleable__control:checked~label.sk-toggleable__label-arrow:before {content: \"▾\";}#sk-container-id-4 div.sk-estimator input.sk-toggleable__control:checked~label.sk-toggleable__label {background-color: #d4ebff;}#sk-container-id-4 div.sk-label input.sk-toggleable__control:checked~label.sk-toggleable__label {background-color: #d4ebff;}#sk-container-id-4 input.sk-hidden--visually {border: 0;clip: rect(1px 1px 1px 1px);clip: rect(1px, 1px, 1px, 1px);height: 1px;margin: -1px;overflow: hidden;padding: 0;position: absolute;width: 1px;}#sk-container-id-4 div.sk-estimator {font-family: monospace;background-color: #f0f8ff;border: 1px dotted black;border-radius: 0.25em;box-sizing: border-box;margin-bottom: 0.5em;}#sk-container-id-4 div.sk-estimator:hover {background-color: #d4ebff;}#sk-container-id-4 div.sk-parallel-item::after {content: \"\";width: 100%;border-bottom: 1px solid gray;flex-grow: 1;}#sk-container-id-4 div.sk-label:hover label.sk-toggleable__label {background-color: #d4ebff;}#sk-container-id-4 div.sk-serial::before {content: \"\";position: absolute;border-left: 1px solid gray;box-sizing: border-box;top: 0;bottom: 0;left: 50%;z-index: 0;}#sk-container-id-4 div.sk-serial {display: flex;flex-direction: column;align-items: center;background-color: white;padding-right: 0.2em;padding-left: 0.2em;position: relative;}#sk-container-id-4 div.sk-item {position: relative;z-index: 1;}#sk-container-id-4 div.sk-parallel {display: flex;align-items: stretch;justify-content: center;background-color: white;position: relative;}#sk-container-id-4 div.sk-item::before, #sk-container-id-4 div.sk-parallel-item::before {content: \"\";position: absolute;border-left: 1px solid gray;box-sizing: border-box;top: 0;bottom: 0;left: 50%;z-index: -1;}#sk-container-id-4 div.sk-parallel-item {display: flex;flex-direction: column;z-index: 1;position: relative;background-color: white;}#sk-container-id-4 div.sk-parallel-item:first-child::after {align-self: flex-end;width: 50%;}#sk-container-id-4 div.sk-parallel-item:last-child::after {align-self: flex-start;width: 50%;}#sk-container-id-4 div.sk-parallel-item:only-child::after {width: 0;}#sk-container-id-4 div.sk-dashed-wrapped {border: 1px dashed gray;margin: 0 0.4em 0.5em 0.4em;box-sizing: border-box;padding-bottom: 0.4em;background-color: white;}#sk-container-id-4 div.sk-label label {font-family: monospace;font-weight: bold;display: inline-block;line-height: 1.2em;}#sk-container-id-4 div.sk-label-container {text-align: center;}#sk-container-id-4 div.sk-container {/* jupyter's `normalize.less` sets `[hidden] { display: none; }` but bootstrap.min.css set `[hidden] { display: none !important; }` so we also need the `!important` here to be able to override the default hidden behavior on the sphinx rendered scikit-learn.org. See: https://github.com/scikit-learn/scikit-learn/issues/21755 */display: inline-block !important;position: relative;}#sk-container-id-4 div.sk-text-repr-fallback {display: none;}</style><div id=\"sk-container-id-4\" class=\"sk-top-container\"><div class=\"sk-text-repr-fallback\"><pre>LogisticRegression(C=10, multi_class=&#x27;multinomial&#x27;)</pre><b>In a Jupyter environment, please rerun this cell to show the HTML representation or trust the notebook. <br />On GitHub, the HTML representation is unable to render, please try loading this page with nbviewer.org.</b></div><div class=\"sk-container\" hidden><div class=\"sk-item\"><div class=\"sk-estimator sk-toggleable\"><input class=\"sk-toggleable__control sk-hidden--visually\" id=\"sk-estimator-id-4\" type=\"checkbox\" checked><label for=\"sk-estimator-id-4\" class=\"sk-toggleable__label sk-toggleable__label-arrow\">LogisticRegression</label><div class=\"sk-toggleable__content\"><pre>LogisticRegression(C=10, multi_class=&#x27;multinomial&#x27;)</pre></div></div></div></div></div>"
            ]
          },
          "metadata": {},
          "execution_count": 36
        }
      ]
    },
    {
      "cell_type": "code",
      "source": [
        "#꽃잎 길이가 5, 너비가 2인 붓꽃 발견\n",
        "softmax_reg.predict([[5,2]])"
      ],
      "metadata": {
        "id": "yWit-LrasEiZ",
        "colab": {
          "base_uri": "https://localhost:8080/"
        },
        "outputId": "fe3783cd-d048-4449-db47-126a26178878"
      },
      "execution_count": null,
      "outputs": [
        {
          "output_type": "execute_result",
          "data": {
            "text/plain": [
              "array([2])"
            ]
          },
          "metadata": {},
          "execution_count": 37
        }
      ]
    },
    {
      "cell_type": "code",
      "source": [
        "softmax_reg.predict_proba([[5,2]])"
      ],
      "metadata": {
        "id": "tTjLw7kEsFpB",
        "colab": {
          "base_uri": "https://localhost:8080/"
        },
        "outputId": "0a3fadd9-616c-4487-cd40-d6d749540f48"
      },
      "execution_count": null,
      "outputs": [
        {
          "output_type": "execute_result",
          "data": {
            "text/plain": [
              "array([[6.38014896e-07, 5.74929995e-02, 9.42506362e-01]])"
            ]
          },
          "metadata": {},
          "execution_count": 38
        }
      ]
    }
  ]
}