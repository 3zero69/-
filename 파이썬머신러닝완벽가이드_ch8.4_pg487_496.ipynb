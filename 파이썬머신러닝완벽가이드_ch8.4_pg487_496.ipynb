{
 "cells": [
  {
   "cell_type": "markdown",
   "id": "0b4b61ce",
   "metadata": {},
   "source": [
    "## 04. 텍스트 분류 실습 - 20 뉴스 그룹 분류"
   ]
  },
  {
   "cell_type": "markdown",
   "id": "cfb35741",
   "metadata": {},
   "source": [
    "* 텍스트 분류 : 특정 문서의 분류를 학습 데이터를 통해 학습해 모델을 생성한 뒤 이 학습 모델을 이용해 다른 문서의 분류를 예측하는 것\n",
    "  - 텍스트를 피처 벡터화로 변환하면 일반적으로 희소 행렬 형태가 됨\n",
    "  - 희소 행렬에 분류를 효과적으로 잘 처리할 수 있는 알고리즘은 로지스틱 회귀, 선형 서포트 벡터 머신, 나이브 베이즈 등\n",
    "\n",
    "1. 텍스트를 정규화한 뒤 피처 벡터화를 적용\n",
    "2. 적합한 머신러닝 알고리즘을 적용해 분류를 학습/예측/평가\n",
    "\n",
    "  - 카운트 기반과 TF-IDF 기반의 벡터화를 차례로 적용해 예측 성능을 비교\n",
    "  - 피처 벡터화를 위한 파라미터와 그리드서치기반의 하이퍼 파라미터 튜닝\n",
    "  - 사이킷런의 파이프라인 객체를 통한 피처 벡터화 파라미터와 그리드서치 기반의 하이퍼 파라미터 튜닝을 한꺼번에 수행하는 방법"
   ]
  },
  {
   "cell_type": "markdown",
   "id": "e978581e",
   "metadata": {},
   "source": [
    "### 텍스트 정규화"
   ]
  },
  {
   "cell_type": "code",
   "execution_count": 4,
   "id": "97a09c24",
   "metadata": {},
   "outputs": [],
   "source": [
    "from sklearn.datasets import fetch_20newsgroups\n",
    "\n",
    "news_data = fetch_20newsgroups(subset = 'all', random_state = 156)"
   ]
  },
  {
   "cell_type": "code",
   "execution_count": 5,
   "id": "d8c61a1b",
   "metadata": {},
   "outputs": [
    {
     "name": "stdout",
     "output_type": "stream",
     "text": [
      "dict_keys(['data', 'filenames', 'target_names', 'target', 'DESCR'])\n"
     ]
    }
   ],
   "source": [
    "print(news_data.keys())"
   ]
  },
  {
   "cell_type": "code",
   "execution_count": 6,
   "id": "dea8dbea",
   "metadata": {},
   "outputs": [
    {
     "name": "stdout",
     "output_type": "stream",
     "text": [
      "target 클래스의 값과 분포도 \n",
      " 0     799\n",
      "1     973\n",
      "2     985\n",
      "3     982\n",
      "4     963\n",
      "5     988\n",
      "6     975\n",
      "7     990\n",
      "8     996\n",
      "9     994\n",
      "10    999\n",
      "11    991\n",
      "12    984\n",
      "13    990\n",
      "14    987\n",
      "15    997\n",
      "16    910\n",
      "17    940\n",
      "18    775\n",
      "19    628\n",
      "dtype: int64\n",
      "target 클래스의 이름들 \n",
      " ['alt.atheism', 'comp.graphics', 'comp.os.ms-windows.misc', 'comp.sys.ibm.pc.hardware', 'comp.sys.mac.hardware', 'comp.windows.x', 'misc.forsale', 'rec.autos', 'rec.motorcycles', 'rec.sport.baseball', 'rec.sport.hockey', 'sci.crypt', 'sci.electronics', 'sci.med', 'sci.space', 'soc.religion.christian', 'talk.politics.guns', 'talk.politics.mideast', 'talk.politics.misc', 'talk.religion.misc']\n"
     ]
    }
   ],
   "source": [
    "import pandas as pd\n",
    "\n",
    "print('target 클래스의 값과 분포도 \\n', pd.Series(news_data.target).value_counts().sort_index())\n",
    "print('target 클래스의 이름들 \\n', news_data.target_names)"
   ]
  },
  {
   "cell_type": "code",
   "execution_count": 7,
   "id": "d6b66103",
   "metadata": {},
   "outputs": [
    {
     "name": "stdout",
     "output_type": "stream",
     "text": [
      "From: egreen@east.sun.com (Ed Green - Pixel Cruncher)\n",
      "Subject: Re: Observation re: helmets\n",
      "Organization: Sun Microsystems, RTP, NC\n",
      "Lines: 21\n",
      "Distribution: world\n",
      "Reply-To: egreen@east.sun.com\n",
      "NNTP-Posting-Host: laser.east.sun.com\n",
      "\n",
      "In article 211353@mavenry.altcit.eskimo.com, maven@mavenry.altcit.eskimo.com (Norman Hamer) writes:\n",
      "> \n",
      "> The question for the day is re: passenger helmets, if you don't know for \n",
      ">certain who's gonna ride with you (like say you meet them at a .... church \n",
      ">meeting, yeah, that's the ticket)... What are some guidelines? Should I just \n",
      ">pick up another shoei in my size to have a backup helmet (XL), or should I \n",
      ">maybe get an inexpensive one of a smaller size to accomodate my likely \n",
      ">passenger? \n",
      "\n",
      "If your primary concern is protecting the passenger in the event of a\n",
      "crash, have him or her fitted for a helmet that is their size.  If your\n",
      "primary concern is complying with stupid helmet laws, carry a real big\n",
      "spare (you can put a big or small head in a big helmet, but not in a\n",
      "small one).\n",
      "\n",
      "---\n",
      "Ed Green, former Ninjaite |I was drinking last night with a biker,\n",
      "  Ed.Green@East.Sun.COM   |and I showed him a picture of you.  I said,\n",
      "DoD #0111  (919)460-8302  |\"Go on, get to know her, you'll like her!\"\n",
      " (The Grateful Dead) -->  |It seemed like the least I could do...\n",
      "\n",
      "\n"
     ]
    }
   ],
   "source": [
    "#개별 데이터가 텍스트로 어떻게 구성돼 있는지 데이터를 한 개만 추출해 값 확인 \n",
    "print(news_data.data[0])"
   ]
  },
  {
   "cell_type": "raw",
   "id": "f1798535",
   "metadata": {},
   "source": [
    "텍스트 데이터 내용: 뉴스그룹 기사의 내용 뿐만 아니라 뉴스그룹 제목, 작성자, 소속, 이메일 등의 다양한 정보가 들어있음\n",
    "\n",
    "이 중에서 내용을 제외한 제목 등의 다른 정보는 제거 (제목과 소속, 이메일 주소 등의 헤더와 푸터 정보들은 뉴스그룹 분류의 Target 클래스 값과 유사한 데이터를 가지고 있는 경우가 많음 - 포함하는 경우 상당히 높은 예측 성능)"
   ]
  },
  {
   "cell_type": "code",
   "execution_count": 8,
   "id": "f340b159",
   "metadata": {},
   "outputs": [
    {
     "name": "stdout",
     "output_type": "stream",
     "text": [
      "학습 데이터 크기 11314, 테스트 데이터 크기 11314\n"
     ]
    }
   ],
   "source": [
    "from sklearn.datasets import fetch_20newsgroups\n",
    "# subset = 'train'으로 학습용 데이터만 추출, remove=('headers', 'footers', 'quotes') 로 내용만 추출\n",
    "train_news = fetch_20newsgroups(subset = 'train', remove=('headers', 'footers', 'quotes'), random_state = 156)\n",
    "\n",
    "X_train = train_news.data\n",
    "y_train = train_news.target\n",
    "\n",
    "#subset='test'으로 테스트 데이터만 추출, remove=('headers', 'footers', 'quotes') 로 내용만 추출\n",
    "\n",
    "test_news = fetch_20newsgroups(subset = 'train', remove=('headers', 'footers', 'quotes'), random_state = 156)\n",
    "\n",
    "X_test = train_news.data\n",
    "y_test = train_news.target\n",
    "print('학습 데이터 크기 {0}, 테스트 데이터 크기 {1}'.format(len(train_news.data),len(test_news.data)))"
   ]
  },
  {
   "cell_type": "markdown",
   "id": "23d134b0",
   "metadata": {},
   "source": [
    "### 피처 벡터화 변환과 머신러닝 모델 학습/예측/평가\n",
    "\n",
    "학습 데이터: 11314개의 뉴스그룹 문서, 리스트형태 / 테스트 데이터: 7532개의 문서, 리스트 형태"
   ]
  },
  {
   "cell_type": "markdown",
   "id": "84179a0d",
   "metadata": {},
   "source": [
    "CountVectorizer : 텍스트를 피처 벡터화 \n",
    "- 반드시 학습 데이터를 이용해 fit()이 수행된 CountVectorizer 객체를 이용해 테스트 데이터를 변환해야 함!! \n",
    "  - 그래야만 학습시 설정된 피처 개수와 테스트 데이터를 변환할 피처 개수가 같아짐\n",
    "- 테스트 데이터의 피처 벡터화시 fit_transform() 사용하면 안됨! \n",
    "  - 학습 시 사용된 피처 개수와 예측 시 사용할 피처 개수 달라짐"
   ]
  },
  {
   "cell_type": "code",
   "execution_count": 9,
   "id": "a184733f",
   "metadata": {},
   "outputs": [
    {
     "name": "stdout",
     "output_type": "stream",
     "text": [
      "학습 데이터 텍스트의 countVectorizer shape: (11314, 101631)\n"
     ]
    }
   ],
   "source": [
    "from sklearn.feature_extraction.text import CountVectorizer\n",
    "\n",
    "#Count Vectorization으로 피처 벡터화 변환 수행.\n",
    "cnt_vect = CountVectorizer()\n",
    "cnt_vect.fit(X_train)\n",
    "X_train_cnt_vect = cnt_vect.transform(X_train)\n",
    "\n",
    "#학습 데이터로 fit()된 CountVectorizer를 이용해 체스트 데이터를 피터 벡처화 변환 수행.\n",
    "X_test_cnt_vect= cnt_vect.transform(X_test)\n",
    "\n",
    "print('학습 데이터 텍스트의 countVectorizer shape:', X_train_cnt_vect.shape)"
   ]
  },
  {
   "cell_type": "markdown",
   "id": "47fa7095",
   "metadata": {},
   "source": [
    "> 11314개의 문서에 피처, 즉 단어가 101631개 만들어짐"
   ]
  },
  {
   "cell_type": "markdown",
   "id": "c1d7309c",
   "metadata": {},
   "source": [
    "피처 벡터화된 데이터에 로지스틱 회귀를 적용해 뉴스그룹에 대한 분류 예측"
   ]
  },
  {
   "cell_type": "code",
   "execution_count": 10,
   "id": "819de898",
   "metadata": {},
   "outputs": [
    {
     "name": "stderr",
     "output_type": "stream",
     "text": [
      "C:\\Users\\chltp\\anaconda3\\lib\\site-packages\\sklearn\\linear_model\\_logistic.py:814: ConvergenceWarning: lbfgs failed to converge (status=1):\n",
      "STOP: TOTAL NO. of ITERATIONS REACHED LIMIT.\n",
      "\n",
      "Increase the number of iterations (max_iter) or scale the data as shown in:\n",
      "    https://scikit-learn.org/stable/modules/preprocessing.html\n",
      "Please also refer to the documentation for alternative solver options:\n",
      "    https://scikit-learn.org/stable/modules/linear_model.html#logistic-regression\n",
      "  n_iter_i = _check_optimize_result(\n"
     ]
    },
    {
     "name": "stdout",
     "output_type": "stream",
     "text": [
      "CountVectorized Logistic Regression의 예측 정확도는 0.964\n"
     ]
    }
   ],
   "source": [
    "from sklearn.linear_model import LogisticRegression\n",
    "from sklearn.metrics import accuracy_score\n",
    "\n",
    "#LogisticRegression을 이용해 학습/예측/평가 수행.\n",
    "lr_clf = LogisticRegression()\n",
    "lr_clf.fit(X_train_cnt_vect, y_train)\n",
    "pred= lr_clf.predict(X_test_cnt_vect)\n",
    "print('CountVectorized Logistic Regression의 예측 정확도는 {0:.3f}'.format(accuracy_score(y_test, pred)))"
   ]
  },
  {
   "cell_type": "markdown",
   "id": "9e6a563a",
   "metadata": {},
   "source": [
    "Count 기반에서 TF-IDF 기반으로 벡터화를 변경해 예측 모델 수행"
   ]
  },
  {
   "cell_type": "code",
   "execution_count": 11,
   "id": "00cf758c",
   "metadata": {},
   "outputs": [
    {
     "name": "stdout",
     "output_type": "stream",
     "text": [
      "TF-IDF Logistic Regression의 예측 정확도는 0.907\n"
     ]
    }
   ],
   "source": [
    "from sklearn.feature_extraction.text import TfidfVectorizer\n",
    "\n",
    "#TF-IDF 벡터화를 적용해 학습 데이터 세트와 테스트 데이터 세트 변환.\n",
    "tfidf_vect = TfidfVectorizer()\n",
    "tfidf_vect.fit(X_train)\n",
    "X_train_tfidf_vect = tfidf_vect.transform(X_train)\n",
    "X_test_tfidf_vect = tfidf_vect.transform(X_test)\n",
    "\n",
    "#LogisticRegression을 이용해 학습/예측/평가 수행\n",
    "\n",
    "lr_clf = LogisticRegression()\n",
    "lr_clf.fit(X_train_tfidf_vect, y_train)\n",
    "pred= lr_clf.predict(X_test_tfidf_vect)\n",
    "print('TF-IDF Logistic Regression의 예측 정확도는 {0:.3f}'.format(accuracy_score(y_test, pred)))"
   ]
  },
  {
   "cell_type": "markdown",
   "id": "5b0a224b",
   "metadata": {},
   "source": [
    "> TF-IDF가 단순 카운트 기반보다 훨씬 높은 예측 정확도 제공\n",
    "\n",
    "일반적으로 문서 내에 텍스트가 많고, 많은 문서를 가지는 텍스트 분석에서 카운트 벡터화 보다는 TF-IDF 벡터화가 좋은 예측 결과를 도출"
   ]
  },
  {
   "cell_type": "markdown",
   "id": "65a1b744",
   "metadata": {},
   "source": [
    "**텍스트 분석에서 머신러닝 모델의 성능을 향상시키는 방법**\n",
    "1. 최적의 ML 알고리즘 선택\n",
    "2. 최상의 피처 전처리 수행\n",
    "\n",
    "텍스트 정규화나 Count/TF-IDF 기반 피처 벡터화를 어떻게 효과적으로 적용했는지가 텍스트 기반의 머신러닝 성능에 큰 영향을 미침"
   ]
  },
  {
   "cell_type": "markdown",
   "id": "c646c6b7",
   "metadata": {},
   "source": [
    "TF-IDF 다양한 파라미터 적용"
   ]
  },
  {
   "cell_type": "code",
   "execution_count": null,
   "id": "9d77ce30",
   "metadata": {},
   "outputs": [],
   "source": [
    "# stop words 필터링을 추가하고 ngram을 기본 (1,1)에서 (1,2)로 변경해 피처 벡터화 적용\n",
    "tfidf_vect = TfidfVectorizer(stop_words='english', ngram_range=(1,2), max_df=300)\n",
    "tfidf_vect.fit(X_train)\n",
    "X_train_tfidt_vect = tfidf_vect.transform(X_train)\n",
    "X_test_tfidt_vect = tfidf_vect.transform(X_test)\n",
    "\n",
    "lr_clf = LogisticRegression()\n",
    "lr_clf.fit(X_train_tfidt_vect, y_train)\n",
    "pred = lr_clf.predict(X_test_tfidt_vect)\n",
    "print('TF-IDF Logistic Regression의 예측 정확도는 {0:3f}'.format(accuracy_score(y_test, pred)))\n",
    "     "
   ]
  },
  {
   "cell_type": "markdown",
   "id": "91744414",
   "metadata": {},
   "source": [
    "GridSearchCV 로지스틱 회귀의 하이퍼 파라미터 최적화 수행"
   ]
  },
  {
   "cell_type": "code",
   "execution_count": null,
   "id": "dd2ec5d8",
   "metadata": {},
   "outputs": [],
   "source": [
    "from sklearn.model_selection import GridSearchCV\n",
    "\n",
    "# 최적 C값 도출 튜닝 수행. CV는 3폴드 세트로 설정\n",
    "params = { 'C':[0.01, 0.1, 1, 5, 10]}\n",
    "grid_cv_lr = GridSearchCV(lr_clf, param_grid=params, cv=3, scoring='accuracy', verbose=1)\n",
    "grid_cv_lr.fit(X_train_tfidt_vect, y_train)\n",
    "print('Logistic Regression best C parameter :', grid_cv_lr.best_params_)\n",
    "\n",
    "# 최적 C값으로 학습된 grid_cv로 예측 및 정확도 평가\n",
    "pred = grid_cv_lr.predict(X_test_tfidt_vect)\n",
    "print('TF-IDF Vectorized Logistic Regression의 예측 정확도는 {0:3f}'.format(accuracy_score(y_test, pred)))"
   ]
  },
  {
   "cell_type": "markdown",
   "id": "14b2a504",
   "metadata": {},
   "source": [
    "> 로지스틱 회귀의 C=10 일때 교차 검증 테스트 세트에서 가장 좋은 예측 성능, 테스트 데이터 세트에 적용해 성능 수치 향상"
   ]
  },
  {
   "cell_type": "markdown",
   "id": "7b2f0a01",
   "metadata": {},
   "source": [
    "### 사이킷런 파이프라인 사용 및 GridSearchCV 와의 결합\n",
    "\n",
    "피처 벡터화와 ML 알고리즘 학습/예측을 위한 코드 작성을 한 번에 진행\n",
    "- 데이터 전처리와 머신런이 학습 과정을 통일된 API 기반에서 처리할 수 있어 더 직관적인 ML 모델 코드 생성 가능\n",
    "- 대용량 데이터의 피처 벡터화 결과를 별도 데이터로 저장하지 않고 스트림 기반에서 바로 머신러닝 알고리즘의 데이터로 입력할 수 있어 수행 시간 절약\n",
    "\n",
    "텍스트 기반의 피처 벡터화 뿐만 아니라, 모든 데이터 전처리 작업과 estimator 결합 가능"
   ]
  },
  {
   "cell_type": "code",
   "execution_count": null,
   "id": "f59fc620",
   "metadata": {},
   "outputs": [],
   "source": [
    "from sklearn.pipeline import Pipeline\n",
    "\n",
    "# TfidVectorizer 객체를 tfid_vect로, LogisticRegression 객체를 lr_clf로 생성하는 Pipeline 생성\n",
    "pipeline=Pipeline([\n",
    "    ('tfidf_vect', TfidfVectorizer(stop_words='english', ngram_range=(1,2), max_df=300)),\n",
    "    ('lr_clf', LogisticRegression(C=10))\n",
    "])\n",
    "\n",
    "# 별도의 TfidVectorizer 객체의 fit(), transform()과 LogisticRegression의 fit(), predict()가 필요없음\n",
    "# pipeline의 fit과 predict()만으로 한꺼번에 피처 벡터화와 ML 학습/예측이 가능\n",
    "pipeline.fit(X_train, y_train)\n",
    "pred = pipeline.predict(X_test)\n",
    "print('Pipeline을 통한 Logistic Regression의 예측 정확도는 {0:3f}'.format(accuracy_score(y_test, pred)))"
   ]
  },
  {
   "cell_type": "markdown",
   "id": "4170f84d",
   "metadata": {},
   "source": [
    "GridSearchCV에 Pipeline을 입력하면서 TfidVectorizer 파라미터와 Logistic Regression의 하이퍼 파라미터를 함께 최적화"
   ]
  },
  {
   "cell_type": "code",
   "execution_count": null,
   "id": "fd32e731",
   "metadata": {},
   "outputs": [],
   "source": [
    "from sklearn.model_selection import Pipeline\n",
    "\n",
    "pipeline=Pipeline([\n",
    "    ('tfidf_vect', TfidfVectorizer(stop_words='english')),\n",
    "    ('lr_clf', LogisticRegression())\n",
    "])\n",
    "\n",
    "# Pipeline에 기술된 각각의 객체 변수에 언더바(__) 2개를 연달아 붙여 GridSearchCV에 사용될 파라미터/하이퍼파라미터 이름과 값을 설정\n",
    "params = {'tfidf_vect__ngram_range':[(1,1),(1,2),(1,3)],\n",
    "         'tfidf_vect__max_df': [100,300,700],\n",
    "         'lr_clf__C':[1,5,10]}\n",
    "\n",
    "# GridSearchCV의 생성자에 Estimator가 아닌 Pipeline 객체 입력\n",
    "grid_cv_pipe = GridSearchCV(pipeline, param_grid=params, cv=3, scoring='accuracy', verbose=1)\n",
    "grid_cv_pipe.fit(X_train, y_train)\n",
    "print(grid_cv_pipe.best_params_, grid_cv_pipe.best_score_)\n",
    "\n",
    "pred = grid_cv_pipe.predict(X_test)\n",
    "print('Pipeline을 통한 Logistic Regression의 예측 정확도는 {0:.3f}.format(accuracy_score(y_test,pred))')"
   ]
  }
 ],
 "metadata": {
  "kernelspec": {
   "display_name": "Python 3 (ipykernel)",
   "language": "python",
   "name": "python3"
  },
  "language_info": {
   "codemirror_mode": {
    "name": "ipython",
    "version": 3
   },
   "file_extension": ".py",
   "mimetype": "text/x-python",
   "name": "python",
   "nbconvert_exporter": "python",
   "pygments_lexer": "ipython3",
   "version": "3.9.13"
  }
 },
 "nbformat": 4,
 "nbformat_minor": 5
}
